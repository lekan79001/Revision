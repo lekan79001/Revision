{
 "cells": [
  {
   "cell_type": "code",
   "execution_count": 65,
   "metadata": {},
   "outputs": [],
   "source": [
    "import pandas as pd\n",
    "import numpy as np \n",
    "%matplotlib inline\n"
   ]
  },
  {
   "cell_type": "code",
   "execution_count": 66,
   "metadata": {},
   "outputs": [],
   "source": [
    "from plotly import __version__"
   ]
  },
  {
   "cell_type": "code",
   "execution_count": 67,
   "metadata": {},
   "outputs": [
    {
     "name": "stdout",
     "output_type": "stream",
     "text": [
      "5.9.0\n"
     ]
    }
   ],
   "source": [
    "print(__version__)"
   ]
  },
  {
   "cell_type": "code",
   "execution_count": 68,
   "metadata": {},
   "outputs": [],
   "source": [
    "from plotly import __version__"
   ]
  },
  {
   "cell_type": "code",
   "execution_count": 69,
   "metadata": {},
   "outputs": [
    {
     "name": "stdout",
     "output_type": "stream",
     "text": [
      "5.9.0\n"
     ]
    }
   ],
   "source": [
    "print(__version__)"
   ]
  },
  {
   "cell_type": "code",
   "execution_count": 70,
   "metadata": {},
   "outputs": [],
   "source": [
    "import cufflinks as cf"
   ]
  },
  {
   "cell_type": "code",
   "execution_count": 71,
   "metadata": {},
   "outputs": [],
   "source": [
    "from plotly.offline import download_plotlyjs, init_notebook_mode,plot,iplot"
   ]
  },
  {
   "cell_type": "code",
   "execution_count": 72,
   "metadata": {},
   "outputs": [
    {
     "data": {
      "text/html": [
       "        <script type=\"text/javascript\">\n",
       "        window.PlotlyConfig = {MathJaxConfig: 'local'};\n",
       "        if (window.MathJax && window.MathJax.Hub && window.MathJax.Hub.Config) {window.MathJax.Hub.Config({SVG: {font: \"STIX-Web\"}});}\n",
       "        if (typeof require !== 'undefined') {\n",
       "        require.undef(\"plotly\");\n",
       "        requirejs.config({\n",
       "            paths: {\n",
       "                'plotly': ['https://cdn.plot.ly/plotly-2.12.1.min']\n",
       "            }\n",
       "        });\n",
       "        require(['plotly'], function(Plotly) {\n",
       "            window._Plotly = Plotly;\n",
       "        });\n",
       "        }\n",
       "        </script>\n",
       "        "
      ]
     },
     "metadata": {},
     "output_type": "display_data"
    }
   ],
   "source": [
    "init_notebook_mode(connected=True)"
   ]
  },
  {
   "cell_type": "code",
   "execution_count": 73,
   "metadata": {},
   "outputs": [
    {
     "data": {
      "text/html": [
       "        <script type=\"text/javascript\">\n",
       "        window.PlotlyConfig = {MathJaxConfig: 'local'};\n",
       "        if (window.MathJax && window.MathJax.Hub && window.MathJax.Hub.Config) {window.MathJax.Hub.Config({SVG: {font: \"STIX-Web\"}});}\n",
       "        if (typeof require !== 'undefined') {\n",
       "        require.undef(\"plotly\");\n",
       "        requirejs.config({\n",
       "            paths: {\n",
       "                'plotly': ['https://cdn.plot.ly/plotly-2.12.1.min']\n",
       "            }\n",
       "        });\n",
       "        require(['plotly'], function(Plotly) {\n",
       "            window._Plotly = Plotly;\n",
       "        });\n",
       "        }\n",
       "        </script>\n",
       "        "
      ]
     },
     "metadata": {},
     "output_type": "display_data"
    }
   ],
   "source": [
    "cf.go_offline()"
   ]
  },
  {
   "cell_type": "code",
   "execution_count": 74,
   "metadata": {},
   "outputs": [
    {
     "data": {
      "text/html": [
       "<div>\n",
       "<style scoped>\n",
       "    .dataframe tbody tr th:only-of-type {\n",
       "        vertical-align: middle;\n",
       "    }\n",
       "\n",
       "    .dataframe tbody tr th {\n",
       "        vertical-align: top;\n",
       "    }\n",
       "\n",
       "    .dataframe thead th {\n",
       "        text-align: right;\n",
       "    }\n",
       "</style>\n",
       "<table border=\"1\" class=\"dataframe\">\n",
       "  <thead>\n",
       "    <tr style=\"text-align: right;\">\n",
       "      <th></th>\n",
       "      <th>A</th>\n",
       "      <th>B</th>\n",
       "      <th>C</th>\n",
       "      <th>D</th>\n",
       "    </tr>\n",
       "  </thead>\n",
       "  <tbody>\n",
       "    <tr>\n",
       "      <th>0</th>\n",
       "      <td>1.271671</td>\n",
       "      <td>-0.162723</td>\n",
       "      <td>-1.127273</td>\n",
       "      <td>-0.330240</td>\n",
       "    </tr>\n",
       "    <tr>\n",
       "      <th>1</th>\n",
       "      <td>-2.172409</td>\n",
       "      <td>0.704499</td>\n",
       "      <td>0.465119</td>\n",
       "      <td>-0.252303</td>\n",
       "    </tr>\n",
       "    <tr>\n",
       "      <th>2</th>\n",
       "      <td>1.785437</td>\n",
       "      <td>-3.168159</td>\n",
       "      <td>-1.445435</td>\n",
       "      <td>-0.261805</td>\n",
       "    </tr>\n",
       "    <tr>\n",
       "      <th>3</th>\n",
       "      <td>1.579971</td>\n",
       "      <td>-0.467200</td>\n",
       "      <td>1.027908</td>\n",
       "      <td>-0.972400</td>\n",
       "    </tr>\n",
       "    <tr>\n",
       "      <th>4</th>\n",
       "      <td>0.517145</td>\n",
       "      <td>-0.313766</td>\n",
       "      <td>1.159730</td>\n",
       "      <td>1.193825</td>\n",
       "    </tr>\n",
       "    <tr>\n",
       "      <th>...</th>\n",
       "      <td>...</td>\n",
       "      <td>...</td>\n",
       "      <td>...</td>\n",
       "      <td>...</td>\n",
       "    </tr>\n",
       "    <tr>\n",
       "      <th>95</th>\n",
       "      <td>2.287361</td>\n",
       "      <td>0.383677</td>\n",
       "      <td>-0.825012</td>\n",
       "      <td>-0.404975</td>\n",
       "    </tr>\n",
       "    <tr>\n",
       "      <th>96</th>\n",
       "      <td>-0.565054</td>\n",
       "      <td>0.486988</td>\n",
       "      <td>0.317968</td>\n",
       "      <td>2.062921</td>\n",
       "    </tr>\n",
       "    <tr>\n",
       "      <th>97</th>\n",
       "      <td>0.314449</td>\n",
       "      <td>-0.187822</td>\n",
       "      <td>1.712006</td>\n",
       "      <td>-1.339568</td>\n",
       "    </tr>\n",
       "    <tr>\n",
       "      <th>98</th>\n",
       "      <td>0.710669</td>\n",
       "      <td>1.198085</td>\n",
       "      <td>2.399034</td>\n",
       "      <td>0.425149</td>\n",
       "    </tr>\n",
       "    <tr>\n",
       "      <th>99</th>\n",
       "      <td>-0.526975</td>\n",
       "      <td>0.685275</td>\n",
       "      <td>1.084630</td>\n",
       "      <td>-2.006034</td>\n",
       "    </tr>\n",
       "  </tbody>\n",
       "</table>\n",
       "<p>100 rows × 4 columns</p>\n",
       "</div>"
      ],
      "text/plain": [
       "           A         B         C         D\n",
       "0   1.271671 -0.162723 -1.127273 -0.330240\n",
       "1  -2.172409  0.704499  0.465119 -0.252303\n",
       "2   1.785437 -3.168159 -1.445435 -0.261805\n",
       "3   1.579971 -0.467200  1.027908 -0.972400\n",
       "4   0.517145 -0.313766  1.159730  1.193825\n",
       "..       ...       ...       ...       ...\n",
       "95  2.287361  0.383677 -0.825012 -0.404975\n",
       "96 -0.565054  0.486988  0.317968  2.062921\n",
       "97  0.314449 -0.187822  1.712006 -1.339568\n",
       "98  0.710669  1.198085  2.399034  0.425149\n",
       "99 -0.526975  0.685275  1.084630 -2.006034\n",
       "\n",
       "[100 rows x 4 columns]"
      ]
     },
     "execution_count": 74,
     "metadata": {},
     "output_type": "execute_result"
    }
   ],
   "source": [
    "df= pd.DataFrame(np.random.randn(100,4), columns= \"A B C D\".split())\n",
    "df"
   ]
  },
  {
   "cell_type": "code",
   "execution_count": 75,
   "metadata": {},
   "outputs": [],
   "source": [
    "df2= pd.DataFrame({\"category\": [\"A\",\"B\",\"C\"], \"values\":[32,43,50]})"
   ]
  },
  {
   "cell_type": "code",
   "execution_count": 76,
   "metadata": {},
   "outputs": [
    {
     "data": {
      "text/html": [
       "<div>\n",
       "<style scoped>\n",
       "    .dataframe tbody tr th:only-of-type {\n",
       "        vertical-align: middle;\n",
       "    }\n",
       "\n",
       "    .dataframe tbody tr th {\n",
       "        vertical-align: top;\n",
       "    }\n",
       "\n",
       "    .dataframe thead th {\n",
       "        text-align: right;\n",
       "    }\n",
       "</style>\n",
       "<table border=\"1\" class=\"dataframe\">\n",
       "  <thead>\n",
       "    <tr style=\"text-align: right;\">\n",
       "      <th></th>\n",
       "      <th>category</th>\n",
       "      <th>values</th>\n",
       "    </tr>\n",
       "  </thead>\n",
       "  <tbody>\n",
       "    <tr>\n",
       "      <th>0</th>\n",
       "      <td>A</td>\n",
       "      <td>32</td>\n",
       "    </tr>\n",
       "    <tr>\n",
       "      <th>1</th>\n",
       "      <td>B</td>\n",
       "      <td>43</td>\n",
       "    </tr>\n",
       "    <tr>\n",
       "      <th>2</th>\n",
       "      <td>C</td>\n",
       "      <td>50</td>\n",
       "    </tr>\n",
       "  </tbody>\n",
       "</table>\n",
       "</div>"
      ],
      "text/plain": [
       "  category  values\n",
       "0        A      32\n",
       "1        B      43\n",
       "2        C      50"
      ]
     },
     "execution_count": 76,
     "metadata": {},
     "output_type": "execute_result"
    }
   ],
   "source": [
    "df2.head()"
   ]
  },
  {
   "cell_type": "code",
   "execution_count": 77,
   "metadata": {},
   "outputs": [
    {
     "data": {
      "text/plain": [
       "<Axes: >"
      ]
     },
     "execution_count": 77,
     "metadata": {},
     "output_type": "execute_result"
    },
    {
     "data": {
      "image/png": "[encoded data removed]",
      "text/plain": [
       "<Figure size 640x480 with 1 Axes>"
      ]
     },
     "metadata": {},
     "output_type": "display_data"
    }
   ],
   "source": [
    "df.plot()"
   ]
  },
  {
   "cell_type": "code",
   "execution_count": 78,
   "metadata": {},
   "outputs": [
    {
     "data": {
      "application/vnd.plotly.v1+json": {
       "config": {
        "linkText": "Export to plot.ly",
        "plotlyServerURL": "https://plot.ly",
        "showLink": true
       },
       "data": [
        {
         "line": {
          "color": "rgba(255, 153, 51, 1.0)",
          "dash": "solid",
          "shape": "linear",
          "width": 1.3
         },
         "mode": "lines",
         "name": "A",
         "text": "",
         "type": "scatter",
         "x": [
          0,
          1,
          2,
          3,
          4,
          5,
          6,
          7,
          8,
          9,
          10,
          11,
          12,
          13,
          14,
          15,
          16,
          17,
          18,
          19,
          20,
          21,
          22,
          23,
          24,
          25,
          26,
          27,
          28,
          29,
          30,
          31,
          32,
          33,
          34,
          35,
          36,
          37,
          38,
          39,
          40,
          41,
          42,
          43,
          44,
          45,
          46,
          47,
          48,
          49,
          50,
          51,
          52,
          53,
          54,
          55,
          56,
          57,
          58,
          59,
          60,
          61,
          62,
          63,
          64,
          65,
          66,
          67,
          68,
          69,
          70,
          71,
          72,
          73,
          74,
          75,
          76,
          77,
          78,
          79,
          80,
          81,
          82,
          83,
          84,
          85,
          86,
          87,
          88,
          89,
          90,
          91,
          92,
          93,
          94,
          95,
          96,
          97,
          98,
          99
         ],
         "y": [
          1.271671286958233,
          -2.172408915978876,
          1.7854365286371727,
          1.5799705135342348,
          0.5171449831935606,
          -0.738836448224735,
          -1.8144196577454883,
          0.6426229098950454,
          -0.6636473476440262,
          -1.00280947283931,
          -0.23427784176035332,
          2.350590946817898,
          -0.772872337152085,
          0.06721304131837574,
          -0.3380988576289599,
          -1.032927158724717,
          -0.4301694538498191,
          -0.6795763232900397,
          1.6746112402990454,
          -0.8071433538687962,
          -0.7301921401287503,
          -1.974766933366033,
          -1.2606638273598736,
          -0.14780583520530913,
          -0.30352793700047676,
          1.7608134785833829,
          1.8601966055560195,
          -0.7318941199356979,
          0.9881810889499792,
          1.2157909902610062,
          1.700833223803107,
          -0.03702641197653624,
          0.2685661133985728,
          -1.1540228701071364,
          -2.451284896900468,
          -0.6251852288829398,
          -0.6874066773430462,
          0.820850283868299,
          0.08442426464027586,
          0.6072766750939735,
          0.920499680386307,
          0.05005835511080823,
          1.649623201071434,
          0.11541833072015947,
          1.7441869252115747,
          0.3936830830921386,
          0.5152496115529626,
          1.7784524803055681,
          0.9419614134044356,
          -0.29177154982575987,
          -1.3783653483867588,
          0.9915959148343668,
          -0.40952344237860894,
          -0.6503507398847784,
          -0.2633247272517648,
          2.373729941368112,
          1.0409871870552478,
          -0.22852304522578715,
          -0.9982703819338618,
          -0.3968154813092077,
          -0.5617296882171342,
          -1.1346920922423802,
          0.5549905627104234,
          1.2967314166335604,
          0.2436695236624341,
          0.7769124747016123,
          2.2452054275190347,
          -0.823378225352857,
          0.9128352696742315,
          0.35267974946978997,
          -0.4916034171442968,
          0.35067090693594716,
          0.8292806012849196,
          1.3347709310432276,
          -0.5373920254195184,
          -2.112500723883234,
          -0.7694046864432289,
          0.7797256904311618,
          1.765595606686072,
          3.3627198690793323,
          -0.3076120808124946,
          -0.4285964521753026,
          0.531109847573406,
          -1.4629177205405783,
          0.8655379339108681,
          -0.49880559284931575,
          -0.47027222429519455,
          -1.6292499051374218,
          -0.07509143409175767,
          -1.0138651146690272,
          0.031127129211921862,
          -0.21735199281501266,
          0.02340260280010591,
          0.1357923014492216,
          -0.5432535568717444,
          2.287360729985298,
          -0.5650535168514119,
          0.3144488908793118,
          0.7106693119223403,
          -0.5269749040598086
         ]
        },
        {
         "line": {
          "color": "rgba(55, 128, 191, 1.0)",
          "dash": "solid",
          "shape": "linear",
          "width": 1.3
         },
         "mode": "lines",
         "name": "B",
         "text": "",
         "type": "scatter",
         "x": [
          0,
          1,
          2,
          3,
          4,
          5,
          6,
          7,
          8,
          9,
          10,
          11,
          12,
          13,
          14,
          15,
          16,
          17,
          18,
          19,
          20,
          21,
          22,
          23,
          24,
          25,
          26,
          27,
          28,
          29,
          30,
          31,
          32,
          33,
          34,
          35,
          36,
          37,
          38,
          39,
          40,
          41,
          42,
          43,
          44,
          45,
          46,
          47,
          48,
          49,
          50,
          51,
          52,
          53,
          54,
          55,
          56,
          57,
          58,
          59,
          60,
          61,
          62,
          63,
          64,
          65,
          66,
          67,
          68,
          69,
          70,
          71,
          72,
          73,
          74,
          75,
          76,
          77,
          78,
          79,
          80,
          81,
          82,
          83,
          84,
          85,
          86,
          87,
          88,
          89,
          90,
          91,
          92,
          93,
          94,
          95,
          96,
          97,
          98,
          99
         ],
         "y": [
          -0.16272276040128936,
          0.7044986616881509,
          -3.1681590356748073,
          -0.4672001763129714,
          -0.31376620799253974,
          -0.5060581049498075,
          0.2704134271091462,
          -1.0229185417941054,
          -0.4961033903517738,
          0.6558721387107035,
          1.29186875327626,
          -1.5228271863433263,
          0.2346838303022486,
          -0.3539977200915892,
          1.1691767623198108,
          -0.15996799072360515,
          0.5835225744706318,
          0.2826237194233615,
          1.0659972007300325,
          -0.3879827255662256,
          -0.062233085977681166,
          -1.9704497431985206,
          -0.4323527048118112,
          -1.4209748903881405,
          -0.39646952828904025,
          -0.5330063251499289,
          0.6679417308521448,
          -0.52687230266114,
          -0.29564344639543116,
          -1.1788525999577755,
          -0.28200650244590725,
          -1.348594908250399,
          0.46037407721809376,
          -1.661032228224993,
          -0.8521494244571879,
          0.8418282719092218,
          -0.030946699555730282,
          0.8745270526457853,
          0.9236753971552883,
          0.002520505287537238,
          -0.6280134473910527,
          0.053418733854069776,
          -0.7099950695826408,
          0.45411841071298126,
          -0.1140285667950381,
          0.06784634512858456,
          0.9151555874440334,
          -1.0518497119831198,
          -0.8695055022189785,
          0.3636477438583736,
          -0.5758866931978616,
          -2.7048446150366017,
          0.053486454456806755,
          0.19709604180075288,
          -0.10599409895899331,
          1.289887828418673,
          0.2300267525465255,
          -0.7113701904602237,
          0.26506560404880775,
          -1.012652872010664,
          0.15135646644187953,
          0.5799854650566798,
          1.0887180107837493,
          1.4914586766891302,
          0.3672033428097803,
          1.1058459674371697,
          -1.1037543094206794,
          -0.7727398887207035,
          -0.256736556836982,
          -1.2056500675059685,
          -2.255492532473808,
          -0.4891770094355169,
          0.21185992687337646,
          1.6267167557827436,
          1.3624949864552849,
          0.5159284067924745,
          0.35663638396301744,
          -0.2104491465765928,
          0.28703359748779417,
          0.18707846870748404,
          0.9973777188764106,
          -0.11279170657735568,
          -0.3733935424177511,
          -0.964577374165736,
          0.07320496681842414,
          1.4354674409574493,
          0.35705828540155327,
          -0.26255279221395544,
          0.05764879251803963,
          -0.4479876335172284,
          -1.2406167000734456,
          -0.24554362450471798,
          0.2675657513139322,
          0.48698843493522,
          0.8717286775220626,
          0.38367709472602407,
          0.4869880369464998,
          -0.18782178877356678,
          1.1980849722535623,
          0.6852752458776807
         ]
        },
        {
         "line": {
          "color": "rgba(50, 171, 96, 1.0)",
          "dash": "solid",
          "shape": "linear",
          "width": 1.3
         },
         "mode": "lines",
         "name": "C",
         "text": "",
         "type": "scatter",
         "x": [
          0,
          1,
          2,
          3,
          4,
          5,
          6,
          7,
          8,
          9,
          10,
          11,
          12,
          13,
          14,
          15,
          16,
          17,
          18,
          19,
          20,
          21,
          22,
          23,
          24,
          25,
          26,
          27,
          28,
          29,
          30,
          31,
          32,
          33,
          34,
          35,
          36,
          37,
          38,
          39,
          40,
          41,
          42,
          43,
          44,
          45,
          46,
          47,
          48,
          49,
          50,
          51,
          52,
          53,
          54,
          55,
          56,
          57,
          58,
          59,
          60,
          61,
          62,
          63,
          64,
          65,
          66,
          67,
          68,
          69,
          70,
          71,
          72,
          73,
          74,
          75,
          76,
          77,
          78,
          79,
          80,
          81,
          82,
          83,
          84,
          85,
          86,
          87,
          88,
          89,
          90,
          91,
          92,
          93,
          94,
          95,
          96,
          97,
          98,
          99
         ],
         "y": [
          -1.1272730642886264,
          0.4651189902515295,
          -1.4454347739122737,
          1.0279079519482663,
          1.1597304505685488,
          0.2748815117495381,
          1.104194961757863,
          -0.2290185011173507,
          0.15953594410562186,
          0.562339771980812,
          -0.8761502287169275,
          0.7912027271630951,
          -0.6209812755003381,
          0.032737755124431854,
          -1.5549609906684134,
          -0.33515092447103934,
          0.194459932524018,
          0.6494585970289132,
          -0.6893928623391945,
          0.9148149797189422,
          -0.5895666919039746,
          -0.10211652943550073,
          -0.6760910234409082,
          -0.3727048871600237,
          2.428985789791552,
          0.5130043188351135,
          0.5972076013366243,
          1.009203557743515,
          1.9045900982200739,
          0.6178807122127871,
          -0.6278933094372934,
          1.590850405219824,
          -0.36795986813056264,
          1.66351099652182,
          -0.44389827906571283,
          -0.05345271265392464,
          0.6207589631433975,
          0.6437974044230873,
          -0.5878286892911038,
          1.174098637950353,
          -1.6090012185329858,
          1.658044211840498,
          -0.4123398017075408,
          0.19145075399432507,
          -0.2640651240457925,
          -0.6863610251224573,
          -0.09469602496774447,
          0.35119148793087446,
          0.026919470255186696,
          -0.16076589280933315,
          0.24804911234882118,
          -0.5950410970752406,
          -0.233570069640491,
          0.44167872370361516,
          0.038790044898560805,
          0.4526309109038116,
          0.18424074154879694,
          1.119882167831072,
          0.9531270156065279,
          0.8760895341334429,
          0.8068324040628525,
          -0.6161085347247628,
          0.22092153272906404,
          -0.7348727228788727,
          -0.3457836593283543,
          -0.35461194797696516,
          0.00007957593078923664,
          -0.9314612407832846,
          0.6413911111570009,
          -0.42063095801144307,
          0.34326356603266805,
          1.6585243155630653,
          0.49641840775633916,
          -0.4559595375059727,
          1.8002833734246106,
          -0.5893485427493795,
          2.4409791593304915,
          2.1111406260814785,
          0.5717692342256324,
          0.4969059820132727,
          0.3667612685062775,
          -1.7207693503108104,
          -0.3780945698859745,
          0.9861281520336582,
          0.43769332640057695,
          -0.09825573369075614,
          -1.0655310736542085,
          -0.28337592874224027,
          0.5914522835671088,
          -1.1441736058441683,
          2.0939824152404967,
          1.545860871172858,
          -0.4658606262369593,
          1.0739808543369476,
          0.10316628689757296,
          -0.8250123725904674,
          0.3179683453832489,
          1.7120063950923825,
          2.399034422412584,
          1.084630479883858
         ]
        },
        {
         "line": {
          "color": "rgba(128, 0, 128, 1.0)",
          "dash": "solid",
          "shape": "linear",
          "width": 1.3
         },
         "mode": "lines",
         "name": "D",
         "text": "",
         "type": "scatter",
         "x": [
          0,
          1,
          2,
          3,
          4,
          5,
          6,
          7,
          8,
          9,
          10,
          11,
          12,
          13,
          14,
          15,
          16,
          17,
          18,
          19,
          20,
          21,
          22,
          23,
          24,
          25,
          26,
          27,
          28,
          29,
          30,
          31,
          32,
          33,
          34,
          35,
          36,
          37,
          38,
          39,
          40,
          41,
          42,
          43,
          44,
          45,
          46,
          47,
          48,
          49,
          50,
          51,
          52,
          53,
          54,
          55,
          56,
          57,
          58,
          59,
          60,
          61,
          62,
          63,
          64,
          65,
          66,
          67,
          68,
          69,
          70,
          71,
          72,
          73,
          74,
          75,
          76,
          77,
          78,
          79,
          80,
          81,
          82,
          83,
          84,
          85,
          86,
          87,
          88,
          89,
          90,
          91,
          92,
          93,
          94,
          95,
          96,
          97,
          98,
          99
         ],
         "y": [
          -0.33024030884163036,
          -0.2523030735995534,
          -0.26180473103230223,
          -0.9723998035202468,
          1.1938252816314854,
          1.5879020392307879,
          1.124581352617844,
          -0.5941489950526395,
          -1.6007874960039579,
          2.057262323788016,
          0.7718883139284151,
          -0.2173777906630994,
          -1.6419730891986393,
          -0.14080583038493127,
          0.44002463185174934,
          0.07885168288341862,
          0.984212271626107,
          -1.1472398918765907,
          0.21153320221849023,
          -1.974807640083881,
          -1.1644959819637613,
          -1.2237455619221056,
          0.34578100988560473,
          -0.5217157483023667,
          -1.270290747916724,
          0.7491767957609144,
          2.644266078029767,
          -1.6406401948550957,
          1.0322499071462257,
          0.6887910644533315,
          0.32287907932850624,
          1.4989591201474028,
          -1.1991161411912088,
          -0.8920601546409503,
          0.6400442351261533,
          -0.47165416077286754,
          -0.4548982919516317,
          0.12415938669496829,
          -0.4247846425283389,
          -0.9156633119828546,
          1.4581552202445693,
          -1.5763818308364506,
          0.21152281160136105,
          0.06341412438401173,
          0.6798819630360923,
          1.5250532395213547,
          0.4218008104000734,
          1.3304872068583076,
          -1.7863931171311287,
          0.03882887739452606,
          -0.2999883606054231,
          0.14013821996232273,
          -1.4750819545560712,
          0.6671091889997084,
          -0.36788116976311264,
          0.015900905065900306,
          1.1184055509960755,
          -1.1608114921416226,
          -0.3201716786888437,
          -1.079402033541682,
          -0.04246988206278477,
          -0.43415589253483394,
          -1.087880851337657,
          -0.37922593084677414,
          1.6207908071143207,
          -0.8540825557908546,
          -1.076789785101322,
          1.8518210072958456,
          0.7508158404618406,
          -0.8021722588853217,
          -0.530266045981944,
          -1.0201028827629512,
          -0.18763082062703867,
          -1.1124134439639035,
          -0.060021475110751454,
          0.022480385141118605,
          -0.06130935854797956,
          -1.3412760445635994,
          0.1467524014787332,
          -0.031133312042740384,
          0.43515983911470957,
          0.7900703994178605,
          0.5418804340396783,
          -0.715718752248988,
          1.5385736218598856,
          0.10305063865747505,
          0.23074339533619892,
          -0.08945389350799786,
          0.8315569985295567,
          -2.178527148123283,
          1.0627661204823748,
          -1.7001961939953165,
          0.5533018938128142,
          0.5994346030753849,
          1.3425970461467547,
          -0.40497516633433484,
          2.062920764596815,
          -1.3395678968380955,
          0.425148566114341,
          -2.006033755250181
         ]
        }
       ],
       "layout": {
        "legend": {
         "bgcolor": "#F5F6F9",
         "font": {
          "color": "#4D5663"
         }
        },
        "paper_bgcolor": "#F5F6F9",
        "plot_bgcolor": "#F5F6F9",
        "template": {
         "data": {
          "bar": [
           {
            "error_x": {
             "color": "#2a3f5f"
            },
            "error_y": {
             "color": "#2a3f5f"
            },
            "marker": {
             "line": {
              "color": "#E5ECF6",
              "width": 0.5
             },
             "pattern": {
              "fillmode": "overlay",
              "size": 10,
              "solidity": 0.2
             }
            },
            "type": "bar"
           }
          ],
          "barpolar": [
           {
            "marker": {
             "line": {
              "color": "#E5ECF6",
              "width": 0.5
             },
             "pattern": {
              "fillmode": "overlay",
              "size": 10,
              "solidity": 0.2
             }
            },
            "type": "barpolar"
           }
          ],
          "carpet": [
           {
            "aaxis": {
             "endlinecolor": "#2a3f5f",
             "gridcolor": "white",
             "linecolor": "white",
             "minorgridcolor": "white",
             "startlinecolor": "#2a3f5f"
            },
            "baxis": {
             "endlinecolor": "#2a3f5f",
             "gridcolor": "white",
             "linecolor": "white",
             "minorgridcolor": "white",
             "startlinecolor": "#2a3f5f"
            },
            "type": "carpet"
           }
          ],
          "choropleth": [
           {
            "colorbar": {
             "outlinewidth": 0,
             "ticks": ""
            },
            "type": "choropleth"
           }
          ],
          "contour": [
           {
            "colorbar": {
             "outlinewidth": 0,
             "ticks": ""
            },
            "colorscale": [
             [
              0,
              "#0d0887"
             ],
             [
              0.1111111111111111,
              "#46039f"
             ],
             [
              0.2222222222222222,
              "#7201a8"
             ],
             [
              0.3333333333333333,
              "#9c179e"
             ],
             [
              0.4444444444444444,
              "#bd3786"
             ],
             [
              0.5555555555555556,
              "#d8576b"
             ],
             [
              0.6666666666666666,
              "#ed7953"
             ],
             [
              0.7777777777777778,
              "#fb9f3a"
             ],
             [
              0.8888888888888888,
              "#fdca26"
             ],
             [
              1,
              "#f0f921"
             ]
            ],
            "type": "contour"
           }
          ],
          "contourcarpet": [
           {
            "colorbar": {
             "outlinewidth": 0,
             "ticks": ""
            },
            "type": "contourcarpet"
           }
          ],
          "heatmap": [
           {
            "colorbar": {
             "outlinewidth": 0,
             "ticks": ""
            },
            "colorscale": [
             [
              0,
              "#0d0887"
             ],
             [
              0.1111111111111111,
              "#46039f"
             ],
             [
              0.2222222222222222,
              "#7201a8"
             ],
             [
              0.3333333333333333,
              "#9c179e"
             ],
             [
              0.4444444444444444,
              "#bd3786"
             ],
             [
              0.5555555555555556,
              "#d8576b"
             ],
             [
              0.6666666666666666,
              "#ed7953"
             ],
             [
              0.7777777777777778,
              "#fb9f3a"
             ],
             [
              0.8888888888888888,
              "#fdca26"
             ],
             [
              1,
              "#f0f921"
             ]
            ],
            "type": "heatmap"
           }
          ],
          "heatmapgl": [
           {
            "colorbar": {
             "outlinewidth": 0,
             "ticks": ""
            },
            "colorscale": [
             [
              0,
              "#0d0887"
             ],
             [
              0.1111111111111111,
              "#46039f"
             ],
             [
              0.2222222222222222,
              "#7201a8"
             ],
             [
              0.3333333333333333,
              "#9c179e"
             ],
             [
              0.4444444444444444,
              "#bd3786"
             ],
             [
              0.5555555555555556,
              "#d8576b"
             ],
             [
              0.6666666666666666,
              "#ed7953"
             ],
             [
              0.7777777777777778,
              "#fb9f3a"
             ],
             [
              0.8888888888888888,
              "#fdca26"
             ],
             [
              1,
              "#f0f921"
             ]
            ],
            "type": "heatmapgl"
           }
          ],
          "histogram": [
           {
            "marker": {
             "pattern": {
              "fillmode": "overlay",
              "size": 10,
              "solidity": 0.2
             }
            },
            "type": "histogram"
           }
          ],
          "histogram2d": [
           {
            "colorbar": {
             "outlinewidth": 0,
             "ticks": ""
            },
            "colorscale": [
             [
              0,
              "#0d0887"
             ],
             [
              0.1111111111111111,
              "#46039f"
             ],
             [
              0.2222222222222222,
              "#7201a8"
             ],
             [
              0.3333333333333333,
              "#9c179e"
             ],
             [
              0.4444444444444444,
              "#bd3786"
             ],
             [
              0.5555555555555556,
              "#d8576b"
             ],
             [
              0.6666666666666666,
              "#ed7953"
             ],
             [
              0.7777777777777778,
              "#fb9f3a"
             ],
             [
              0.8888888888888888,
              "#fdca26"
             ],
             [
              1,
              "#f0f921"
             ]
            ],
            "type": "histogram2d"
           }
          ],
          "histogram2dcontour": [
           {
            "colorbar": {
             "outlinewidth": 0,
             "ticks": ""
            },
            "colorscale": [
             [
              0,
              "#0d0887"
             ],
             [
              0.1111111111111111,
              "#46039f"
             ],
             [
              0.2222222222222222,
              "#7201a8"
             ],
             [
              0.3333333333333333,
              "#9c179e"
             ],
             [
              0.4444444444444444,
              "#bd3786"
             ],
             [
              0.5555555555555556,
              "#d8576b"
             ],
             [
              0.6666666666666666,
              "#ed7953"
             ],
             [
              0.7777777777777778,
              "#fb9f3a"
             ],
             [
              0.8888888888888888,
              "#fdca26"
             ],
             [
              1,
              "#f0f921"
             ]
            ],
            "type": "histogram2dcontour"
           }
          ],
          "mesh3d": [
           {
            "colorbar": {
             "outlinewidth": 0,
             "ticks": ""
            },
            "type": "mesh3d"
           }
          ],
          "parcoords": [
           {
            "line": {
             "colorbar": {
              "outlinewidth": 0,
              "ticks": ""
             }
            },
            "type": "parcoords"
           }
          ],
          "pie": [
           {
            "automargin": true,
            "type": "pie"
           }
          ],
          "scatter": [
           {
            "fillpattern": {
             "fillmode": "overlay",
             "size": 10,
             "solidity": 0.2
            },
            "type": "scatter"
           }
          ],
          "scatter3d": [
           {
            "line": {
             "colorbar": {
              "outlinewidth": 0,
              "ticks": ""
             }
            },
            "marker": {
             "colorbar": {
              "outlinewidth": 0,
              "ticks": ""
             }
            },
            "type": "scatter3d"
           }
          ],
          "scattercarpet": [
           {
            "marker": {
             "colorbar": {
              "outlinewidth": 0,
              "ticks": ""
             }
            },
            "type": "scattercarpet"
           }
          ],
          "scattergeo": [
           {
            "marker": {
             "colorbar": {
              "outlinewidth": 0,
              "ticks": ""
             }
            },
            "type": "scattergeo"
           }
          ],
          "scattergl": [
           {
            "marker": {
             "colorbar": {
              "outlinewidth": 0,
              "ticks": ""
             }
            },
            "type": "scattergl"
           }
          ],
          "scattermapbox": [
           {
            "marker": {
             "colorbar": {
              "outlinewidth": 0,
              "ticks": ""
             }
            },
            "type": "scattermapbox"
           }
          ],
          "scatterpolar": [
           {
            "marker": {
             "colorbar": {
              "outlinewidth": 0,
              "ticks": ""
             }
            },
            "type": "scatterpolar"
           }
          ],
          "scatterpolargl": [
           {
            "marker": {
             "colorbar": {
              "outlinewidth": 0,
              "ticks": ""
             }
            },
            "type": "scatterpolargl"
           }
          ],
          "scatterternary": [
           {
            "marker": {
             "colorbar": {
              "outlinewidth": 0,
              "ticks": ""
             }
            },
            "type": "scatterternary"
           }
          ],
          "surface": [
           {
            "colorbar": {
             "outlinewidth": 0,
             "ticks": ""
            },
            "colorscale": [
             [
              0,
              "#0d0887"
             ],
             [
              0.1111111111111111,
              "#46039f"
             ],
             [
              0.2222222222222222,
              "#7201a8"
             ],
             [
              0.3333333333333333,
              "#9c179e"
             ],
             [
              0.4444444444444444,
              "#bd3786"
             ],
             [
              0.5555555555555556,
              "#d8576b"
             ],
             [
              0.6666666666666666,
              "#ed7953"
             ],
             [
              0.7777777777777778,
              "#fb9f3a"
             ],
             [
              0.8888888888888888,
              "#fdca26"
             ],
             [
              1,
              "#f0f921"
             ]
            ],
            "type": "surface"
           }
          ],
          "table": [
           {
            "cells": {
             "fill": {
              "color": "#EBF0F8"
             },
             "line": {
              "color": "white"
             }
            },
            "header": {
             "fill": {
              "color": "#C8D4E3"
             },
             "line": {
              "color": "white"
             }
            },
            "type": "table"
           }
          ]
         },
         "layout": {
          "annotationdefaults": {
           "arrowcolor": "#2a3f5f",
           "arrowhead": 0,
           "arrowwidth": 1
          },
          "autotypenumbers": "strict",
          "coloraxis": {
           "colorbar": {
            "outlinewidth": 0,
            "ticks": ""
           }
          },
          "colorscale": {
           "diverging": [
            [
             0,
             "#8e0152"
            ],
            [
             0.1,
             "#c51b7d"
            ],
            [
             0.2,
             "#de77ae"
            ],
            [
             0.3,
             "#f1b6da"
            ],
            [
             0.4,
             "#fde0ef"
            ],
            [
             0.5,
             "#f7f7f7"
            ],
            [
             0.6,
             "#e6f5d0"
            ],
            [
             0.7,
             "#b8e186"
            ],
            [
             0.8,
             "#7fbc41"
            ],
            [
             0.9,
             "#4d9221"
            ],
            [
             1,
             "#276419"
            ]
           ],
           "sequential": [
            [
             0,
             "#0d0887"
            ],
            [
             0.1111111111111111,
             "#46039f"
            ],
            [
             0.2222222222222222,
             "#7201a8"
            ],
            [
             0.3333333333333333,
             "#9c179e"
            ],
            [
             0.4444444444444444,
             "#bd3786"
            ],
            [
             0.5555555555555556,
             "#d8576b"
            ],
            [
             0.6666666666666666,
             "#ed7953"
            ],
            [
             0.7777777777777778,
             "#fb9f3a"
            ],
            [
             0.8888888888888888,
             "#fdca26"
            ],
            [
             1,
             "#f0f921"
            ]
           ],
           "sequentialminus": [
            [
             0,
             "#0d0887"
            ],
            [
             0.1111111111111111,
             "#46039f"
            ],
            [
             0.2222222222222222,
             "#7201a8"
            ],
            [
             0.3333333333333333,
             "#9c179e"
            ],
            [
             0.4444444444444444,
             "#bd3786"
            ],
            [
             0.5555555555555556,
             "#d8576b"
            ],
            [
             0.6666666666666666,
             "#ed7953"
            ],
            [
             0.7777777777777778,
             "#fb9f3a"
            ],
            [
             0.8888888888888888,
             "#fdca26"
            ],
            [
             1,
             "#f0f921"
            ]
           ]
          },
          "colorway": [
           "#636efa",
           "#EF553B",
           "#00cc96",
           "#ab63fa",
           "#FFA15A",
           "#19d3f3",
           "#FF6692",
           "#B6E880",
           "#FF97FF",
           "#FECB52"
          ],
          "font": {
           "color": "#2a3f5f"
          },
          "geo": {
           "bgcolor": "white",
           "lakecolor": "white",
           "landcolor": "#E5ECF6",
           "showlakes": true,
           "showland": true,
           "subunitcolor": "white"
          },
          "hoverlabel": {
           "align": "left"
          },
          "hovermode": "closest",
          "mapbox": {
           "style": "light"
          },
          "paper_bgcolor": "white",
          "plot_bgcolor": "#E5ECF6",
          "polar": {
           "angularaxis": {
            "gridcolor": "white",
            "linecolor": "white",
            "ticks": ""
           },
           "bgcolor": "#E5ECF6",
           "radialaxis": {
            "gridcolor": "white",
            "linecolor": "white",
            "ticks": ""
           }
          },
          "scene": {
           "xaxis": {
            "backgroundcolor": "#E5ECF6",
            "gridcolor": "white",
            "gridwidth": 2,
            "linecolor": "white",
            "showbackground": true,
            "ticks": "",
            "zerolinecolor": "white"
           },
           "yaxis": {
            "backgroundcolor": "#E5ECF6",
            "gridcolor": "white",
            "gridwidth": 2,
            "linecolor": "white",
            "showbackground": true,
            "ticks": "",
            "zerolinecolor": "white"
           },
           "zaxis": {
            "backgroundcolor": "#E5ECF6",
            "gridcolor": "white",
            "gridwidth": 2,
            "linecolor": "white",
            "showbackground": true,
            "ticks": "",
            "zerolinecolor": "white"
           }
          },
          "shapedefaults": {
           "line": {
            "color": "#2a3f5f"
           }
          },
          "ternary": {
           "aaxis": {
            "gridcolor": "white",
            "linecolor": "white",
            "ticks": ""
           },
           "baxis": {
            "gridcolor": "white",
            "linecolor": "white",
            "ticks": ""
           },
           "bgcolor": "#E5ECF6",
           "caxis": {
            "gridcolor": "white",
            "linecolor": "white",
            "ticks": ""
           }
          },
          "title": {
           "x": 0.05
          },
          "xaxis": {
           "automargin": true,
           "gridcolor": "white",
           "linecolor": "white",
           "ticks": "",
           "title": {
            "standoff": 15
           },
           "zerolinecolor": "white",
           "zerolinewidth": 2
          },
          "yaxis": {
           "automargin": true,
           "gridcolor": "white",
           "linecolor": "white",
           "ticks": "",
           "title": {
            "standoff": 15
           },
           "zerolinecolor": "white",
           "zerolinewidth": 2
          }
         }
        },
        "title": {
         "font": {
          "color": "#4D5663"
         }
        },
        "xaxis": {
         "gridcolor": "#E1E5ED",
         "showgrid": true,
         "tickfont": {
          "color": "#4D5663"
         },
         "title": {
          "font": {
           "color": "#4D5663"
          },
          "text": ""
         },
         "zerolinecolor": "#E1E5ED"
        },
        "yaxis": {
         "gridcolor": "#E1E5ED",
         "showgrid": true,
         "tickfont": {
          "color": "#4D5663"
         },
         "title": {
          "font": {
           "color": "#4D5663"
          },
          "text": ""
         },
         "zerolinecolor": "#E1E5ED"
        }
       }
      },
      "text/html": [
       "<div>                            <div id=\"c623c710-d3e8-4a02-b18b-11bebfa52c5e\" class=\"plotly-graph-div\" style=\"height:525px; width:100%;\"></div>            <script type=\"text/javascript\">                require([\"plotly\"], function(Plotly) {                    window.PLOTLYENV=window.PLOTLYENV || {};\n",
       "                    window.PLOTLYENV.BASE_URL='https://plot.ly';                                    if (document.getElementById(\"c623c710-d3e8-4a02-b18b-11bebfa52c5e\")) {                    Plotly.newPlot(                        \"c623c710-d3e8-4a02-b18b-11bebfa52c5e\",                        [{\"line\":{\"color\":\"rgba(255, 153, 51, 1.0)\",\"dash\":\"solid\",\"shape\":\"linear\",\"width\":1.3},\"mode\":\"lines\",\"name\":\"A\",\"text\":\"\",\"x\":[0,1,2,3,4,5,6,7,8,9,10,11,12,13,14,15,16,17,18,19,20,21,22,23,24,25,26,27,28,29,30,31,32,33,34,35,36,37,38,39,40,41,42,43,44,45,46,47,48,49,50,51,52,53,54,55,56,57,58,59,60,61,62,63,64,65,66,67,68,69,70,71,72,73,74,75,76,77,78,79,80,81,82,83,84,85,86,87,88,89,90,91,92,93,94,95,96,97,98,99],\"y\":[1.271671286958233,-2.172408915978876,1.7854365286371727,1.5799705135342348,0.5171449831935606,-0.738836448224735,-1.8144196577454883,0.6426229098950454,-0.6636473476440262,-1.00280947283931,-0.23427784176035332,2.350590946817898,-0.772872337152085,0.06721304131837574,-0.3380988576289599,-1.032927158724717,-0.4301694538498191,-0.6795763232900397,1.6746112402990454,-0.8071433538687962,-0.7301921401287503,-1.974766933366033,-1.2606638273598736,-0.14780583520530913,-0.30352793700047676,1.7608134785833829,1.8601966055560195,-0.7318941199356979,0.9881810889499792,1.2157909902610062,1.700833223803107,-0.03702641197653624,0.2685661133985728,-1.1540228701071364,-2.451284896900468,-0.6251852288829398,-0.6874066773430462,0.820850283868299,0.08442426464027586,0.6072766750939735,0.920499680386307,0.05005835511080823,1.649623201071434,0.11541833072015947,1.7441869252115747,0.3936830830921386,0.5152496115529626,1.7784524803055681,0.9419614134044356,-0.29177154982575987,-1.3783653483867588,0.9915959148343668,-0.40952344237860894,-0.6503507398847784,-0.2633247272517648,2.373729941368112,1.0409871870552478,-0.22852304522578715,-0.9982703819338618,-0.3968154813092077,-0.5617296882171342,-1.1346920922423802,0.5549905627104234,1.2967314166335604,0.2436695236624341,0.7769124747016123,2.2452054275190347,-0.823378225352857,0.9128352696742315,0.35267974946978997,-0.4916034171442968,0.35067090693594716,0.8292806012849196,1.3347709310432276,-0.5373920254195184,-2.112500723883234,-0.7694046864432289,0.7797256904311618,1.765595606686072,3.3627198690793323,-0.3076120808124946,-0.4285964521753026,0.531109847573406,-1.4629177205405783,0.8655379339108681,-0.49880559284931575,-0.47027222429519455,-1.6292499051374218,-0.07509143409175767,-1.0138651146690272,0.031127129211921862,-0.21735199281501266,0.02340260280010591,0.1357923014492216,-0.5432535568717444,2.287360729985298,-0.5650535168514119,0.3144488908793118,0.7106693119223403,-0.5269749040598086],\"type\":\"scatter\"},{\"line\":{\"color\":\"rgba(55, 128, 191, 1.0)\",\"dash\":\"solid\",\"shape\":\"linear\",\"width\":1.3},\"mode\":\"lines\",\"name\":\"B\",\"text\":\"\",\"x\":[0,1,2,3,4,5,6,7,8,9,10,11,12,13,14,15,16,17,18,19,20,21,22,23,24,25,26,27,28,29,30,31,32,33,34,35,36,37,38,39,40,41,42,43,44,45,46,47,48,49,50,51,52,53,54,55,56,57,58,59,60,61,62,63,64,65,66,67,68,69,70,71,72,73,74,75,76,77,78,79,80,81,82,83,84,85,86,87,88,89,90,91,92,93,94,95,96,97,98,99],\"y\":[-0.16272276040128936,0.7044986616881509,-3.1681590356748073,-0.4672001763129714,-0.31376620799253974,-0.5060581049498075,0.2704134271091462,-1.0229185417941054,-0.4961033903517738,0.6558721387107035,1.29186875327626,-1.5228271863433263,0.2346838303022486,-0.3539977200915892,1.1691767623198108,-0.15996799072360515,0.5835225744706318,0.2826237194233615,1.0659972007300325,-0.3879827255662256,-0.062233085977681166,-1.9704497431985206,-0.4323527048118112,-1.4209748903881405,-0.39646952828904025,-0.5330063251499289,0.6679417308521448,-0.52687230266114,-0.29564344639543116,-1.1788525999577755,-0.28200650244590725,-1.348594908250399,0.46037407721809376,-1.661032228224993,-0.8521494244571879,0.8418282719092218,-0.030946699555730282,0.8745270526457853,0.9236753971552883,0.002520505287537238,-0.6280134473910527,0.053418733854069776,-0.7099950695826408,0.45411841071298126,-0.1140285667950381,0.06784634512858456,0.9151555874440334,-1.0518497119831198,-0.8695055022189785,0.3636477438583736,-0.5758866931978616,-2.7048446150366017,0.053486454456806755,0.19709604180075288,-0.10599409895899331,1.289887828418673,0.2300267525465255,-0.7113701904602237,0.26506560404880775,-1.012652872010664,0.15135646644187953,0.5799854650566798,1.0887180107837493,1.4914586766891302,0.3672033428097803,1.1058459674371697,-1.1037543094206794,-0.7727398887207035,-0.256736556836982,-1.2056500675059685,-2.255492532473808,-0.4891770094355169,0.21185992687337646,1.6267167557827436,1.3624949864552849,0.5159284067924745,0.35663638396301744,-0.2104491465765928,0.28703359748779417,0.18707846870748404,0.9973777188764106,-0.11279170657735568,-0.3733935424177511,-0.964577374165736,0.07320496681842414,1.4354674409574493,0.35705828540155327,-0.26255279221395544,0.05764879251803963,-0.4479876335172284,-1.2406167000734456,-0.24554362450471798,0.2675657513139322,0.48698843493522,0.8717286775220626,0.38367709472602407,0.4869880369464998,-0.18782178877356678,1.1980849722535623,0.6852752458776807],\"type\":\"scatter\"},{\"line\":{\"color\":\"rgba(50, 171, 96, 1.0)\",\"dash\":\"solid\",\"shape\":\"linear\",\"width\":1.3},\"mode\":\"lines\",\"name\":\"C\",\"text\":\"\",\"x\":[0,1,2,3,4,5,6,7,8,9,10,11,12,13,14,15,16,17,18,19,20,21,22,23,24,25,26,27,28,29,30,31,32,33,34,35,36,37,38,39,40,41,42,43,44,45,46,47,48,49,50,51,52,53,54,55,56,57,58,59,60,61,62,63,64,65,66,67,68,69,70,71,72,73,74,75,76,77,78,79,80,81,82,83,84,85,86,87,88,89,90,91,92,93,94,95,96,97,98,99],\"y\":[-1.1272730642886264,0.4651189902515295,-1.4454347739122737,1.0279079519482663,1.1597304505685488,0.2748815117495381,1.104194961757863,-0.2290185011173507,0.15953594410562186,0.562339771980812,-0.8761502287169275,0.7912027271630951,-0.6209812755003381,0.032737755124431854,-1.5549609906684134,-0.33515092447103934,0.194459932524018,0.6494585970289132,-0.6893928623391945,0.9148149797189422,-0.5895666919039746,-0.10211652943550073,-0.6760910234409082,-0.3727048871600237,2.428985789791552,0.5130043188351135,0.5972076013366243,1.009203557743515,1.9045900982200739,0.6178807122127871,-0.6278933094372934,1.590850405219824,-0.36795986813056264,1.66351099652182,-0.44389827906571283,-0.05345271265392464,0.6207589631433975,0.6437974044230873,-0.5878286892911038,1.174098637950353,-1.6090012185329858,1.658044211840498,-0.4123398017075408,0.19145075399432507,-0.2640651240457925,-0.6863610251224573,-0.09469602496774447,0.35119148793087446,0.026919470255186696,-0.16076589280933315,0.24804911234882118,-0.5950410970752406,-0.233570069640491,0.44167872370361516,0.038790044898560805,0.4526309109038116,0.18424074154879694,1.119882167831072,0.9531270156065279,0.8760895341334429,0.8068324040628525,-0.6161085347247628,0.22092153272906404,-0.7348727228788727,-0.3457836593283543,-0.35461194797696516,7.957593078923664e-05,-0.9314612407832846,0.6413911111570009,-0.42063095801144307,0.34326356603266805,1.6585243155630653,0.49641840775633916,-0.4559595375059727,1.8002833734246106,-0.5893485427493795,2.4409791593304915,2.1111406260814785,0.5717692342256324,0.4969059820132727,0.3667612685062775,-1.7207693503108104,-0.3780945698859745,0.9861281520336582,0.43769332640057695,-0.09825573369075614,-1.0655310736542085,-0.28337592874224027,0.5914522835671088,-1.1441736058441683,2.0939824152404967,1.545860871172858,-0.4658606262369593,1.0739808543369476,0.10316628689757296,-0.8250123725904674,0.3179683453832489,1.7120063950923825,2.399034422412584,1.084630479883858],\"type\":\"scatter\"},{\"line\":{\"color\":\"rgba(128, 0, 128, 1.0)\",\"dash\":\"solid\",\"shape\":\"linear\",\"width\":1.3},\"mode\":\"lines\",\"name\":\"D\",\"text\":\"\",\"x\":[0,1,2,3,4,5,6,7,8,9,10,11,12,13,14,15,16,17,18,19,20,21,22,23,24,25,26,27,28,29,30,31,32,33,34,35,36,37,38,39,40,41,42,43,44,45,46,47,48,49,50,51,52,53,54,55,56,57,58,59,60,61,62,63,64,65,66,67,68,69,70,71,72,73,74,75,76,77,78,79,80,81,82,83,84,85,86,87,88,89,90,91,92,93,94,95,96,97,98,99],\"y\":[-0.33024030884163036,-0.2523030735995534,-0.26180473103230223,-0.9723998035202468,1.1938252816314854,1.5879020392307879,1.124581352617844,-0.5941489950526395,-1.6007874960039579,2.057262323788016,0.7718883139284151,-0.2173777906630994,-1.6419730891986393,-0.14080583038493127,0.44002463185174934,0.07885168288341862,0.984212271626107,-1.1472398918765907,0.21153320221849023,-1.974807640083881,-1.1644959819637613,-1.2237455619221056,0.34578100988560473,-0.5217157483023667,-1.270290747916724,0.7491767957609144,2.644266078029767,-1.6406401948550957,1.0322499071462257,0.6887910644533315,0.32287907932850624,1.4989591201474028,-1.1991161411912088,-0.8920601546409503,0.6400442351261533,-0.47165416077286754,-0.4548982919516317,0.12415938669496829,-0.4247846425283389,-0.9156633119828546,1.4581552202445693,-1.5763818308364506,0.21152281160136105,0.06341412438401173,0.6798819630360923,1.5250532395213547,0.4218008104000734,1.3304872068583076,-1.7863931171311287,0.03882887739452606,-0.2999883606054231,0.14013821996232273,-1.4750819545560712,0.6671091889997084,-0.36788116976311264,0.015900905065900306,1.1184055509960755,-1.1608114921416226,-0.3201716786888437,-1.079402033541682,-0.04246988206278477,-0.43415589253483394,-1.087880851337657,-0.37922593084677414,1.6207908071143207,-0.8540825557908546,-1.076789785101322,1.8518210072958456,0.7508158404618406,-0.8021722588853217,-0.530266045981944,-1.0201028827629512,-0.18763082062703867,-1.1124134439639035,-0.060021475110751454,0.022480385141118605,-0.06130935854797956,-1.3412760445635994,0.1467524014787332,-0.031133312042740384,0.43515983911470957,0.7900703994178605,0.5418804340396783,-0.715718752248988,1.5385736218598856,0.10305063865747505,0.23074339533619892,-0.08945389350799786,0.8315569985295567,-2.178527148123283,1.0627661204823748,-1.7001961939953165,0.5533018938128142,0.5994346030753849,1.3425970461467547,-0.40497516633433484,2.062920764596815,-1.3395678968380955,0.425148566114341,-2.006033755250181],\"type\":\"scatter\"}],                        {\"legend\":{\"bgcolor\":\"#F5F6F9\",\"font\":{\"color\":\"#4D5663\"}},\"paper_bgcolor\":\"#F5F6F9\",\"plot_bgcolor\":\"#F5F6F9\",\"template\":{\"data\":{\"barpolar\":[{\"marker\":{\"line\":{\"color\":\"#E5ECF6\",\"width\":0.5},\"pattern\":{\"fillmode\":\"overlay\",\"size\":10,\"solidity\":0.2}},\"type\":\"barpolar\"}],\"bar\":[{\"error_x\":{\"color\":\"#2a3f5f\"},\"error_y\":{\"color\":\"#2a3f5f\"},\"marker\":{\"line\":{\"color\":\"#E5ECF6\",\"width\":0.5},\"pattern\":{\"fillmode\":\"overlay\",\"size\":10,\"solidity\":0.2}},\"type\":\"bar\"}],\"carpet\":[{\"aaxis\":{\"endlinecolor\":\"#2a3f5f\",\"gridcolor\":\"white\",\"linecolor\":\"white\",\"minorgridcolor\":\"white\",\"startlinecolor\":\"#2a3f5f\"},\"baxis\":{\"endlinecolor\":\"#2a3f5f\",\"gridcolor\":\"white\",\"linecolor\":\"white\",\"minorgridcolor\":\"white\",\"startlinecolor\":\"#2a3f5f\"},\"type\":\"carpet\"}],\"choropleth\":[{\"colorbar\":{\"outlinewidth\":0,\"ticks\":\"\"},\"type\":\"choropleth\"}],\"contourcarpet\":[{\"colorbar\":{\"outlinewidth\":0,\"ticks\":\"\"},\"type\":\"contourcarpet\"}],\"contour\":[{\"colorbar\":{\"outlinewidth\":0,\"ticks\":\"\"},\"colorscale\":[[0.0,\"#0d0887\"],[0.1111111111111111,\"#46039f\"],[0.2222222222222222,\"#7201a8\"],[0.3333333333333333,\"#9c179e\"],[0.4444444444444444,\"#bd3786\"],[0.5555555555555556,\"#d8576b\"],[0.6666666666666666,\"#ed7953\"],[0.7777777777777778,\"#fb9f3a\"],[0.8888888888888888,\"#fdca26\"],[1.0,\"#f0f921\"]],\"type\":\"contour\"}],\"heatmapgl\":[{\"colorbar\":{\"outlinewidth\":0,\"ticks\":\"\"},\"colorscale\":[[0.0,\"#0d0887\"],[0.1111111111111111,\"#46039f\"],[0.2222222222222222,\"#7201a8\"],[0.3333333333333333,\"#9c179e\"],[0.4444444444444444,\"#bd3786\"],[0.5555555555555556,\"#d8576b\"],[0.6666666666666666,\"#ed7953\"],[0.7777777777777778,\"#fb9f3a\"],[0.8888888888888888,\"#fdca26\"],[1.0,\"#f0f921\"]],\"type\":\"heatmapgl\"}],\"heatmap\":[{\"colorbar\":{\"outlinewidth\":0,\"ticks\":\"\"},\"colorscale\":[[0.0,\"#0d0887\"],[0.1111111111111111,\"#46039f\"],[0.2222222222222222,\"#7201a8\"],[0.3333333333333333,\"#9c179e\"],[0.4444444444444444,\"#bd3786\"],[0.5555555555555556,\"#d8576b\"],[0.6666666666666666,\"#ed7953\"],[0.7777777777777778,\"#fb9f3a\"],[0.8888888888888888,\"#fdca26\"],[1.0,\"#f0f921\"]],\"type\":\"heatmap\"}],\"histogram2dcontour\":[{\"colorbar\":{\"outlinewidth\":0,\"ticks\":\"\"},\"colorscale\":[[0.0,\"#0d0887\"],[0.1111111111111111,\"#46039f\"],[0.2222222222222222,\"#7201a8\"],[0.3333333333333333,\"#9c179e\"],[0.4444444444444444,\"#bd3786\"],[0.5555555555555556,\"#d8576b\"],[0.6666666666666666,\"#ed7953\"],[0.7777777777777778,\"#fb9f3a\"],[0.8888888888888888,\"#fdca26\"],[1.0,\"#f0f921\"]],\"type\":\"histogram2dcontour\"}],\"histogram2d\":[{\"colorbar\":{\"outlinewidth\":0,\"ticks\":\"\"},\"colorscale\":[[0.0,\"#0d0887\"],[0.1111111111111111,\"#46039f\"],[0.2222222222222222,\"#7201a8\"],[0.3333333333333333,\"#9c179e\"],[0.4444444444444444,\"#bd3786\"],[0.5555555555555556,\"#d8576b\"],[0.6666666666666666,\"#ed7953\"],[0.7777777777777778,\"#fb9f3a\"],[0.8888888888888888,\"#fdca26\"],[1.0,\"#f0f921\"]],\"type\":\"histogram2d\"}],\"histogram\":[{\"marker\":{\"pattern\":{\"fillmode\":\"overlay\",\"size\":10,\"solidity\":0.2}},\"type\":\"histogram\"}],\"mesh3d\":[{\"colorbar\":{\"outlinewidth\":0,\"ticks\":\"\"},\"type\":\"mesh3d\"}],\"parcoords\":[{\"line\":{\"colorbar\":{\"outlinewidth\":0,\"ticks\":\"\"}},\"type\":\"parcoords\"}],\"pie\":[{\"automargin\":true,\"type\":\"pie\"}],\"scatter3d\":[{\"line\":{\"colorbar\":{\"outlinewidth\":0,\"ticks\":\"\"}},\"marker\":{\"colorbar\":{\"outlinewidth\":0,\"ticks\":\"\"}},\"type\":\"scatter3d\"}],\"scattercarpet\":[{\"marker\":{\"colorbar\":{\"outlinewidth\":0,\"ticks\":\"\"}},\"type\":\"scattercarpet\"}],\"scattergeo\":[{\"marker\":{\"colorbar\":{\"outlinewidth\":0,\"ticks\":\"\"}},\"type\":\"scattergeo\"}],\"scattergl\":[{\"marker\":{\"colorbar\":{\"outlinewidth\":0,\"ticks\":\"\"}},\"type\":\"scattergl\"}],\"scattermapbox\":[{\"marker\":{\"colorbar\":{\"outlinewidth\":0,\"ticks\":\"\"}},\"type\":\"scattermapbox\"}],\"scatterpolargl\":[{\"marker\":{\"colorbar\":{\"outlinewidth\":0,\"ticks\":\"\"}},\"type\":\"scatterpolargl\"}],\"scatterpolar\":[{\"marker\":{\"colorbar\":{\"outlinewidth\":0,\"ticks\":\"\"}},\"type\":\"scatterpolar\"}],\"scatter\":[{\"fillpattern\":{\"fillmode\":\"overlay\",\"size\":10,\"solidity\":0.2},\"type\":\"scatter\"}],\"scatterternary\":[{\"marker\":{\"colorbar\":{\"outlinewidth\":0,\"ticks\":\"\"}},\"type\":\"scatterternary\"}],\"surface\":[{\"colorbar\":{\"outlinewidth\":0,\"ticks\":\"\"},\"colorscale\":[[0.0,\"#0d0887\"],[0.1111111111111111,\"#46039f\"],[0.2222222222222222,\"#7201a8\"],[0.3333333333333333,\"#9c179e\"],[0.4444444444444444,\"#bd3786\"],[0.5555555555555556,\"#d8576b\"],[0.6666666666666666,\"#ed7953\"],[0.7777777777777778,\"#fb9f3a\"],[0.8888888888888888,\"#fdca26\"],[1.0,\"#f0f921\"]],\"type\":\"surface\"}],\"table\":[{\"cells\":{\"fill\":{\"color\":\"#EBF0F8\"},\"line\":{\"color\":\"white\"}},\"header\":{\"fill\":{\"color\":\"#C8D4E3\"},\"line\":{\"color\":\"white\"}},\"type\":\"table\"}]},\"layout\":{\"annotationdefaults\":{\"arrowcolor\":\"#2a3f5f\",\"arrowhead\":0,\"arrowwidth\":1},\"autotypenumbers\":\"strict\",\"coloraxis\":{\"colorbar\":{\"outlinewidth\":0,\"ticks\":\"\"}},\"colorscale\":{\"diverging\":[[0,\"#8e0152\"],[0.1,\"#c51b7d\"],[0.2,\"#de77ae\"],[0.3,\"#f1b6da\"],[0.4,\"#fde0ef\"],[0.5,\"#f7f7f7\"],[0.6,\"#e6f5d0\"],[0.7,\"#b8e186\"],[0.8,\"#7fbc41\"],[0.9,\"#4d9221\"],[1,\"#276419\"]],\"sequential\":[[0.0,\"#0d0887\"],[0.1111111111111111,\"#46039f\"],[0.2222222222222222,\"#7201a8\"],[0.3333333333333333,\"#9c179e\"],[0.4444444444444444,\"#bd3786\"],[0.5555555555555556,\"#d8576b\"],[0.6666666666666666,\"#ed7953\"],[0.7777777777777778,\"#fb9f3a\"],[0.8888888888888888,\"#fdca26\"],[1.0,\"#f0f921\"]],\"sequentialminus\":[[0.0,\"#0d0887\"],[0.1111111111111111,\"#46039f\"],[0.2222222222222222,\"#7201a8\"],[0.3333333333333333,\"#9c179e\"],[0.4444444444444444,\"#bd3786\"],[0.5555555555555556,\"#d8576b\"],[0.6666666666666666,\"#ed7953\"],[0.7777777777777778,\"#fb9f3a\"],[0.8888888888888888,\"#fdca26\"],[1.0,\"#f0f921\"]]},\"colorway\":[\"#636efa\",\"#EF553B\",\"#00cc96\",\"#ab63fa\",\"#FFA15A\",\"#19d3f3\",\"#FF6692\",\"#B6E880\",\"#FF97FF\",\"#FECB52\"],\"font\":{\"color\":\"#2a3f5f\"},\"geo\":{\"bgcolor\":\"white\",\"lakecolor\":\"white\",\"landcolor\":\"#E5ECF6\",\"showlakes\":true,\"showland\":true,\"subunitcolor\":\"white\"},\"hoverlabel\":{\"align\":\"left\"},\"hovermode\":\"closest\",\"mapbox\":{\"style\":\"light\"},\"paper_bgcolor\":\"white\",\"plot_bgcolor\":\"#E5ECF6\",\"polar\":{\"angularaxis\":{\"gridcolor\":\"white\",\"linecolor\":\"white\",\"ticks\":\"\"},\"bgcolor\":\"#E5ECF6\",\"radialaxis\":{\"gridcolor\":\"white\",\"linecolor\":\"white\",\"ticks\":\"\"}},\"scene\":{\"xaxis\":{\"backgroundcolor\":\"#E5ECF6\",\"gridcolor\":\"white\",\"gridwidth\":2,\"linecolor\":\"white\",\"showbackground\":true,\"ticks\":\"\",\"zerolinecolor\":\"white\"},\"yaxis\":{\"backgroundcolor\":\"#E5ECF6\",\"gridcolor\":\"white\",\"gridwidth\":2,\"linecolor\":\"white\",\"showbackground\":true,\"ticks\":\"\",\"zerolinecolor\":\"white\"},\"zaxis\":{\"backgroundcolor\":\"#E5ECF6\",\"gridcolor\":\"white\",\"gridwidth\":2,\"linecolor\":\"white\",\"showbackground\":true,\"ticks\":\"\",\"zerolinecolor\":\"white\"}},\"shapedefaults\":{\"line\":{\"color\":\"#2a3f5f\"}},\"ternary\":{\"aaxis\":{\"gridcolor\":\"white\",\"linecolor\":\"white\",\"ticks\":\"\"},\"baxis\":{\"gridcolor\":\"white\",\"linecolor\":\"white\",\"ticks\":\"\"},\"bgcolor\":\"#E5ECF6\",\"caxis\":{\"gridcolor\":\"white\",\"linecolor\":\"white\",\"ticks\":\"\"}},\"title\":{\"x\":0.05},\"xaxis\":{\"automargin\":true,\"gridcolor\":\"white\",\"linecolor\":\"white\",\"ticks\":\"\",\"title\":{\"standoff\":15},\"zerolinecolor\":\"white\",\"zerolinewidth\":2},\"yaxis\":{\"automargin\":true,\"gridcolor\":\"white\",\"linecolor\":\"white\",\"ticks\":\"\",\"title\":{\"standoff\":15},\"zerolinecolor\":\"white\",\"zerolinewidth\":2}}},\"title\":{\"font\":{\"color\":\"#4D5663\"}},\"xaxis\":{\"gridcolor\":\"#E1E5ED\",\"showgrid\":true,\"tickfont\":{\"color\":\"#4D5663\"},\"title\":{\"font\":{\"color\":\"#4D5663\"},\"text\":\"\"},\"zerolinecolor\":\"#E1E5ED\"},\"yaxis\":{\"gridcolor\":\"#E1E5ED\",\"showgrid\":true,\"tickfont\":{\"color\":\"#4D5663\"},\"title\":{\"font\":{\"color\":\"#4D5663\"},\"text\":\"\"},\"zerolinecolor\":\"#E1E5ED\"}},                        {\"showLink\": true, \"linkText\": \"Export to plot.ly\", \"plotlyServerURL\": \"https://plot.ly\", \"responsive\": true}                    ).then(function(){\n",
       "                            \n",
       "var gd = document.getElementById('c623c710-d3e8-4a02-b18b-11bebfa52c5e');\n",
       "var x = new MutationObserver(function (mutations, observer) {{\n",
       "        var display = window.getComputedStyle(gd).display;\n",
       "        if (!display || display === 'none') {{\n",
       "            console.log([gd, 'removed!']);\n",
       "            Plotly.purge(gd);\n",
       "            observer.disconnect();\n",
       "        }}\n",
       "}});\n",
       "\n",
       "// Listen for the removal of the full notebook cells\n",
       "var notebookContainer = gd.closest('#notebook-container');\n",
       "if (notebookContainer) {{\n",
       "    x.observe(notebookContainer, {childList: true});\n",
       "}}\n",
       "\n",
       "// Listen for the clearing of the current output cell\n",
       "var outputEl = gd.closest('.output');\n",
       "if (outputEl) {{\n",
       "    x.observe(outputEl, {childList: true});\n",
       "}}\n",
       "\n",
       "                        })                };                });            </script>        </div>"
      ]
     },
     "metadata": {},
     "output_type": "display_data"
    }
   ],
   "source": [
    "df.iplot()"
   ]
  },
  {
   "cell_type": "code",
   "execution_count": 79,
   "metadata": {},
   "outputs": [
    {
     "data": {
      "application/vnd.plotly.v1+json": {
       "config": {
        "linkText": "Export to plot.ly",
        "plotlyServerURL": "https://plot.ly",
        "showLink": true
       },
       "data": [
        {
         "line": {
          "color": "rgba(255, 153, 51, 1.0)",
          "dash": "solid",
          "shape": "linear",
          "width": 1.3
         },
         "marker": {
          "size": 15,
          "symbol": "circle"
         },
         "mode": "markers",
         "name": "B",
         "text": "",
         "type": "scatter",
         "x": [
          1.271671286958233,
          -2.172408915978876,
          1.7854365286371727,
          1.5799705135342348,
          0.5171449831935606,
          -0.738836448224735,
          -1.8144196577454883,
          0.6426229098950454,
          -0.6636473476440262,
          -1.00280947283931,
          -0.23427784176035332,
          2.350590946817898,
          -0.772872337152085,
          0.06721304131837574,
          -0.3380988576289599,
          -1.032927158724717,
          -0.4301694538498191,
          -0.6795763232900397,
          1.6746112402990454,
          -0.8071433538687962,
          -0.7301921401287503,
          -1.974766933366033,
          -1.2606638273598736,
          -0.14780583520530913,
          -0.30352793700047676,
          1.7608134785833829,
          1.8601966055560195,
          -0.7318941199356979,
          0.9881810889499792,
          1.2157909902610062,
          1.700833223803107,
          -0.03702641197653624,
          0.2685661133985728,
          -1.1540228701071364,
          -2.451284896900468,
          -0.6251852288829398,
          -0.6874066773430462,
          0.820850283868299,
          0.08442426464027586,
          0.6072766750939735,
          0.920499680386307,
          0.05005835511080823,
          1.649623201071434,
          0.11541833072015947,
          1.7441869252115747,
          0.3936830830921386,
          0.5152496115529626,
          1.7784524803055681,
          0.9419614134044356,
          -0.29177154982575987,
          -1.3783653483867588,
          0.9915959148343668,
          -0.40952344237860894,
          -0.6503507398847784,
          -0.2633247272517648,
          2.373729941368112,
          1.0409871870552478,
          -0.22852304522578715,
          -0.9982703819338618,
          -0.3968154813092077,
          -0.5617296882171342,
          -1.1346920922423802,
          0.5549905627104234,
          1.2967314166335604,
          0.2436695236624341,
          0.7769124747016123,
          2.2452054275190347,
          -0.823378225352857,
          0.9128352696742315,
          0.35267974946978997,
          -0.4916034171442968,
          0.35067090693594716,
          0.8292806012849196,
          1.3347709310432276,
          -0.5373920254195184,
          -2.112500723883234,
          -0.7694046864432289,
          0.7797256904311618,
          1.765595606686072,
          3.3627198690793323,
          -0.3076120808124946,
          -0.4285964521753026,
          0.531109847573406,
          -1.4629177205405783,
          0.8655379339108681,
          -0.49880559284931575,
          -0.47027222429519455,
          -1.6292499051374218,
          -0.07509143409175767,
          -1.0138651146690272,
          0.031127129211921862,
          -0.21735199281501266,
          0.02340260280010591,
          0.1357923014492216,
          -0.5432535568717444,
          2.287360729985298,
          -0.5650535168514119,
          0.3144488908793118,
          0.7106693119223403,
          -0.5269749040598086
         ],
         "y": [
          -0.16272276040128936,
          0.7044986616881509,
          -3.1681590356748073,
          -0.4672001763129714,
          -0.31376620799253974,
          -0.5060581049498075,
          0.2704134271091462,
          -1.0229185417941054,
          -0.4961033903517738,
          0.6558721387107035,
          1.29186875327626,
          -1.5228271863433263,
          0.2346838303022486,
          -0.3539977200915892,
          1.1691767623198108,
          -0.15996799072360515,
          0.5835225744706318,
          0.2826237194233615,
          1.0659972007300325,
          -0.3879827255662256,
          -0.062233085977681166,
          -1.9704497431985206,
          -0.4323527048118112,
          -1.4209748903881405,
          -0.39646952828904025,
          -0.5330063251499289,
          0.6679417308521448,
          -0.52687230266114,
          -0.29564344639543116,
          -1.1788525999577755,
          -0.28200650244590725,
          -1.348594908250399,
          0.46037407721809376,
          -1.661032228224993,
          -0.8521494244571879,
          0.8418282719092218,
          -0.030946699555730282,
          0.8745270526457853,
          0.9236753971552883,
          0.002520505287537238,
          -0.6280134473910527,
          0.053418733854069776,
          -0.7099950695826408,
          0.45411841071298126,
          -0.1140285667950381,
          0.06784634512858456,
          0.9151555874440334,
          -1.0518497119831198,
          -0.8695055022189785,
          0.3636477438583736,
          -0.5758866931978616,
          -2.7048446150366017,
          0.053486454456806755,
          0.19709604180075288,
          -0.10599409895899331,
          1.289887828418673,
          0.2300267525465255,
          -0.7113701904602237,
          0.26506560404880775,
          -1.012652872010664,
          0.15135646644187953,
          0.5799854650566798,
          1.0887180107837493,
          1.4914586766891302,
          0.3672033428097803,
          1.1058459674371697,
          -1.1037543094206794,
          -0.7727398887207035,
          -0.256736556836982,
          -1.2056500675059685,
          -2.255492532473808,
          -0.4891770094355169,
          0.21185992687337646,
          1.6267167557827436,
          1.3624949864552849,
          0.5159284067924745,
          0.35663638396301744,
          -0.2104491465765928,
          0.28703359748779417,
          0.18707846870748404,
          0.9973777188764106,
          -0.11279170657735568,
          -0.3733935424177511,
          -0.964577374165736,
          0.07320496681842414,
          1.4354674409574493,
          0.35705828540155327,
          -0.26255279221395544,
          0.05764879251803963,
          -0.4479876335172284,
          -1.2406167000734456,
          -0.24554362450471798,
          0.2675657513139322,
          0.48698843493522,
          0.8717286775220626,
          0.38367709472602407,
          0.4869880369464998,
          -0.18782178877356678,
          1.1980849722535623,
          0.6852752458776807
         ]
        }
       ],
       "layout": {
        "legend": {
         "bgcolor": "#F5F6F9",
         "font": {
          "color": "#4D5663"
         }
        },
        "paper_bgcolor": "#F5F6F9",
        "plot_bgcolor": "#F5F6F9",
        "template": {
         "data": {
          "bar": [
           {
            "error_x": {
             "color": "#2a3f5f"
            },
            "error_y": {
             "color": "#2a3f5f"
            },
            "marker": {
             "line": {
              "color": "#E5ECF6",
              "width": 0.5
             },
             "pattern": {
              "fillmode": "overlay",
              "size": 10,
              "solidity": 0.2
             }
            },
            "type": "bar"
           }
          ],
          "barpolar": [
           {
            "marker": {
             "line": {
              "color": "#E5ECF6",
              "width": 0.5
             },
             "pattern": {
              "fillmode": "overlay",
              "size": 10,
              "solidity": 0.2
             }
            },
            "type": "barpolar"
           }
          ],
          "carpet": [
           {
            "aaxis": {
             "endlinecolor": "#2a3f5f",
             "gridcolor": "white",
             "linecolor": "white",
             "minorgridcolor": "white",
             "startlinecolor": "#2a3f5f"
            },
            "baxis": {
             "endlinecolor": "#2a3f5f",
             "gridcolor": "white",
             "linecolor": "white",
             "minorgridcolor": "white",
             "startlinecolor": "#2a3f5f"
            },
            "type": "carpet"
           }
          ],
          "choropleth": [
           {
            "colorbar": {
             "outlinewidth": 0,
             "ticks": ""
            },
            "type": "choropleth"
           }
          ],
          "contour": [
           {
            "colorbar": {
             "outlinewidth": 0,
             "ticks": ""
            },
            "colorscale": [
             [
              0,
              "#0d0887"
             ],
             [
              0.1111111111111111,
              "#46039f"
             ],
             [
              0.2222222222222222,
              "#7201a8"
             ],
             [
              0.3333333333333333,
              "#9c179e"
             ],
             [
              0.4444444444444444,
              "#bd3786"
             ],
             [
              0.5555555555555556,
              "#d8576b"
             ],
             [
              0.6666666666666666,
              "#ed7953"
             ],
             [
              0.7777777777777778,
              "#fb9f3a"
             ],
             [
              0.8888888888888888,
              "#fdca26"
             ],
             [
              1,
              "#f0f921"
             ]
            ],
            "type": "contour"
           }
          ],
          "contourcarpet": [
           {
            "colorbar": {
             "outlinewidth": 0,
             "ticks": ""
            },
            "type": "contourcarpet"
           }
          ],
          "heatmap": [
           {
            "colorbar": {
             "outlinewidth": 0,
             "ticks": ""
            },
            "colorscale": [
             [
              0,
              "#0d0887"
             ],
             [
              0.1111111111111111,
              "#46039f"
             ],
             [
              0.2222222222222222,
              "#7201a8"
             ],
             [
              0.3333333333333333,
              "#9c179e"
             ],
             [
              0.4444444444444444,
              "#bd3786"
             ],
             [
              0.5555555555555556,
              "#d8576b"
             ],
             [
              0.6666666666666666,
              "#ed7953"
             ],
             [
              0.7777777777777778,
              "#fb9f3a"
             ],
             [
              0.8888888888888888,
              "#fdca26"
             ],
             [
              1,
              "#f0f921"
             ]
            ],
            "type": "heatmap"
           }
          ],
          "heatmapgl": [
           {
            "colorbar": {
             "outlinewidth": 0,
             "ticks": ""
            },
            "colorscale": [
             [
              0,
              "#0d0887"
             ],
             [
              0.1111111111111111,
              "#46039f"
             ],
             [
              0.2222222222222222,
              "#7201a8"
             ],
             [
              0.3333333333333333,
              "#9c179e"
             ],
             [
              0.4444444444444444,
              "#bd3786"
             ],
             [
              0.5555555555555556,
              "#d8576b"
             ],
             [
              0.6666666666666666,
              "#ed7953"
             ],
             [
              0.7777777777777778,
              "#fb9f3a"
             ],
             [
              0.8888888888888888,
              "#fdca26"
             ],
             [
              1,
              "#f0f921"
             ]
            ],
            "type": "heatmapgl"
           }
          ],
          "histogram": [
           {
            "marker": {
             "pattern": {
              "fillmode": "overlay",
              "size": 10,
              "solidity": 0.2
             }
            },
            "type": "histogram"
           }
          ],
          "histogram2d": [
           {
            "colorbar": {
             "outlinewidth": 0,
             "ticks": ""
            },
            "colorscale": [
             [
              0,
              "#0d0887"
             ],
             [
              0.1111111111111111,
              "#46039f"
             ],
             [
              0.2222222222222222,
              "#7201a8"
             ],
             [
              0.3333333333333333,
              "#9c179e"
             ],
             [
              0.4444444444444444,
              "#bd3786"
             ],
             [
              0.5555555555555556,
              "#d8576b"
             ],
             [
              0.6666666666666666,
              "#ed7953"
             ],
             [
              0.7777777777777778,
              "#fb9f3a"
             ],
             [
              0.8888888888888888,
              "#fdca26"
             ],
             [
              1,
              "#f0f921"
             ]
            ],
            "type": "histogram2d"
           }
          ],
          "histogram2dcontour": [
           {
            "colorbar": {
             "outlinewidth": 0,
             "ticks": ""
            },
            "colorscale": [
             [
              0,
              "#0d0887"
             ],
             [
              0.1111111111111111,
              "#46039f"
             ],
             [
              0.2222222222222222,
              "#7201a8"
             ],
             [
              0.3333333333333333,
              "#9c179e"
             ],
             [
              0.4444444444444444,
              "#bd3786"
             ],
             [
              0.5555555555555556,
              "#d8576b"
             ],
             [
              0.6666666666666666,
              "#ed7953"
             ],
             [
              0.7777777777777778,
              "#fb9f3a"
             ],
             [
              0.8888888888888888,
              "#fdca26"
             ],
             [
              1,
              "#f0f921"
             ]
            ],
            "type": "histogram2dcontour"
           }
          ],
          "mesh3d": [
           {
            "colorbar": {
             "outlinewidth": 0,
             "ticks": ""
            },
            "type": "mesh3d"
           }
          ],
          "parcoords": [
           {
            "line": {
             "colorbar": {
              "outlinewidth": 0,
              "ticks": ""
             }
            },
            "type": "parcoords"
           }
          ],
          "pie": [
           {
            "automargin": true,
            "type": "pie"
           }
          ],
          "scatter": [
           {
            "fillpattern": {
             "fillmode": "overlay",
             "size": 10,
             "solidity": 0.2
            },
            "type": "scatter"
           }
          ],
          "scatter3d": [
           {
            "line": {
             "colorbar": {
              "outlinewidth": 0,
              "ticks": ""
             }
            },
            "marker": {
             "colorbar": {
              "outlinewidth": 0,
              "ticks": ""
             }
            },
            "type": "scatter3d"
           }
          ],
          "scattercarpet": [
           {
            "marker": {
             "colorbar": {
              "outlinewidth": 0,
              "ticks": ""
             }
            },
            "type": "scattercarpet"
           }
          ],
          "scattergeo": [
           {
            "marker": {
             "colorbar": {
              "outlinewidth": 0,
              "ticks": ""
             }
            },
            "type": "scattergeo"
           }
          ],
          "scattergl": [
           {
            "marker": {
             "colorbar": {
              "outlinewidth": 0,
              "ticks": ""
             }
            },
            "type": "scattergl"
           }
          ],
          "scattermapbox": [
           {
            "marker": {
             "colorbar": {
              "outlinewidth": 0,
              "ticks": ""
             }
            },
            "type": "scattermapbox"
           }
          ],
          "scatterpolar": [
           {
            "marker": {
             "colorbar": {
              "outlinewidth": 0,
              "ticks": ""
             }
            },
            "type": "scatterpolar"
           }
          ],
          "scatterpolargl": [
           {
            "marker": {
             "colorbar": {
              "outlinewidth": 0,
              "ticks": ""
             }
            },
            "type": "scatterpolargl"
           }
          ],
          "scatterternary": [
           {
            "marker": {
             "colorbar": {
              "outlinewidth": 0,
              "ticks": ""
             }
            },
            "type": "scatterternary"
           }
          ],
          "surface": [
           {
            "colorbar": {
             "outlinewidth": 0,
             "ticks": ""
            },
            "colorscale": [
             [
              0,
              "#0d0887"
             ],
             [
              0.1111111111111111,
              "#46039f"
             ],
             [
              0.2222222222222222,
              "#7201a8"
             ],
             [
              0.3333333333333333,
              "#9c179e"
             ],
             [
              0.4444444444444444,
              "#bd3786"
             ],
             [
              0.5555555555555556,
              "#d8576b"
             ],
             [
              0.6666666666666666,
              "#ed7953"
             ],
             [
              0.7777777777777778,
              "#fb9f3a"
             ],
             [
              0.8888888888888888,
              "#fdca26"
             ],
             [
              1,
              "#f0f921"
             ]
            ],
            "type": "surface"
           }
          ],
          "table": [
           {
            "cells": {
             "fill": {
              "color": "#EBF0F8"
             },
             "line": {
              "color": "white"
             }
            },
            "header": {
             "fill": {
              "color": "#C8D4E3"
             },
             "line": {
              "color": "white"
             }
            },
            "type": "table"
           }
          ]
         },
         "layout": {
          "annotationdefaults": {
           "arrowcolor": "#2a3f5f",
           "arrowhead": 0,
           "arrowwidth": 1
          },
          "autotypenumbers": "strict",
          "coloraxis": {
           "colorbar": {
            "outlinewidth": 0,
            "ticks": ""
           }
          },
          "colorscale": {
           "diverging": [
            [
             0,
             "#8e0152"
            ],
            [
             0.1,
             "#c51b7d"
            ],
            [
             0.2,
             "#de77ae"
            ],
            [
             0.3,
             "#f1b6da"
            ],
            [
             0.4,
             "#fde0ef"
            ],
            [
             0.5,
             "#f7f7f7"
            ],
            [
             0.6,
             "#e6f5d0"
            ],
            [
             0.7,
             "#b8e186"
            ],
            [
             0.8,
             "#7fbc41"
            ],
            [
             0.9,
             "#4d9221"
            ],
            [
             1,
             "#276419"
            ]
           ],
           "sequential": [
            [
             0,
             "#0d0887"
            ],
            [
             0.1111111111111111,
             "#46039f"
            ],
            [
             0.2222222222222222,
             "#7201a8"
            ],
            [
             0.3333333333333333,
             "#9c179e"
            ],
            [
             0.4444444444444444,
             "#bd3786"
            ],
            [
             0.5555555555555556,
             "#d8576b"
            ],
            [
             0.6666666666666666,
             "#ed7953"
            ],
            [
             0.7777777777777778,
             "#fb9f3a"
            ],
            [
             0.8888888888888888,
             "#fdca26"
            ],
            [
             1,
             "#f0f921"
            ]
           ],
           "sequentialminus": [
            [
             0,
             "#0d0887"
            ],
            [
             0.1111111111111111,
             "#46039f"
            ],
            [
             0.2222222222222222,
             "#7201a8"
            ],
            [
             0.3333333333333333,
             "#9c179e"
            ],
            [
             0.4444444444444444,
             "#bd3786"
            ],
            [
             0.5555555555555556,
             "#d8576b"
            ],
            [
             0.6666666666666666,
             "#ed7953"
            ],
            [
             0.7777777777777778,
             "#fb9f3a"
            ],
            [
             0.8888888888888888,
             "#fdca26"
            ],
            [
             1,
             "#f0f921"
            ]
           ]
          },
          "colorway": [
           "#636efa",
           "#EF553B",
           "#00cc96",
           "#ab63fa",
           "#FFA15A",
           "#19d3f3",
           "#FF6692",
           "#B6E880",
           "#FF97FF",
           "#FECB52"
          ],
          "font": {
           "color": "#2a3f5f"
          },
          "geo": {
           "bgcolor": "white",
           "lakecolor": "white",
           "landcolor": "#E5ECF6",
           "showlakes": true,
           "showland": true,
           "subunitcolor": "white"
          },
          "hoverlabel": {
           "align": "left"
          },
          "hovermode": "closest",
          "mapbox": {
           "style": "light"
          },
          "paper_bgcolor": "white",
          "plot_bgcolor": "#E5ECF6",
          "polar": {
           "angularaxis": {
            "gridcolor": "white",
            "linecolor": "white",
            "ticks": ""
           },
           "bgcolor": "#E5ECF6",
           "radialaxis": {
            "gridcolor": "white",
            "linecolor": "white",
            "ticks": ""
           }
          },
          "scene": {
           "xaxis": {
            "backgroundcolor": "#E5ECF6",
            "gridcolor": "white",
            "gridwidth": 2,
            "linecolor": "white",
            "showbackground": true,
            "ticks": "",
            "zerolinecolor": "white"
           },
           "yaxis": {
            "backgroundcolor": "#E5ECF6",
            "gridcolor": "white",
            "gridwidth": 2,
            "linecolor": "white",
            "showbackground": true,
            "ticks": "",
            "zerolinecolor": "white"
           },
           "zaxis": {
            "backgroundcolor": "#E5ECF6",
            "gridcolor": "white",
            "gridwidth": 2,
            "linecolor": "white",
            "showbackground": true,
            "ticks": "",
            "zerolinecolor": "white"
           }
          },
          "shapedefaults": {
           "line": {
            "color": "#2a3f5f"
           }
          },
          "ternary": {
           "aaxis": {
            "gridcolor": "white",
            "linecolor": "white",
            "ticks": ""
           },
           "baxis": {
            "gridcolor": "white",
            "linecolor": "white",
            "ticks": ""
           },
           "bgcolor": "#E5ECF6",
           "caxis": {
            "gridcolor": "white",
            "linecolor": "white",
            "ticks": ""
           }
          },
          "title": {
           "x": 0.05
          },
          "xaxis": {
           "automargin": true,
           "gridcolor": "white",
           "linecolor": "white",
           "ticks": "",
           "title": {
            "standoff": 15
           },
           "zerolinecolor": "white",
           "zerolinewidth": 2
          },
          "yaxis": {
           "automargin": true,
           "gridcolor": "white",
           "linecolor": "white",
           "ticks": "",
           "title": {
            "standoff": 15
           },
           "zerolinecolor": "white",
           "zerolinewidth": 2
          }
         }
        },
        "title": {
         "font": {
          "color": "#4D5663"
         }
        },
        "xaxis": {
         "gridcolor": "#E1E5ED",
         "showgrid": true,
         "tickfont": {
          "color": "#4D5663"
         },
         "title": {
          "font": {
           "color": "#4D5663"
          },
          "text": ""
         },
         "zerolinecolor": "#E1E5ED"
        },
        "yaxis": {
         "gridcolor": "#E1E5ED",
         "showgrid": true,
         "tickfont": {
          "color": "#4D5663"
         },
         "title": {
          "font": {
           "color": "#4D5663"
          },
          "text": ""
         },
         "zerolinecolor": "#E1E5ED"
        }
       }
      },
      "text/html": [
       "<div>                            <div id=\"43367136-4f17-4c92-bfb6-761b410b92f3\" class=\"plotly-graph-div\" style=\"height:525px; width:100%;\"></div>            <script type=\"text/javascript\">                require([\"plotly\"], function(Plotly) {                    window.PLOTLYENV=window.PLOTLYENV || {};\n",
       "                    window.PLOTLYENV.BASE_URL='https://plot.ly';                                    if (document.getElementById(\"43367136-4f17-4c92-bfb6-761b410b92f3\")) {                    Plotly.newPlot(                        \"43367136-4f17-4c92-bfb6-761b410b92f3\",                        [{\"line\":{\"color\":\"rgba(255, 153, 51, 1.0)\",\"dash\":\"solid\",\"shape\":\"linear\",\"width\":1.3},\"marker\":{\"size\":15,\"symbol\":\"circle\"},\"mode\":\"markers\",\"name\":\"B\",\"text\":\"\",\"x\":[1.271671286958233,-2.172408915978876,1.7854365286371727,1.5799705135342348,0.5171449831935606,-0.738836448224735,-1.8144196577454883,0.6426229098950454,-0.6636473476440262,-1.00280947283931,-0.23427784176035332,2.350590946817898,-0.772872337152085,0.06721304131837574,-0.3380988576289599,-1.032927158724717,-0.4301694538498191,-0.6795763232900397,1.6746112402990454,-0.8071433538687962,-0.7301921401287503,-1.974766933366033,-1.2606638273598736,-0.14780583520530913,-0.30352793700047676,1.7608134785833829,1.8601966055560195,-0.7318941199356979,0.9881810889499792,1.2157909902610062,1.700833223803107,-0.03702641197653624,0.2685661133985728,-1.1540228701071364,-2.451284896900468,-0.6251852288829398,-0.6874066773430462,0.820850283868299,0.08442426464027586,0.6072766750939735,0.920499680386307,0.05005835511080823,1.649623201071434,0.11541833072015947,1.7441869252115747,0.3936830830921386,0.5152496115529626,1.7784524803055681,0.9419614134044356,-0.29177154982575987,-1.3783653483867588,0.9915959148343668,-0.40952344237860894,-0.6503507398847784,-0.2633247272517648,2.373729941368112,1.0409871870552478,-0.22852304522578715,-0.9982703819338618,-0.3968154813092077,-0.5617296882171342,-1.1346920922423802,0.5549905627104234,1.2967314166335604,0.2436695236624341,0.7769124747016123,2.2452054275190347,-0.823378225352857,0.9128352696742315,0.35267974946978997,-0.4916034171442968,0.35067090693594716,0.8292806012849196,1.3347709310432276,-0.5373920254195184,-2.112500723883234,-0.7694046864432289,0.7797256904311618,1.765595606686072,3.3627198690793323,-0.3076120808124946,-0.4285964521753026,0.531109847573406,-1.4629177205405783,0.8655379339108681,-0.49880559284931575,-0.47027222429519455,-1.6292499051374218,-0.07509143409175767,-1.0138651146690272,0.031127129211921862,-0.21735199281501266,0.02340260280010591,0.1357923014492216,-0.5432535568717444,2.287360729985298,-0.5650535168514119,0.3144488908793118,0.7106693119223403,-0.5269749040598086],\"y\":[-0.16272276040128936,0.7044986616881509,-3.1681590356748073,-0.4672001763129714,-0.31376620799253974,-0.5060581049498075,0.2704134271091462,-1.0229185417941054,-0.4961033903517738,0.6558721387107035,1.29186875327626,-1.5228271863433263,0.2346838303022486,-0.3539977200915892,1.1691767623198108,-0.15996799072360515,0.5835225744706318,0.2826237194233615,1.0659972007300325,-0.3879827255662256,-0.062233085977681166,-1.9704497431985206,-0.4323527048118112,-1.4209748903881405,-0.39646952828904025,-0.5330063251499289,0.6679417308521448,-0.52687230266114,-0.29564344639543116,-1.1788525999577755,-0.28200650244590725,-1.348594908250399,0.46037407721809376,-1.661032228224993,-0.8521494244571879,0.8418282719092218,-0.030946699555730282,0.8745270526457853,0.9236753971552883,0.002520505287537238,-0.6280134473910527,0.053418733854069776,-0.7099950695826408,0.45411841071298126,-0.1140285667950381,0.06784634512858456,0.9151555874440334,-1.0518497119831198,-0.8695055022189785,0.3636477438583736,-0.5758866931978616,-2.7048446150366017,0.053486454456806755,0.19709604180075288,-0.10599409895899331,1.289887828418673,0.2300267525465255,-0.7113701904602237,0.26506560404880775,-1.012652872010664,0.15135646644187953,0.5799854650566798,1.0887180107837493,1.4914586766891302,0.3672033428097803,1.1058459674371697,-1.1037543094206794,-0.7727398887207035,-0.256736556836982,-1.2056500675059685,-2.255492532473808,-0.4891770094355169,0.21185992687337646,1.6267167557827436,1.3624949864552849,0.5159284067924745,0.35663638396301744,-0.2104491465765928,0.28703359748779417,0.18707846870748404,0.9973777188764106,-0.11279170657735568,-0.3733935424177511,-0.964577374165736,0.07320496681842414,1.4354674409574493,0.35705828540155327,-0.26255279221395544,0.05764879251803963,-0.4479876335172284,-1.2406167000734456,-0.24554362450471798,0.2675657513139322,0.48698843493522,0.8717286775220626,0.38367709472602407,0.4869880369464998,-0.18782178877356678,1.1980849722535623,0.6852752458776807],\"type\":\"scatter\"}],                        {\"legend\":{\"bgcolor\":\"#F5F6F9\",\"font\":{\"color\":\"#4D5663\"}},\"paper_bgcolor\":\"#F5F6F9\",\"plot_bgcolor\":\"#F5F6F9\",\"template\":{\"data\":{\"barpolar\":[{\"marker\":{\"line\":{\"color\":\"#E5ECF6\",\"width\":0.5},\"pattern\":{\"fillmode\":\"overlay\",\"size\":10,\"solidity\":0.2}},\"type\":\"barpolar\"}],\"bar\":[{\"error_x\":{\"color\":\"#2a3f5f\"},\"error_y\":{\"color\":\"#2a3f5f\"},\"marker\":{\"line\":{\"color\":\"#E5ECF6\",\"width\":0.5},\"pattern\":{\"fillmode\":\"overlay\",\"size\":10,\"solidity\":0.2}},\"type\":\"bar\"}],\"carpet\":[{\"aaxis\":{\"endlinecolor\":\"#2a3f5f\",\"gridcolor\":\"white\",\"linecolor\":\"white\",\"minorgridcolor\":\"white\",\"startlinecolor\":\"#2a3f5f\"},\"baxis\":{\"endlinecolor\":\"#2a3f5f\",\"gridcolor\":\"white\",\"linecolor\":\"white\",\"minorgridcolor\":\"white\",\"startlinecolor\":\"#2a3f5f\"},\"type\":\"carpet\"}],\"choropleth\":[{\"colorbar\":{\"outlinewidth\":0,\"ticks\":\"\"},\"type\":\"choropleth\"}],\"contourcarpet\":[{\"colorbar\":{\"outlinewidth\":0,\"ticks\":\"\"},\"type\":\"contourcarpet\"}],\"contour\":[{\"colorbar\":{\"outlinewidth\":0,\"ticks\":\"\"},\"colorscale\":[[0.0,\"#0d0887\"],[0.1111111111111111,\"#46039f\"],[0.2222222222222222,\"#7201a8\"],[0.3333333333333333,\"#9c179e\"],[0.4444444444444444,\"#bd3786\"],[0.5555555555555556,\"#d8576b\"],[0.6666666666666666,\"#ed7953\"],[0.7777777777777778,\"#fb9f3a\"],[0.8888888888888888,\"#fdca26\"],[1.0,\"#f0f921\"]],\"type\":\"contour\"}],\"heatmapgl\":[{\"colorbar\":{\"outlinewidth\":0,\"ticks\":\"\"},\"colorscale\":[[0.0,\"#0d0887\"],[0.1111111111111111,\"#46039f\"],[0.2222222222222222,\"#7201a8\"],[0.3333333333333333,\"#9c179e\"],[0.4444444444444444,\"#bd3786\"],[0.5555555555555556,\"#d8576b\"],[0.6666666666666666,\"#ed7953\"],[0.7777777777777778,\"#fb9f3a\"],[0.8888888888888888,\"#fdca26\"],[1.0,\"#f0f921\"]],\"type\":\"heatmapgl\"}],\"heatmap\":[{\"colorbar\":{\"outlinewidth\":0,\"ticks\":\"\"},\"colorscale\":[[0.0,\"#0d0887\"],[0.1111111111111111,\"#46039f\"],[0.2222222222222222,\"#7201a8\"],[0.3333333333333333,\"#9c179e\"],[0.4444444444444444,\"#bd3786\"],[0.5555555555555556,\"#d8576b\"],[0.6666666666666666,\"#ed7953\"],[0.7777777777777778,\"#fb9f3a\"],[0.8888888888888888,\"#fdca26\"],[1.0,\"#f0f921\"]],\"type\":\"heatmap\"}],\"histogram2dcontour\":[{\"colorbar\":{\"outlinewidth\":0,\"ticks\":\"\"},\"colorscale\":[[0.0,\"#0d0887\"],[0.1111111111111111,\"#46039f\"],[0.2222222222222222,\"#7201a8\"],[0.3333333333333333,\"#9c179e\"],[0.4444444444444444,\"#bd3786\"],[0.5555555555555556,\"#d8576b\"],[0.6666666666666666,\"#ed7953\"],[0.7777777777777778,\"#fb9f3a\"],[0.8888888888888888,\"#fdca26\"],[1.0,\"#f0f921\"]],\"type\":\"histogram2dcontour\"}],\"histogram2d\":[{\"colorbar\":{\"outlinewidth\":0,\"ticks\":\"\"},\"colorscale\":[[0.0,\"#0d0887\"],[0.1111111111111111,\"#46039f\"],[0.2222222222222222,\"#7201a8\"],[0.3333333333333333,\"#9c179e\"],[0.4444444444444444,\"#bd3786\"],[0.5555555555555556,\"#d8576b\"],[0.6666666666666666,\"#ed7953\"],[0.7777777777777778,\"#fb9f3a\"],[0.8888888888888888,\"#fdca26\"],[1.0,\"#f0f921\"]],\"type\":\"histogram2d\"}],\"histogram\":[{\"marker\":{\"pattern\":{\"fillmode\":\"overlay\",\"size\":10,\"solidity\":0.2}},\"type\":\"histogram\"}],\"mesh3d\":[{\"colorbar\":{\"outlinewidth\":0,\"ticks\":\"\"},\"type\":\"mesh3d\"}],\"parcoords\":[{\"line\":{\"colorbar\":{\"outlinewidth\":0,\"ticks\":\"\"}},\"type\":\"parcoords\"}],\"pie\":[{\"automargin\":true,\"type\":\"pie\"}],\"scatter3d\":[{\"line\":{\"colorbar\":{\"outlinewidth\":0,\"ticks\":\"\"}},\"marker\":{\"colorbar\":{\"outlinewidth\":0,\"ticks\":\"\"}},\"type\":\"scatter3d\"}],\"scattercarpet\":[{\"marker\":{\"colorbar\":{\"outlinewidth\":0,\"ticks\":\"\"}},\"type\":\"scattercarpet\"}],\"scattergeo\":[{\"marker\":{\"colorbar\":{\"outlinewidth\":0,\"ticks\":\"\"}},\"type\":\"scattergeo\"}],\"scattergl\":[{\"marker\":{\"colorbar\":{\"outlinewidth\":0,\"ticks\":\"\"}},\"type\":\"scattergl\"}],\"scattermapbox\":[{\"marker\":{\"colorbar\":{\"outlinewidth\":0,\"ticks\":\"\"}},\"type\":\"scattermapbox\"}],\"scatterpolargl\":[{\"marker\":{\"colorbar\":{\"outlinewidth\":0,\"ticks\":\"\"}},\"type\":\"scatterpolargl\"}],\"scatterpolar\":[{\"marker\":{\"colorbar\":{\"outlinewidth\":0,\"ticks\":\"\"}},\"type\":\"scatterpolar\"}],\"scatter\":[{\"fillpattern\":{\"fillmode\":\"overlay\",\"size\":10,\"solidity\":0.2},\"type\":\"scatter\"}],\"scatterternary\":[{\"marker\":{\"colorbar\":{\"outlinewidth\":0,\"ticks\":\"\"}},\"type\":\"scatterternary\"}],\"surface\":[{\"colorbar\":{\"outlinewidth\":0,\"ticks\":\"\"},\"colorscale\":[[0.0,\"#0d0887\"],[0.1111111111111111,\"#46039f\"],[0.2222222222222222,\"#7201a8\"],[0.3333333333333333,\"#9c179e\"],[0.4444444444444444,\"#bd3786\"],[0.5555555555555556,\"#d8576b\"],[0.6666666666666666,\"#ed7953\"],[0.7777777777777778,\"#fb9f3a\"],[0.8888888888888888,\"#fdca26\"],[1.0,\"#f0f921\"]],\"type\":\"surface\"}],\"table\":[{\"cells\":{\"fill\":{\"color\":\"#EBF0F8\"},\"line\":{\"color\":\"white\"}},\"header\":{\"fill\":{\"color\":\"#C8D4E3\"},\"line\":{\"color\":\"white\"}},\"type\":\"table\"}]},\"layout\":{\"annotationdefaults\":{\"arrowcolor\":\"#2a3f5f\",\"arrowhead\":0,\"arrowwidth\":1},\"autotypenumbers\":\"strict\",\"coloraxis\":{\"colorbar\":{\"outlinewidth\":0,\"ticks\":\"\"}},\"colorscale\":{\"diverging\":[[0,\"#8e0152\"],[0.1,\"#c51b7d\"],[0.2,\"#de77ae\"],[0.3,\"#f1b6da\"],[0.4,\"#fde0ef\"],[0.5,\"#f7f7f7\"],[0.6,\"#e6f5d0\"],[0.7,\"#b8e186\"],[0.8,\"#7fbc41\"],[0.9,\"#4d9221\"],[1,\"#276419\"]],\"sequential\":[[0.0,\"#0d0887\"],[0.1111111111111111,\"#46039f\"],[0.2222222222222222,\"#7201a8\"],[0.3333333333333333,\"#9c179e\"],[0.4444444444444444,\"#bd3786\"],[0.5555555555555556,\"#d8576b\"],[0.6666666666666666,\"#ed7953\"],[0.7777777777777778,\"#fb9f3a\"],[0.8888888888888888,\"#fdca26\"],[1.0,\"#f0f921\"]],\"sequentialminus\":[[0.0,\"#0d0887\"],[0.1111111111111111,\"#46039f\"],[0.2222222222222222,\"#7201a8\"],[0.3333333333333333,\"#9c179e\"],[0.4444444444444444,\"#bd3786\"],[0.5555555555555556,\"#d8576b\"],[0.6666666666666666,\"#ed7953\"],[0.7777777777777778,\"#fb9f3a\"],[0.8888888888888888,\"#fdca26\"],[1.0,\"#f0f921\"]]},\"colorway\":[\"#636efa\",\"#EF553B\",\"#00cc96\",\"#ab63fa\",\"#FFA15A\",\"#19d3f3\",\"#FF6692\",\"#B6E880\",\"#FF97FF\",\"#FECB52\"],\"font\":{\"color\":\"#2a3f5f\"},\"geo\":{\"bgcolor\":\"white\",\"lakecolor\":\"white\",\"landcolor\":\"#E5ECF6\",\"showlakes\":true,\"showland\":true,\"subunitcolor\":\"white\"},\"hoverlabel\":{\"align\":\"left\"},\"hovermode\":\"closest\",\"mapbox\":{\"style\":\"light\"},\"paper_bgcolor\":\"white\",\"plot_bgcolor\":\"#E5ECF6\",\"polar\":{\"angularaxis\":{\"gridcolor\":\"white\",\"linecolor\":\"white\",\"ticks\":\"\"},\"bgcolor\":\"#E5ECF6\",\"radialaxis\":{\"gridcolor\":\"white\",\"linecolor\":\"white\",\"ticks\":\"\"}},\"scene\":{\"xaxis\":{\"backgroundcolor\":\"#E5ECF6\",\"gridcolor\":\"white\",\"gridwidth\":2,\"linecolor\":\"white\",\"showbackground\":true,\"ticks\":\"\",\"zerolinecolor\":\"white\"},\"yaxis\":{\"backgroundcolor\":\"#E5ECF6\",\"gridcolor\":\"white\",\"gridwidth\":2,\"linecolor\":\"white\",\"showbackground\":true,\"ticks\":\"\",\"zerolinecolor\":\"white\"},\"zaxis\":{\"backgroundcolor\":\"#E5ECF6\",\"gridcolor\":\"white\",\"gridwidth\":2,\"linecolor\":\"white\",\"showbackground\":true,\"ticks\":\"\",\"zerolinecolor\":\"white\"}},\"shapedefaults\":{\"line\":{\"color\":\"#2a3f5f\"}},\"ternary\":{\"aaxis\":{\"gridcolor\":\"white\",\"linecolor\":\"white\",\"ticks\":\"\"},\"baxis\":{\"gridcolor\":\"white\",\"linecolor\":\"white\",\"ticks\":\"\"},\"bgcolor\":\"#E5ECF6\",\"caxis\":{\"gridcolor\":\"white\",\"linecolor\":\"white\",\"ticks\":\"\"}},\"title\":{\"x\":0.05},\"xaxis\":{\"automargin\":true,\"gridcolor\":\"white\",\"linecolor\":\"white\",\"ticks\":\"\",\"title\":{\"standoff\":15},\"zerolinecolor\":\"white\",\"zerolinewidth\":2},\"yaxis\":{\"automargin\":true,\"gridcolor\":\"white\",\"linecolor\":\"white\",\"ticks\":\"\",\"title\":{\"standoff\":15},\"zerolinecolor\":\"white\",\"zerolinewidth\":2}}},\"title\":{\"font\":{\"color\":\"#4D5663\"}},\"xaxis\":{\"gridcolor\":\"#E1E5ED\",\"showgrid\":true,\"tickfont\":{\"color\":\"#4D5663\"},\"title\":{\"font\":{\"color\":\"#4D5663\"},\"text\":\"\"},\"zerolinecolor\":\"#E1E5ED\"},\"yaxis\":{\"gridcolor\":\"#E1E5ED\",\"showgrid\":true,\"tickfont\":{\"color\":\"#4D5663\"},\"title\":{\"font\":{\"color\":\"#4D5663\"},\"text\":\"\"},\"zerolinecolor\":\"#E1E5ED\"}},                        {\"showLink\": true, \"linkText\": \"Export to plot.ly\", \"plotlyServerURL\": \"https://plot.ly\", \"responsive\": true}                    ).then(function(){\n",
       "                            \n",
       "var gd = document.getElementById('43367136-4f17-4c92-bfb6-761b410b92f3');\n",
       "var x = new MutationObserver(function (mutations, observer) {{\n",
       "        var display = window.getComputedStyle(gd).display;\n",
       "        if (!display || display === 'none') {{\n",
       "            console.log([gd, 'removed!']);\n",
       "            Plotly.purge(gd);\n",
       "            observer.disconnect();\n",
       "        }}\n",
       "}});\n",
       "\n",
       "// Listen for the removal of the full notebook cells\n",
       "var notebookContainer = gd.closest('#notebook-container');\n",
       "if (notebookContainer) {{\n",
       "    x.observe(notebookContainer, {childList: true});\n",
       "}}\n",
       "\n",
       "// Listen for the clearing of the current output cell\n",
       "var outputEl = gd.closest('.output');\n",
       "if (outputEl) {{\n",
       "    x.observe(outputEl, {childList: true});\n",
       "}}\n",
       "\n",
       "                        })                };                });            </script>        </div>"
      ]
     },
     "metadata": {},
     "output_type": "display_data"
    }
   ],
   "source": [
    "df.iplot(kind=\"scatter\", x= \"A\", y= \"B\", mode=\"markers\", size= 15)"
   ]
  },
  {
   "cell_type": "code",
   "execution_count": 80,
   "metadata": {},
   "outputs": [
    {
     "data": {
      "text/html": [
       "<div>\n",
       "<style scoped>\n",
       "    .dataframe tbody tr th:only-of-type {\n",
       "        vertical-align: middle;\n",
       "    }\n",
       "\n",
       "    .dataframe tbody tr th {\n",
       "        vertical-align: top;\n",
       "    }\n",
       "\n",
       "    .dataframe thead th {\n",
       "        text-align: right;\n",
       "    }\n",
       "</style>\n",
       "<table border=\"1\" class=\"dataframe\">\n",
       "  <thead>\n",
       "    <tr style=\"text-align: right;\">\n",
       "      <th></th>\n",
       "      <th>A</th>\n",
       "      <th>B</th>\n",
       "      <th>C</th>\n",
       "      <th>D</th>\n",
       "    </tr>\n",
       "  </thead>\n",
       "  <tbody>\n",
       "    <tr>\n",
       "      <th>0</th>\n",
       "      <td>1.271671</td>\n",
       "      <td>-0.162723</td>\n",
       "      <td>-1.127273</td>\n",
       "      <td>-0.330240</td>\n",
       "    </tr>\n",
       "    <tr>\n",
       "      <th>1</th>\n",
       "      <td>-2.172409</td>\n",
       "      <td>0.704499</td>\n",
       "      <td>0.465119</td>\n",
       "      <td>-0.252303</td>\n",
       "    </tr>\n",
       "    <tr>\n",
       "      <th>2</th>\n",
       "      <td>1.785437</td>\n",
       "      <td>-3.168159</td>\n",
       "      <td>-1.445435</td>\n",
       "      <td>-0.261805</td>\n",
       "    </tr>\n",
       "    <tr>\n",
       "      <th>3</th>\n",
       "      <td>1.579971</td>\n",
       "      <td>-0.467200</td>\n",
       "      <td>1.027908</td>\n",
       "      <td>-0.972400</td>\n",
       "    </tr>\n",
       "    <tr>\n",
       "      <th>4</th>\n",
       "      <td>0.517145</td>\n",
       "      <td>-0.313766</td>\n",
       "      <td>1.159730</td>\n",
       "      <td>1.193825</td>\n",
       "    </tr>\n",
       "    <tr>\n",
       "      <th>...</th>\n",
       "      <td>...</td>\n",
       "      <td>...</td>\n",
       "      <td>...</td>\n",
       "      <td>...</td>\n",
       "    </tr>\n",
       "    <tr>\n",
       "      <th>95</th>\n",
       "      <td>2.287361</td>\n",
       "      <td>0.383677</td>\n",
       "      <td>-0.825012</td>\n",
       "      <td>-0.404975</td>\n",
       "    </tr>\n",
       "    <tr>\n",
       "      <th>96</th>\n",
       "      <td>-0.565054</td>\n",
       "      <td>0.486988</td>\n",
       "      <td>0.317968</td>\n",
       "      <td>2.062921</td>\n",
       "    </tr>\n",
       "    <tr>\n",
       "      <th>97</th>\n",
       "      <td>0.314449</td>\n",
       "      <td>-0.187822</td>\n",
       "      <td>1.712006</td>\n",
       "      <td>-1.339568</td>\n",
       "    </tr>\n",
       "    <tr>\n",
       "      <th>98</th>\n",
       "      <td>0.710669</td>\n",
       "      <td>1.198085</td>\n",
       "      <td>2.399034</td>\n",
       "      <td>0.425149</td>\n",
       "    </tr>\n",
       "    <tr>\n",
       "      <th>99</th>\n",
       "      <td>-0.526975</td>\n",
       "      <td>0.685275</td>\n",
       "      <td>1.084630</td>\n",
       "      <td>-2.006034</td>\n",
       "    </tr>\n",
       "  </tbody>\n",
       "</table>\n",
       "<p>100 rows × 4 columns</p>\n",
       "</div>"
      ],
      "text/plain": [
       "           A         B         C         D\n",
       "0   1.271671 -0.162723 -1.127273 -0.330240\n",
       "1  -2.172409  0.704499  0.465119 -0.252303\n",
       "2   1.785437 -3.168159 -1.445435 -0.261805\n",
       "3   1.579971 -0.467200  1.027908 -0.972400\n",
       "4   0.517145 -0.313766  1.159730  1.193825\n",
       "..       ...       ...       ...       ...\n",
       "95  2.287361  0.383677 -0.825012 -0.404975\n",
       "96 -0.565054  0.486988  0.317968  2.062921\n",
       "97  0.314449 -0.187822  1.712006 -1.339568\n",
       "98  0.710669  1.198085  2.399034  0.425149\n",
       "99 -0.526975  0.685275  1.084630 -2.006034\n",
       "\n",
       "[100 rows x 4 columns]"
      ]
     },
     "execution_count": 80,
     "metadata": {},
     "output_type": "execute_result"
    }
   ],
   "source": [
    "df"
   ]
  },
  {
   "cell_type": "code",
   "execution_count": 81,
   "metadata": {},
   "outputs": [
    {
     "data": {
      "application/vnd.plotly.v1+json": {
       "config": {
        "linkText": "Export to plot.ly",
        "plotlyServerURL": "https://plot.ly",
        "showLink": true
       },
       "data": [
        {
         "marker": {
          "color": "rgba(255, 153, 51, 0.6)",
          "line": {
           "color": "rgba(255, 153, 51, 1.0)",
           "width": 1
          }
         },
         "name": "values",
         "orientation": "v",
         "text": "",
         "type": "bar",
         "x": [
          "A",
          "B",
          "C"
         ],
         "y": [
          32,
          43,
          50
         ]
        }
       ],
       "layout": {
        "legend": {
         "bgcolor": "#F5F6F9",
         "font": {
          "color": "#4D5663"
         }
        },
        "paper_bgcolor": "#F5F6F9",
        "plot_bgcolor": "#F5F6F9",
        "template": {
         "data": {
          "bar": [
           {
            "error_x": {
             "color": "#2a3f5f"
            },
            "error_y": {
             "color": "#2a3f5f"
            },
            "marker": {
             "line": {
              "color": "#E5ECF6",
              "width": 0.5
             },
             "pattern": {
              "fillmode": "overlay",
              "size": 10,
              "solidity": 0.2
             }
            },
            "type": "bar"
           }
          ],
          "barpolar": [
           {
            "marker": {
             "line": {
              "color": "#E5ECF6",
              "width": 0.5
             },
             "pattern": {
              "fillmode": "overlay",
              "size": 10,
              "solidity": 0.2
             }
            },
            "type": "barpolar"
           }
          ],
          "carpet": [
           {
            "aaxis": {
             "endlinecolor": "#2a3f5f",
             "gridcolor": "white",
             "linecolor": "white",
             "minorgridcolor": "white",
             "startlinecolor": "#2a3f5f"
            },
            "baxis": {
             "endlinecolor": "#2a3f5f",
             "gridcolor": "white",
             "linecolor": "white",
             "minorgridcolor": "white",
             "startlinecolor": "#2a3f5f"
            },
            "type": "carpet"
           }
          ],
          "choropleth": [
           {
            "colorbar": {
             "outlinewidth": 0,
             "ticks": ""
            },
            "type": "choropleth"
           }
          ],
          "contour": [
           {
            "colorbar": {
             "outlinewidth": 0,
             "ticks": ""
            },
            "colorscale": [
             [
              0,
              "#0d0887"
             ],
             [
              0.1111111111111111,
              "#46039f"
             ],
             [
              0.2222222222222222,
              "#7201a8"
             ],
             [
              0.3333333333333333,
              "#9c179e"
             ],
             [
              0.4444444444444444,
              "#bd3786"
             ],
             [
              0.5555555555555556,
              "#d8576b"
             ],
             [
              0.6666666666666666,
              "#ed7953"
             ],
             [
              0.7777777777777778,
              "#fb9f3a"
             ],
             [
              0.8888888888888888,
              "#fdca26"
             ],
             [
              1,
              "#f0f921"
             ]
            ],
            "type": "contour"
           }
          ],
          "contourcarpet": [
           {
            "colorbar": {
             "outlinewidth": 0,
             "ticks": ""
            },
            "type": "contourcarpet"
           }
          ],
          "heatmap": [
           {
            "colorbar": {
             "outlinewidth": 0,
             "ticks": ""
            },
            "colorscale": [
             [
              0,
              "#0d0887"
             ],
             [
              0.1111111111111111,
              "#46039f"
             ],
             [
              0.2222222222222222,
              "#7201a8"
             ],
             [
              0.3333333333333333,
              "#9c179e"
             ],
             [
              0.4444444444444444,
              "#bd3786"
             ],
             [
              0.5555555555555556,
              "#d8576b"
             ],
             [
              0.6666666666666666,
              "#ed7953"
             ],
             [
              0.7777777777777778,
              "#fb9f3a"
             ],
             [
              0.8888888888888888,
              "#fdca26"
             ],
             [
              1,
              "#f0f921"
             ]
            ],
            "type": "heatmap"
           }
          ],
          "heatmapgl": [
           {
            "colorbar": {
             "outlinewidth": 0,
             "ticks": ""
            },
            "colorscale": [
             [
              0,
              "#0d0887"
             ],
             [
              0.1111111111111111,
              "#46039f"
             ],
             [
              0.2222222222222222,
              "#7201a8"
             ],
             [
              0.3333333333333333,
              "#9c179e"
             ],
             [
              0.4444444444444444,
              "#bd3786"
             ],
             [
              0.5555555555555556,
              "#d8576b"
             ],
             [
              0.6666666666666666,
              "#ed7953"
             ],
             [
              0.7777777777777778,
              "#fb9f3a"
             ],
             [
              0.8888888888888888,
              "#fdca26"
             ],
             [
              1,
              "#f0f921"
             ]
            ],
            "type": "heatmapgl"
           }
          ],
          "histogram": [
           {
            "marker": {
             "pattern": {
              "fillmode": "overlay",
              "size": 10,
              "solidity": 0.2
             }
            },
            "type": "histogram"
           }
          ],
          "histogram2d": [
           {
            "colorbar": {
             "outlinewidth": 0,
             "ticks": ""
            },
            "colorscale": [
             [
              0,
              "#0d0887"
             ],
             [
              0.1111111111111111,
              "#46039f"
             ],
             [
              0.2222222222222222,
              "#7201a8"
             ],
             [
              0.3333333333333333,
              "#9c179e"
             ],
             [
              0.4444444444444444,
              "#bd3786"
             ],
             [
              0.5555555555555556,
              "#d8576b"
             ],
             [
              0.6666666666666666,
              "#ed7953"
             ],
             [
              0.7777777777777778,
              "#fb9f3a"
             ],
             [
              0.8888888888888888,
              "#fdca26"
             ],
             [
              1,
              "#f0f921"
             ]
            ],
            "type": "histogram2d"
           }
          ],
          "histogram2dcontour": [
           {
            "colorbar": {
             "outlinewidth": 0,
             "ticks": ""
            },
            "colorscale": [
             [
              0,
              "#0d0887"
             ],
             [
              0.1111111111111111,
              "#46039f"
             ],
             [
              0.2222222222222222,
              "#7201a8"
             ],
             [
              0.3333333333333333,
              "#9c179e"
             ],
             [
              0.4444444444444444,
              "#bd3786"
             ],
             [
              0.5555555555555556,
              "#d8576b"
             ],
             [
              0.6666666666666666,
              "#ed7953"
             ],
             [
              0.7777777777777778,
              "#fb9f3a"
             ],
             [
              0.8888888888888888,
              "#fdca26"
             ],
             [
              1,
              "#f0f921"
             ]
            ],
            "type": "histogram2dcontour"
           }
          ],
          "mesh3d": [
           {
            "colorbar": {
             "outlinewidth": 0,
             "ticks": ""
            },
            "type": "mesh3d"
           }
          ],
          "parcoords": [
           {
            "line": {
             "colorbar": {
              "outlinewidth": 0,
              "ticks": ""
             }
            },
            "type": "parcoords"
           }
          ],
          "pie": [
           {
            "automargin": true,
            "type": "pie"
           }
          ],
          "scatter": [
           {
            "fillpattern": {
             "fillmode": "overlay",
             "size": 10,
             "solidity": 0.2
            },
            "type": "scatter"
           }
          ],
          "scatter3d": [
           {
            "line": {
             "colorbar": {
              "outlinewidth": 0,
              "ticks": ""
             }
            },
            "marker": {
             "colorbar": {
              "outlinewidth": 0,
              "ticks": ""
             }
            },
            "type": "scatter3d"
           }
          ],
          "scattercarpet": [
           {
            "marker": {
             "colorbar": {
              "outlinewidth": 0,
              "ticks": ""
             }
            },
            "type": "scattercarpet"
           }
          ],
          "scattergeo": [
           {
            "marker": {
             "colorbar": {
              "outlinewidth": 0,
              "ticks": ""
             }
            },
            "type": "scattergeo"
           }
          ],
          "scattergl": [
           {
            "marker": {
             "colorbar": {
              "outlinewidth": 0,
              "ticks": ""
             }
            },
            "type": "scattergl"
           }
          ],
          "scattermapbox": [
           {
            "marker": {
             "colorbar": {
              "outlinewidth": 0,
              "ticks": ""
             }
            },
            "type": "scattermapbox"
           }
          ],
          "scatterpolar": [
           {
            "marker": {
             "colorbar": {
              "outlinewidth": 0,
              "ticks": ""
             }
            },
            "type": "scatterpolar"
           }
          ],
          "scatterpolargl": [
           {
            "marker": {
             "colorbar": {
              "outlinewidth": 0,
              "ticks": ""
             }
            },
            "type": "scatterpolargl"
           }
          ],
          "scatterternary": [
           {
            "marker": {
             "colorbar": {
              "outlinewidth": 0,
              "ticks": ""
             }
            },
            "type": "scatterternary"
           }
          ],
          "surface": [
           {
            "colorbar": {
             "outlinewidth": 0,
             "ticks": ""
            },
            "colorscale": [
             [
              0,
              "#0d0887"
             ],
             [
              0.1111111111111111,
              "#46039f"
             ],
             [
              0.2222222222222222,
              "#7201a8"
             ],
             [
              0.3333333333333333,
              "#9c179e"
             ],
             [
              0.4444444444444444,
              "#bd3786"
             ],
             [
              0.5555555555555556,
              "#d8576b"
             ],
             [
              0.6666666666666666,
              "#ed7953"
             ],
             [
              0.7777777777777778,
              "#fb9f3a"
             ],
             [
              0.8888888888888888,
              "#fdca26"
             ],
             [
              1,
              "#f0f921"
             ]
            ],
            "type": "surface"
           }
          ],
          "table": [
           {
            "cells": {
             "fill": {
              "color": "#EBF0F8"
             },
             "line": {
              "color": "white"
             }
            },
            "header": {
             "fill": {
              "color": "#C8D4E3"
             },
             "line": {
              "color": "white"
             }
            },
            "type": "table"
           }
          ]
         },
         "layout": {
          "annotationdefaults": {
           "arrowcolor": "#2a3f5f",
           "arrowhead": 0,
           "arrowwidth": 1
          },
          "autotypenumbers": "strict",
          "coloraxis": {
           "colorbar": {
            "outlinewidth": 0,
            "ticks": ""
           }
          },
          "colorscale": {
           "diverging": [
            [
             0,
             "#8e0152"
            ],
            [
             0.1,
             "#c51b7d"
            ],
            [
             0.2,
             "#de77ae"
            ],
            [
             0.3,
             "#f1b6da"
            ],
            [
             0.4,
             "#fde0ef"
            ],
            [
             0.5,
             "#f7f7f7"
            ],
            [
             0.6,
             "#e6f5d0"
            ],
            [
             0.7,
             "#b8e186"
            ],
            [
             0.8,
             "#7fbc41"
            ],
            [
             0.9,
             "#4d9221"
            ],
            [
             1,
             "#276419"
            ]
           ],
           "sequential": [
            [
             0,
             "#0d0887"
            ],
            [
             0.1111111111111111,
             "#46039f"
            ],
            [
             0.2222222222222222,
             "#7201a8"
            ],
            [
             0.3333333333333333,
             "#9c179e"
            ],
            [
             0.4444444444444444,
             "#bd3786"
            ],
            [
             0.5555555555555556,
             "#d8576b"
            ],
            [
             0.6666666666666666,
             "#ed7953"
            ],
            [
             0.7777777777777778,
             "#fb9f3a"
            ],
            [
             0.8888888888888888,
             "#fdca26"
            ],
            [
             1,
             "#f0f921"
            ]
           ],
           "sequentialminus": [
            [
             0,
             "#0d0887"
            ],
            [
             0.1111111111111111,
             "#46039f"
            ],
            [
             0.2222222222222222,
             "#7201a8"
            ],
            [
             0.3333333333333333,
             "#9c179e"
            ],
            [
             0.4444444444444444,
             "#bd3786"
            ],
            [
             0.5555555555555556,
             "#d8576b"
            ],
            [
             0.6666666666666666,
             "#ed7953"
            ],
            [
             0.7777777777777778,
             "#fb9f3a"
            ],
            [
             0.8888888888888888,
             "#fdca26"
            ],
            [
             1,
             "#f0f921"
            ]
           ]
          },
          "colorway": [
           "#636efa",
           "#EF553B",
           "#00cc96",
           "#ab63fa",
           "#FFA15A",
           "#19d3f3",
           "#FF6692",
           "#B6E880",
           "#FF97FF",
           "#FECB52"
          ],
          "font": {
           "color": "#2a3f5f"
          },
          "geo": {
           "bgcolor": "white",
           "lakecolor": "white",
           "landcolor": "#E5ECF6",
           "showlakes": true,
           "showland": true,
           "subunitcolor": "white"
          },
          "hoverlabel": {
           "align": "left"
          },
          "hovermode": "closest",
          "mapbox": {
           "style": "light"
          },
          "paper_bgcolor": "white",
          "plot_bgcolor": "#E5ECF6",
          "polar": {
           "angularaxis": {
            "gridcolor": "white",
            "linecolor": "white",
            "ticks": ""
           },
           "bgcolor": "#E5ECF6",
           "radialaxis": {
            "gridcolor": "white",
            "linecolor": "white",
            "ticks": ""
           }
          },
          "scene": {
           "xaxis": {
            "backgroundcolor": "#E5ECF6",
            "gridcolor": "white",
            "gridwidth": 2,
            "linecolor": "white",
            "showbackground": true,
            "ticks": "",
            "zerolinecolor": "white"
           },
           "yaxis": {
            "backgroundcolor": "#E5ECF6",
            "gridcolor": "white",
            "gridwidth": 2,
            "linecolor": "white",
            "showbackground": true,
            "ticks": "",
            "zerolinecolor": "white"
           },
           "zaxis": {
            "backgroundcolor": "#E5ECF6",
            "gridcolor": "white",
            "gridwidth": 2,
            "linecolor": "white",
            "showbackground": true,
            "ticks": "",
            "zerolinecolor": "white"
           }
          },
          "shapedefaults": {
           "line": {
            "color": "#2a3f5f"
           }
          },
          "ternary": {
           "aaxis": {
            "gridcolor": "white",
            "linecolor": "white",
            "ticks": ""
           },
           "baxis": {
            "gridcolor": "white",
            "linecolor": "white",
            "ticks": ""
           },
           "bgcolor": "#E5ECF6",
           "caxis": {
            "gridcolor": "white",
            "linecolor": "white",
            "ticks": ""
           }
          },
          "title": {
           "x": 0.05
          },
          "xaxis": {
           "automargin": true,
           "gridcolor": "white",
           "linecolor": "white",
           "ticks": "",
           "title": {
            "standoff": 15
           },
           "zerolinecolor": "white",
           "zerolinewidth": 2
          },
          "yaxis": {
           "automargin": true,
           "gridcolor": "white",
           "linecolor": "white",
           "ticks": "",
           "title": {
            "standoff": 15
           },
           "zerolinecolor": "white",
           "zerolinewidth": 2
          }
         }
        },
        "title": {
         "font": {
          "color": "#4D5663"
         }
        },
        "xaxis": {
         "gridcolor": "#E1E5ED",
         "showgrid": true,
         "tickfont": {
          "color": "#4D5663"
         },
         "title": {
          "font": {
           "color": "#4D5663"
          },
          "text": ""
         },
         "zerolinecolor": "#E1E5ED"
        },
        "yaxis": {
         "gridcolor": "#E1E5ED",
         "showgrid": true,
         "tickfont": {
          "color": "#4D5663"
         },
         "title": {
          "font": {
           "color": "#4D5663"
          },
          "text": ""
         },
         "zerolinecolor": "#E1E5ED"
        }
       }
      },
      "text/html": [
       "<div>                            <div id=\"1a260f39-ec74-4da6-ab21-64588ea4d829\" class=\"plotly-graph-div\" style=\"height:525px; width:100%;\"></div>            <script type=\"text/javascript\">                require([\"plotly\"], function(Plotly) {                    window.PLOTLYENV=window.PLOTLYENV || {};\n",
       "                    window.PLOTLYENV.BASE_URL='https://plot.ly';                                    if (document.getElementById(\"1a260f39-ec74-4da6-ab21-64588ea4d829\")) {                    Plotly.newPlot(                        \"1a260f39-ec74-4da6-ab21-64588ea4d829\",                        [{\"marker\":{\"color\":\"rgba(255, 153, 51, 0.6)\",\"line\":{\"color\":\"rgba(255, 153, 51, 1.0)\",\"width\":1}},\"name\":\"values\",\"orientation\":\"v\",\"text\":\"\",\"x\":[\"A\",\"B\",\"C\"],\"y\":[32,43,50],\"type\":\"bar\"}],                        {\"legend\":{\"bgcolor\":\"#F5F6F9\",\"font\":{\"color\":\"#4D5663\"}},\"paper_bgcolor\":\"#F5F6F9\",\"plot_bgcolor\":\"#F5F6F9\",\"template\":{\"data\":{\"barpolar\":[{\"marker\":{\"line\":{\"color\":\"#E5ECF6\",\"width\":0.5},\"pattern\":{\"fillmode\":\"overlay\",\"size\":10,\"solidity\":0.2}},\"type\":\"barpolar\"}],\"bar\":[{\"error_x\":{\"color\":\"#2a3f5f\"},\"error_y\":{\"color\":\"#2a3f5f\"},\"marker\":{\"line\":{\"color\":\"#E5ECF6\",\"width\":0.5},\"pattern\":{\"fillmode\":\"overlay\",\"size\":10,\"solidity\":0.2}},\"type\":\"bar\"}],\"carpet\":[{\"aaxis\":{\"endlinecolor\":\"#2a3f5f\",\"gridcolor\":\"white\",\"linecolor\":\"white\",\"minorgridcolor\":\"white\",\"startlinecolor\":\"#2a3f5f\"},\"baxis\":{\"endlinecolor\":\"#2a3f5f\",\"gridcolor\":\"white\",\"linecolor\":\"white\",\"minorgridcolor\":\"white\",\"startlinecolor\":\"#2a3f5f\"},\"type\":\"carpet\"}],\"choropleth\":[{\"colorbar\":{\"outlinewidth\":0,\"ticks\":\"\"},\"type\":\"choropleth\"}],\"contourcarpet\":[{\"colorbar\":{\"outlinewidth\":0,\"ticks\":\"\"},\"type\":\"contourcarpet\"}],\"contour\":[{\"colorbar\":{\"outlinewidth\":0,\"ticks\":\"\"},\"colorscale\":[[0.0,\"#0d0887\"],[0.1111111111111111,\"#46039f\"],[0.2222222222222222,\"#7201a8\"],[0.3333333333333333,\"#9c179e\"],[0.4444444444444444,\"#bd3786\"],[0.5555555555555556,\"#d8576b\"],[0.6666666666666666,\"#ed7953\"],[0.7777777777777778,\"#fb9f3a\"],[0.8888888888888888,\"#fdca26\"],[1.0,\"#f0f921\"]],\"type\":\"contour\"}],\"heatmapgl\":[{\"colorbar\":{\"outlinewidth\":0,\"ticks\":\"\"},\"colorscale\":[[0.0,\"#0d0887\"],[0.1111111111111111,\"#46039f\"],[0.2222222222222222,\"#7201a8\"],[0.3333333333333333,\"#9c179e\"],[0.4444444444444444,\"#bd3786\"],[0.5555555555555556,\"#d8576b\"],[0.6666666666666666,\"#ed7953\"],[0.7777777777777778,\"#fb9f3a\"],[0.8888888888888888,\"#fdca26\"],[1.0,\"#f0f921\"]],\"type\":\"heatmapgl\"}],\"heatmap\":[{\"colorbar\":{\"outlinewidth\":0,\"ticks\":\"\"},\"colorscale\":[[0.0,\"#0d0887\"],[0.1111111111111111,\"#46039f\"],[0.2222222222222222,\"#7201a8\"],[0.3333333333333333,\"#9c179e\"],[0.4444444444444444,\"#bd3786\"],[0.5555555555555556,\"#d8576b\"],[0.6666666666666666,\"#ed7953\"],[0.7777777777777778,\"#fb9f3a\"],[0.8888888888888888,\"#fdca26\"],[1.0,\"#f0f921\"]],\"type\":\"heatmap\"}],\"histogram2dcontour\":[{\"colorbar\":{\"outlinewidth\":0,\"ticks\":\"\"},\"colorscale\":[[0.0,\"#0d0887\"],[0.1111111111111111,\"#46039f\"],[0.2222222222222222,\"#7201a8\"],[0.3333333333333333,\"#9c179e\"],[0.4444444444444444,\"#bd3786\"],[0.5555555555555556,\"#d8576b\"],[0.6666666666666666,\"#ed7953\"],[0.7777777777777778,\"#fb9f3a\"],[0.8888888888888888,\"#fdca26\"],[1.0,\"#f0f921\"]],\"type\":\"histogram2dcontour\"}],\"histogram2d\":[{\"colorbar\":{\"outlinewidth\":0,\"ticks\":\"\"},\"colorscale\":[[0.0,\"#0d0887\"],[0.1111111111111111,\"#46039f\"],[0.2222222222222222,\"#7201a8\"],[0.3333333333333333,\"#9c179e\"],[0.4444444444444444,\"#bd3786\"],[0.5555555555555556,\"#d8576b\"],[0.6666666666666666,\"#ed7953\"],[0.7777777777777778,\"#fb9f3a\"],[0.8888888888888888,\"#fdca26\"],[1.0,\"#f0f921\"]],\"type\":\"histogram2d\"}],\"histogram\":[{\"marker\":{\"pattern\":{\"fillmode\":\"overlay\",\"size\":10,\"solidity\":0.2}},\"type\":\"histogram\"}],\"mesh3d\":[{\"colorbar\":{\"outlinewidth\":0,\"ticks\":\"\"},\"type\":\"mesh3d\"}],\"parcoords\":[{\"line\":{\"colorbar\":{\"outlinewidth\":0,\"ticks\":\"\"}},\"type\":\"parcoords\"}],\"pie\":[{\"automargin\":true,\"type\":\"pie\"}],\"scatter3d\":[{\"line\":{\"colorbar\":{\"outlinewidth\":0,\"ticks\":\"\"}},\"marker\":{\"colorbar\":{\"outlinewidth\":0,\"ticks\":\"\"}},\"type\":\"scatter3d\"}],\"scattercarpet\":[{\"marker\":{\"colorbar\":{\"outlinewidth\":0,\"ticks\":\"\"}},\"type\":\"scattercarpet\"}],\"scattergeo\":[{\"marker\":{\"colorbar\":{\"outlinewidth\":0,\"ticks\":\"\"}},\"type\":\"scattergeo\"}],\"scattergl\":[{\"marker\":{\"colorbar\":{\"outlinewidth\":0,\"ticks\":\"\"}},\"type\":\"scattergl\"}],\"scattermapbox\":[{\"marker\":{\"colorbar\":{\"outlinewidth\":0,\"ticks\":\"\"}},\"type\":\"scattermapbox\"}],\"scatterpolargl\":[{\"marker\":{\"colorbar\":{\"outlinewidth\":0,\"ticks\":\"\"}},\"type\":\"scatterpolargl\"}],\"scatterpolar\":[{\"marker\":{\"colorbar\":{\"outlinewidth\":0,\"ticks\":\"\"}},\"type\":\"scatterpolar\"}],\"scatter\":[{\"fillpattern\":{\"fillmode\":\"overlay\",\"size\":10,\"solidity\":0.2},\"type\":\"scatter\"}],\"scatterternary\":[{\"marker\":{\"colorbar\":{\"outlinewidth\":0,\"ticks\":\"\"}},\"type\":\"scatterternary\"}],\"surface\":[{\"colorbar\":{\"outlinewidth\":0,\"ticks\":\"\"},\"colorscale\":[[0.0,\"#0d0887\"],[0.1111111111111111,\"#46039f\"],[0.2222222222222222,\"#7201a8\"],[0.3333333333333333,\"#9c179e\"],[0.4444444444444444,\"#bd3786\"],[0.5555555555555556,\"#d8576b\"],[0.6666666666666666,\"#ed7953\"],[0.7777777777777778,\"#fb9f3a\"],[0.8888888888888888,\"#fdca26\"],[1.0,\"#f0f921\"]],\"type\":\"surface\"}],\"table\":[{\"cells\":{\"fill\":{\"color\":\"#EBF0F8\"},\"line\":{\"color\":\"white\"}},\"header\":{\"fill\":{\"color\":\"#C8D4E3\"},\"line\":{\"color\":\"white\"}},\"type\":\"table\"}]},\"layout\":{\"annotationdefaults\":{\"arrowcolor\":\"#2a3f5f\",\"arrowhead\":0,\"arrowwidth\":1},\"autotypenumbers\":\"strict\",\"coloraxis\":{\"colorbar\":{\"outlinewidth\":0,\"ticks\":\"\"}},\"colorscale\":{\"diverging\":[[0,\"#8e0152\"],[0.1,\"#c51b7d\"],[0.2,\"#de77ae\"],[0.3,\"#f1b6da\"],[0.4,\"#fde0ef\"],[0.5,\"#f7f7f7\"],[0.6,\"#e6f5d0\"],[0.7,\"#b8e186\"],[0.8,\"#7fbc41\"],[0.9,\"#4d9221\"],[1,\"#276419\"]],\"sequential\":[[0.0,\"#0d0887\"],[0.1111111111111111,\"#46039f\"],[0.2222222222222222,\"#7201a8\"],[0.3333333333333333,\"#9c179e\"],[0.4444444444444444,\"#bd3786\"],[0.5555555555555556,\"#d8576b\"],[0.6666666666666666,\"#ed7953\"],[0.7777777777777778,\"#fb9f3a\"],[0.8888888888888888,\"#fdca26\"],[1.0,\"#f0f921\"]],\"sequentialminus\":[[0.0,\"#0d0887\"],[0.1111111111111111,\"#46039f\"],[0.2222222222222222,\"#7201a8\"],[0.3333333333333333,\"#9c179e\"],[0.4444444444444444,\"#bd3786\"],[0.5555555555555556,\"#d8576b\"],[0.6666666666666666,\"#ed7953\"],[0.7777777777777778,\"#fb9f3a\"],[0.8888888888888888,\"#fdca26\"],[1.0,\"#f0f921\"]]},\"colorway\":[\"#636efa\",\"#EF553B\",\"#00cc96\",\"#ab63fa\",\"#FFA15A\",\"#19d3f3\",\"#FF6692\",\"#B6E880\",\"#FF97FF\",\"#FECB52\"],\"font\":{\"color\":\"#2a3f5f\"},\"geo\":{\"bgcolor\":\"white\",\"lakecolor\":\"white\",\"landcolor\":\"#E5ECF6\",\"showlakes\":true,\"showland\":true,\"subunitcolor\":\"white\"},\"hoverlabel\":{\"align\":\"left\"},\"hovermode\":\"closest\",\"mapbox\":{\"style\":\"light\"},\"paper_bgcolor\":\"white\",\"plot_bgcolor\":\"#E5ECF6\",\"polar\":{\"angularaxis\":{\"gridcolor\":\"white\",\"linecolor\":\"white\",\"ticks\":\"\"},\"bgcolor\":\"#E5ECF6\",\"radialaxis\":{\"gridcolor\":\"white\",\"linecolor\":\"white\",\"ticks\":\"\"}},\"scene\":{\"xaxis\":{\"backgroundcolor\":\"#E5ECF6\",\"gridcolor\":\"white\",\"gridwidth\":2,\"linecolor\":\"white\",\"showbackground\":true,\"ticks\":\"\",\"zerolinecolor\":\"white\"},\"yaxis\":{\"backgroundcolor\":\"#E5ECF6\",\"gridcolor\":\"white\",\"gridwidth\":2,\"linecolor\":\"white\",\"showbackground\":true,\"ticks\":\"\",\"zerolinecolor\":\"white\"},\"zaxis\":{\"backgroundcolor\":\"#E5ECF6\",\"gridcolor\":\"white\",\"gridwidth\":2,\"linecolor\":\"white\",\"showbackground\":true,\"ticks\":\"\",\"zerolinecolor\":\"white\"}},\"shapedefaults\":{\"line\":{\"color\":\"#2a3f5f\"}},\"ternary\":{\"aaxis\":{\"gridcolor\":\"white\",\"linecolor\":\"white\",\"ticks\":\"\"},\"baxis\":{\"gridcolor\":\"white\",\"linecolor\":\"white\",\"ticks\":\"\"},\"bgcolor\":\"#E5ECF6\",\"caxis\":{\"gridcolor\":\"white\",\"linecolor\":\"white\",\"ticks\":\"\"}},\"title\":{\"x\":0.05},\"xaxis\":{\"automargin\":true,\"gridcolor\":\"white\",\"linecolor\":\"white\",\"ticks\":\"\",\"title\":{\"standoff\":15},\"zerolinecolor\":\"white\",\"zerolinewidth\":2},\"yaxis\":{\"automargin\":true,\"gridcolor\":\"white\",\"linecolor\":\"white\",\"ticks\":\"\",\"title\":{\"standoff\":15},\"zerolinecolor\":\"white\",\"zerolinewidth\":2}}},\"title\":{\"font\":{\"color\":\"#4D5663\"}},\"xaxis\":{\"gridcolor\":\"#E1E5ED\",\"showgrid\":true,\"tickfont\":{\"color\":\"#4D5663\"},\"title\":{\"font\":{\"color\":\"#4D5663\"},\"text\":\"\"},\"zerolinecolor\":\"#E1E5ED\"},\"yaxis\":{\"gridcolor\":\"#E1E5ED\",\"showgrid\":true,\"tickfont\":{\"color\":\"#4D5663\"},\"title\":{\"font\":{\"color\":\"#4D5663\"},\"text\":\"\"},\"zerolinecolor\":\"#E1E5ED\"}},                        {\"showLink\": true, \"linkText\": \"Export to plot.ly\", \"plotlyServerURL\": \"https://plot.ly\", \"responsive\": true}                    ).then(function(){\n",
       "                            \n",
       "var gd = document.getElementById('1a260f39-ec74-4da6-ab21-64588ea4d829');\n",
       "var x = new MutationObserver(function (mutations, observer) {{\n",
       "        var display = window.getComputedStyle(gd).display;\n",
       "        if (!display || display === 'none') {{\n",
       "            console.log([gd, 'removed!']);\n",
       "            Plotly.purge(gd);\n",
       "            observer.disconnect();\n",
       "        }}\n",
       "}});\n",
       "\n",
       "// Listen for the removal of the full notebook cells\n",
       "var notebookContainer = gd.closest('#notebook-container');\n",
       "if (notebookContainer) {{\n",
       "    x.observe(notebookContainer, {childList: true});\n",
       "}}\n",
       "\n",
       "// Listen for the clearing of the current output cell\n",
       "var outputEl = gd.closest('.output');\n",
       "if (outputEl) {{\n",
       "    x.observe(outputEl, {childList: true});\n",
       "}}\n",
       "\n",
       "                        })                };                });            </script>        </div>"
      ]
     },
     "metadata": {},
     "output_type": "display_data"
    }
   ],
   "source": [
    "df2.iplot(kind= \"bar\", x=\"category\", y= \"values\")"
   ]
  },
  {
   "cell_type": "code",
   "execution_count": 82,
   "metadata": {},
   "outputs": [
    {
     "data": {
      "application/vnd.plotly.v1+json": {
       "config": {
        "linkText": "Export to plot.ly",
        "plotlyServerURL": "https://plot.ly",
        "showLink": true
       },
       "data": [
        {
         "marker": {
          "color": "rgba(255, 153, 51, 0.6)",
          "line": {
           "color": "rgba(255, 153, 51, 1.0)",
           "width": 1
          }
         },
         "name": "None",
         "orientation": "v",
         "text": "",
         "type": "bar",
         "x": [
          "A",
          "B",
          "C",
          "D"
         ],
         "y": [
          11.839222959503793,
          -7.614058192019473,
          25.757975353200717,
          -5.757517914519163
         ]
        }
       ],
       "layout": {
        "legend": {
         "bgcolor": "#F5F6F9",
         "font": {
          "color": "#4D5663"
         }
        },
        "paper_bgcolor": "#F5F6F9",
        "plot_bgcolor": "#F5F6F9",
        "template": {
         "data": {
          "bar": [
           {
            "error_x": {
             "color": "#2a3f5f"
            },
            "error_y": {
             "color": "#2a3f5f"
            },
            "marker": {
             "line": {
              "color": "#E5ECF6",
              "width": 0.5
             },
             "pattern": {
              "fillmode": "overlay",
              "size": 10,
              "solidity": 0.2
             }
            },
            "type": "bar"
           }
          ],
          "barpolar": [
           {
            "marker": {
             "line": {
              "color": "#E5ECF6",
              "width": 0.5
             },
             "pattern": {
              "fillmode": "overlay",
              "size": 10,
              "solidity": 0.2
             }
            },
            "type": "barpolar"
           }
          ],
          "carpet": [
           {
            "aaxis": {
             "endlinecolor": "#2a3f5f",
             "gridcolor": "white",
             "linecolor": "white",
             "minorgridcolor": "white",
             "startlinecolor": "#2a3f5f"
            },
            "baxis": {
             "endlinecolor": "#2a3f5f",
             "gridcolor": "white",
             "linecolor": "white",
             "minorgridcolor": "white",
             "startlinecolor": "#2a3f5f"
            },
            "type": "carpet"
           }
          ],
          "choropleth": [
           {
            "colorbar": {
             "outlinewidth": 0,
             "ticks": ""
            },
            "type": "choropleth"
           }
          ],
          "contour": [
           {
            "colorbar": {
             "outlinewidth": 0,
             "ticks": ""
            },
            "colorscale": [
             [
              0,
              "#0d0887"
             ],
             [
              0.1111111111111111,
              "#46039f"
             ],
             [
              0.2222222222222222,
              "#7201a8"
             ],
             [
              0.3333333333333333,
              "#9c179e"
             ],
             [
              0.4444444444444444,
              "#bd3786"
             ],
             [
              0.5555555555555556,
              "#d8576b"
             ],
             [
              0.6666666666666666,
              "#ed7953"
             ],
             [
              0.7777777777777778,
              "#fb9f3a"
             ],
             [
              0.8888888888888888,
              "#fdca26"
             ],
             [
              1,
              "#f0f921"
             ]
            ],
            "type": "contour"
           }
          ],
          "contourcarpet": [
           {
            "colorbar": {
             "outlinewidth": 0,
             "ticks": ""
            },
            "type": "contourcarpet"
           }
          ],
          "heatmap": [
           {
            "colorbar": {
             "outlinewidth": 0,
             "ticks": ""
            },
            "colorscale": [
             [
              0,
              "#0d0887"
             ],
             [
              0.1111111111111111,
              "#46039f"
             ],
             [
              0.2222222222222222,
              "#7201a8"
             ],
             [
              0.3333333333333333,
              "#9c179e"
             ],
             [
              0.4444444444444444,
              "#bd3786"
             ],
             [
              0.5555555555555556,
              "#d8576b"
             ],
             [
              0.6666666666666666,
              "#ed7953"
             ],
             [
              0.7777777777777778,
              "#fb9f3a"
             ],
             [
              0.8888888888888888,
              "#fdca26"
             ],
             [
              1,
              "#f0f921"
             ]
            ],
            "type": "heatmap"
           }
          ],
          "heatmapgl": [
           {
            "colorbar": {
             "outlinewidth": 0,
             "ticks": ""
            },
            "colorscale": [
             [
              0,
              "#0d0887"
             ],
             [
              0.1111111111111111,
              "#46039f"
             ],
             [
              0.2222222222222222,
              "#7201a8"
             ],
             [
              0.3333333333333333,
              "#9c179e"
             ],
             [
              0.4444444444444444,
              "#bd3786"
             ],
             [
              0.5555555555555556,
              "#d8576b"
             ],
             [
              0.6666666666666666,
              "#ed7953"
             ],
             [
              0.7777777777777778,
              "#fb9f3a"
             ],
             [
              0.8888888888888888,
              "#fdca26"
             ],
             [
              1,
              "#f0f921"
             ]
            ],
            "type": "heatmapgl"
           }
          ],
          "histogram": [
           {
            "marker": {
             "pattern": {
              "fillmode": "overlay",
              "size": 10,
              "solidity": 0.2
             }
            },
            "type": "histogram"
           }
          ],
          "histogram2d": [
           {
            "colorbar": {
             "outlinewidth": 0,
             "ticks": ""
            },
            "colorscale": [
             [
              0,
              "#0d0887"
             ],
             [
              0.1111111111111111,
              "#46039f"
             ],
             [
              0.2222222222222222,
              "#7201a8"
             ],
             [
              0.3333333333333333,
              "#9c179e"
             ],
             [
              0.4444444444444444,
              "#bd3786"
             ],
             [
              0.5555555555555556,
              "#d8576b"
             ],
             [
              0.6666666666666666,
              "#ed7953"
             ],
             [
              0.7777777777777778,
              "#fb9f3a"
             ],
             [
              0.8888888888888888,
              "#fdca26"
             ],
             [
              1,
              "#f0f921"
             ]
            ],
            "type": "histogram2d"
           }
          ],
          "histogram2dcontour": [
           {
            "colorbar": {
             "outlinewidth": 0,
             "ticks": ""
            },
            "colorscale": [
             [
              0,
              "#0d0887"
             ],
             [
              0.1111111111111111,
              "#46039f"
             ],
             [
              0.2222222222222222,
              "#7201a8"
             ],
             [
              0.3333333333333333,
              "#9c179e"
             ],
             [
              0.4444444444444444,
              "#bd3786"
             ],
             [
              0.5555555555555556,
              "#d8576b"
             ],
             [
              0.6666666666666666,
              "#ed7953"
             ],
             [
              0.7777777777777778,
              "#fb9f3a"
             ],
             [
              0.8888888888888888,
              "#fdca26"
             ],
             [
              1,
              "#f0f921"
             ]
            ],
            "type": "histogram2dcontour"
           }
          ],
          "mesh3d": [
           {
            "colorbar": {
             "outlinewidth": 0,
             "ticks": ""
            },
            "type": "mesh3d"
           }
          ],
          "parcoords": [
           {
            "line": {
             "colorbar": {
              "outlinewidth": 0,
              "ticks": ""
             }
            },
            "type": "parcoords"
           }
          ],
          "pie": [
           {
            "automargin": true,
            "type": "pie"
           }
          ],
          "scatter": [
           {
            "fillpattern": {
             "fillmode": "overlay",
             "size": 10,
             "solidity": 0.2
            },
            "type": "scatter"
           }
          ],
          "scatter3d": [
           {
            "line": {
             "colorbar": {
              "outlinewidth": 0,
              "ticks": ""
             }
            },
            "marker": {
             "colorbar": {
              "outlinewidth": 0,
              "ticks": ""
             }
            },
            "type": "scatter3d"
           }
          ],
          "scattercarpet": [
           {
            "marker": {
             "colorbar": {
              "outlinewidth": 0,
              "ticks": ""
             }
            },
            "type": "scattercarpet"
           }
          ],
          "scattergeo": [
           {
            "marker": {
             "colorbar": {
              "outlinewidth": 0,
              "ticks": ""
             }
            },
            "type": "scattergeo"
           }
          ],
          "scattergl": [
           {
            "marker": {
             "colorbar": {
              "outlinewidth": 0,
              "ticks": ""
             }
            },
            "type": "scattergl"
           }
          ],
          "scattermapbox": [
           {
            "marker": {
             "colorbar": {
              "outlinewidth": 0,
              "ticks": ""
             }
            },
            "type": "scattermapbox"
           }
          ],
          "scatterpolar": [
           {
            "marker": {
             "colorbar": {
              "outlinewidth": 0,
              "ticks": ""
             }
            },
            "type": "scatterpolar"
           }
          ],
          "scatterpolargl": [
           {
            "marker": {
             "colorbar": {
              "outlinewidth": 0,
              "ticks": ""
             }
            },
            "type": "scatterpolargl"
           }
          ],
          "scatterternary": [
           {
            "marker": {
             "colorbar": {
              "outlinewidth": 0,
              "ticks": ""
             }
            },
            "type": "scatterternary"
           }
          ],
          "surface": [
           {
            "colorbar": {
             "outlinewidth": 0,
             "ticks": ""
            },
            "colorscale": [
             [
              0,
              "#0d0887"
             ],
             [
              0.1111111111111111,
              "#46039f"
             ],
             [
              0.2222222222222222,
              "#7201a8"
             ],
             [
              0.3333333333333333,
              "#9c179e"
             ],
             [
              0.4444444444444444,
              "#bd3786"
             ],
             [
              0.5555555555555556,
              "#d8576b"
             ],
             [
              0.6666666666666666,
              "#ed7953"
             ],
             [
              0.7777777777777778,
              "#fb9f3a"
             ],
             [
              0.8888888888888888,
              "#fdca26"
             ],
             [
              1,
              "#f0f921"
             ]
            ],
            "type": "surface"
           }
          ],
          "table": [
           {
            "cells": {
             "fill": {
              "color": "#EBF0F8"
             },
             "line": {
              "color": "white"
             }
            },
            "header": {
             "fill": {
              "color": "#C8D4E3"
             },
             "line": {
              "color": "white"
             }
            },
            "type": "table"
           }
          ]
         },
         "layout": {
          "annotationdefaults": {
           "arrowcolor": "#2a3f5f",
           "arrowhead": 0,
           "arrowwidth": 1
          },
          "autotypenumbers": "strict",
          "coloraxis": {
           "colorbar": {
            "outlinewidth": 0,
            "ticks": ""
           }
          },
          "colorscale": {
           "diverging": [
            [
             0,
             "#8e0152"
            ],
            [
             0.1,
             "#c51b7d"
            ],
            [
             0.2,
             "#de77ae"
            ],
            [
             0.3,
             "#f1b6da"
            ],
            [
             0.4,
             "#fde0ef"
            ],
            [
             0.5,
             "#f7f7f7"
            ],
            [
             0.6,
             "#e6f5d0"
            ],
            [
             0.7,
             "#b8e186"
            ],
            [
             0.8,
             "#7fbc41"
            ],
            [
             0.9,
             "#4d9221"
            ],
            [
             1,
             "#276419"
            ]
           ],
           "sequential": [
            [
             0,
             "#0d0887"
            ],
            [
             0.1111111111111111,
             "#46039f"
            ],
            [
             0.2222222222222222,
             "#7201a8"
            ],
            [
             0.3333333333333333,
             "#9c179e"
            ],
            [
             0.4444444444444444,
             "#bd3786"
            ],
            [
             0.5555555555555556,
             "#d8576b"
            ],
            [
             0.6666666666666666,
             "#ed7953"
            ],
            [
             0.7777777777777778,
             "#fb9f3a"
            ],
            [
             0.8888888888888888,
             "#fdca26"
            ],
            [
             1,
             "#f0f921"
            ]
           ],
           "sequentialminus": [
            [
             0,
             "#0d0887"
            ],
            [
             0.1111111111111111,
             "#46039f"
            ],
            [
             0.2222222222222222,
             "#7201a8"
            ],
            [
             0.3333333333333333,
             "#9c179e"
            ],
            [
             0.4444444444444444,
             "#bd3786"
            ],
            [
             0.5555555555555556,
             "#d8576b"
            ],
            [
             0.6666666666666666,
             "#ed7953"
            ],
            [
             0.7777777777777778,
             "#fb9f3a"
            ],
            [
             0.8888888888888888,
             "#fdca26"
            ],
            [
             1,
             "#f0f921"
            ]
           ]
          },
          "colorway": [
           "#636efa",
           "#EF553B",
           "#00cc96",
           "#ab63fa",
           "#FFA15A",
           "#19d3f3",
           "#FF6692",
           "#B6E880",
           "#FF97FF",
           "#FECB52"
          ],
          "font": {
           "color": "#2a3f5f"
          },
          "geo": {
           "bgcolor": "white",
           "lakecolor": "white",
           "landcolor": "#E5ECF6",
           "showlakes": true,
           "showland": true,
           "subunitcolor": "white"
          },
          "hoverlabel": {
           "align": "left"
          },
          "hovermode": "closest",
          "mapbox": {
           "style": "light"
          },
          "paper_bgcolor": "white",
          "plot_bgcolor": "#E5ECF6",
          "polar": {
           "angularaxis": {
            "gridcolor": "white",
            "linecolor": "white",
            "ticks": ""
           },
           "bgcolor": "#E5ECF6",
           "radialaxis": {
            "gridcolor": "white",
            "linecolor": "white",
            "ticks": ""
           }
          },
          "scene": {
           "xaxis": {
            "backgroundcolor": "#E5ECF6",
            "gridcolor": "white",
            "gridwidth": 2,
            "linecolor": "white",
            "showbackground": true,
            "ticks": "",
            "zerolinecolor": "white"
           },
           "yaxis": {
            "backgroundcolor": "#E5ECF6",
            "gridcolor": "white",
            "gridwidth": 2,
            "linecolor": "white",
            "showbackground": true,
            "ticks": "",
            "zerolinecolor": "white"
           },
           "zaxis": {
            "backgroundcolor": "#E5ECF6",
            "gridcolor": "white",
            "gridwidth": 2,
            "linecolor": "white",
            "showbackground": true,
            "ticks": "",
            "zerolinecolor": "white"
           }
          },
          "shapedefaults": {
           "line": {
            "color": "#2a3f5f"
           }
          },
          "ternary": {
           "aaxis": {
            "gridcolor": "white",
            "linecolor": "white",
            "ticks": ""
           },
           "baxis": {
            "gridcolor": "white",
            "linecolor": "white",
            "ticks": ""
           },
           "bgcolor": "#E5ECF6",
           "caxis": {
            "gridcolor": "white",
            "linecolor": "white",
            "ticks": ""
           }
          },
          "title": {
           "x": 0.05
          },
          "xaxis": {
           "automargin": true,
           "gridcolor": "white",
           "linecolor": "white",
           "ticks": "",
           "title": {
            "standoff": 15
           },
           "zerolinecolor": "white",
           "zerolinewidth": 2
          },
          "yaxis": {
           "automargin": true,
           "gridcolor": "white",
           "linecolor": "white",
           "ticks": "",
           "title": {
            "standoff": 15
           },
           "zerolinecolor": "white",
           "zerolinewidth": 2
          }
         }
        },
        "title": {
         "font": {
          "color": "#4D5663"
         }
        },
        "xaxis": {
         "gridcolor": "#E1E5ED",
         "showgrid": true,
         "tickfont": {
          "color": "#4D5663"
         },
         "title": {
          "font": {
           "color": "#4D5663"
          },
          "text": ""
         },
         "zerolinecolor": "#E1E5ED"
        },
        "yaxis": {
         "gridcolor": "#E1E5ED",
         "showgrid": true,
         "tickfont": {
          "color": "#4D5663"
         },
         "title": {
          "font": {
           "color": "#4D5663"
          },
          "text": ""
         },
         "zerolinecolor": "#E1E5ED"
        }
       }
      },
      "text/html": [
       "<div>                            <div id=\"abf4bac1-67c9-455d-8f81-e927c2efaea0\" class=\"plotly-graph-div\" style=\"height:525px; width:100%;\"></div>            <script type=\"text/javascript\">                require([\"plotly\"], function(Plotly) {                    window.PLOTLYENV=window.PLOTLYENV || {};\n",
       "                    window.PLOTLYENV.BASE_URL='https://plot.ly';                                    if (document.getElementById(\"abf4bac1-67c9-455d-8f81-e927c2efaea0\")) {                    Plotly.newPlot(                        \"abf4bac1-67c9-455d-8f81-e927c2efaea0\",                        [{\"marker\":{\"color\":\"rgba(255, 153, 51, 0.6)\",\"line\":{\"color\":\"rgba(255, 153, 51, 1.0)\",\"width\":1}},\"name\":\"None\",\"orientation\":\"v\",\"text\":\"\",\"x\":[\"A\",\"B\",\"C\",\"D\"],\"y\":[11.839222959503793,-7.614058192019473,25.757975353200717,-5.757517914519163],\"type\":\"bar\"}],                        {\"legend\":{\"bgcolor\":\"#F5F6F9\",\"font\":{\"color\":\"#4D5663\"}},\"paper_bgcolor\":\"#F5F6F9\",\"plot_bgcolor\":\"#F5F6F9\",\"template\":{\"data\":{\"barpolar\":[{\"marker\":{\"line\":{\"color\":\"#E5ECF6\",\"width\":0.5},\"pattern\":{\"fillmode\":\"overlay\",\"size\":10,\"solidity\":0.2}},\"type\":\"barpolar\"}],\"bar\":[{\"error_x\":{\"color\":\"#2a3f5f\"},\"error_y\":{\"color\":\"#2a3f5f\"},\"marker\":{\"line\":{\"color\":\"#E5ECF6\",\"width\":0.5},\"pattern\":{\"fillmode\":\"overlay\",\"size\":10,\"solidity\":0.2}},\"type\":\"bar\"}],\"carpet\":[{\"aaxis\":{\"endlinecolor\":\"#2a3f5f\",\"gridcolor\":\"white\",\"linecolor\":\"white\",\"minorgridcolor\":\"white\",\"startlinecolor\":\"#2a3f5f\"},\"baxis\":{\"endlinecolor\":\"#2a3f5f\",\"gridcolor\":\"white\",\"linecolor\":\"white\",\"minorgridcolor\":\"white\",\"startlinecolor\":\"#2a3f5f\"},\"type\":\"carpet\"}],\"choropleth\":[{\"colorbar\":{\"outlinewidth\":0,\"ticks\":\"\"},\"type\":\"choropleth\"}],\"contourcarpet\":[{\"colorbar\":{\"outlinewidth\":0,\"ticks\":\"\"},\"type\":\"contourcarpet\"}],\"contour\":[{\"colorbar\":{\"outlinewidth\":0,\"ticks\":\"\"},\"colorscale\":[[0.0,\"#0d0887\"],[0.1111111111111111,\"#46039f\"],[0.2222222222222222,\"#7201a8\"],[0.3333333333333333,\"#9c179e\"],[0.4444444444444444,\"#bd3786\"],[0.5555555555555556,\"#d8576b\"],[0.6666666666666666,\"#ed7953\"],[0.7777777777777778,\"#fb9f3a\"],[0.8888888888888888,\"#fdca26\"],[1.0,\"#f0f921\"]],\"type\":\"contour\"}],\"heatmapgl\":[{\"colorbar\":{\"outlinewidth\":0,\"ticks\":\"\"},\"colorscale\":[[0.0,\"#0d0887\"],[0.1111111111111111,\"#46039f\"],[0.2222222222222222,\"#7201a8\"],[0.3333333333333333,\"#9c179e\"],[0.4444444444444444,\"#bd3786\"],[0.5555555555555556,\"#d8576b\"],[0.6666666666666666,\"#ed7953\"],[0.7777777777777778,\"#fb9f3a\"],[0.8888888888888888,\"#fdca26\"],[1.0,\"#f0f921\"]],\"type\":\"heatmapgl\"}],\"heatmap\":[{\"colorbar\":{\"outlinewidth\":0,\"ticks\":\"\"},\"colorscale\":[[0.0,\"#0d0887\"],[0.1111111111111111,\"#46039f\"],[0.2222222222222222,\"#7201a8\"],[0.3333333333333333,\"#9c179e\"],[0.4444444444444444,\"#bd3786\"],[0.5555555555555556,\"#d8576b\"],[0.6666666666666666,\"#ed7953\"],[0.7777777777777778,\"#fb9f3a\"],[0.8888888888888888,\"#fdca26\"],[1.0,\"#f0f921\"]],\"type\":\"heatmap\"}],\"histogram2dcontour\":[{\"colorbar\":{\"outlinewidth\":0,\"ticks\":\"\"},\"colorscale\":[[0.0,\"#0d0887\"],[0.1111111111111111,\"#46039f\"],[0.2222222222222222,\"#7201a8\"],[0.3333333333333333,\"#9c179e\"],[0.4444444444444444,\"#bd3786\"],[0.5555555555555556,\"#d8576b\"],[0.6666666666666666,\"#ed7953\"],[0.7777777777777778,\"#fb9f3a\"],[0.8888888888888888,\"#fdca26\"],[1.0,\"#f0f921\"]],\"type\":\"histogram2dcontour\"}],\"histogram2d\":[{\"colorbar\":{\"outlinewidth\":0,\"ticks\":\"\"},\"colorscale\":[[0.0,\"#0d0887\"],[0.1111111111111111,\"#46039f\"],[0.2222222222222222,\"#7201a8\"],[0.3333333333333333,\"#9c179e\"],[0.4444444444444444,\"#bd3786\"],[0.5555555555555556,\"#d8576b\"],[0.6666666666666666,\"#ed7953\"],[0.7777777777777778,\"#fb9f3a\"],[0.8888888888888888,\"#fdca26\"],[1.0,\"#f0f921\"]],\"type\":\"histogram2d\"}],\"histogram\":[{\"marker\":{\"pattern\":{\"fillmode\":\"overlay\",\"size\":10,\"solidity\":0.2}},\"type\":\"histogram\"}],\"mesh3d\":[{\"colorbar\":{\"outlinewidth\":0,\"ticks\":\"\"},\"type\":\"mesh3d\"}],\"parcoords\":[{\"line\":{\"colorbar\":{\"outlinewidth\":0,\"ticks\":\"\"}},\"type\":\"parcoords\"}],\"pie\":[{\"automargin\":true,\"type\":\"pie\"}],\"scatter3d\":[{\"line\":{\"colorbar\":{\"outlinewidth\":0,\"ticks\":\"\"}},\"marker\":{\"colorbar\":{\"outlinewidth\":0,\"ticks\":\"\"}},\"type\":\"scatter3d\"}],\"scattercarpet\":[{\"marker\":{\"colorbar\":{\"outlinewidth\":0,\"ticks\":\"\"}},\"type\":\"scattercarpet\"}],\"scattergeo\":[{\"marker\":{\"colorbar\":{\"outlinewidth\":0,\"ticks\":\"\"}},\"type\":\"scattergeo\"}],\"scattergl\":[{\"marker\":{\"colorbar\":{\"outlinewidth\":0,\"ticks\":\"\"}},\"type\":\"scattergl\"}],\"scattermapbox\":[{\"marker\":{\"colorbar\":{\"outlinewidth\":0,\"ticks\":\"\"}},\"type\":\"scattermapbox\"}],\"scatterpolargl\":[{\"marker\":{\"colorbar\":{\"outlinewidth\":0,\"ticks\":\"\"}},\"type\":\"scatterpolargl\"}],\"scatterpolar\":[{\"marker\":{\"colorbar\":{\"outlinewidth\":0,\"ticks\":\"\"}},\"type\":\"scatterpolar\"}],\"scatter\":[{\"fillpattern\":{\"fillmode\":\"overlay\",\"size\":10,\"solidity\":0.2},\"type\":\"scatter\"}],\"scatterternary\":[{\"marker\":{\"colorbar\":{\"outlinewidth\":0,\"ticks\":\"\"}},\"type\":\"scatterternary\"}],\"surface\":[{\"colorbar\":{\"outlinewidth\":0,\"ticks\":\"\"},\"colorscale\":[[0.0,\"#0d0887\"],[0.1111111111111111,\"#46039f\"],[0.2222222222222222,\"#7201a8\"],[0.3333333333333333,\"#9c179e\"],[0.4444444444444444,\"#bd3786\"],[0.5555555555555556,\"#d8576b\"],[0.6666666666666666,\"#ed7953\"],[0.7777777777777778,\"#fb9f3a\"],[0.8888888888888888,\"#fdca26\"],[1.0,\"#f0f921\"]],\"type\":\"surface\"}],\"table\":[{\"cells\":{\"fill\":{\"color\":\"#EBF0F8\"},\"line\":{\"color\":\"white\"}},\"header\":{\"fill\":{\"color\":\"#C8D4E3\"},\"line\":{\"color\":\"white\"}},\"type\":\"table\"}]},\"layout\":{\"annotationdefaults\":{\"arrowcolor\":\"#2a3f5f\",\"arrowhead\":0,\"arrowwidth\":1},\"autotypenumbers\":\"strict\",\"coloraxis\":{\"colorbar\":{\"outlinewidth\":0,\"ticks\":\"\"}},\"colorscale\":{\"diverging\":[[0,\"#8e0152\"],[0.1,\"#c51b7d\"],[0.2,\"#de77ae\"],[0.3,\"#f1b6da\"],[0.4,\"#fde0ef\"],[0.5,\"#f7f7f7\"],[0.6,\"#e6f5d0\"],[0.7,\"#b8e186\"],[0.8,\"#7fbc41\"],[0.9,\"#4d9221\"],[1,\"#276419\"]],\"sequential\":[[0.0,\"#0d0887\"],[0.1111111111111111,\"#46039f\"],[0.2222222222222222,\"#7201a8\"],[0.3333333333333333,\"#9c179e\"],[0.4444444444444444,\"#bd3786\"],[0.5555555555555556,\"#d8576b\"],[0.6666666666666666,\"#ed7953\"],[0.7777777777777778,\"#fb9f3a\"],[0.8888888888888888,\"#fdca26\"],[1.0,\"#f0f921\"]],\"sequentialminus\":[[0.0,\"#0d0887\"],[0.1111111111111111,\"#46039f\"],[0.2222222222222222,\"#7201a8\"],[0.3333333333333333,\"#9c179e\"],[0.4444444444444444,\"#bd3786\"],[0.5555555555555556,\"#d8576b\"],[0.6666666666666666,\"#ed7953\"],[0.7777777777777778,\"#fb9f3a\"],[0.8888888888888888,\"#fdca26\"],[1.0,\"#f0f921\"]]},\"colorway\":[\"#636efa\",\"#EF553B\",\"#00cc96\",\"#ab63fa\",\"#FFA15A\",\"#19d3f3\",\"#FF6692\",\"#B6E880\",\"#FF97FF\",\"#FECB52\"],\"font\":{\"color\":\"#2a3f5f\"},\"geo\":{\"bgcolor\":\"white\",\"lakecolor\":\"white\",\"landcolor\":\"#E5ECF6\",\"showlakes\":true,\"showland\":true,\"subunitcolor\":\"white\"},\"hoverlabel\":{\"align\":\"left\"},\"hovermode\":\"closest\",\"mapbox\":{\"style\":\"light\"},\"paper_bgcolor\":\"white\",\"plot_bgcolor\":\"#E5ECF6\",\"polar\":{\"angularaxis\":{\"gridcolor\":\"white\",\"linecolor\":\"white\",\"ticks\":\"\"},\"bgcolor\":\"#E5ECF6\",\"radialaxis\":{\"gridcolor\":\"white\",\"linecolor\":\"white\",\"ticks\":\"\"}},\"scene\":{\"xaxis\":{\"backgroundcolor\":\"#E5ECF6\",\"gridcolor\":\"white\",\"gridwidth\":2,\"linecolor\":\"white\",\"showbackground\":true,\"ticks\":\"\",\"zerolinecolor\":\"white\"},\"yaxis\":{\"backgroundcolor\":\"#E5ECF6\",\"gridcolor\":\"white\",\"gridwidth\":2,\"linecolor\":\"white\",\"showbackground\":true,\"ticks\":\"\",\"zerolinecolor\":\"white\"},\"zaxis\":{\"backgroundcolor\":\"#E5ECF6\",\"gridcolor\":\"white\",\"gridwidth\":2,\"linecolor\":\"white\",\"showbackground\":true,\"ticks\":\"\",\"zerolinecolor\":\"white\"}},\"shapedefaults\":{\"line\":{\"color\":\"#2a3f5f\"}},\"ternary\":{\"aaxis\":{\"gridcolor\":\"white\",\"linecolor\":\"white\",\"ticks\":\"\"},\"baxis\":{\"gridcolor\":\"white\",\"linecolor\":\"white\",\"ticks\":\"\"},\"bgcolor\":\"#E5ECF6\",\"caxis\":{\"gridcolor\":\"white\",\"linecolor\":\"white\",\"ticks\":\"\"}},\"title\":{\"x\":0.05},\"xaxis\":{\"automargin\":true,\"gridcolor\":\"white\",\"linecolor\":\"white\",\"ticks\":\"\",\"title\":{\"standoff\":15},\"zerolinecolor\":\"white\",\"zerolinewidth\":2},\"yaxis\":{\"automargin\":true,\"gridcolor\":\"white\",\"linecolor\":\"white\",\"ticks\":\"\",\"title\":{\"standoff\":15},\"zerolinecolor\":\"white\",\"zerolinewidth\":2}}},\"title\":{\"font\":{\"color\":\"#4D5663\"}},\"xaxis\":{\"gridcolor\":\"#E1E5ED\",\"showgrid\":true,\"tickfont\":{\"color\":\"#4D5663\"},\"title\":{\"font\":{\"color\":\"#4D5663\"},\"text\":\"\"},\"zerolinecolor\":\"#E1E5ED\"},\"yaxis\":{\"gridcolor\":\"#E1E5ED\",\"showgrid\":true,\"tickfont\":{\"color\":\"#4D5663\"},\"title\":{\"font\":{\"color\":\"#4D5663\"},\"text\":\"\"},\"zerolinecolor\":\"#E1E5ED\"}},                        {\"showLink\": true, \"linkText\": \"Export to plot.ly\", \"plotlyServerURL\": \"https://plot.ly\", \"responsive\": true}                    ).then(function(){\n",
       "                            \n",
       "var gd = document.getElementById('abf4bac1-67c9-455d-8f81-e927c2efaea0');\n",
       "var x = new MutationObserver(function (mutations, observer) {{\n",
       "        var display = window.getComputedStyle(gd).display;\n",
       "        if (!display || display === 'none') {{\n",
       "            console.log([gd, 'removed!']);\n",
       "            Plotly.purge(gd);\n",
       "            observer.disconnect();\n",
       "        }}\n",
       "}});\n",
       "\n",
       "// Listen for the removal of the full notebook cells\n",
       "var notebookContainer = gd.closest('#notebook-container');\n",
       "if (notebookContainer) {{\n",
       "    x.observe(notebookContainer, {childList: true});\n",
       "}}\n",
       "\n",
       "// Listen for the clearing of the current output cell\n",
       "var outputEl = gd.closest('.output');\n",
       "if (outputEl) {{\n",
       "    x.observe(outputEl, {childList: true});\n",
       "}}\n",
       "\n",
       "                        })                };                });            </script>        </div>"
      ]
     },
     "metadata": {},
     "output_type": "display_data"
    }
   ],
   "source": [
    "df.sum().iplot(kind=\"bar\")"
   ]
  },
  {
   "cell_type": "code",
   "execution_count": 83,
   "metadata": {},
   "outputs": [
    {
     "data": {
      "application/vnd.plotly.v1+json": {
       "config": {
        "linkText": "Export to plot.ly",
        "plotlyServerURL": "https://plot.ly",
        "showLink": true
       },
       "data": [
        {
         "boxpoints": false,
         "line": {
          "width": 1.3
         },
         "marker": {
          "color": "rgba(255, 153, 51, 1.0)"
         },
         "name": "A",
         "orientation": "v",
         "type": "box",
         "y": [
          1.271671286958233,
          -2.172408915978876,
          1.7854365286371727,
          1.5799705135342348,
          0.5171449831935606,
          -0.738836448224735,
          -1.8144196577454883,
          0.6426229098950454,
          -0.6636473476440262,
          -1.00280947283931,
          -0.23427784176035332,
          2.350590946817898,
          -0.772872337152085,
          0.06721304131837574,
          -0.3380988576289599,
          -1.032927158724717,
          -0.4301694538498191,
          -0.6795763232900397,
          1.6746112402990454,
          -0.8071433538687962,
          -0.7301921401287503,
          -1.974766933366033,
          -1.2606638273598736,
          -0.14780583520530913,
          -0.30352793700047676,
          1.7608134785833829,
          1.8601966055560195,
          -0.7318941199356979,
          0.9881810889499792,
          1.2157909902610062,
          1.700833223803107,
          -0.03702641197653624,
          0.2685661133985728,
          -1.1540228701071364,
          -2.451284896900468,
          -0.6251852288829398,
          -0.6874066773430462,
          0.820850283868299,
          0.08442426464027586,
          0.6072766750939735,
          0.920499680386307,
          0.05005835511080823,
          1.649623201071434,
          0.11541833072015947,
          1.7441869252115747,
          0.3936830830921386,
          0.5152496115529626,
          1.7784524803055681,
          0.9419614134044356,
          -0.29177154982575987,
          -1.3783653483867588,
          0.9915959148343668,
          -0.40952344237860894,
          -0.6503507398847784,
          -0.2633247272517648,
          2.373729941368112,
          1.0409871870552478,
          -0.22852304522578715,
          -0.9982703819338618,
          -0.3968154813092077,
          -0.5617296882171342,
          -1.1346920922423802,
          0.5549905627104234,
          1.2967314166335604,
          0.2436695236624341,
          0.7769124747016123,
          2.2452054275190347,
          -0.823378225352857,
          0.9128352696742315,
          0.35267974946978997,
          -0.4916034171442968,
          0.35067090693594716,
          0.8292806012849196,
          1.3347709310432276,
          -0.5373920254195184,
          -2.112500723883234,
          -0.7694046864432289,
          0.7797256904311618,
          1.765595606686072,
          3.3627198690793323,
          -0.3076120808124946,
          -0.4285964521753026,
          0.531109847573406,
          -1.4629177205405783,
          0.8655379339108681,
          -0.49880559284931575,
          -0.47027222429519455,
          -1.6292499051374218,
          -0.07509143409175767,
          -1.0138651146690272,
          0.031127129211921862,
          -0.21735199281501266,
          0.02340260280010591,
          0.1357923014492216,
          -0.5432535568717444,
          2.287360729985298,
          -0.5650535168514119,
          0.3144488908793118,
          0.7106693119223403,
          -0.5269749040598086
         ]
        },
        {
         "boxpoints": false,
         "line": {
          "width": 1.3
         },
         "marker": {
          "color": "rgba(55, 128, 191, 1.0)"
         },
         "name": "B",
         "orientation": "v",
         "type": "box",
         "y": [
          -0.16272276040128936,
          0.7044986616881509,
          -3.1681590356748073,
          -0.4672001763129714,
          -0.31376620799253974,
          -0.5060581049498075,
          0.2704134271091462,
          -1.0229185417941054,
          -0.4961033903517738,
          0.6558721387107035,
          1.29186875327626,
          -1.5228271863433263,
          0.2346838303022486,
          -0.3539977200915892,
          1.1691767623198108,
          -0.15996799072360515,
          0.5835225744706318,
          0.2826237194233615,
          1.0659972007300325,
          -0.3879827255662256,
          -0.062233085977681166,
          -1.9704497431985206,
          -0.4323527048118112,
          -1.4209748903881405,
          -0.39646952828904025,
          -0.5330063251499289,
          0.6679417308521448,
          -0.52687230266114,
          -0.29564344639543116,
          -1.1788525999577755,
          -0.28200650244590725,
          -1.348594908250399,
          0.46037407721809376,
          -1.661032228224993,
          -0.8521494244571879,
          0.8418282719092218,
          -0.030946699555730282,
          0.8745270526457853,
          0.9236753971552883,
          0.002520505287537238,
          -0.6280134473910527,
          0.053418733854069776,
          -0.7099950695826408,
          0.45411841071298126,
          -0.1140285667950381,
          0.06784634512858456,
          0.9151555874440334,
          -1.0518497119831198,
          -0.8695055022189785,
          0.3636477438583736,
          -0.5758866931978616,
          -2.7048446150366017,
          0.053486454456806755,
          0.19709604180075288,
          -0.10599409895899331,
          1.289887828418673,
          0.2300267525465255,
          -0.7113701904602237,
          0.26506560404880775,
          -1.012652872010664,
          0.15135646644187953,
          0.5799854650566798,
          1.0887180107837493,
          1.4914586766891302,
          0.3672033428097803,
          1.1058459674371697,
          -1.1037543094206794,
          -0.7727398887207035,
          -0.256736556836982,
          -1.2056500675059685,
          -2.255492532473808,
          -0.4891770094355169,
          0.21185992687337646,
          1.6267167557827436,
          1.3624949864552849,
          0.5159284067924745,
          0.35663638396301744,
          -0.2104491465765928,
          0.28703359748779417,
          0.18707846870748404,
          0.9973777188764106,
          -0.11279170657735568,
          -0.3733935424177511,
          -0.964577374165736,
          0.07320496681842414,
          1.4354674409574493,
          0.35705828540155327,
          -0.26255279221395544,
          0.05764879251803963,
          -0.4479876335172284,
          -1.2406167000734456,
          -0.24554362450471798,
          0.2675657513139322,
          0.48698843493522,
          0.8717286775220626,
          0.38367709472602407,
          0.4869880369464998,
          -0.18782178877356678,
          1.1980849722535623,
          0.6852752458776807
         ]
        },
        {
         "boxpoints": false,
         "line": {
          "width": 1.3
         },
         "marker": {
          "color": "rgba(50, 171, 96, 1.0)"
         },
         "name": "C",
         "orientation": "v",
         "type": "box",
         "y": [
          -1.1272730642886264,
          0.4651189902515295,
          -1.4454347739122737,
          1.0279079519482663,
          1.1597304505685488,
          0.2748815117495381,
          1.104194961757863,
          -0.2290185011173507,
          0.15953594410562186,
          0.562339771980812,
          -0.8761502287169275,
          0.7912027271630951,
          -0.6209812755003381,
          0.032737755124431854,
          -1.5549609906684134,
          -0.33515092447103934,
          0.194459932524018,
          0.6494585970289132,
          -0.6893928623391945,
          0.9148149797189422,
          -0.5895666919039746,
          -0.10211652943550073,
          -0.6760910234409082,
          -0.3727048871600237,
          2.428985789791552,
          0.5130043188351135,
          0.5972076013366243,
          1.009203557743515,
          1.9045900982200739,
          0.6178807122127871,
          -0.6278933094372934,
          1.590850405219824,
          -0.36795986813056264,
          1.66351099652182,
          -0.44389827906571283,
          -0.05345271265392464,
          0.6207589631433975,
          0.6437974044230873,
          -0.5878286892911038,
          1.174098637950353,
          -1.6090012185329858,
          1.658044211840498,
          -0.4123398017075408,
          0.19145075399432507,
          -0.2640651240457925,
          -0.6863610251224573,
          -0.09469602496774447,
          0.35119148793087446,
          0.026919470255186696,
          -0.16076589280933315,
          0.24804911234882118,
          -0.5950410970752406,
          -0.233570069640491,
          0.44167872370361516,
          0.038790044898560805,
          0.4526309109038116,
          0.18424074154879694,
          1.119882167831072,
          0.9531270156065279,
          0.8760895341334429,
          0.8068324040628525,
          -0.6161085347247628,
          0.22092153272906404,
          -0.7348727228788727,
          -0.3457836593283543,
          -0.35461194797696516,
          0.00007957593078923664,
          -0.9314612407832846,
          0.6413911111570009,
          -0.42063095801144307,
          0.34326356603266805,
          1.6585243155630653,
          0.49641840775633916,
          -0.4559595375059727,
          1.8002833734246106,
          -0.5893485427493795,
          2.4409791593304915,
          2.1111406260814785,
          0.5717692342256324,
          0.4969059820132727,
          0.3667612685062775,
          -1.7207693503108104,
          -0.3780945698859745,
          0.9861281520336582,
          0.43769332640057695,
          -0.09825573369075614,
          -1.0655310736542085,
          -0.28337592874224027,
          0.5914522835671088,
          -1.1441736058441683,
          2.0939824152404967,
          1.545860871172858,
          -0.4658606262369593,
          1.0739808543369476,
          0.10316628689757296,
          -0.8250123725904674,
          0.3179683453832489,
          1.7120063950923825,
          2.399034422412584,
          1.084630479883858
         ]
        },
        {
         "boxpoints": false,
         "line": {
          "width": 1.3
         },
         "marker": {
          "color": "rgba(128, 0, 128, 1.0)"
         },
         "name": "D",
         "orientation": "v",
         "type": "box",
         "y": [
          -0.33024030884163036,
          -0.2523030735995534,
          -0.26180473103230223,
          -0.9723998035202468,
          1.1938252816314854,
          1.5879020392307879,
          1.124581352617844,
          -0.5941489950526395,
          -1.6007874960039579,
          2.057262323788016,
          0.7718883139284151,
          -0.2173777906630994,
          -1.6419730891986393,
          -0.14080583038493127,
          0.44002463185174934,
          0.07885168288341862,
          0.984212271626107,
          -1.1472398918765907,
          0.21153320221849023,
          -1.974807640083881,
          -1.1644959819637613,
          -1.2237455619221056,
          0.34578100988560473,
          -0.5217157483023667,
          -1.270290747916724,
          0.7491767957609144,
          2.644266078029767,
          -1.6406401948550957,
          1.0322499071462257,
          0.6887910644533315,
          0.32287907932850624,
          1.4989591201474028,
          -1.1991161411912088,
          -0.8920601546409503,
          0.6400442351261533,
          -0.47165416077286754,
          -0.4548982919516317,
          0.12415938669496829,
          -0.4247846425283389,
          -0.9156633119828546,
          1.4581552202445693,
          -1.5763818308364506,
          0.21152281160136105,
          0.06341412438401173,
          0.6798819630360923,
          1.5250532395213547,
          0.4218008104000734,
          1.3304872068583076,
          -1.7863931171311287,
          0.03882887739452606,
          -0.2999883606054231,
          0.14013821996232273,
          -1.4750819545560712,
          0.6671091889997084,
          -0.36788116976311264,
          0.015900905065900306,
          1.1184055509960755,
          -1.1608114921416226,
          -0.3201716786888437,
          -1.079402033541682,
          -0.04246988206278477,
          -0.43415589253483394,
          -1.087880851337657,
          -0.37922593084677414,
          1.6207908071143207,
          -0.8540825557908546,
          -1.076789785101322,
          1.8518210072958456,
          0.7508158404618406,
          -0.8021722588853217,
          -0.530266045981944,
          -1.0201028827629512,
          -0.18763082062703867,
          -1.1124134439639035,
          -0.060021475110751454,
          0.022480385141118605,
          -0.06130935854797956,
          -1.3412760445635994,
          0.1467524014787332,
          -0.031133312042740384,
          0.43515983911470957,
          0.7900703994178605,
          0.5418804340396783,
          -0.715718752248988,
          1.5385736218598856,
          0.10305063865747505,
          0.23074339533619892,
          -0.08945389350799786,
          0.8315569985295567,
          -2.178527148123283,
          1.0627661204823748,
          -1.7001961939953165,
          0.5533018938128142,
          0.5994346030753849,
          1.3425970461467547,
          -0.40497516633433484,
          2.062920764596815,
          -1.3395678968380955,
          0.425148566114341,
          -2.006033755250181
         ]
        }
       ],
       "layout": {
        "legend": {
         "bgcolor": "#F5F6F9",
         "font": {
          "color": "#4D5663"
         }
        },
        "paper_bgcolor": "#F5F6F9",
        "plot_bgcolor": "#F5F6F9",
        "template": {
         "data": {
          "bar": [
           {
            "error_x": {
             "color": "#2a3f5f"
            },
            "error_y": {
             "color": "#2a3f5f"
            },
            "marker": {
             "line": {
              "color": "#E5ECF6",
              "width": 0.5
             },
             "pattern": {
              "fillmode": "overlay",
              "size": 10,
              "solidity": 0.2
             }
            },
            "type": "bar"
           }
          ],
          "barpolar": [
           {
            "marker": {
             "line": {
              "color": "#E5ECF6",
              "width": 0.5
             },
             "pattern": {
              "fillmode": "overlay",
              "size": 10,
              "solidity": 0.2
             }
            },
            "type": "barpolar"
           }
          ],
          "carpet": [
           {
            "aaxis": {
             "endlinecolor": "#2a3f5f",
             "gridcolor": "white",
             "linecolor": "white",
             "minorgridcolor": "white",
             "startlinecolor": "#2a3f5f"
            },
            "baxis": {
             "endlinecolor": "#2a3f5f",
             "gridcolor": "white",
             "linecolor": "white",
             "minorgridcolor": "white",
             "startlinecolor": "#2a3f5f"
            },
            "type": "carpet"
           }
          ],
          "choropleth": [
           {
            "colorbar": {
             "outlinewidth": 0,
             "ticks": ""
            },
            "type": "choropleth"
           }
          ],
          "contour": [
           {
            "colorbar": {
             "outlinewidth": 0,
             "ticks": ""
            },
            "colorscale": [
             [
              0,
              "#0d0887"
             ],
             [
              0.1111111111111111,
              "#46039f"
             ],
             [
              0.2222222222222222,
              "#7201a8"
             ],
             [
              0.3333333333333333,
              "#9c179e"
             ],
             [
              0.4444444444444444,
              "#bd3786"
             ],
             [
              0.5555555555555556,
              "#d8576b"
             ],
             [
              0.6666666666666666,
              "#ed7953"
             ],
             [
              0.7777777777777778,
              "#fb9f3a"
             ],
             [
              0.8888888888888888,
              "#fdca26"
             ],
             [
              1,
              "#f0f921"
             ]
            ],
            "type": "contour"
           }
          ],
          "contourcarpet": [
           {
            "colorbar": {
             "outlinewidth": 0,
             "ticks": ""
            },
            "type": "contourcarpet"
           }
          ],
          "heatmap": [
           {
            "colorbar": {
             "outlinewidth": 0,
             "ticks": ""
            },
            "colorscale": [
             [
              0,
              "#0d0887"
             ],
             [
              0.1111111111111111,
              "#46039f"
             ],
             [
              0.2222222222222222,
              "#7201a8"
             ],
             [
              0.3333333333333333,
              "#9c179e"
             ],
             [
              0.4444444444444444,
              "#bd3786"
             ],
             [
              0.5555555555555556,
              "#d8576b"
             ],
             [
              0.6666666666666666,
              "#ed7953"
             ],
             [
              0.7777777777777778,
              "#fb9f3a"
             ],
             [
              0.8888888888888888,
              "#fdca26"
             ],
             [
              1,
              "#f0f921"
             ]
            ],
            "type": "heatmap"
           }
          ],
          "heatmapgl": [
           {
            "colorbar": {
             "outlinewidth": 0,
             "ticks": ""
            },
            "colorscale": [
             [
              0,
              "#0d0887"
             ],
             [
              0.1111111111111111,
              "#46039f"
             ],
             [
              0.2222222222222222,
              "#7201a8"
             ],
             [
              0.3333333333333333,
              "#9c179e"
             ],
             [
              0.4444444444444444,
              "#bd3786"
             ],
             [
              0.5555555555555556,
              "#d8576b"
             ],
             [
              0.6666666666666666,
              "#ed7953"
             ],
             [
              0.7777777777777778,
              "#fb9f3a"
             ],
             [
              0.8888888888888888,
              "#fdca26"
             ],
             [
              1,
              "#f0f921"
             ]
            ],
            "type": "heatmapgl"
           }
          ],
          "histogram": [
           {
            "marker": {
             "pattern": {
              "fillmode": "overlay",
              "size": 10,
              "solidity": 0.2
             }
            },
            "type": "histogram"
           }
          ],
          "histogram2d": [
           {
            "colorbar": {
             "outlinewidth": 0,
             "ticks": ""
            },
            "colorscale": [
             [
              0,
              "#0d0887"
             ],
             [
              0.1111111111111111,
              "#46039f"
             ],
             [
              0.2222222222222222,
              "#7201a8"
             ],
             [
              0.3333333333333333,
              "#9c179e"
             ],
             [
              0.4444444444444444,
              "#bd3786"
             ],
             [
              0.5555555555555556,
              "#d8576b"
             ],
             [
              0.6666666666666666,
              "#ed7953"
             ],
             [
              0.7777777777777778,
              "#fb9f3a"
             ],
             [
              0.8888888888888888,
              "#fdca26"
             ],
             [
              1,
              "#f0f921"
             ]
            ],
            "type": "histogram2d"
           }
          ],
          "histogram2dcontour": [
           {
            "colorbar": {
             "outlinewidth": 0,
             "ticks": ""
            },
            "colorscale": [
             [
              0,
              "#0d0887"
             ],
             [
              0.1111111111111111,
              "#46039f"
             ],
             [
              0.2222222222222222,
              "#7201a8"
             ],
             [
              0.3333333333333333,
              "#9c179e"
             ],
             [
              0.4444444444444444,
              "#bd3786"
             ],
             [
              0.5555555555555556,
              "#d8576b"
             ],
             [
              0.6666666666666666,
              "#ed7953"
             ],
             [
              0.7777777777777778,
              "#fb9f3a"
             ],
             [
              0.8888888888888888,
              "#fdca26"
             ],
             [
              1,
              "#f0f921"
             ]
            ],
            "type": "histogram2dcontour"
           }
          ],
          "mesh3d": [
           {
            "colorbar": {
             "outlinewidth": 0,
             "ticks": ""
            },
            "type": "mesh3d"
           }
          ],
          "parcoords": [
           {
            "line": {
             "colorbar": {
              "outlinewidth": 0,
              "ticks": ""
             }
            },
            "type": "parcoords"
           }
          ],
          "pie": [
           {
            "automargin": true,
            "type": "pie"
           }
          ],
          "scatter": [
           {
            "fillpattern": {
             "fillmode": "overlay",
             "size": 10,
             "solidity": 0.2
            },
            "type": "scatter"
           }
          ],
          "scatter3d": [
           {
            "line": {
             "colorbar": {
              "outlinewidth": 0,
              "ticks": ""
             }
            },
            "marker": {
             "colorbar": {
              "outlinewidth": 0,
              "ticks": ""
             }
            },
            "type": "scatter3d"
           }
          ],
          "scattercarpet": [
           {
            "marker": {
             "colorbar": {
              "outlinewidth": 0,
              "ticks": ""
             }
            },
            "type": "scattercarpet"
           }
          ],
          "scattergeo": [
           {
            "marker": {
             "colorbar": {
              "outlinewidth": 0,
              "ticks": ""
             }
            },
            "type": "scattergeo"
           }
          ],
          "scattergl": [
           {
            "marker": {
             "colorbar": {
              "outlinewidth": 0,
              "ticks": ""
             }
            },
            "type": "scattergl"
           }
          ],
          "scattermapbox": [
           {
            "marker": {
             "colorbar": {
              "outlinewidth": 0,
              "ticks": ""
             }
            },
            "type": "scattermapbox"
           }
          ],
          "scatterpolar": [
           {
            "marker": {
             "colorbar": {
              "outlinewidth": 0,
              "ticks": ""
             }
            },
            "type": "scatterpolar"
           }
          ],
          "scatterpolargl": [
           {
            "marker": {
             "colorbar": {
              "outlinewidth": 0,
              "ticks": ""
             }
            },
            "type": "scatterpolargl"
           }
          ],
          "scatterternary": [
           {
            "marker": {
             "colorbar": {
              "outlinewidth": 0,
              "ticks": ""
             }
            },
            "type": "scatterternary"
           }
          ],
          "surface": [
           {
            "colorbar": {
             "outlinewidth": 0,
             "ticks": ""
            },
            "colorscale": [
             [
              0,
              "#0d0887"
             ],
             [
              0.1111111111111111,
              "#46039f"
             ],
             [
              0.2222222222222222,
              "#7201a8"
             ],
             [
              0.3333333333333333,
              "#9c179e"
             ],
             [
              0.4444444444444444,
              "#bd3786"
             ],
             [
              0.5555555555555556,
              "#d8576b"
             ],
             [
              0.6666666666666666,
              "#ed7953"
             ],
             [
              0.7777777777777778,
              "#fb9f3a"
             ],
             [
              0.8888888888888888,
              "#fdca26"
             ],
             [
              1,
              "#f0f921"
             ]
            ],
            "type": "surface"
           }
          ],
          "table": [
           {
            "cells": {
             "fill": {
              "color": "#EBF0F8"
             },
             "line": {
              "color": "white"
             }
            },
            "header": {
             "fill": {
              "color": "#C8D4E3"
             },
             "line": {
              "color": "white"
             }
            },
            "type": "table"
           }
          ]
         },
         "layout": {
          "annotationdefaults": {
           "arrowcolor": "#2a3f5f",
           "arrowhead": 0,
           "arrowwidth": 1
          },
          "autotypenumbers": "strict",
          "coloraxis": {
           "colorbar": {
            "outlinewidth": 0,
            "ticks": ""
           }
          },
          "colorscale": {
           "diverging": [
            [
             0,
             "#8e0152"
            ],
            [
             0.1,
             "#c51b7d"
            ],
            [
             0.2,
             "#de77ae"
            ],
            [
             0.3,
             "#f1b6da"
            ],
            [
             0.4,
             "#fde0ef"
            ],
            [
             0.5,
             "#f7f7f7"
            ],
            [
             0.6,
             "#e6f5d0"
            ],
            [
             0.7,
             "#b8e186"
            ],
            [
             0.8,
             "#7fbc41"
            ],
            [
             0.9,
             "#4d9221"
            ],
            [
             1,
             "#276419"
            ]
           ],
           "sequential": [
            [
             0,
             "#0d0887"
            ],
            [
             0.1111111111111111,
             "#46039f"
            ],
            [
             0.2222222222222222,
             "#7201a8"
            ],
            [
             0.3333333333333333,
             "#9c179e"
            ],
            [
             0.4444444444444444,
             "#bd3786"
            ],
            [
             0.5555555555555556,
             "#d8576b"
            ],
            [
             0.6666666666666666,
             "#ed7953"
            ],
            [
             0.7777777777777778,
             "#fb9f3a"
            ],
            [
             0.8888888888888888,
             "#fdca26"
            ],
            [
             1,
             "#f0f921"
            ]
           ],
           "sequentialminus": [
            [
             0,
             "#0d0887"
            ],
            [
             0.1111111111111111,
             "#46039f"
            ],
            [
             0.2222222222222222,
             "#7201a8"
            ],
            [
             0.3333333333333333,
             "#9c179e"
            ],
            [
             0.4444444444444444,
             "#bd3786"
            ],
            [
             0.5555555555555556,
             "#d8576b"
            ],
            [
             0.6666666666666666,
             "#ed7953"
            ],
            [
             0.7777777777777778,
             "#fb9f3a"
            ],
            [
             0.8888888888888888,
             "#fdca26"
            ],
            [
             1,
             "#f0f921"
            ]
           ]
          },
          "colorway": [
           "#636efa",
           "#EF553B",
           "#00cc96",
           "#ab63fa",
           "#FFA15A",
           "#19d3f3",
           "#FF6692",
           "#B6E880",
           "#FF97FF",
           "#FECB52"
          ],
          "font": {
           "color": "#2a3f5f"
          },
          "geo": {
           "bgcolor": "white",
           "lakecolor": "white",
           "landcolor": "#E5ECF6",
           "showlakes": true,
           "showland": true,
           "subunitcolor": "white"
          },
          "hoverlabel": {
           "align": "left"
          },
          "hovermode": "closest",
          "mapbox": {
           "style": "light"
          },
          "paper_bgcolor": "white",
          "plot_bgcolor": "#E5ECF6",
          "polar": {
           "angularaxis": {
            "gridcolor": "white",
            "linecolor": "white",
            "ticks": ""
           },
           "bgcolor": "#E5ECF6",
           "radialaxis": {
            "gridcolor": "white",
            "linecolor": "white",
            "ticks": ""
           }
          },
          "scene": {
           "xaxis": {
            "backgroundcolor": "#E5ECF6",
            "gridcolor": "white",
            "gridwidth": 2,
            "linecolor": "white",
            "showbackground": true,
            "ticks": "",
            "zerolinecolor": "white"
           },
           "yaxis": {
            "backgroundcolor": "#E5ECF6",
            "gridcolor": "white",
            "gridwidth": 2,
            "linecolor": "white",
            "showbackground": true,
            "ticks": "",
            "zerolinecolor": "white"
           },
           "zaxis": {
            "backgroundcolor": "#E5ECF6",
            "gridcolor": "white",
            "gridwidth": 2,
            "linecolor": "white",
            "showbackground": true,
            "ticks": "",
            "zerolinecolor": "white"
           }
          },
          "shapedefaults": {
           "line": {
            "color": "#2a3f5f"
           }
          },
          "ternary": {
           "aaxis": {
            "gridcolor": "white",
            "linecolor": "white",
            "ticks": ""
           },
           "baxis": {
            "gridcolor": "white",
            "linecolor": "white",
            "ticks": ""
           },
           "bgcolor": "#E5ECF6",
           "caxis": {
            "gridcolor": "white",
            "linecolor": "white",
            "ticks": ""
           }
          },
          "title": {
           "x": 0.05
          },
          "xaxis": {
           "automargin": true,
           "gridcolor": "white",
           "linecolor": "white",
           "ticks": "",
           "title": {
            "standoff": 15
           },
           "zerolinecolor": "white",
           "zerolinewidth": 2
          },
          "yaxis": {
           "automargin": true,
           "gridcolor": "white",
           "linecolor": "white",
           "ticks": "",
           "title": {
            "standoff": 15
           },
           "zerolinecolor": "white",
           "zerolinewidth": 2
          }
         }
        },
        "title": {
         "font": {
          "color": "#4D5663"
         }
        },
        "xaxis": {
         "gridcolor": "#E1E5ED",
         "showgrid": true,
         "tickfont": {
          "color": "#4D5663"
         },
         "title": {
          "font": {
           "color": "#4D5663"
          },
          "text": ""
         },
         "zerolinecolor": "#E1E5ED"
        },
        "yaxis": {
         "gridcolor": "#E1E5ED",
         "showgrid": true,
         "tickfont": {
          "color": "#4D5663"
         },
         "title": {
          "font": {
           "color": "#4D5663"
          },
          "text": ""
         },
         "zerolinecolor": "#E1E5ED"
        }
       }
      },
      "text/html": [
       "<div>                            <div id=\"cb5cc22e-cb2c-40fa-a782-02cc8de7937a\" class=\"plotly-graph-div\" style=\"height:525px; width:100%;\"></div>            <script type=\"text/javascript\">                require([\"plotly\"], function(Plotly) {                    window.PLOTLYENV=window.PLOTLYENV || {};\n",
       "                    window.PLOTLYENV.BASE_URL='https://plot.ly';                                    if (document.getElementById(\"cb5cc22e-cb2c-40fa-a782-02cc8de7937a\")) {                    Plotly.newPlot(                        \"cb5cc22e-cb2c-40fa-a782-02cc8de7937a\",                        [{\"boxpoints\":false,\"line\":{\"width\":1.3},\"marker\":{\"color\":\"rgba(255, 153, 51, 1.0)\"},\"name\":\"A\",\"orientation\":\"v\",\"y\":[1.271671286958233,-2.172408915978876,1.7854365286371727,1.5799705135342348,0.5171449831935606,-0.738836448224735,-1.8144196577454883,0.6426229098950454,-0.6636473476440262,-1.00280947283931,-0.23427784176035332,2.350590946817898,-0.772872337152085,0.06721304131837574,-0.3380988576289599,-1.032927158724717,-0.4301694538498191,-0.6795763232900397,1.6746112402990454,-0.8071433538687962,-0.7301921401287503,-1.974766933366033,-1.2606638273598736,-0.14780583520530913,-0.30352793700047676,1.7608134785833829,1.8601966055560195,-0.7318941199356979,0.9881810889499792,1.2157909902610062,1.700833223803107,-0.03702641197653624,0.2685661133985728,-1.1540228701071364,-2.451284896900468,-0.6251852288829398,-0.6874066773430462,0.820850283868299,0.08442426464027586,0.6072766750939735,0.920499680386307,0.05005835511080823,1.649623201071434,0.11541833072015947,1.7441869252115747,0.3936830830921386,0.5152496115529626,1.7784524803055681,0.9419614134044356,-0.29177154982575987,-1.3783653483867588,0.9915959148343668,-0.40952344237860894,-0.6503507398847784,-0.2633247272517648,2.373729941368112,1.0409871870552478,-0.22852304522578715,-0.9982703819338618,-0.3968154813092077,-0.5617296882171342,-1.1346920922423802,0.5549905627104234,1.2967314166335604,0.2436695236624341,0.7769124747016123,2.2452054275190347,-0.823378225352857,0.9128352696742315,0.35267974946978997,-0.4916034171442968,0.35067090693594716,0.8292806012849196,1.3347709310432276,-0.5373920254195184,-2.112500723883234,-0.7694046864432289,0.7797256904311618,1.765595606686072,3.3627198690793323,-0.3076120808124946,-0.4285964521753026,0.531109847573406,-1.4629177205405783,0.8655379339108681,-0.49880559284931575,-0.47027222429519455,-1.6292499051374218,-0.07509143409175767,-1.0138651146690272,0.031127129211921862,-0.21735199281501266,0.02340260280010591,0.1357923014492216,-0.5432535568717444,2.287360729985298,-0.5650535168514119,0.3144488908793118,0.7106693119223403,-0.5269749040598086],\"type\":\"box\"},{\"boxpoints\":false,\"line\":{\"width\":1.3},\"marker\":{\"color\":\"rgba(55, 128, 191, 1.0)\"},\"name\":\"B\",\"orientation\":\"v\",\"y\":[-0.16272276040128936,0.7044986616881509,-3.1681590356748073,-0.4672001763129714,-0.31376620799253974,-0.5060581049498075,0.2704134271091462,-1.0229185417941054,-0.4961033903517738,0.6558721387107035,1.29186875327626,-1.5228271863433263,0.2346838303022486,-0.3539977200915892,1.1691767623198108,-0.15996799072360515,0.5835225744706318,0.2826237194233615,1.0659972007300325,-0.3879827255662256,-0.062233085977681166,-1.9704497431985206,-0.4323527048118112,-1.4209748903881405,-0.39646952828904025,-0.5330063251499289,0.6679417308521448,-0.52687230266114,-0.29564344639543116,-1.1788525999577755,-0.28200650244590725,-1.348594908250399,0.46037407721809376,-1.661032228224993,-0.8521494244571879,0.8418282719092218,-0.030946699555730282,0.8745270526457853,0.9236753971552883,0.002520505287537238,-0.6280134473910527,0.053418733854069776,-0.7099950695826408,0.45411841071298126,-0.1140285667950381,0.06784634512858456,0.9151555874440334,-1.0518497119831198,-0.8695055022189785,0.3636477438583736,-0.5758866931978616,-2.7048446150366017,0.053486454456806755,0.19709604180075288,-0.10599409895899331,1.289887828418673,0.2300267525465255,-0.7113701904602237,0.26506560404880775,-1.012652872010664,0.15135646644187953,0.5799854650566798,1.0887180107837493,1.4914586766891302,0.3672033428097803,1.1058459674371697,-1.1037543094206794,-0.7727398887207035,-0.256736556836982,-1.2056500675059685,-2.255492532473808,-0.4891770094355169,0.21185992687337646,1.6267167557827436,1.3624949864552849,0.5159284067924745,0.35663638396301744,-0.2104491465765928,0.28703359748779417,0.18707846870748404,0.9973777188764106,-0.11279170657735568,-0.3733935424177511,-0.964577374165736,0.07320496681842414,1.4354674409574493,0.35705828540155327,-0.26255279221395544,0.05764879251803963,-0.4479876335172284,-1.2406167000734456,-0.24554362450471798,0.2675657513139322,0.48698843493522,0.8717286775220626,0.38367709472602407,0.4869880369464998,-0.18782178877356678,1.1980849722535623,0.6852752458776807],\"type\":\"box\"},{\"boxpoints\":false,\"line\":{\"width\":1.3},\"marker\":{\"color\":\"rgba(50, 171, 96, 1.0)\"},\"name\":\"C\",\"orientation\":\"v\",\"y\":[-1.1272730642886264,0.4651189902515295,-1.4454347739122737,1.0279079519482663,1.1597304505685488,0.2748815117495381,1.104194961757863,-0.2290185011173507,0.15953594410562186,0.562339771980812,-0.8761502287169275,0.7912027271630951,-0.6209812755003381,0.032737755124431854,-1.5549609906684134,-0.33515092447103934,0.194459932524018,0.6494585970289132,-0.6893928623391945,0.9148149797189422,-0.5895666919039746,-0.10211652943550073,-0.6760910234409082,-0.3727048871600237,2.428985789791552,0.5130043188351135,0.5972076013366243,1.009203557743515,1.9045900982200739,0.6178807122127871,-0.6278933094372934,1.590850405219824,-0.36795986813056264,1.66351099652182,-0.44389827906571283,-0.05345271265392464,0.6207589631433975,0.6437974044230873,-0.5878286892911038,1.174098637950353,-1.6090012185329858,1.658044211840498,-0.4123398017075408,0.19145075399432507,-0.2640651240457925,-0.6863610251224573,-0.09469602496774447,0.35119148793087446,0.026919470255186696,-0.16076589280933315,0.24804911234882118,-0.5950410970752406,-0.233570069640491,0.44167872370361516,0.038790044898560805,0.4526309109038116,0.18424074154879694,1.119882167831072,0.9531270156065279,0.8760895341334429,0.8068324040628525,-0.6161085347247628,0.22092153272906404,-0.7348727228788727,-0.3457836593283543,-0.35461194797696516,7.957593078923664e-05,-0.9314612407832846,0.6413911111570009,-0.42063095801144307,0.34326356603266805,1.6585243155630653,0.49641840775633916,-0.4559595375059727,1.8002833734246106,-0.5893485427493795,2.4409791593304915,2.1111406260814785,0.5717692342256324,0.4969059820132727,0.3667612685062775,-1.7207693503108104,-0.3780945698859745,0.9861281520336582,0.43769332640057695,-0.09825573369075614,-1.0655310736542085,-0.28337592874224027,0.5914522835671088,-1.1441736058441683,2.0939824152404967,1.545860871172858,-0.4658606262369593,1.0739808543369476,0.10316628689757296,-0.8250123725904674,0.3179683453832489,1.7120063950923825,2.399034422412584,1.084630479883858],\"type\":\"box\"},{\"boxpoints\":false,\"line\":{\"width\":1.3},\"marker\":{\"color\":\"rgba(128, 0, 128, 1.0)\"},\"name\":\"D\",\"orientation\":\"v\",\"y\":[-0.33024030884163036,-0.2523030735995534,-0.26180473103230223,-0.9723998035202468,1.1938252816314854,1.5879020392307879,1.124581352617844,-0.5941489950526395,-1.6007874960039579,2.057262323788016,0.7718883139284151,-0.2173777906630994,-1.6419730891986393,-0.14080583038493127,0.44002463185174934,0.07885168288341862,0.984212271626107,-1.1472398918765907,0.21153320221849023,-1.974807640083881,-1.1644959819637613,-1.2237455619221056,0.34578100988560473,-0.5217157483023667,-1.270290747916724,0.7491767957609144,2.644266078029767,-1.6406401948550957,1.0322499071462257,0.6887910644533315,0.32287907932850624,1.4989591201474028,-1.1991161411912088,-0.8920601546409503,0.6400442351261533,-0.47165416077286754,-0.4548982919516317,0.12415938669496829,-0.4247846425283389,-0.9156633119828546,1.4581552202445693,-1.5763818308364506,0.21152281160136105,0.06341412438401173,0.6798819630360923,1.5250532395213547,0.4218008104000734,1.3304872068583076,-1.7863931171311287,0.03882887739452606,-0.2999883606054231,0.14013821996232273,-1.4750819545560712,0.6671091889997084,-0.36788116976311264,0.015900905065900306,1.1184055509960755,-1.1608114921416226,-0.3201716786888437,-1.079402033541682,-0.04246988206278477,-0.43415589253483394,-1.087880851337657,-0.37922593084677414,1.6207908071143207,-0.8540825557908546,-1.076789785101322,1.8518210072958456,0.7508158404618406,-0.8021722588853217,-0.530266045981944,-1.0201028827629512,-0.18763082062703867,-1.1124134439639035,-0.060021475110751454,0.022480385141118605,-0.06130935854797956,-1.3412760445635994,0.1467524014787332,-0.031133312042740384,0.43515983911470957,0.7900703994178605,0.5418804340396783,-0.715718752248988,1.5385736218598856,0.10305063865747505,0.23074339533619892,-0.08945389350799786,0.8315569985295567,-2.178527148123283,1.0627661204823748,-1.7001961939953165,0.5533018938128142,0.5994346030753849,1.3425970461467547,-0.40497516633433484,2.062920764596815,-1.3395678968380955,0.425148566114341,-2.006033755250181],\"type\":\"box\"}],                        {\"legend\":{\"bgcolor\":\"#F5F6F9\",\"font\":{\"color\":\"#4D5663\"}},\"paper_bgcolor\":\"#F5F6F9\",\"plot_bgcolor\":\"#F5F6F9\",\"template\":{\"data\":{\"barpolar\":[{\"marker\":{\"line\":{\"color\":\"#E5ECF6\",\"width\":0.5},\"pattern\":{\"fillmode\":\"overlay\",\"size\":10,\"solidity\":0.2}},\"type\":\"barpolar\"}],\"bar\":[{\"error_x\":{\"color\":\"#2a3f5f\"},\"error_y\":{\"color\":\"#2a3f5f\"},\"marker\":{\"line\":{\"color\":\"#E5ECF6\",\"width\":0.5},\"pattern\":{\"fillmode\":\"overlay\",\"size\":10,\"solidity\":0.2}},\"type\":\"bar\"}],\"carpet\":[{\"aaxis\":{\"endlinecolor\":\"#2a3f5f\",\"gridcolor\":\"white\",\"linecolor\":\"white\",\"minorgridcolor\":\"white\",\"startlinecolor\":\"#2a3f5f\"},\"baxis\":{\"endlinecolor\":\"#2a3f5f\",\"gridcolor\":\"white\",\"linecolor\":\"white\",\"minorgridcolor\":\"white\",\"startlinecolor\":\"#2a3f5f\"},\"type\":\"carpet\"}],\"choropleth\":[{\"colorbar\":{\"outlinewidth\":0,\"ticks\":\"\"},\"type\":\"choropleth\"}],\"contourcarpet\":[{\"colorbar\":{\"outlinewidth\":0,\"ticks\":\"\"},\"type\":\"contourcarpet\"}],\"contour\":[{\"colorbar\":{\"outlinewidth\":0,\"ticks\":\"\"},\"colorscale\":[[0.0,\"#0d0887\"],[0.1111111111111111,\"#46039f\"],[0.2222222222222222,\"#7201a8\"],[0.3333333333333333,\"#9c179e\"],[0.4444444444444444,\"#bd3786\"],[0.5555555555555556,\"#d8576b\"],[0.6666666666666666,\"#ed7953\"],[0.7777777777777778,\"#fb9f3a\"],[0.8888888888888888,\"#fdca26\"],[1.0,\"#f0f921\"]],\"type\":\"contour\"}],\"heatmapgl\":[{\"colorbar\":{\"outlinewidth\":0,\"ticks\":\"\"},\"colorscale\":[[0.0,\"#0d0887\"],[0.1111111111111111,\"#46039f\"],[0.2222222222222222,\"#7201a8\"],[0.3333333333333333,\"#9c179e\"],[0.4444444444444444,\"#bd3786\"],[0.5555555555555556,\"#d8576b\"],[0.6666666666666666,\"#ed7953\"],[0.7777777777777778,\"#fb9f3a\"],[0.8888888888888888,\"#fdca26\"],[1.0,\"#f0f921\"]],\"type\":\"heatmapgl\"}],\"heatmap\":[{\"colorbar\":{\"outlinewidth\":0,\"ticks\":\"\"},\"colorscale\":[[0.0,\"#0d0887\"],[0.1111111111111111,\"#46039f\"],[0.2222222222222222,\"#7201a8\"],[0.3333333333333333,\"#9c179e\"],[0.4444444444444444,\"#bd3786\"],[0.5555555555555556,\"#d8576b\"],[0.6666666666666666,\"#ed7953\"],[0.7777777777777778,\"#fb9f3a\"],[0.8888888888888888,\"#fdca26\"],[1.0,\"#f0f921\"]],\"type\":\"heatmap\"}],\"histogram2dcontour\":[{\"colorbar\":{\"outlinewidth\":0,\"ticks\":\"\"},\"colorscale\":[[0.0,\"#0d0887\"],[0.1111111111111111,\"#46039f\"],[0.2222222222222222,\"#7201a8\"],[0.3333333333333333,\"#9c179e\"],[0.4444444444444444,\"#bd3786\"],[0.5555555555555556,\"#d8576b\"],[0.6666666666666666,\"#ed7953\"],[0.7777777777777778,\"#fb9f3a\"],[0.8888888888888888,\"#fdca26\"],[1.0,\"#f0f921\"]],\"type\":\"histogram2dcontour\"}],\"histogram2d\":[{\"colorbar\":{\"outlinewidth\":0,\"ticks\":\"\"},\"colorscale\":[[0.0,\"#0d0887\"],[0.1111111111111111,\"#46039f\"],[0.2222222222222222,\"#7201a8\"],[0.3333333333333333,\"#9c179e\"],[0.4444444444444444,\"#bd3786\"],[0.5555555555555556,\"#d8576b\"],[0.6666666666666666,\"#ed7953\"],[0.7777777777777778,\"#fb9f3a\"],[0.8888888888888888,\"#fdca26\"],[1.0,\"#f0f921\"]],\"type\":\"histogram2d\"}],\"histogram\":[{\"marker\":{\"pattern\":{\"fillmode\":\"overlay\",\"size\":10,\"solidity\":0.2}},\"type\":\"histogram\"}],\"mesh3d\":[{\"colorbar\":{\"outlinewidth\":0,\"ticks\":\"\"},\"type\":\"mesh3d\"}],\"parcoords\":[{\"line\":{\"colorbar\":{\"outlinewidth\":0,\"ticks\":\"\"}},\"type\":\"parcoords\"}],\"pie\":[{\"automargin\":true,\"type\":\"pie\"}],\"scatter3d\":[{\"line\":{\"colorbar\":{\"outlinewidth\":0,\"ticks\":\"\"}},\"marker\":{\"colorbar\":{\"outlinewidth\":0,\"ticks\":\"\"}},\"type\":\"scatter3d\"}],\"scattercarpet\":[{\"marker\":{\"colorbar\":{\"outlinewidth\":0,\"ticks\":\"\"}},\"type\":\"scattercarpet\"}],\"scattergeo\":[{\"marker\":{\"colorbar\":{\"outlinewidth\":0,\"ticks\":\"\"}},\"type\":\"scattergeo\"}],\"scattergl\":[{\"marker\":{\"colorbar\":{\"outlinewidth\":0,\"ticks\":\"\"}},\"type\":\"scattergl\"}],\"scattermapbox\":[{\"marker\":{\"colorbar\":{\"outlinewidth\":0,\"ticks\":\"\"}},\"type\":\"scattermapbox\"}],\"scatterpolargl\":[{\"marker\":{\"colorbar\":{\"outlinewidth\":0,\"ticks\":\"\"}},\"type\":\"scatterpolargl\"}],\"scatterpolar\":[{\"marker\":{\"colorbar\":{\"outlinewidth\":0,\"ticks\":\"\"}},\"type\":\"scatterpolar\"}],\"scatter\":[{\"fillpattern\":{\"fillmode\":\"overlay\",\"size\":10,\"solidity\":0.2},\"type\":\"scatter\"}],\"scatterternary\":[{\"marker\":{\"colorbar\":{\"outlinewidth\":0,\"ticks\":\"\"}},\"type\":\"scatterternary\"}],\"surface\":[{\"colorbar\":{\"outlinewidth\":0,\"ticks\":\"\"},\"colorscale\":[[0.0,\"#0d0887\"],[0.1111111111111111,\"#46039f\"],[0.2222222222222222,\"#7201a8\"],[0.3333333333333333,\"#9c179e\"],[0.4444444444444444,\"#bd3786\"],[0.5555555555555556,\"#d8576b\"],[0.6666666666666666,\"#ed7953\"],[0.7777777777777778,\"#fb9f3a\"],[0.8888888888888888,\"#fdca26\"],[1.0,\"#f0f921\"]],\"type\":\"surface\"}],\"table\":[{\"cells\":{\"fill\":{\"color\":\"#EBF0F8\"},\"line\":{\"color\":\"white\"}},\"header\":{\"fill\":{\"color\":\"#C8D4E3\"},\"line\":{\"color\":\"white\"}},\"type\":\"table\"}]},\"layout\":{\"annotationdefaults\":{\"arrowcolor\":\"#2a3f5f\",\"arrowhead\":0,\"arrowwidth\":1},\"autotypenumbers\":\"strict\",\"coloraxis\":{\"colorbar\":{\"outlinewidth\":0,\"ticks\":\"\"}},\"colorscale\":{\"diverging\":[[0,\"#8e0152\"],[0.1,\"#c51b7d\"],[0.2,\"#de77ae\"],[0.3,\"#f1b6da\"],[0.4,\"#fde0ef\"],[0.5,\"#f7f7f7\"],[0.6,\"#e6f5d0\"],[0.7,\"#b8e186\"],[0.8,\"#7fbc41\"],[0.9,\"#4d9221\"],[1,\"#276419\"]],\"sequential\":[[0.0,\"#0d0887\"],[0.1111111111111111,\"#46039f\"],[0.2222222222222222,\"#7201a8\"],[0.3333333333333333,\"#9c179e\"],[0.4444444444444444,\"#bd3786\"],[0.5555555555555556,\"#d8576b\"],[0.6666666666666666,\"#ed7953\"],[0.7777777777777778,\"#fb9f3a\"],[0.8888888888888888,\"#fdca26\"],[1.0,\"#f0f921\"]],\"sequentialminus\":[[0.0,\"#0d0887\"],[0.1111111111111111,\"#46039f\"],[0.2222222222222222,\"#7201a8\"],[0.3333333333333333,\"#9c179e\"],[0.4444444444444444,\"#bd3786\"],[0.5555555555555556,\"#d8576b\"],[0.6666666666666666,\"#ed7953\"],[0.7777777777777778,\"#fb9f3a\"],[0.8888888888888888,\"#fdca26\"],[1.0,\"#f0f921\"]]},\"colorway\":[\"#636efa\",\"#EF553B\",\"#00cc96\",\"#ab63fa\",\"#FFA15A\",\"#19d3f3\",\"#FF6692\",\"#B6E880\",\"#FF97FF\",\"#FECB52\"],\"font\":{\"color\":\"#2a3f5f\"},\"geo\":{\"bgcolor\":\"white\",\"lakecolor\":\"white\",\"landcolor\":\"#E5ECF6\",\"showlakes\":true,\"showland\":true,\"subunitcolor\":\"white\"},\"hoverlabel\":{\"align\":\"left\"},\"hovermode\":\"closest\",\"mapbox\":{\"style\":\"light\"},\"paper_bgcolor\":\"white\",\"plot_bgcolor\":\"#E5ECF6\",\"polar\":{\"angularaxis\":{\"gridcolor\":\"white\",\"linecolor\":\"white\",\"ticks\":\"\"},\"bgcolor\":\"#E5ECF6\",\"radialaxis\":{\"gridcolor\":\"white\",\"linecolor\":\"white\",\"ticks\":\"\"}},\"scene\":{\"xaxis\":{\"backgroundcolor\":\"#E5ECF6\",\"gridcolor\":\"white\",\"gridwidth\":2,\"linecolor\":\"white\",\"showbackground\":true,\"ticks\":\"\",\"zerolinecolor\":\"white\"},\"yaxis\":{\"backgroundcolor\":\"#E5ECF6\",\"gridcolor\":\"white\",\"gridwidth\":2,\"linecolor\":\"white\",\"showbackground\":true,\"ticks\":\"\",\"zerolinecolor\":\"white\"},\"zaxis\":{\"backgroundcolor\":\"#E5ECF6\",\"gridcolor\":\"white\",\"gridwidth\":2,\"linecolor\":\"white\",\"showbackground\":true,\"ticks\":\"\",\"zerolinecolor\":\"white\"}},\"shapedefaults\":{\"line\":{\"color\":\"#2a3f5f\"}},\"ternary\":{\"aaxis\":{\"gridcolor\":\"white\",\"linecolor\":\"white\",\"ticks\":\"\"},\"baxis\":{\"gridcolor\":\"white\",\"linecolor\":\"white\",\"ticks\":\"\"},\"bgcolor\":\"#E5ECF6\",\"caxis\":{\"gridcolor\":\"white\",\"linecolor\":\"white\",\"ticks\":\"\"}},\"title\":{\"x\":0.05},\"xaxis\":{\"automargin\":true,\"gridcolor\":\"white\",\"linecolor\":\"white\",\"ticks\":\"\",\"title\":{\"standoff\":15},\"zerolinecolor\":\"white\",\"zerolinewidth\":2},\"yaxis\":{\"automargin\":true,\"gridcolor\":\"white\",\"linecolor\":\"white\",\"ticks\":\"\",\"title\":{\"standoff\":15},\"zerolinecolor\":\"white\",\"zerolinewidth\":2}}},\"title\":{\"font\":{\"color\":\"#4D5663\"}},\"xaxis\":{\"gridcolor\":\"#E1E5ED\",\"showgrid\":true,\"tickfont\":{\"color\":\"#4D5663\"},\"title\":{\"font\":{\"color\":\"#4D5663\"},\"text\":\"\"},\"zerolinecolor\":\"#E1E5ED\"},\"yaxis\":{\"gridcolor\":\"#E1E5ED\",\"showgrid\":true,\"tickfont\":{\"color\":\"#4D5663\"},\"title\":{\"font\":{\"color\":\"#4D5663\"},\"text\":\"\"},\"zerolinecolor\":\"#E1E5ED\"}},                        {\"showLink\": true, \"linkText\": \"Export to plot.ly\", \"plotlyServerURL\": \"https://plot.ly\", \"responsive\": true}                    ).then(function(){\n",
       "                            \n",
       "var gd = document.getElementById('cb5cc22e-cb2c-40fa-a782-02cc8de7937a');\n",
       "var x = new MutationObserver(function (mutations, observer) {{\n",
       "        var display = window.getComputedStyle(gd).display;\n",
       "        if (!display || display === 'none') {{\n",
       "            console.log([gd, 'removed!']);\n",
       "            Plotly.purge(gd);\n",
       "            observer.disconnect();\n",
       "        }}\n",
       "}});\n",
       "\n",
       "// Listen for the removal of the full notebook cells\n",
       "var notebookContainer = gd.closest('#notebook-container');\n",
       "if (notebookContainer) {{\n",
       "    x.observe(notebookContainer, {childList: true});\n",
       "}}\n",
       "\n",
       "// Listen for the clearing of the current output cell\n",
       "var outputEl = gd.closest('.output');\n",
       "if (outputEl) {{\n",
       "    x.observe(outputEl, {childList: true});\n",
       "}}\n",
       "\n",
       "                        })                };                });            </script>        </div>"
      ]
     },
     "metadata": {},
     "output_type": "display_data"
    }
   ],
   "source": [
    "df.iplot(kind=\"box\")"
   ]
  },
  {
   "cell_type": "code",
   "execution_count": 84,
   "metadata": {},
   "outputs": [
    {
     "data": {
      "text/plain": [
       "A    3.362720\n",
       "B    1.626717\n",
       "C    2.440979\n",
       "D    2.644266\n",
       "dtype: float64"
      ]
     },
     "execution_count": 84,
     "metadata": {},
     "output_type": "execute_result"
    }
   ],
   "source": [
    "df.max()"
   ]
  },
  {
   "cell_type": "code",
   "execution_count": 85,
   "metadata": {},
   "outputs": [
    {
     "data": {
      "text/html": [
       "<div>\n",
       "<style scoped>\n",
       "    .dataframe tbody tr th:only-of-type {\n",
       "        vertical-align: middle;\n",
       "    }\n",
       "\n",
       "    .dataframe tbody tr th {\n",
       "        vertical-align: top;\n",
       "    }\n",
       "\n",
       "    .dataframe thead th {\n",
       "        text-align: right;\n",
       "    }\n",
       "</style>\n",
       "<table border=\"1\" class=\"dataframe\">\n",
       "  <thead>\n",
       "    <tr style=\"text-align: right;\">\n",
       "      <th></th>\n",
       "      <th>x</th>\n",
       "      <th>y</th>\n",
       "      <th>z</th>\n",
       "    </tr>\n",
       "  </thead>\n",
       "  <tbody>\n",
       "    <tr>\n",
       "      <th>0</th>\n",
       "      <td>1</td>\n",
       "      <td>10</td>\n",
       "      <td>5</td>\n",
       "    </tr>\n",
       "    <tr>\n",
       "      <th>1</th>\n",
       "      <td>2</td>\n",
       "      <td>20</td>\n",
       "      <td>4</td>\n",
       "    </tr>\n",
       "    <tr>\n",
       "      <th>2</th>\n",
       "      <td>3</td>\n",
       "      <td>30</td>\n",
       "      <td>3</td>\n",
       "    </tr>\n",
       "    <tr>\n",
       "      <th>3</th>\n",
       "      <td>4</td>\n",
       "      <td>20</td>\n",
       "      <td>2</td>\n",
       "    </tr>\n",
       "    <tr>\n",
       "      <th>4</th>\n",
       "      <td>5</td>\n",
       "      <td>30</td>\n",
       "      <td>1</td>\n",
       "    </tr>\n",
       "  </tbody>\n",
       "</table>\n",
       "</div>"
      ],
      "text/plain": [
       "   x   y  z\n",
       "0  1  10  5\n",
       "1  2  20  4\n",
       "2  3  30  3\n",
       "3  4  20  2\n",
       "4  5  30  1"
      ]
     },
     "execution_count": 85,
     "metadata": {},
     "output_type": "execute_result"
    }
   ],
   "source": [
    "pd3 = pd.DataFrame({\"x\":[1,2,3,4,5],\"y\":[10,20,30,20,30], \"z\": [5,4,3,2,1]})\n",
    "pd3"
   ]
  },
  {
   "cell_type": "code",
   "execution_count": 86,
   "metadata": {},
   "outputs": [
    {
     "data": {
      "application/vnd.plotly.v1+json": {
       "config": {
        "linkText": "Export to plot.ly",
        "plotlyServerURL": "https://plot.ly",
        "showLink": true
       },
       "data": [
        {
         "colorscale": [
          [
           0,
           "rgb(165,0,38)"
          ],
          [
           0.1,
           "rgb(215,48,39)"
          ],
          [
           0.2,
           "rgb(244,109,67)"
          ],
          [
           0.3,
           "rgb(253,174,97)"
          ],
          [
           0.4,
           "rgb(254,224,144)"
          ],
          [
           0.5,
           "rgb(255,255,191)"
          ],
          [
           0.6,
           "rgb(224,243,248)"
          ],
          [
           0.7,
           "rgb(171,217,233)"
          ],
          [
           0.8,
           "rgb(116,173,209)"
          ],
          [
           0.9,
           "rgb(69,117,180)"
          ],
          [
           1,
           "rgb(49,54,149)"
          ]
         ],
         "type": "surface",
         "x": [
          0,
          1,
          2,
          3,
          4
         ],
         "y": [
          "x",
          "y",
          "z"
         ],
         "z": [
          [
           1,
           2,
           3,
           4,
           5
          ],
          [
           10,
           20,
           30,
           20,
           30
          ],
          [
           5,
           4,
           3,
           2,
           1
          ]
         ]
        }
       ],
       "layout": {
        "legend": {
         "bgcolor": "#F5F6F9",
         "font": {
          "color": "#4D5663"
         }
        },
        "paper_bgcolor": "#F5F6F9",
        "plot_bgcolor": "#F5F6F9",
        "template": {
         "data": {
          "bar": [
           {
            "error_x": {
             "color": "#2a3f5f"
            },
            "error_y": {
             "color": "#2a3f5f"
            },
            "marker": {
             "line": {
              "color": "#E5ECF6",
              "width": 0.5
             },
             "pattern": {
              "fillmode": "overlay",
              "size": 10,
              "solidity": 0.2
             }
            },
            "type": "bar"
           }
          ],
          "barpolar": [
           {
            "marker": {
             "line": {
              "color": "#E5ECF6",
              "width": 0.5
             },
             "pattern": {
              "fillmode": "overlay",
              "size": 10,
              "solidity": 0.2
             }
            },
            "type": "barpolar"
           }
          ],
          "carpet": [
           {
            "aaxis": {
             "endlinecolor": "#2a3f5f",
             "gridcolor": "white",
             "linecolor": "white",
             "minorgridcolor": "white",
             "startlinecolor": "#2a3f5f"
            },
            "baxis": {
             "endlinecolor": "#2a3f5f",
             "gridcolor": "white",
             "linecolor": "white",
             "minorgridcolor": "white",
             "startlinecolor": "#2a3f5f"
            },
            "type": "carpet"
           }
          ],
          "choropleth": [
           {
            "colorbar": {
             "outlinewidth": 0,
             "ticks": ""
            },
            "type": "choropleth"
           }
          ],
          "contour": [
           {
            "colorbar": {
             "outlinewidth": 0,
             "ticks": ""
            },
            "colorscale": [
             [
              0,
              "#0d0887"
             ],
             [
              0.1111111111111111,
              "#46039f"
             ],
             [
              0.2222222222222222,
              "#7201a8"
             ],
             [
              0.3333333333333333,
              "#9c179e"
             ],
             [
              0.4444444444444444,
              "#bd3786"
             ],
             [
              0.5555555555555556,
              "#d8576b"
             ],
             [
              0.6666666666666666,
              "#ed7953"
             ],
             [
              0.7777777777777778,
              "#fb9f3a"
             ],
             [
              0.8888888888888888,
              "#fdca26"
             ],
             [
              1,
              "#f0f921"
             ]
            ],
            "type": "contour"
           }
          ],
          "contourcarpet": [
           {
            "colorbar": {
             "outlinewidth": 0,
             "ticks": ""
            },
            "type": "contourcarpet"
           }
          ],
          "heatmap": [
           {
            "colorbar": {
             "outlinewidth": 0,
             "ticks": ""
            },
            "colorscale": [
             [
              0,
              "#0d0887"
             ],
             [
              0.1111111111111111,
              "#46039f"
             ],
             [
              0.2222222222222222,
              "#7201a8"
             ],
             [
              0.3333333333333333,
              "#9c179e"
             ],
             [
              0.4444444444444444,
              "#bd3786"
             ],
             [
              0.5555555555555556,
              "#d8576b"
             ],
             [
              0.6666666666666666,
              "#ed7953"
             ],
             [
              0.7777777777777778,
              "#fb9f3a"
             ],
             [
              0.8888888888888888,
              "#fdca26"
             ],
             [
              1,
              "#f0f921"
             ]
            ],
            "type": "heatmap"
           }
          ],
          "heatmapgl": [
           {
            "colorbar": {
             "outlinewidth": 0,
             "ticks": ""
            },
            "colorscale": [
             [
              0,
              "#0d0887"
             ],
             [
              0.1111111111111111,
              "#46039f"
             ],
             [
              0.2222222222222222,
              "#7201a8"
             ],
             [
              0.3333333333333333,
              "#9c179e"
             ],
             [
              0.4444444444444444,
              "#bd3786"
             ],
             [
              0.5555555555555556,
              "#d8576b"
             ],
             [
              0.6666666666666666,
              "#ed7953"
             ],
             [
              0.7777777777777778,
              "#fb9f3a"
             ],
             [
              0.8888888888888888,
              "#fdca26"
             ],
             [
              1,
              "#f0f921"
             ]
            ],
            "type": "heatmapgl"
           }
          ],
          "histogram": [
           {
            "marker": {
             "pattern": {
              "fillmode": "overlay",
              "size": 10,
              "solidity": 0.2
             }
            },
            "type": "histogram"
           }
          ],
          "histogram2d": [
           {
            "colorbar": {
             "outlinewidth": 0,
             "ticks": ""
            },
            "colorscale": [
             [
              0,
              "#0d0887"
             ],
             [
              0.1111111111111111,
              "#46039f"
             ],
             [
              0.2222222222222222,
              "#7201a8"
             ],
             [
              0.3333333333333333,
              "#9c179e"
             ],
             [
              0.4444444444444444,
              "#bd3786"
             ],
             [
              0.5555555555555556,
              "#d8576b"
             ],
             [
              0.6666666666666666,
              "#ed7953"
             ],
             [
              0.7777777777777778,
              "#fb9f3a"
             ],
             [
              0.8888888888888888,
              "#fdca26"
             ],
             [
              1,
              "#f0f921"
             ]
            ],
            "type": "histogram2d"
           }
          ],
          "histogram2dcontour": [
           {
            "colorbar": {
             "outlinewidth": 0,
             "ticks": ""
            },
            "colorscale": [
             [
              0,
              "#0d0887"
             ],
             [
              0.1111111111111111,
              "#46039f"
             ],
             [
              0.2222222222222222,
              "#7201a8"
             ],
             [
              0.3333333333333333,
              "#9c179e"
             ],
             [
              0.4444444444444444,
              "#bd3786"
             ],
             [
              0.5555555555555556,
              "#d8576b"
             ],
             [
              0.6666666666666666,
              "#ed7953"
             ],
             [
              0.7777777777777778,
              "#fb9f3a"
             ],
             [
              0.8888888888888888,
              "#fdca26"
             ],
             [
              1,
              "#f0f921"
             ]
            ],
            "type": "histogram2dcontour"
           }
          ],
          "mesh3d": [
           {
            "colorbar": {
             "outlinewidth": 0,
             "ticks": ""
            },
            "type": "mesh3d"
           }
          ],
          "parcoords": [
           {
            "line": {
             "colorbar": {
              "outlinewidth": 0,
              "ticks": ""
             }
            },
            "type": "parcoords"
           }
          ],
          "pie": [
           {
            "automargin": true,
            "type": "pie"
           }
          ],
          "scatter": [
           {
            "fillpattern": {
             "fillmode": "overlay",
             "size": 10,
             "solidity": 0.2
            },
            "type": "scatter"
           }
          ],
          "scatter3d": [
           {
            "line": {
             "colorbar": {
              "outlinewidth": 0,
              "ticks": ""
             }
            },
            "marker": {
             "colorbar": {
              "outlinewidth": 0,
              "ticks": ""
             }
            },
            "type": "scatter3d"
           }
          ],
          "scattercarpet": [
           {
            "marker": {
             "colorbar": {
              "outlinewidth": 0,
              "ticks": ""
             }
            },
            "type": "scattercarpet"
           }
          ],
          "scattergeo": [
           {
            "marker": {
             "colorbar": {
              "outlinewidth": 0,
              "ticks": ""
             }
            },
            "type": "scattergeo"
           }
          ],
          "scattergl": [
           {
            "marker": {
             "colorbar": {
              "outlinewidth": 0,
              "ticks": ""
             }
            },
            "type": "scattergl"
           }
          ],
          "scattermapbox": [
           {
            "marker": {
             "colorbar": {
              "outlinewidth": 0,
              "ticks": ""
             }
            },
            "type": "scattermapbox"
           }
          ],
          "scatterpolar": [
           {
            "marker": {
             "colorbar": {
              "outlinewidth": 0,
              "ticks": ""
             }
            },
            "type": "scatterpolar"
           }
          ],
          "scatterpolargl": [
           {
            "marker": {
             "colorbar": {
              "outlinewidth": 0,
              "ticks": ""
             }
            },
            "type": "scatterpolargl"
           }
          ],
          "scatterternary": [
           {
            "marker": {
             "colorbar": {
              "outlinewidth": 0,
              "ticks": ""
             }
            },
            "type": "scatterternary"
           }
          ],
          "surface": [
           {
            "colorbar": {
             "outlinewidth": 0,
             "ticks": ""
            },
            "colorscale": [
             [
              0,
              "#0d0887"
             ],
             [
              0.1111111111111111,
              "#46039f"
             ],
             [
              0.2222222222222222,
              "#7201a8"
             ],
             [
              0.3333333333333333,
              "#9c179e"
             ],
             [
              0.4444444444444444,
              "#bd3786"
             ],
             [
              0.5555555555555556,
              "#d8576b"
             ],
             [
              0.6666666666666666,
              "#ed7953"
             ],
             [
              0.7777777777777778,
              "#fb9f3a"
             ],
             [
              0.8888888888888888,
              "#fdca26"
             ],
             [
              1,
              "#f0f921"
             ]
            ],
            "type": "surface"
           }
          ],
          "table": [
           {
            "cells": {
             "fill": {
              "color": "#EBF0F8"
             },
             "line": {
              "color": "white"
             }
            },
            "header": {
             "fill": {
              "color": "#C8D4E3"
             },
             "line": {
              "color": "white"
             }
            },
            "type": "table"
           }
          ]
         },
         "layout": {
          "annotationdefaults": {
           "arrowcolor": "#2a3f5f",
           "arrowhead": 0,
           "arrowwidth": 1
          },
          "autotypenumbers": "strict",
          "coloraxis": {
           "colorbar": {
            "outlinewidth": 0,
            "ticks": ""
           }
          },
          "colorscale": {
           "diverging": [
            [
             0,
             "#8e0152"
            ],
            [
             0.1,
             "#c51b7d"
            ],
            [
             0.2,
             "#de77ae"
            ],
            [
             0.3,
             "#f1b6da"
            ],
            [
             0.4,
             "#fde0ef"
            ],
            [
             0.5,
             "#f7f7f7"
            ],
            [
             0.6,
             "#e6f5d0"
            ],
            [
             0.7,
             "#b8e186"
            ],
            [
             0.8,
             "#7fbc41"
            ],
            [
             0.9,
             "#4d9221"
            ],
            [
             1,
             "#276419"
            ]
           ],
           "sequential": [
            [
             0,
             "#0d0887"
            ],
            [
             0.1111111111111111,
             "#46039f"
            ],
            [
             0.2222222222222222,
             "#7201a8"
            ],
            [
             0.3333333333333333,
             "#9c179e"
            ],
            [
             0.4444444444444444,
             "#bd3786"
            ],
            [
             0.5555555555555556,
             "#d8576b"
            ],
            [
             0.6666666666666666,
             "#ed7953"
            ],
            [
             0.7777777777777778,
             "#fb9f3a"
            ],
            [
             0.8888888888888888,
             "#fdca26"
            ],
            [
             1,
             "#f0f921"
            ]
           ],
           "sequentialminus": [
            [
             0,
             "#0d0887"
            ],
            [
             0.1111111111111111,
             "#46039f"
            ],
            [
             0.2222222222222222,
             "#7201a8"
            ],
            [
             0.3333333333333333,
             "#9c179e"
            ],
            [
             0.4444444444444444,
             "#bd3786"
            ],
            [
             0.5555555555555556,
             "#d8576b"
            ],
            [
             0.6666666666666666,
             "#ed7953"
            ],
            [
             0.7777777777777778,
             "#fb9f3a"
            ],
            [
             0.8888888888888888,
             "#fdca26"
            ],
            [
             1,
             "#f0f921"
            ]
           ]
          },
          "colorway": [
           "#636efa",
           "#EF553B",
           "#00cc96",
           "#ab63fa",
           "#FFA15A",
           "#19d3f3",
           "#FF6692",
           "#B6E880",
           "#FF97FF",
           "#FECB52"
          ],
          "font": {
           "color": "#2a3f5f"
          },
          "geo": {
           "bgcolor": "white",
           "lakecolor": "white",
           "landcolor": "#E5ECF6",
           "showlakes": true,
           "showland": true,
           "subunitcolor": "white"
          },
          "hoverlabel": {
           "align": "left"
          },
          "hovermode": "closest",
          "mapbox": {
           "style": "light"
          },
          "paper_bgcolor": "white",
          "plot_bgcolor": "#E5ECF6",
          "polar": {
           "angularaxis": {
            "gridcolor": "white",
            "linecolor": "white",
            "ticks": ""
           },
           "bgcolor": "#E5ECF6",
           "radialaxis": {
            "gridcolor": "white",
            "linecolor": "white",
            "ticks": ""
           }
          },
          "scene": {
           "xaxis": {
            "backgroundcolor": "#E5ECF6",
            "gridcolor": "white",
            "gridwidth": 2,
            "linecolor": "white",
            "showbackground": true,
            "ticks": "",
            "zerolinecolor": "white"
           },
           "yaxis": {
            "backgroundcolor": "#E5ECF6",
            "gridcolor": "white",
            "gridwidth": 2,
            "linecolor": "white",
            "showbackground": true,
            "ticks": "",
            "zerolinecolor": "white"
           },
           "zaxis": {
            "backgroundcolor": "#E5ECF6",
            "gridcolor": "white",
            "gridwidth": 2,
            "linecolor": "white",
            "showbackground": true,
            "ticks": "",
            "zerolinecolor": "white"
           }
          },
          "shapedefaults": {
           "line": {
            "color": "#2a3f5f"
           }
          },
          "ternary": {
           "aaxis": {
            "gridcolor": "white",
            "linecolor": "white",
            "ticks": ""
           },
           "baxis": {
            "gridcolor": "white",
            "linecolor": "white",
            "ticks": ""
           },
           "bgcolor": "#E5ECF6",
           "caxis": {
            "gridcolor": "white",
            "linecolor": "white",
            "ticks": ""
           }
          },
          "title": {
           "x": 0.05
          },
          "xaxis": {
           "automargin": true,
           "gridcolor": "white",
           "linecolor": "white",
           "ticks": "",
           "title": {
            "standoff": 15
           },
           "zerolinecolor": "white",
           "zerolinewidth": 2
          },
          "yaxis": {
           "automargin": true,
           "gridcolor": "white",
           "linecolor": "white",
           "ticks": "",
           "title": {
            "standoff": 15
           },
           "zerolinecolor": "white",
           "zerolinewidth": 2
          }
         }
        },
        "title": {
         "font": {
          "color": "#4D5663"
         }
        },
        "xaxis": {
         "gridcolor": "#E1E5ED",
         "showgrid": true,
         "tickfont": {
          "color": "#4D5663"
         },
         "title": {
          "font": {
           "color": "#4D5663"
          },
          "text": ""
         },
         "zerolinecolor": "#E1E5ED"
        },
        "yaxis": {
         "gridcolor": "#E1E5ED",
         "showgrid": true,
         "tickfont": {
          "color": "#4D5663"
         },
         "title": {
          "font": {
           "color": "#4D5663"
          },
          "text": ""
         },
         "zerolinecolor": "#E1E5ED"
        }
       }
      },
      "text/html": [
       "<div>                            <div id=\"7fc067b6-9b04-4270-b1ed-4c6d234f0844\" class=\"plotly-graph-div\" style=\"height:525px; width:100%;\"></div>            <script type=\"text/javascript\">                require([\"plotly\"], function(Plotly) {                    window.PLOTLYENV=window.PLOTLYENV || {};\n",
       "                    window.PLOTLYENV.BASE_URL='https://plot.ly';                                    if (document.getElementById(\"7fc067b6-9b04-4270-b1ed-4c6d234f0844\")) {                    Plotly.newPlot(                        \"7fc067b6-9b04-4270-b1ed-4c6d234f0844\",                        [{\"colorscale\":[[0.0,\"rgb(165,0,38)\"],[0.1,\"rgb(215,48,39)\"],[0.2,\"rgb(244,109,67)\"],[0.3,\"rgb(253,174,97)\"],[0.4,\"rgb(254,224,144)\"],[0.5,\"rgb(255,255,191)\"],[0.6,\"rgb(224,243,248)\"],[0.7,\"rgb(171,217,233)\"],[0.8,\"rgb(116,173,209)\"],[0.9,\"rgb(69,117,180)\"],[1.0,\"rgb(49,54,149)\"]],\"x\":[0,1,2,3,4],\"y\":[\"x\",\"y\",\"z\"],\"z\":[[1,2,3,4,5],[10,20,30,20,30],[5,4,3,2,1]],\"type\":\"surface\"}],                        {\"legend\":{\"bgcolor\":\"#F5F6F9\",\"font\":{\"color\":\"#4D5663\"}},\"paper_bgcolor\":\"#F5F6F9\",\"plot_bgcolor\":\"#F5F6F9\",\"template\":{\"data\":{\"barpolar\":[{\"marker\":{\"line\":{\"color\":\"#E5ECF6\",\"width\":0.5},\"pattern\":{\"fillmode\":\"overlay\",\"size\":10,\"solidity\":0.2}},\"type\":\"barpolar\"}],\"bar\":[{\"error_x\":{\"color\":\"#2a3f5f\"},\"error_y\":{\"color\":\"#2a3f5f\"},\"marker\":{\"line\":{\"color\":\"#E5ECF6\",\"width\":0.5},\"pattern\":{\"fillmode\":\"overlay\",\"size\":10,\"solidity\":0.2}},\"type\":\"bar\"}],\"carpet\":[{\"aaxis\":{\"endlinecolor\":\"#2a3f5f\",\"gridcolor\":\"white\",\"linecolor\":\"white\",\"minorgridcolor\":\"white\",\"startlinecolor\":\"#2a3f5f\"},\"baxis\":{\"endlinecolor\":\"#2a3f5f\",\"gridcolor\":\"white\",\"linecolor\":\"white\",\"minorgridcolor\":\"white\",\"startlinecolor\":\"#2a3f5f\"},\"type\":\"carpet\"}],\"choropleth\":[{\"colorbar\":{\"outlinewidth\":0,\"ticks\":\"\"},\"type\":\"choropleth\"}],\"contourcarpet\":[{\"colorbar\":{\"outlinewidth\":0,\"ticks\":\"\"},\"type\":\"contourcarpet\"}],\"contour\":[{\"colorbar\":{\"outlinewidth\":0,\"ticks\":\"\"},\"colorscale\":[[0.0,\"#0d0887\"],[0.1111111111111111,\"#46039f\"],[0.2222222222222222,\"#7201a8\"],[0.3333333333333333,\"#9c179e\"],[0.4444444444444444,\"#bd3786\"],[0.5555555555555556,\"#d8576b\"],[0.6666666666666666,\"#ed7953\"],[0.7777777777777778,\"#fb9f3a\"],[0.8888888888888888,\"#fdca26\"],[1.0,\"#f0f921\"]],\"type\":\"contour\"}],\"heatmapgl\":[{\"colorbar\":{\"outlinewidth\":0,\"ticks\":\"\"},\"colorscale\":[[0.0,\"#0d0887\"],[0.1111111111111111,\"#46039f\"],[0.2222222222222222,\"#7201a8\"],[0.3333333333333333,\"#9c179e\"],[0.4444444444444444,\"#bd3786\"],[0.5555555555555556,\"#d8576b\"],[0.6666666666666666,\"#ed7953\"],[0.7777777777777778,\"#fb9f3a\"],[0.8888888888888888,\"#fdca26\"],[1.0,\"#f0f921\"]],\"type\":\"heatmapgl\"}],\"heatmap\":[{\"colorbar\":{\"outlinewidth\":0,\"ticks\":\"\"},\"colorscale\":[[0.0,\"#0d0887\"],[0.1111111111111111,\"#46039f\"],[0.2222222222222222,\"#7201a8\"],[0.3333333333333333,\"#9c179e\"],[0.4444444444444444,\"#bd3786\"],[0.5555555555555556,\"#d8576b\"],[0.6666666666666666,\"#ed7953\"],[0.7777777777777778,\"#fb9f3a\"],[0.8888888888888888,\"#fdca26\"],[1.0,\"#f0f921\"]],\"type\":\"heatmap\"}],\"histogram2dcontour\":[{\"colorbar\":{\"outlinewidth\":0,\"ticks\":\"\"},\"colorscale\":[[0.0,\"#0d0887\"],[0.1111111111111111,\"#46039f\"],[0.2222222222222222,\"#7201a8\"],[0.3333333333333333,\"#9c179e\"],[0.4444444444444444,\"#bd3786\"],[0.5555555555555556,\"#d8576b\"],[0.6666666666666666,\"#ed7953\"],[0.7777777777777778,\"#fb9f3a\"],[0.8888888888888888,\"#fdca26\"],[1.0,\"#f0f921\"]],\"type\":\"histogram2dcontour\"}],\"histogram2d\":[{\"colorbar\":{\"outlinewidth\":0,\"ticks\":\"\"},\"colorscale\":[[0.0,\"#0d0887\"],[0.1111111111111111,\"#46039f\"],[0.2222222222222222,\"#7201a8\"],[0.3333333333333333,\"#9c179e\"],[0.4444444444444444,\"#bd3786\"],[0.5555555555555556,\"#d8576b\"],[0.6666666666666666,\"#ed7953\"],[0.7777777777777778,\"#fb9f3a\"],[0.8888888888888888,\"#fdca26\"],[1.0,\"#f0f921\"]],\"type\":\"histogram2d\"}],\"histogram\":[{\"marker\":{\"pattern\":{\"fillmode\":\"overlay\",\"size\":10,\"solidity\":0.2}},\"type\":\"histogram\"}],\"mesh3d\":[{\"colorbar\":{\"outlinewidth\":0,\"ticks\":\"\"},\"type\":\"mesh3d\"}],\"parcoords\":[{\"line\":{\"colorbar\":{\"outlinewidth\":0,\"ticks\":\"\"}},\"type\":\"parcoords\"}],\"pie\":[{\"automargin\":true,\"type\":\"pie\"}],\"scatter3d\":[{\"line\":{\"colorbar\":{\"outlinewidth\":0,\"ticks\":\"\"}},\"marker\":{\"colorbar\":{\"outlinewidth\":0,\"ticks\":\"\"}},\"type\":\"scatter3d\"}],\"scattercarpet\":[{\"marker\":{\"colorbar\":{\"outlinewidth\":0,\"ticks\":\"\"}},\"type\":\"scattercarpet\"}],\"scattergeo\":[{\"marker\":{\"colorbar\":{\"outlinewidth\":0,\"ticks\":\"\"}},\"type\":\"scattergeo\"}],\"scattergl\":[{\"marker\":{\"colorbar\":{\"outlinewidth\":0,\"ticks\":\"\"}},\"type\":\"scattergl\"}],\"scattermapbox\":[{\"marker\":{\"colorbar\":{\"outlinewidth\":0,\"ticks\":\"\"}},\"type\":\"scattermapbox\"}],\"scatterpolargl\":[{\"marker\":{\"colorbar\":{\"outlinewidth\":0,\"ticks\":\"\"}},\"type\":\"scatterpolargl\"}],\"scatterpolar\":[{\"marker\":{\"colorbar\":{\"outlinewidth\":0,\"ticks\":\"\"}},\"type\":\"scatterpolar\"}],\"scatter\":[{\"fillpattern\":{\"fillmode\":\"overlay\",\"size\":10,\"solidity\":0.2},\"type\":\"scatter\"}],\"scatterternary\":[{\"marker\":{\"colorbar\":{\"outlinewidth\":0,\"ticks\":\"\"}},\"type\":\"scatterternary\"}],\"surface\":[{\"colorbar\":{\"outlinewidth\":0,\"ticks\":\"\"},\"colorscale\":[[0.0,\"#0d0887\"],[0.1111111111111111,\"#46039f\"],[0.2222222222222222,\"#7201a8\"],[0.3333333333333333,\"#9c179e\"],[0.4444444444444444,\"#bd3786\"],[0.5555555555555556,\"#d8576b\"],[0.6666666666666666,\"#ed7953\"],[0.7777777777777778,\"#fb9f3a\"],[0.8888888888888888,\"#fdca26\"],[1.0,\"#f0f921\"]],\"type\":\"surface\"}],\"table\":[{\"cells\":{\"fill\":{\"color\":\"#EBF0F8\"},\"line\":{\"color\":\"white\"}},\"header\":{\"fill\":{\"color\":\"#C8D4E3\"},\"line\":{\"color\":\"white\"}},\"type\":\"table\"}]},\"layout\":{\"annotationdefaults\":{\"arrowcolor\":\"#2a3f5f\",\"arrowhead\":0,\"arrowwidth\":1},\"autotypenumbers\":\"strict\",\"coloraxis\":{\"colorbar\":{\"outlinewidth\":0,\"ticks\":\"\"}},\"colorscale\":{\"diverging\":[[0,\"#8e0152\"],[0.1,\"#c51b7d\"],[0.2,\"#de77ae\"],[0.3,\"#f1b6da\"],[0.4,\"#fde0ef\"],[0.5,\"#f7f7f7\"],[0.6,\"#e6f5d0\"],[0.7,\"#b8e186\"],[0.8,\"#7fbc41\"],[0.9,\"#4d9221\"],[1,\"#276419\"]],\"sequential\":[[0.0,\"#0d0887\"],[0.1111111111111111,\"#46039f\"],[0.2222222222222222,\"#7201a8\"],[0.3333333333333333,\"#9c179e\"],[0.4444444444444444,\"#bd3786\"],[0.5555555555555556,\"#d8576b\"],[0.6666666666666666,\"#ed7953\"],[0.7777777777777778,\"#fb9f3a\"],[0.8888888888888888,\"#fdca26\"],[1.0,\"#f0f921\"]],\"sequentialminus\":[[0.0,\"#0d0887\"],[0.1111111111111111,\"#46039f\"],[0.2222222222222222,\"#7201a8\"],[0.3333333333333333,\"#9c179e\"],[0.4444444444444444,\"#bd3786\"],[0.5555555555555556,\"#d8576b\"],[0.6666666666666666,\"#ed7953\"],[0.7777777777777778,\"#fb9f3a\"],[0.8888888888888888,\"#fdca26\"],[1.0,\"#f0f921\"]]},\"colorway\":[\"#636efa\",\"#EF553B\",\"#00cc96\",\"#ab63fa\",\"#FFA15A\",\"#19d3f3\",\"#FF6692\",\"#B6E880\",\"#FF97FF\",\"#FECB52\"],\"font\":{\"color\":\"#2a3f5f\"},\"geo\":{\"bgcolor\":\"white\",\"lakecolor\":\"white\",\"landcolor\":\"#E5ECF6\",\"showlakes\":true,\"showland\":true,\"subunitcolor\":\"white\"},\"hoverlabel\":{\"align\":\"left\"},\"hovermode\":\"closest\",\"mapbox\":{\"style\":\"light\"},\"paper_bgcolor\":\"white\",\"plot_bgcolor\":\"#E5ECF6\",\"polar\":{\"angularaxis\":{\"gridcolor\":\"white\",\"linecolor\":\"white\",\"ticks\":\"\"},\"bgcolor\":\"#E5ECF6\",\"radialaxis\":{\"gridcolor\":\"white\",\"linecolor\":\"white\",\"ticks\":\"\"}},\"scene\":{\"xaxis\":{\"backgroundcolor\":\"#E5ECF6\",\"gridcolor\":\"white\",\"gridwidth\":2,\"linecolor\":\"white\",\"showbackground\":true,\"ticks\":\"\",\"zerolinecolor\":\"white\"},\"yaxis\":{\"backgroundcolor\":\"#E5ECF6\",\"gridcolor\":\"white\",\"gridwidth\":2,\"linecolor\":\"white\",\"showbackground\":true,\"ticks\":\"\",\"zerolinecolor\":\"white\"},\"zaxis\":{\"backgroundcolor\":\"#E5ECF6\",\"gridcolor\":\"white\",\"gridwidth\":2,\"linecolor\":\"white\",\"showbackground\":true,\"ticks\":\"\",\"zerolinecolor\":\"white\"}},\"shapedefaults\":{\"line\":{\"color\":\"#2a3f5f\"}},\"ternary\":{\"aaxis\":{\"gridcolor\":\"white\",\"linecolor\":\"white\",\"ticks\":\"\"},\"baxis\":{\"gridcolor\":\"white\",\"linecolor\":\"white\",\"ticks\":\"\"},\"bgcolor\":\"#E5ECF6\",\"caxis\":{\"gridcolor\":\"white\",\"linecolor\":\"white\",\"ticks\":\"\"}},\"title\":{\"x\":0.05},\"xaxis\":{\"automargin\":true,\"gridcolor\":\"white\",\"linecolor\":\"white\",\"ticks\":\"\",\"title\":{\"standoff\":15},\"zerolinecolor\":\"white\",\"zerolinewidth\":2},\"yaxis\":{\"automargin\":true,\"gridcolor\":\"white\",\"linecolor\":\"white\",\"ticks\":\"\",\"title\":{\"standoff\":15},\"zerolinecolor\":\"white\",\"zerolinewidth\":2}}},\"title\":{\"font\":{\"color\":\"#4D5663\"}},\"xaxis\":{\"gridcolor\":\"#E1E5ED\",\"showgrid\":true,\"tickfont\":{\"color\":\"#4D5663\"},\"title\":{\"font\":{\"color\":\"#4D5663\"},\"text\":\"\"},\"zerolinecolor\":\"#E1E5ED\"},\"yaxis\":{\"gridcolor\":\"#E1E5ED\",\"showgrid\":true,\"tickfont\":{\"color\":\"#4D5663\"},\"title\":{\"font\":{\"color\":\"#4D5663\"},\"text\":\"\"},\"zerolinecolor\":\"#E1E5ED\"}},                        {\"showLink\": true, \"linkText\": \"Export to plot.ly\", \"plotlyServerURL\": \"https://plot.ly\", \"responsive\": true}                    ).then(function(){\n",
       "                            \n",
       "var gd = document.getElementById('7fc067b6-9b04-4270-b1ed-4c6d234f0844');\n",
       "var x = new MutationObserver(function (mutations, observer) {{\n",
       "        var display = window.getComputedStyle(gd).display;\n",
       "        if (!display || display === 'none') {{\n",
       "            console.log([gd, 'removed!']);\n",
       "            Plotly.purge(gd);\n",
       "            observer.disconnect();\n",
       "        }}\n",
       "}});\n",
       "\n",
       "// Listen for the removal of the full notebook cells\n",
       "var notebookContainer = gd.closest('#notebook-container');\n",
       "if (notebookContainer) {{\n",
       "    x.observe(notebookContainer, {childList: true});\n",
       "}}\n",
       "\n",
       "// Listen for the clearing of the current output cell\n",
       "var outputEl = gd.closest('.output');\n",
       "if (outputEl) {{\n",
       "    x.observe(outputEl, {childList: true});\n",
       "}}\n",
       "\n",
       "                        })                };                });            </script>        </div>"
      ]
     },
     "metadata": {},
     "output_type": "display_data"
    }
   ],
   "source": [
    "pd3.iplot(kind=\"surface\", colorscale=\"rdylbu\")"
   ]
  },
  {
   "cell_type": "code",
   "execution_count": 87,
   "metadata": {},
   "outputs": [
    {
     "data": {
      "application/vnd.plotly.v1+json": {
       "config": {
        "linkText": "Export to plot.ly",
        "plotlyServerURL": "https://plot.ly",
        "showLink": true
       },
       "data": [
        {
         "histfunc": "count",
         "histnorm": "",
         "marker": {
          "color": "rgba(255, 153, 51, 1.0)",
          "line": {
           "color": "#4D5663",
           "width": 1.3
          }
         },
         "name": "A",
         "opacity": 0.8,
         "orientation": "v",
         "type": "histogram",
         "x": [
          1.271671286958233,
          -2.172408915978876,
          1.7854365286371727,
          1.5799705135342348,
          0.5171449831935606,
          -0.738836448224735,
          -1.8144196577454883,
          0.6426229098950454,
          -0.6636473476440262,
          -1.00280947283931,
          -0.23427784176035332,
          2.350590946817898,
          -0.772872337152085,
          0.06721304131837574,
          -0.3380988576289599,
          -1.032927158724717,
          -0.4301694538498191,
          -0.6795763232900397,
          1.6746112402990454,
          -0.8071433538687962,
          -0.7301921401287503,
          -1.974766933366033,
          -1.2606638273598736,
          -0.14780583520530913,
          -0.30352793700047676,
          1.7608134785833829,
          1.8601966055560195,
          -0.7318941199356979,
          0.9881810889499792,
          1.2157909902610062,
          1.700833223803107,
          -0.03702641197653624,
          0.2685661133985728,
          -1.1540228701071364,
          -2.451284896900468,
          -0.6251852288829398,
          -0.6874066773430462,
          0.820850283868299,
          0.08442426464027586,
          0.6072766750939735,
          0.920499680386307,
          0.05005835511080823,
          1.649623201071434,
          0.11541833072015947,
          1.7441869252115747,
          0.3936830830921386,
          0.5152496115529626,
          1.7784524803055681,
          0.9419614134044356,
          -0.29177154982575987,
          -1.3783653483867588,
          0.9915959148343668,
          -0.40952344237860894,
          -0.6503507398847784,
          -0.2633247272517648,
          2.373729941368112,
          1.0409871870552478,
          -0.22852304522578715,
          -0.9982703819338618,
          -0.3968154813092077,
          -0.5617296882171342,
          -1.1346920922423802,
          0.5549905627104234,
          1.2967314166335604,
          0.2436695236624341,
          0.7769124747016123,
          2.2452054275190347,
          -0.823378225352857,
          0.9128352696742315,
          0.35267974946978997,
          -0.4916034171442968,
          0.35067090693594716,
          0.8292806012849196,
          1.3347709310432276,
          -0.5373920254195184,
          -2.112500723883234,
          -0.7694046864432289,
          0.7797256904311618,
          1.765595606686072,
          3.3627198690793323,
          -0.3076120808124946,
          -0.4285964521753026,
          0.531109847573406,
          -1.4629177205405783,
          0.8655379339108681,
          -0.49880559284931575,
          -0.47027222429519455,
          -1.6292499051374218,
          -0.07509143409175767,
          -1.0138651146690272,
          0.031127129211921862,
          -0.21735199281501266,
          0.02340260280010591,
          0.1357923014492216,
          -0.5432535568717444,
          2.287360729985298,
          -0.5650535168514119,
          0.3144488908793118,
          0.7106693119223403,
          -0.5269749040598086
         ]
        }
       ],
       "layout": {
        "barmode": "overlay",
        "legend": {
         "bgcolor": "#F5F6F9",
         "font": {
          "color": "#4D5663"
         }
        },
        "paper_bgcolor": "#F5F6F9",
        "plot_bgcolor": "#F5F6F9",
        "template": {
         "data": {
          "bar": [
           {
            "error_x": {
             "color": "#2a3f5f"
            },
            "error_y": {
             "color": "#2a3f5f"
            },
            "marker": {
             "line": {
              "color": "#E5ECF6",
              "width": 0.5
             },
             "pattern": {
              "fillmode": "overlay",
              "size": 10,
              "solidity": 0.2
             }
            },
            "type": "bar"
           }
          ],
          "barpolar": [
           {
            "marker": {
             "line": {
              "color": "#E5ECF6",
              "width": 0.5
             },
             "pattern": {
              "fillmode": "overlay",
              "size": 10,
              "solidity": 0.2
             }
            },
            "type": "barpolar"
           }
          ],
          "carpet": [
           {
            "aaxis": {
             "endlinecolor": "#2a3f5f",
             "gridcolor": "white",
             "linecolor": "white",
             "minorgridcolor": "white",
             "startlinecolor": "#2a3f5f"
            },
            "baxis": {
             "endlinecolor": "#2a3f5f",
             "gridcolor": "white",
             "linecolor": "white",
             "minorgridcolor": "white",
             "startlinecolor": "#2a3f5f"
            },
            "type": "carpet"
           }
          ],
          "choropleth": [
           {
            "colorbar": {
             "outlinewidth": 0,
             "ticks": ""
            },
            "type": "choropleth"
           }
          ],
          "contour": [
           {
            "colorbar": {
             "outlinewidth": 0,
             "ticks": ""
            },
            "colorscale": [
             [
              0,
              "#0d0887"
             ],
             [
              0.1111111111111111,
              "#46039f"
             ],
             [
              0.2222222222222222,
              "#7201a8"
             ],
             [
              0.3333333333333333,
              "#9c179e"
             ],
             [
              0.4444444444444444,
              "#bd3786"
             ],
             [
              0.5555555555555556,
              "#d8576b"
             ],
             [
              0.6666666666666666,
              "#ed7953"
             ],
             [
              0.7777777777777778,
              "#fb9f3a"
             ],
             [
              0.8888888888888888,
              "#fdca26"
             ],
             [
              1,
              "#f0f921"
             ]
            ],
            "type": "contour"
           }
          ],
          "contourcarpet": [
           {
            "colorbar": {
             "outlinewidth": 0,
             "ticks": ""
            },
            "type": "contourcarpet"
           }
          ],
          "heatmap": [
           {
            "colorbar": {
             "outlinewidth": 0,
             "ticks": ""
            },
            "colorscale": [
             [
              0,
              "#0d0887"
             ],
             [
              0.1111111111111111,
              "#46039f"
             ],
             [
              0.2222222222222222,
              "#7201a8"
             ],
             [
              0.3333333333333333,
              "#9c179e"
             ],
             [
              0.4444444444444444,
              "#bd3786"
             ],
             [
              0.5555555555555556,
              "#d8576b"
             ],
             [
              0.6666666666666666,
              "#ed7953"
             ],
             [
              0.7777777777777778,
              "#fb9f3a"
             ],
             [
              0.8888888888888888,
              "#fdca26"
             ],
             [
              1,
              "#f0f921"
             ]
            ],
            "type": "heatmap"
           }
          ],
          "heatmapgl": [
           {
            "colorbar": {
             "outlinewidth": 0,
             "ticks": ""
            },
            "colorscale": [
             [
              0,
              "#0d0887"
             ],
             [
              0.1111111111111111,
              "#46039f"
             ],
             [
              0.2222222222222222,
              "#7201a8"
             ],
             [
              0.3333333333333333,
              "#9c179e"
             ],
             [
              0.4444444444444444,
              "#bd3786"
             ],
             [
              0.5555555555555556,
              "#d8576b"
             ],
             [
              0.6666666666666666,
              "#ed7953"
             ],
             [
              0.7777777777777778,
              "#fb9f3a"
             ],
             [
              0.8888888888888888,
              "#fdca26"
             ],
             [
              1,
              "#f0f921"
             ]
            ],
            "type": "heatmapgl"
           }
          ],
          "histogram": [
           {
            "marker": {
             "pattern": {
              "fillmode": "overlay",
              "size": 10,
              "solidity": 0.2
             }
            },
            "type": "histogram"
           }
          ],
          "histogram2d": [
           {
            "colorbar": {
             "outlinewidth": 0,
             "ticks": ""
            },
            "colorscale": [
             [
              0,
              "#0d0887"
             ],
             [
              0.1111111111111111,
              "#46039f"
             ],
             [
              0.2222222222222222,
              "#7201a8"
             ],
             [
              0.3333333333333333,
              "#9c179e"
             ],
             [
              0.4444444444444444,
              "#bd3786"
             ],
             [
              0.5555555555555556,
              "#d8576b"
             ],
             [
              0.6666666666666666,
              "#ed7953"
             ],
             [
              0.7777777777777778,
              "#fb9f3a"
             ],
             [
              0.8888888888888888,
              "#fdca26"
             ],
             [
              1,
              "#f0f921"
             ]
            ],
            "type": "histogram2d"
           }
          ],
          "histogram2dcontour": [
           {
            "colorbar": {
             "outlinewidth": 0,
             "ticks": ""
            },
            "colorscale": [
             [
              0,
              "#0d0887"
             ],
             [
              0.1111111111111111,
              "#46039f"
             ],
             [
              0.2222222222222222,
              "#7201a8"
             ],
             [
              0.3333333333333333,
              "#9c179e"
             ],
             [
              0.4444444444444444,
              "#bd3786"
             ],
             [
              0.5555555555555556,
              "#d8576b"
             ],
             [
              0.6666666666666666,
              "#ed7953"
             ],
             [
              0.7777777777777778,
              "#fb9f3a"
             ],
             [
              0.8888888888888888,
              "#fdca26"
             ],
             [
              1,
              "#f0f921"
             ]
            ],
            "type": "histogram2dcontour"
           }
          ],
          "mesh3d": [
           {
            "colorbar": {
             "outlinewidth": 0,
             "ticks": ""
            },
            "type": "mesh3d"
           }
          ],
          "parcoords": [
           {
            "line": {
             "colorbar": {
              "outlinewidth": 0,
              "ticks": ""
             }
            },
            "type": "parcoords"
           }
          ],
          "pie": [
           {
            "automargin": true,
            "type": "pie"
           }
          ],
          "scatter": [
           {
            "fillpattern": {
             "fillmode": "overlay",
             "size": 10,
             "solidity": 0.2
            },
            "type": "scatter"
           }
          ],
          "scatter3d": [
           {
            "line": {
             "colorbar": {
              "outlinewidth": 0,
              "ticks": ""
             }
            },
            "marker": {
             "colorbar": {
              "outlinewidth": 0,
              "ticks": ""
             }
            },
            "type": "scatter3d"
           }
          ],
          "scattercarpet": [
           {
            "marker": {
             "colorbar": {
              "outlinewidth": 0,
              "ticks": ""
             }
            },
            "type": "scattercarpet"
           }
          ],
          "scattergeo": [
           {
            "marker": {
             "colorbar": {
              "outlinewidth": 0,
              "ticks": ""
             }
            },
            "type": "scattergeo"
           }
          ],
          "scattergl": [
           {
            "marker": {
             "colorbar": {
              "outlinewidth": 0,
              "ticks": ""
             }
            },
            "type": "scattergl"
           }
          ],
          "scattermapbox": [
           {
            "marker": {
             "colorbar": {
              "outlinewidth": 0,
              "ticks": ""
             }
            },
            "type": "scattermapbox"
           }
          ],
          "scatterpolar": [
           {
            "marker": {
             "colorbar": {
              "outlinewidth": 0,
              "ticks": ""
             }
            },
            "type": "scatterpolar"
           }
          ],
          "scatterpolargl": [
           {
            "marker": {
             "colorbar": {
              "outlinewidth": 0,
              "ticks": ""
             }
            },
            "type": "scatterpolargl"
           }
          ],
          "scatterternary": [
           {
            "marker": {
             "colorbar": {
              "outlinewidth": 0,
              "ticks": ""
             }
            },
            "type": "scatterternary"
           }
          ],
          "surface": [
           {
            "colorbar": {
             "outlinewidth": 0,
             "ticks": ""
            },
            "colorscale": [
             [
              0,
              "#0d0887"
             ],
             [
              0.1111111111111111,
              "#46039f"
             ],
             [
              0.2222222222222222,
              "#7201a8"
             ],
             [
              0.3333333333333333,
              "#9c179e"
             ],
             [
              0.4444444444444444,
              "#bd3786"
             ],
             [
              0.5555555555555556,
              "#d8576b"
             ],
             [
              0.6666666666666666,
              "#ed7953"
             ],
             [
              0.7777777777777778,
              "#fb9f3a"
             ],
             [
              0.8888888888888888,
              "#fdca26"
             ],
             [
              1,
              "#f0f921"
             ]
            ],
            "type": "surface"
           }
          ],
          "table": [
           {
            "cells": {
             "fill": {
              "color": "#EBF0F8"
             },
             "line": {
              "color": "white"
             }
            },
            "header": {
             "fill": {
              "color": "#C8D4E3"
             },
             "line": {
              "color": "white"
             }
            },
            "type": "table"
           }
          ]
         },
         "layout": {
          "annotationdefaults": {
           "arrowcolor": "#2a3f5f",
           "arrowhead": 0,
           "arrowwidth": 1
          },
          "autotypenumbers": "strict",
          "coloraxis": {
           "colorbar": {
            "outlinewidth": 0,
            "ticks": ""
           }
          },
          "colorscale": {
           "diverging": [
            [
             0,
             "#8e0152"
            ],
            [
             0.1,
             "#c51b7d"
            ],
            [
             0.2,
             "#de77ae"
            ],
            [
             0.3,
             "#f1b6da"
            ],
            [
             0.4,
             "#fde0ef"
            ],
            [
             0.5,
             "#f7f7f7"
            ],
            [
             0.6,
             "#e6f5d0"
            ],
            [
             0.7,
             "#b8e186"
            ],
            [
             0.8,
             "#7fbc41"
            ],
            [
             0.9,
             "#4d9221"
            ],
            [
             1,
             "#276419"
            ]
           ],
           "sequential": [
            [
             0,
             "#0d0887"
            ],
            [
             0.1111111111111111,
             "#46039f"
            ],
            [
             0.2222222222222222,
             "#7201a8"
            ],
            [
             0.3333333333333333,
             "#9c179e"
            ],
            [
             0.4444444444444444,
             "#bd3786"
            ],
            [
             0.5555555555555556,
             "#d8576b"
            ],
            [
             0.6666666666666666,
             "#ed7953"
            ],
            [
             0.7777777777777778,
             "#fb9f3a"
            ],
            [
             0.8888888888888888,
             "#fdca26"
            ],
            [
             1,
             "#f0f921"
            ]
           ],
           "sequentialminus": [
            [
             0,
             "#0d0887"
            ],
            [
             0.1111111111111111,
             "#46039f"
            ],
            [
             0.2222222222222222,
             "#7201a8"
            ],
            [
             0.3333333333333333,
             "#9c179e"
            ],
            [
             0.4444444444444444,
             "#bd3786"
            ],
            [
             0.5555555555555556,
             "#d8576b"
            ],
            [
             0.6666666666666666,
             "#ed7953"
            ],
            [
             0.7777777777777778,
             "#fb9f3a"
            ],
            [
             0.8888888888888888,
             "#fdca26"
            ],
            [
             1,
             "#f0f921"
            ]
           ]
          },
          "colorway": [
           "#636efa",
           "#EF553B",
           "#00cc96",
           "#ab63fa",
           "#FFA15A",
           "#19d3f3",
           "#FF6692",
           "#B6E880",
           "#FF97FF",
           "#FECB52"
          ],
          "font": {
           "color": "#2a3f5f"
          },
          "geo": {
           "bgcolor": "white",
           "lakecolor": "white",
           "landcolor": "#E5ECF6",
           "showlakes": true,
           "showland": true,
           "subunitcolor": "white"
          },
          "hoverlabel": {
           "align": "left"
          },
          "hovermode": "closest",
          "mapbox": {
           "style": "light"
          },
          "paper_bgcolor": "white",
          "plot_bgcolor": "#E5ECF6",
          "polar": {
           "angularaxis": {
            "gridcolor": "white",
            "linecolor": "white",
            "ticks": ""
           },
           "bgcolor": "#E5ECF6",
           "radialaxis": {
            "gridcolor": "white",
            "linecolor": "white",
            "ticks": ""
           }
          },
          "scene": {
           "xaxis": {
            "backgroundcolor": "#E5ECF6",
            "gridcolor": "white",
            "gridwidth": 2,
            "linecolor": "white",
            "showbackground": true,
            "ticks": "",
            "zerolinecolor": "white"
           },
           "yaxis": {
            "backgroundcolor": "#E5ECF6",
            "gridcolor": "white",
            "gridwidth": 2,
            "linecolor": "white",
            "showbackground": true,
            "ticks": "",
            "zerolinecolor": "white"
           },
           "zaxis": {
            "backgroundcolor": "#E5ECF6",
            "gridcolor": "white",
            "gridwidth": 2,
            "linecolor": "white",
            "showbackground": true,
            "ticks": "",
            "zerolinecolor": "white"
           }
          },
          "shapedefaults": {
           "line": {
            "color": "#2a3f5f"
           }
          },
          "ternary": {
           "aaxis": {
            "gridcolor": "white",
            "linecolor": "white",
            "ticks": ""
           },
           "baxis": {
            "gridcolor": "white",
            "linecolor": "white",
            "ticks": ""
           },
           "bgcolor": "#E5ECF6",
           "caxis": {
            "gridcolor": "white",
            "linecolor": "white",
            "ticks": ""
           }
          },
          "title": {
           "x": 0.05
          },
          "xaxis": {
           "automargin": true,
           "gridcolor": "white",
           "linecolor": "white",
           "ticks": "",
           "title": {
            "standoff": 15
           },
           "zerolinecolor": "white",
           "zerolinewidth": 2
          },
          "yaxis": {
           "automargin": true,
           "gridcolor": "white",
           "linecolor": "white",
           "ticks": "",
           "title": {
            "standoff": 15
           },
           "zerolinecolor": "white",
           "zerolinewidth": 2
          }
         }
        },
        "title": {
         "font": {
          "color": "#4D5663"
         }
        },
        "xaxis": {
         "gridcolor": "#E1E5ED",
         "showgrid": true,
         "tickfont": {
          "color": "#4D5663"
         },
         "title": {
          "font": {
           "color": "#4D5663"
          },
          "text": ""
         },
         "zerolinecolor": "#E1E5ED"
        },
        "yaxis": {
         "gridcolor": "#E1E5ED",
         "showgrid": true,
         "tickfont": {
          "color": "#4D5663"
         },
         "title": {
          "font": {
           "color": "#4D5663"
          },
          "text": ""
         },
         "zerolinecolor": "#E1E5ED"
        }
       }
      },
      "text/html": [
       "<div>                            <div id=\"8e5d77ec-b485-4c8d-9532-348d8f0c370e\" class=\"plotly-graph-div\" style=\"height:525px; width:100%;\"></div>            <script type=\"text/javascript\">                require([\"plotly\"], function(Plotly) {                    window.PLOTLYENV=window.PLOTLYENV || {};\n",
       "                    window.PLOTLYENV.BASE_URL='https://plot.ly';                                    if (document.getElementById(\"8e5d77ec-b485-4c8d-9532-348d8f0c370e\")) {                    Plotly.newPlot(                        \"8e5d77ec-b485-4c8d-9532-348d8f0c370e\",                        [{\"histfunc\":\"count\",\"histnorm\":\"\",\"marker\":{\"color\":\"rgba(255, 153, 51, 1.0)\",\"line\":{\"color\":\"#4D5663\",\"width\":1.3}},\"name\":\"A\",\"opacity\":0.8,\"orientation\":\"v\",\"x\":[1.271671286958233,-2.172408915978876,1.7854365286371727,1.5799705135342348,0.5171449831935606,-0.738836448224735,-1.8144196577454883,0.6426229098950454,-0.6636473476440262,-1.00280947283931,-0.23427784176035332,2.350590946817898,-0.772872337152085,0.06721304131837574,-0.3380988576289599,-1.032927158724717,-0.4301694538498191,-0.6795763232900397,1.6746112402990454,-0.8071433538687962,-0.7301921401287503,-1.974766933366033,-1.2606638273598736,-0.14780583520530913,-0.30352793700047676,1.7608134785833829,1.8601966055560195,-0.7318941199356979,0.9881810889499792,1.2157909902610062,1.700833223803107,-0.03702641197653624,0.2685661133985728,-1.1540228701071364,-2.451284896900468,-0.6251852288829398,-0.6874066773430462,0.820850283868299,0.08442426464027586,0.6072766750939735,0.920499680386307,0.05005835511080823,1.649623201071434,0.11541833072015947,1.7441869252115747,0.3936830830921386,0.5152496115529626,1.7784524803055681,0.9419614134044356,-0.29177154982575987,-1.3783653483867588,0.9915959148343668,-0.40952344237860894,-0.6503507398847784,-0.2633247272517648,2.373729941368112,1.0409871870552478,-0.22852304522578715,-0.9982703819338618,-0.3968154813092077,-0.5617296882171342,-1.1346920922423802,0.5549905627104234,1.2967314166335604,0.2436695236624341,0.7769124747016123,2.2452054275190347,-0.823378225352857,0.9128352696742315,0.35267974946978997,-0.4916034171442968,0.35067090693594716,0.8292806012849196,1.3347709310432276,-0.5373920254195184,-2.112500723883234,-0.7694046864432289,0.7797256904311618,1.765595606686072,3.3627198690793323,-0.3076120808124946,-0.4285964521753026,0.531109847573406,-1.4629177205405783,0.8655379339108681,-0.49880559284931575,-0.47027222429519455,-1.6292499051374218,-0.07509143409175767,-1.0138651146690272,0.031127129211921862,-0.21735199281501266,0.02340260280010591,0.1357923014492216,-0.5432535568717444,2.287360729985298,-0.5650535168514119,0.3144488908793118,0.7106693119223403,-0.5269749040598086],\"type\":\"histogram\"}],                        {\"barmode\":\"overlay\",\"legend\":{\"bgcolor\":\"#F5F6F9\",\"font\":{\"color\":\"#4D5663\"}},\"paper_bgcolor\":\"#F5F6F9\",\"plot_bgcolor\":\"#F5F6F9\",\"template\":{\"data\":{\"barpolar\":[{\"marker\":{\"line\":{\"color\":\"#E5ECF6\",\"width\":0.5},\"pattern\":{\"fillmode\":\"overlay\",\"size\":10,\"solidity\":0.2}},\"type\":\"barpolar\"}],\"bar\":[{\"error_x\":{\"color\":\"#2a3f5f\"},\"error_y\":{\"color\":\"#2a3f5f\"},\"marker\":{\"line\":{\"color\":\"#E5ECF6\",\"width\":0.5},\"pattern\":{\"fillmode\":\"overlay\",\"size\":10,\"solidity\":0.2}},\"type\":\"bar\"}],\"carpet\":[{\"aaxis\":{\"endlinecolor\":\"#2a3f5f\",\"gridcolor\":\"white\",\"linecolor\":\"white\",\"minorgridcolor\":\"white\",\"startlinecolor\":\"#2a3f5f\"},\"baxis\":{\"endlinecolor\":\"#2a3f5f\",\"gridcolor\":\"white\",\"linecolor\":\"white\",\"minorgridcolor\":\"white\",\"startlinecolor\":\"#2a3f5f\"},\"type\":\"carpet\"}],\"choropleth\":[{\"colorbar\":{\"outlinewidth\":0,\"ticks\":\"\"},\"type\":\"choropleth\"}],\"contourcarpet\":[{\"colorbar\":{\"outlinewidth\":0,\"ticks\":\"\"},\"type\":\"contourcarpet\"}],\"contour\":[{\"colorbar\":{\"outlinewidth\":0,\"ticks\":\"\"},\"colorscale\":[[0.0,\"#0d0887\"],[0.1111111111111111,\"#46039f\"],[0.2222222222222222,\"#7201a8\"],[0.3333333333333333,\"#9c179e\"],[0.4444444444444444,\"#bd3786\"],[0.5555555555555556,\"#d8576b\"],[0.6666666666666666,\"#ed7953\"],[0.7777777777777778,\"#fb9f3a\"],[0.8888888888888888,\"#fdca26\"],[1.0,\"#f0f921\"]],\"type\":\"contour\"}],\"heatmapgl\":[{\"colorbar\":{\"outlinewidth\":0,\"ticks\":\"\"},\"colorscale\":[[0.0,\"#0d0887\"],[0.1111111111111111,\"#46039f\"],[0.2222222222222222,\"#7201a8\"],[0.3333333333333333,\"#9c179e\"],[0.4444444444444444,\"#bd3786\"],[0.5555555555555556,\"#d8576b\"],[0.6666666666666666,\"#ed7953\"],[0.7777777777777778,\"#fb9f3a\"],[0.8888888888888888,\"#fdca26\"],[1.0,\"#f0f921\"]],\"type\":\"heatmapgl\"}],\"heatmap\":[{\"colorbar\":{\"outlinewidth\":0,\"ticks\":\"\"},\"colorscale\":[[0.0,\"#0d0887\"],[0.1111111111111111,\"#46039f\"],[0.2222222222222222,\"#7201a8\"],[0.3333333333333333,\"#9c179e\"],[0.4444444444444444,\"#bd3786\"],[0.5555555555555556,\"#d8576b\"],[0.6666666666666666,\"#ed7953\"],[0.7777777777777778,\"#fb9f3a\"],[0.8888888888888888,\"#fdca26\"],[1.0,\"#f0f921\"]],\"type\":\"heatmap\"}],\"histogram2dcontour\":[{\"colorbar\":{\"outlinewidth\":0,\"ticks\":\"\"},\"colorscale\":[[0.0,\"#0d0887\"],[0.1111111111111111,\"#46039f\"],[0.2222222222222222,\"#7201a8\"],[0.3333333333333333,\"#9c179e\"],[0.4444444444444444,\"#bd3786\"],[0.5555555555555556,\"#d8576b\"],[0.6666666666666666,\"#ed7953\"],[0.7777777777777778,\"#fb9f3a\"],[0.8888888888888888,\"#fdca26\"],[1.0,\"#f0f921\"]],\"type\":\"histogram2dcontour\"}],\"histogram2d\":[{\"colorbar\":{\"outlinewidth\":0,\"ticks\":\"\"},\"colorscale\":[[0.0,\"#0d0887\"],[0.1111111111111111,\"#46039f\"],[0.2222222222222222,\"#7201a8\"],[0.3333333333333333,\"#9c179e\"],[0.4444444444444444,\"#bd3786\"],[0.5555555555555556,\"#d8576b\"],[0.6666666666666666,\"#ed7953\"],[0.7777777777777778,\"#fb9f3a\"],[0.8888888888888888,\"#fdca26\"],[1.0,\"#f0f921\"]],\"type\":\"histogram2d\"}],\"histogram\":[{\"marker\":{\"pattern\":{\"fillmode\":\"overlay\",\"size\":10,\"solidity\":0.2}},\"type\":\"histogram\"}],\"mesh3d\":[{\"colorbar\":{\"outlinewidth\":0,\"ticks\":\"\"},\"type\":\"mesh3d\"}],\"parcoords\":[{\"line\":{\"colorbar\":{\"outlinewidth\":0,\"ticks\":\"\"}},\"type\":\"parcoords\"}],\"pie\":[{\"automargin\":true,\"type\":\"pie\"}],\"scatter3d\":[{\"line\":{\"colorbar\":{\"outlinewidth\":0,\"ticks\":\"\"}},\"marker\":{\"colorbar\":{\"outlinewidth\":0,\"ticks\":\"\"}},\"type\":\"scatter3d\"}],\"scattercarpet\":[{\"marker\":{\"colorbar\":{\"outlinewidth\":0,\"ticks\":\"\"}},\"type\":\"scattercarpet\"}],\"scattergeo\":[{\"marker\":{\"colorbar\":{\"outlinewidth\":0,\"ticks\":\"\"}},\"type\":\"scattergeo\"}],\"scattergl\":[{\"marker\":{\"colorbar\":{\"outlinewidth\":0,\"ticks\":\"\"}},\"type\":\"scattergl\"}],\"scattermapbox\":[{\"marker\":{\"colorbar\":{\"outlinewidth\":0,\"ticks\":\"\"}},\"type\":\"scattermapbox\"}],\"scatterpolargl\":[{\"marker\":{\"colorbar\":{\"outlinewidth\":0,\"ticks\":\"\"}},\"type\":\"scatterpolargl\"}],\"scatterpolar\":[{\"marker\":{\"colorbar\":{\"outlinewidth\":0,\"ticks\":\"\"}},\"type\":\"scatterpolar\"}],\"scatter\":[{\"fillpattern\":{\"fillmode\":\"overlay\",\"size\":10,\"solidity\":0.2},\"type\":\"scatter\"}],\"scatterternary\":[{\"marker\":{\"colorbar\":{\"outlinewidth\":0,\"ticks\":\"\"}},\"type\":\"scatterternary\"}],\"surface\":[{\"colorbar\":{\"outlinewidth\":0,\"ticks\":\"\"},\"colorscale\":[[0.0,\"#0d0887\"],[0.1111111111111111,\"#46039f\"],[0.2222222222222222,\"#7201a8\"],[0.3333333333333333,\"#9c179e\"],[0.4444444444444444,\"#bd3786\"],[0.5555555555555556,\"#d8576b\"],[0.6666666666666666,\"#ed7953\"],[0.7777777777777778,\"#fb9f3a\"],[0.8888888888888888,\"#fdca26\"],[1.0,\"#f0f921\"]],\"type\":\"surface\"}],\"table\":[{\"cells\":{\"fill\":{\"color\":\"#EBF0F8\"},\"line\":{\"color\":\"white\"}},\"header\":{\"fill\":{\"color\":\"#C8D4E3\"},\"line\":{\"color\":\"white\"}},\"type\":\"table\"}]},\"layout\":{\"annotationdefaults\":{\"arrowcolor\":\"#2a3f5f\",\"arrowhead\":0,\"arrowwidth\":1},\"autotypenumbers\":\"strict\",\"coloraxis\":{\"colorbar\":{\"outlinewidth\":0,\"ticks\":\"\"}},\"colorscale\":{\"diverging\":[[0,\"#8e0152\"],[0.1,\"#c51b7d\"],[0.2,\"#de77ae\"],[0.3,\"#f1b6da\"],[0.4,\"#fde0ef\"],[0.5,\"#f7f7f7\"],[0.6,\"#e6f5d0\"],[0.7,\"#b8e186\"],[0.8,\"#7fbc41\"],[0.9,\"#4d9221\"],[1,\"#276419\"]],\"sequential\":[[0.0,\"#0d0887\"],[0.1111111111111111,\"#46039f\"],[0.2222222222222222,\"#7201a8\"],[0.3333333333333333,\"#9c179e\"],[0.4444444444444444,\"#bd3786\"],[0.5555555555555556,\"#d8576b\"],[0.6666666666666666,\"#ed7953\"],[0.7777777777777778,\"#fb9f3a\"],[0.8888888888888888,\"#fdca26\"],[1.0,\"#f0f921\"]],\"sequentialminus\":[[0.0,\"#0d0887\"],[0.1111111111111111,\"#46039f\"],[0.2222222222222222,\"#7201a8\"],[0.3333333333333333,\"#9c179e\"],[0.4444444444444444,\"#bd3786\"],[0.5555555555555556,\"#d8576b\"],[0.6666666666666666,\"#ed7953\"],[0.7777777777777778,\"#fb9f3a\"],[0.8888888888888888,\"#fdca26\"],[1.0,\"#f0f921\"]]},\"colorway\":[\"#636efa\",\"#EF553B\",\"#00cc96\",\"#ab63fa\",\"#FFA15A\",\"#19d3f3\",\"#FF6692\",\"#B6E880\",\"#FF97FF\",\"#FECB52\"],\"font\":{\"color\":\"#2a3f5f\"},\"geo\":{\"bgcolor\":\"white\",\"lakecolor\":\"white\",\"landcolor\":\"#E5ECF6\",\"showlakes\":true,\"showland\":true,\"subunitcolor\":\"white\"},\"hoverlabel\":{\"align\":\"left\"},\"hovermode\":\"closest\",\"mapbox\":{\"style\":\"light\"},\"paper_bgcolor\":\"white\",\"plot_bgcolor\":\"#E5ECF6\",\"polar\":{\"angularaxis\":{\"gridcolor\":\"white\",\"linecolor\":\"white\",\"ticks\":\"\"},\"bgcolor\":\"#E5ECF6\",\"radialaxis\":{\"gridcolor\":\"white\",\"linecolor\":\"white\",\"ticks\":\"\"}},\"scene\":{\"xaxis\":{\"backgroundcolor\":\"#E5ECF6\",\"gridcolor\":\"white\",\"gridwidth\":2,\"linecolor\":\"white\",\"showbackground\":true,\"ticks\":\"\",\"zerolinecolor\":\"white\"},\"yaxis\":{\"backgroundcolor\":\"#E5ECF6\",\"gridcolor\":\"white\",\"gridwidth\":2,\"linecolor\":\"white\",\"showbackground\":true,\"ticks\":\"\",\"zerolinecolor\":\"white\"},\"zaxis\":{\"backgroundcolor\":\"#E5ECF6\",\"gridcolor\":\"white\",\"gridwidth\":2,\"linecolor\":\"white\",\"showbackground\":true,\"ticks\":\"\",\"zerolinecolor\":\"white\"}},\"shapedefaults\":{\"line\":{\"color\":\"#2a3f5f\"}},\"ternary\":{\"aaxis\":{\"gridcolor\":\"white\",\"linecolor\":\"white\",\"ticks\":\"\"},\"baxis\":{\"gridcolor\":\"white\",\"linecolor\":\"white\",\"ticks\":\"\"},\"bgcolor\":\"#E5ECF6\",\"caxis\":{\"gridcolor\":\"white\",\"linecolor\":\"white\",\"ticks\":\"\"}},\"title\":{\"x\":0.05},\"xaxis\":{\"automargin\":true,\"gridcolor\":\"white\",\"linecolor\":\"white\",\"ticks\":\"\",\"title\":{\"standoff\":15},\"zerolinecolor\":\"white\",\"zerolinewidth\":2},\"yaxis\":{\"automargin\":true,\"gridcolor\":\"white\",\"linecolor\":\"white\",\"ticks\":\"\",\"title\":{\"standoff\":15},\"zerolinecolor\":\"white\",\"zerolinewidth\":2}}},\"title\":{\"font\":{\"color\":\"#4D5663\"}},\"xaxis\":{\"gridcolor\":\"#E1E5ED\",\"showgrid\":true,\"tickfont\":{\"color\":\"#4D5663\"},\"title\":{\"font\":{\"color\":\"#4D5663\"},\"text\":\"\"},\"zerolinecolor\":\"#E1E5ED\"},\"yaxis\":{\"gridcolor\":\"#E1E5ED\",\"showgrid\":true,\"tickfont\":{\"color\":\"#4D5663\"},\"title\":{\"font\":{\"color\":\"#4D5663\"},\"text\":\"\"},\"zerolinecolor\":\"#E1E5ED\"}},                        {\"showLink\": true, \"linkText\": \"Export to plot.ly\", \"plotlyServerURL\": \"https://plot.ly\", \"responsive\": true}                    ).then(function(){\n",
       "                            \n",
       "var gd = document.getElementById('8e5d77ec-b485-4c8d-9532-348d8f0c370e');\n",
       "var x = new MutationObserver(function (mutations, observer) {{\n",
       "        var display = window.getComputedStyle(gd).display;\n",
       "        if (!display || display === 'none') {{\n",
       "            console.log([gd, 'removed!']);\n",
       "            Plotly.purge(gd);\n",
       "            observer.disconnect();\n",
       "        }}\n",
       "}});\n",
       "\n",
       "// Listen for the removal of the full notebook cells\n",
       "var notebookContainer = gd.closest('#notebook-container');\n",
       "if (notebookContainer) {{\n",
       "    x.observe(notebookContainer, {childList: true});\n",
       "}}\n",
       "\n",
       "// Listen for the clearing of the current output cell\n",
       "var outputEl = gd.closest('.output');\n",
       "if (outputEl) {{\n",
       "    x.observe(outputEl, {childList: true});\n",
       "}}\n",
       "\n",
       "                        })                };                });            </script>        </div>"
      ]
     },
     "metadata": {},
     "output_type": "display_data"
    }
   ],
   "source": [
    "df[\"A\"].iplot(kind= \"hist\")"
   ]
  },
  {
   "cell_type": "code",
   "execution_count": 88,
   "metadata": {},
   "outputs": [
    {
     "data": {
      "application/vnd.plotly.v1+json": {
       "config": {
        "linkText": "Export to plot.ly",
        "plotlyServerURL": "https://plot.ly",
        "showLink": true
       },
       "data": [
        {
         "histfunc": "count",
         "histnorm": "",
         "marker": {
          "color": "rgba(255, 153, 51, 1.0)",
          "line": {
           "color": "#4D5663",
           "width": 1.3
          }
         },
         "name": "A",
         "opacity": 0.8,
         "orientation": "v",
         "type": "histogram",
         "x": [
          1.271671286958233,
          -2.172408915978876,
          1.7854365286371727,
          1.5799705135342348,
          0.5171449831935606,
          -0.738836448224735,
          -1.8144196577454883,
          0.6426229098950454,
          -0.6636473476440262,
          -1.00280947283931,
          -0.23427784176035332,
          2.350590946817898,
          -0.772872337152085,
          0.06721304131837574,
          -0.3380988576289599,
          -1.032927158724717,
          -0.4301694538498191,
          -0.6795763232900397,
          1.6746112402990454,
          -0.8071433538687962,
          -0.7301921401287503,
          -1.974766933366033,
          -1.2606638273598736,
          -0.14780583520530913,
          -0.30352793700047676,
          1.7608134785833829,
          1.8601966055560195,
          -0.7318941199356979,
          0.9881810889499792,
          1.2157909902610062,
          1.700833223803107,
          -0.03702641197653624,
          0.2685661133985728,
          -1.1540228701071364,
          -2.451284896900468,
          -0.6251852288829398,
          -0.6874066773430462,
          0.820850283868299,
          0.08442426464027586,
          0.6072766750939735,
          0.920499680386307,
          0.05005835511080823,
          1.649623201071434,
          0.11541833072015947,
          1.7441869252115747,
          0.3936830830921386,
          0.5152496115529626,
          1.7784524803055681,
          0.9419614134044356,
          -0.29177154982575987,
          -1.3783653483867588,
          0.9915959148343668,
          -0.40952344237860894,
          -0.6503507398847784,
          -0.2633247272517648,
          2.373729941368112,
          1.0409871870552478,
          -0.22852304522578715,
          -0.9982703819338618,
          -0.3968154813092077,
          -0.5617296882171342,
          -1.1346920922423802,
          0.5549905627104234,
          1.2967314166335604,
          0.2436695236624341,
          0.7769124747016123,
          2.2452054275190347,
          -0.823378225352857,
          0.9128352696742315,
          0.35267974946978997,
          -0.4916034171442968,
          0.35067090693594716,
          0.8292806012849196,
          1.3347709310432276,
          -0.5373920254195184,
          -2.112500723883234,
          -0.7694046864432289,
          0.7797256904311618,
          1.765595606686072,
          3.3627198690793323,
          -0.3076120808124946,
          -0.4285964521753026,
          0.531109847573406,
          -1.4629177205405783,
          0.8655379339108681,
          -0.49880559284931575,
          -0.47027222429519455,
          -1.6292499051374218,
          -0.07509143409175767,
          -1.0138651146690272,
          0.031127129211921862,
          -0.21735199281501266,
          0.02340260280010591,
          0.1357923014492216,
          -0.5432535568717444,
          2.287360729985298,
          -0.5650535168514119,
          0.3144488908793118,
          0.7106693119223403,
          -0.5269749040598086
         ]
        },
        {
         "histfunc": "count",
         "histnorm": "",
         "marker": {
          "color": "rgba(55, 128, 191, 1.0)",
          "line": {
           "color": "#4D5663",
           "width": 1.3
          }
         },
         "name": "B",
         "opacity": 0.8,
         "orientation": "v",
         "type": "histogram",
         "x": [
          -0.16272276040128936,
          0.7044986616881509,
          -3.1681590356748073,
          -0.4672001763129714,
          -0.31376620799253974,
          -0.5060581049498075,
          0.2704134271091462,
          -1.0229185417941054,
          -0.4961033903517738,
          0.6558721387107035,
          1.29186875327626,
          -1.5228271863433263,
          0.2346838303022486,
          -0.3539977200915892,
          1.1691767623198108,
          -0.15996799072360515,
          0.5835225744706318,
          0.2826237194233615,
          1.0659972007300325,
          -0.3879827255662256,
          -0.062233085977681166,
          -1.9704497431985206,
          -0.4323527048118112,
          -1.4209748903881405,
          -0.39646952828904025,
          -0.5330063251499289,
          0.6679417308521448,
          -0.52687230266114,
          -0.29564344639543116,
          -1.1788525999577755,
          -0.28200650244590725,
          -1.348594908250399,
          0.46037407721809376,
          -1.661032228224993,
          -0.8521494244571879,
          0.8418282719092218,
          -0.030946699555730282,
          0.8745270526457853,
          0.9236753971552883,
          0.002520505287537238,
          -0.6280134473910527,
          0.053418733854069776,
          -0.7099950695826408,
          0.45411841071298126,
          -0.1140285667950381,
          0.06784634512858456,
          0.9151555874440334,
          -1.0518497119831198,
          -0.8695055022189785,
          0.3636477438583736,
          -0.5758866931978616,
          -2.7048446150366017,
          0.053486454456806755,
          0.19709604180075288,
          -0.10599409895899331,
          1.289887828418673,
          0.2300267525465255,
          -0.7113701904602237,
          0.26506560404880775,
          -1.012652872010664,
          0.15135646644187953,
          0.5799854650566798,
          1.0887180107837493,
          1.4914586766891302,
          0.3672033428097803,
          1.1058459674371697,
          -1.1037543094206794,
          -0.7727398887207035,
          -0.256736556836982,
          -1.2056500675059685,
          -2.255492532473808,
          -0.4891770094355169,
          0.21185992687337646,
          1.6267167557827436,
          1.3624949864552849,
          0.5159284067924745,
          0.35663638396301744,
          -0.2104491465765928,
          0.28703359748779417,
          0.18707846870748404,
          0.9973777188764106,
          -0.11279170657735568,
          -0.3733935424177511,
          -0.964577374165736,
          0.07320496681842414,
          1.4354674409574493,
          0.35705828540155327,
          -0.26255279221395544,
          0.05764879251803963,
          -0.4479876335172284,
          -1.2406167000734456,
          -0.24554362450471798,
          0.2675657513139322,
          0.48698843493522,
          0.8717286775220626,
          0.38367709472602407,
          0.4869880369464998,
          -0.18782178877356678,
          1.1980849722535623,
          0.6852752458776807
         ]
        },
        {
         "histfunc": "count",
         "histnorm": "",
         "marker": {
          "color": "rgba(50, 171, 96, 1.0)",
          "line": {
           "color": "#4D5663",
           "width": 1.3
          }
         },
         "name": "C",
         "opacity": 0.8,
         "orientation": "v",
         "type": "histogram",
         "x": [
          -1.1272730642886264,
          0.4651189902515295,
          -1.4454347739122737,
          1.0279079519482663,
          1.1597304505685488,
          0.2748815117495381,
          1.104194961757863,
          -0.2290185011173507,
          0.15953594410562186,
          0.562339771980812,
          -0.8761502287169275,
          0.7912027271630951,
          -0.6209812755003381,
          0.032737755124431854,
          -1.5549609906684134,
          -0.33515092447103934,
          0.194459932524018,
          0.6494585970289132,
          -0.6893928623391945,
          0.9148149797189422,
          -0.5895666919039746,
          -0.10211652943550073,
          -0.6760910234409082,
          -0.3727048871600237,
          2.428985789791552,
          0.5130043188351135,
          0.5972076013366243,
          1.009203557743515,
          1.9045900982200739,
          0.6178807122127871,
          -0.6278933094372934,
          1.590850405219824,
          -0.36795986813056264,
          1.66351099652182,
          -0.44389827906571283,
          -0.05345271265392464,
          0.6207589631433975,
          0.6437974044230873,
          -0.5878286892911038,
          1.174098637950353,
          -1.6090012185329858,
          1.658044211840498,
          -0.4123398017075408,
          0.19145075399432507,
          -0.2640651240457925,
          -0.6863610251224573,
          -0.09469602496774447,
          0.35119148793087446,
          0.026919470255186696,
          -0.16076589280933315,
          0.24804911234882118,
          -0.5950410970752406,
          -0.233570069640491,
          0.44167872370361516,
          0.038790044898560805,
          0.4526309109038116,
          0.18424074154879694,
          1.119882167831072,
          0.9531270156065279,
          0.8760895341334429,
          0.8068324040628525,
          -0.6161085347247628,
          0.22092153272906404,
          -0.7348727228788727,
          -0.3457836593283543,
          -0.35461194797696516,
          0.00007957593078923664,
          -0.9314612407832846,
          0.6413911111570009,
          -0.42063095801144307,
          0.34326356603266805,
          1.6585243155630653,
          0.49641840775633916,
          -0.4559595375059727,
          1.8002833734246106,
          -0.5893485427493795,
          2.4409791593304915,
          2.1111406260814785,
          0.5717692342256324,
          0.4969059820132727,
          0.3667612685062775,
          -1.7207693503108104,
          -0.3780945698859745,
          0.9861281520336582,
          0.43769332640057695,
          -0.09825573369075614,
          -1.0655310736542085,
          -0.28337592874224027,
          0.5914522835671088,
          -1.1441736058441683,
          2.0939824152404967,
          1.545860871172858,
          -0.4658606262369593,
          1.0739808543369476,
          0.10316628689757296,
          -0.8250123725904674,
          0.3179683453832489,
          1.7120063950923825,
          2.399034422412584,
          1.084630479883858
         ]
        },
        {
         "histfunc": "count",
         "histnorm": "",
         "marker": {
          "color": "rgba(128, 0, 128, 1.0)",
          "line": {
           "color": "#4D5663",
           "width": 1.3
          }
         },
         "name": "D",
         "opacity": 0.8,
         "orientation": "v",
         "type": "histogram",
         "x": [
          -0.33024030884163036,
          -0.2523030735995534,
          -0.26180473103230223,
          -0.9723998035202468,
          1.1938252816314854,
          1.5879020392307879,
          1.124581352617844,
          -0.5941489950526395,
          -1.6007874960039579,
          2.057262323788016,
          0.7718883139284151,
          -0.2173777906630994,
          -1.6419730891986393,
          -0.14080583038493127,
          0.44002463185174934,
          0.07885168288341862,
          0.984212271626107,
          -1.1472398918765907,
          0.21153320221849023,
          -1.974807640083881,
          -1.1644959819637613,
          -1.2237455619221056,
          0.34578100988560473,
          -0.5217157483023667,
          -1.270290747916724,
          0.7491767957609144,
          2.644266078029767,
          -1.6406401948550957,
          1.0322499071462257,
          0.6887910644533315,
          0.32287907932850624,
          1.4989591201474028,
          -1.1991161411912088,
          -0.8920601546409503,
          0.6400442351261533,
          -0.47165416077286754,
          -0.4548982919516317,
          0.12415938669496829,
          -0.4247846425283389,
          -0.9156633119828546,
          1.4581552202445693,
          -1.5763818308364506,
          0.21152281160136105,
          0.06341412438401173,
          0.6798819630360923,
          1.5250532395213547,
          0.4218008104000734,
          1.3304872068583076,
          -1.7863931171311287,
          0.03882887739452606,
          -0.2999883606054231,
          0.14013821996232273,
          -1.4750819545560712,
          0.6671091889997084,
          -0.36788116976311264,
          0.015900905065900306,
          1.1184055509960755,
          -1.1608114921416226,
          -0.3201716786888437,
          -1.079402033541682,
          -0.04246988206278477,
          -0.43415589253483394,
          -1.087880851337657,
          -0.37922593084677414,
          1.6207908071143207,
          -0.8540825557908546,
          -1.076789785101322,
          1.8518210072958456,
          0.7508158404618406,
          -0.8021722588853217,
          -0.530266045981944,
          -1.0201028827629512,
          -0.18763082062703867,
          -1.1124134439639035,
          -0.060021475110751454,
          0.022480385141118605,
          -0.06130935854797956,
          -1.3412760445635994,
          0.1467524014787332,
          -0.031133312042740384,
          0.43515983911470957,
          0.7900703994178605,
          0.5418804340396783,
          -0.715718752248988,
          1.5385736218598856,
          0.10305063865747505,
          0.23074339533619892,
          -0.08945389350799786,
          0.8315569985295567,
          -2.178527148123283,
          1.0627661204823748,
          -1.7001961939953165,
          0.5533018938128142,
          0.5994346030753849,
          1.3425970461467547,
          -0.40497516633433484,
          2.062920764596815,
          -1.3395678968380955,
          0.425148566114341,
          -2.006033755250181
         ]
        }
       ],
       "layout": {
        "barmode": "overlay",
        "legend": {
         "bgcolor": "#F5F6F9",
         "font": {
          "color": "#4D5663"
         }
        },
        "paper_bgcolor": "#F5F6F9",
        "plot_bgcolor": "#F5F6F9",
        "template": {
         "data": {
          "bar": [
           {
            "error_x": {
             "color": "#2a3f5f"
            },
            "error_y": {
             "color": "#2a3f5f"
            },
            "marker": {
             "line": {
              "color": "#E5ECF6",
              "width": 0.5
             },
             "pattern": {
              "fillmode": "overlay",
              "size": 10,
              "solidity": 0.2
             }
            },
            "type": "bar"
           }
          ],
          "barpolar": [
           {
            "marker": {
             "line": {
              "color": "#E5ECF6",
              "width": 0.5
             },
             "pattern": {
              "fillmode": "overlay",
              "size": 10,
              "solidity": 0.2
             }
            },
            "type": "barpolar"
           }
          ],
          "carpet": [
           {
            "aaxis": {
             "endlinecolor": "#2a3f5f",
             "gridcolor": "white",
             "linecolor": "white",
             "minorgridcolor": "white",
             "startlinecolor": "#2a3f5f"
            },
            "baxis": {
             "endlinecolor": "#2a3f5f",
             "gridcolor": "white",
             "linecolor": "white",
             "minorgridcolor": "white",
             "startlinecolor": "#2a3f5f"
            },
            "type": "carpet"
           }
          ],
          "choropleth": [
           {
            "colorbar": {
             "outlinewidth": 0,
             "ticks": ""
            },
            "type": "choropleth"
           }
          ],
          "contour": [
           {
            "colorbar": {
             "outlinewidth": 0,
             "ticks": ""
            },
            "colorscale": [
             [
              0,
              "#0d0887"
             ],
             [
              0.1111111111111111,
              "#46039f"
             ],
             [
              0.2222222222222222,
              "#7201a8"
             ],
             [
              0.3333333333333333,
              "#9c179e"
             ],
             [
              0.4444444444444444,
              "#bd3786"
             ],
             [
              0.5555555555555556,
              "#d8576b"
             ],
             [
              0.6666666666666666,
              "#ed7953"
             ],
             [
              0.7777777777777778,
              "#fb9f3a"
             ],
             [
              0.8888888888888888,
              "#fdca26"
             ],
             [
              1,
              "#f0f921"
             ]
            ],
            "type": "contour"
           }
          ],
          "contourcarpet": [
           {
            "colorbar": {
             "outlinewidth": 0,
             "ticks": ""
            },
            "type": "contourcarpet"
           }
          ],
          "heatmap": [
           {
            "colorbar": {
             "outlinewidth": 0,
             "ticks": ""
            },
            "colorscale": [
             [
              0,
              "#0d0887"
             ],
             [
              0.1111111111111111,
              "#46039f"
             ],
             [
              0.2222222222222222,
              "#7201a8"
             ],
             [
              0.3333333333333333,
              "#9c179e"
             ],
             [
              0.4444444444444444,
              "#bd3786"
             ],
             [
              0.5555555555555556,
              "#d8576b"
             ],
             [
              0.6666666666666666,
              "#ed7953"
             ],
             [
              0.7777777777777778,
              "#fb9f3a"
             ],
             [
              0.8888888888888888,
              "#fdca26"
             ],
             [
              1,
              "#f0f921"
             ]
            ],
            "type": "heatmap"
           }
          ],
          "heatmapgl": [
           {
            "colorbar": {
             "outlinewidth": 0,
             "ticks": ""
            },
            "colorscale": [
             [
              0,
              "#0d0887"
             ],
             [
              0.1111111111111111,
              "#46039f"
             ],
             [
              0.2222222222222222,
              "#7201a8"
             ],
             [
              0.3333333333333333,
              "#9c179e"
             ],
             [
              0.4444444444444444,
              "#bd3786"
             ],
             [
              0.5555555555555556,
              "#d8576b"
             ],
             [
              0.6666666666666666,
              "#ed7953"
             ],
             [
              0.7777777777777778,
              "#fb9f3a"
             ],
             [
              0.8888888888888888,
              "#fdca26"
             ],
             [
              1,
              "#f0f921"
             ]
            ],
            "type": "heatmapgl"
           }
          ],
          "histogram": [
           {
            "marker": {
             "pattern": {
              "fillmode": "overlay",
              "size": 10,
              "solidity": 0.2
             }
            },
            "type": "histogram"
           }
          ],
          "histogram2d": [
           {
            "colorbar": {
             "outlinewidth": 0,
             "ticks": ""
            },
            "colorscale": [
             [
              0,
              "#0d0887"
             ],
             [
              0.1111111111111111,
              "#46039f"
             ],
             [
              0.2222222222222222,
              "#7201a8"
             ],
             [
              0.3333333333333333,
              "#9c179e"
             ],
             [
              0.4444444444444444,
              "#bd3786"
             ],
             [
              0.5555555555555556,
              "#d8576b"
             ],
             [
              0.6666666666666666,
              "#ed7953"
             ],
             [
              0.7777777777777778,
              "#fb9f3a"
             ],
             [
              0.8888888888888888,
              "#fdca26"
             ],
             [
              1,
              "#f0f921"
             ]
            ],
            "type": "histogram2d"
           }
          ],
          "histogram2dcontour": [
           {
            "colorbar": {
             "outlinewidth": 0,
             "ticks": ""
            },
            "colorscale": [
             [
              0,
              "#0d0887"
             ],
             [
              0.1111111111111111,
              "#46039f"
             ],
             [
              0.2222222222222222,
              "#7201a8"
             ],
             [
              0.3333333333333333,
              "#9c179e"
             ],
             [
              0.4444444444444444,
              "#bd3786"
             ],
             [
              0.5555555555555556,
              "#d8576b"
             ],
             [
              0.6666666666666666,
              "#ed7953"
             ],
             [
              0.7777777777777778,
              "#fb9f3a"
             ],
             [
              0.8888888888888888,
              "#fdca26"
             ],
             [
              1,
              "#f0f921"
             ]
            ],
            "type": "histogram2dcontour"
           }
          ],
          "mesh3d": [
           {
            "colorbar": {
             "outlinewidth": 0,
             "ticks": ""
            },
            "type": "mesh3d"
           }
          ],
          "parcoords": [
           {
            "line": {
             "colorbar": {
              "outlinewidth": 0,
              "ticks": ""
             }
            },
            "type": "parcoords"
           }
          ],
          "pie": [
           {
            "automargin": true,
            "type": "pie"
           }
          ],
          "scatter": [
           {
            "fillpattern": {
             "fillmode": "overlay",
             "size": 10,
             "solidity": 0.2
            },
            "type": "scatter"
           }
          ],
          "scatter3d": [
           {
            "line": {
             "colorbar": {
              "outlinewidth": 0,
              "ticks": ""
             }
            },
            "marker": {
             "colorbar": {
              "outlinewidth": 0,
              "ticks": ""
             }
            },
            "type": "scatter3d"
           }
          ],
          "scattercarpet": [
           {
            "marker": {
             "colorbar": {
              "outlinewidth": 0,
              "ticks": ""
             }
            },
            "type": "scattercarpet"
           }
          ],
          "scattergeo": [
           {
            "marker": {
             "colorbar": {
              "outlinewidth": 0,
              "ticks": ""
             }
            },
            "type": "scattergeo"
           }
          ],
          "scattergl": [
           {
            "marker": {
             "colorbar": {
              "outlinewidth": 0,
              "ticks": ""
             }
            },
            "type": "scattergl"
           }
          ],
          "scattermapbox": [
           {
            "marker": {
             "colorbar": {
              "outlinewidth": 0,
              "ticks": ""
             }
            },
            "type": "scattermapbox"
           }
          ],
          "scatterpolar": [
           {
            "marker": {
             "colorbar": {
              "outlinewidth": 0,
              "ticks": ""
             }
            },
            "type": "scatterpolar"
           }
          ],
          "scatterpolargl": [
           {
            "marker": {
             "colorbar": {
              "outlinewidth": 0,
              "ticks": ""
             }
            },
            "type": "scatterpolargl"
           }
          ],
          "scatterternary": [
           {
            "marker": {
             "colorbar": {
              "outlinewidth": 0,
              "ticks": ""
             }
            },
            "type": "scatterternary"
           }
          ],
          "surface": [
           {
            "colorbar": {
             "outlinewidth": 0,
             "ticks": ""
            },
            "colorscale": [
             [
              0,
              "#0d0887"
             ],
             [
              0.1111111111111111,
              "#46039f"
             ],
             [
              0.2222222222222222,
              "#7201a8"
             ],
             [
              0.3333333333333333,
              "#9c179e"
             ],
             [
              0.4444444444444444,
              "#bd3786"
             ],
             [
              0.5555555555555556,
              "#d8576b"
             ],
             [
              0.6666666666666666,
              "#ed7953"
             ],
             [
              0.7777777777777778,
              "#fb9f3a"
             ],
             [
              0.8888888888888888,
              "#fdca26"
             ],
             [
              1,
              "#f0f921"
             ]
            ],
            "type": "surface"
           }
          ],
          "table": [
           {
            "cells": {
             "fill": {
              "color": "#EBF0F8"
             },
             "line": {
              "color": "white"
             }
            },
            "header": {
             "fill": {
              "color": "#C8D4E3"
             },
             "line": {
              "color": "white"
             }
            },
            "type": "table"
           }
          ]
         },
         "layout": {
          "annotationdefaults": {
           "arrowcolor": "#2a3f5f",
           "arrowhead": 0,
           "arrowwidth": 1
          },
          "autotypenumbers": "strict",
          "coloraxis": {
           "colorbar": {
            "outlinewidth": 0,
            "ticks": ""
           }
          },
          "colorscale": {
           "diverging": [
            [
             0,
             "#8e0152"
            ],
            [
             0.1,
             "#c51b7d"
            ],
            [
             0.2,
             "#de77ae"
            ],
            [
             0.3,
             "#f1b6da"
            ],
            [
             0.4,
             "#fde0ef"
            ],
            [
             0.5,
             "#f7f7f7"
            ],
            [
             0.6,
             "#e6f5d0"
            ],
            [
             0.7,
             "#b8e186"
            ],
            [
             0.8,
             "#7fbc41"
            ],
            [
             0.9,
             "#4d9221"
            ],
            [
             1,
             "#276419"
            ]
           ],
           "sequential": [
            [
             0,
             "#0d0887"
            ],
            [
             0.1111111111111111,
             "#46039f"
            ],
            [
             0.2222222222222222,
             "#7201a8"
            ],
            [
             0.3333333333333333,
             "#9c179e"
            ],
            [
             0.4444444444444444,
             "#bd3786"
            ],
            [
             0.5555555555555556,
             "#d8576b"
            ],
            [
             0.6666666666666666,
             "#ed7953"
            ],
            [
             0.7777777777777778,
             "#fb9f3a"
            ],
            [
             0.8888888888888888,
             "#fdca26"
            ],
            [
             1,
             "#f0f921"
            ]
           ],
           "sequentialminus": [
            [
             0,
             "#0d0887"
            ],
            [
             0.1111111111111111,
             "#46039f"
            ],
            [
             0.2222222222222222,
             "#7201a8"
            ],
            [
             0.3333333333333333,
             "#9c179e"
            ],
            [
             0.4444444444444444,
             "#bd3786"
            ],
            [
             0.5555555555555556,
             "#d8576b"
            ],
            [
             0.6666666666666666,
             "#ed7953"
            ],
            [
             0.7777777777777778,
             "#fb9f3a"
            ],
            [
             0.8888888888888888,
             "#fdca26"
            ],
            [
             1,
             "#f0f921"
            ]
           ]
          },
          "colorway": [
           "#636efa",
           "#EF553B",
           "#00cc96",
           "#ab63fa",
           "#FFA15A",
           "#19d3f3",
           "#FF6692",
           "#B6E880",
           "#FF97FF",
           "#FECB52"
          ],
          "font": {
           "color": "#2a3f5f"
          },
          "geo": {
           "bgcolor": "white",
           "lakecolor": "white",
           "landcolor": "#E5ECF6",
           "showlakes": true,
           "showland": true,
           "subunitcolor": "white"
          },
          "hoverlabel": {
           "align": "left"
          },
          "hovermode": "closest",
          "mapbox": {
           "style": "light"
          },
          "paper_bgcolor": "white",
          "plot_bgcolor": "#E5ECF6",
          "polar": {
           "angularaxis": {
            "gridcolor": "white",
            "linecolor": "white",
            "ticks": ""
           },
           "bgcolor": "#E5ECF6",
           "radialaxis": {
            "gridcolor": "white",
            "linecolor": "white",
            "ticks": ""
           }
          },
          "scene": {
           "xaxis": {
            "backgroundcolor": "#E5ECF6",
            "gridcolor": "white",
            "gridwidth": 2,
            "linecolor": "white",
            "showbackground": true,
            "ticks": "",
            "zerolinecolor": "white"
           },
           "yaxis": {
            "backgroundcolor": "#E5ECF6",
            "gridcolor": "white",
            "gridwidth": 2,
            "linecolor": "white",
            "showbackground": true,
            "ticks": "",
            "zerolinecolor": "white"
           },
           "zaxis": {
            "backgroundcolor": "#E5ECF6",
            "gridcolor": "white",
            "gridwidth": 2,
            "linecolor": "white",
            "showbackground": true,
            "ticks": "",
            "zerolinecolor": "white"
           }
          },
          "shapedefaults": {
           "line": {
            "color": "#2a3f5f"
           }
          },
          "ternary": {
           "aaxis": {
            "gridcolor": "white",
            "linecolor": "white",
            "ticks": ""
           },
           "baxis": {
            "gridcolor": "white",
            "linecolor": "white",
            "ticks": ""
           },
           "bgcolor": "#E5ECF6",
           "caxis": {
            "gridcolor": "white",
            "linecolor": "white",
            "ticks": ""
           }
          },
          "title": {
           "x": 0.05
          },
          "xaxis": {
           "automargin": true,
           "gridcolor": "white",
           "linecolor": "white",
           "ticks": "",
           "title": {
            "standoff": 15
           },
           "zerolinecolor": "white",
           "zerolinewidth": 2
          },
          "yaxis": {
           "automargin": true,
           "gridcolor": "white",
           "linecolor": "white",
           "ticks": "",
           "title": {
            "standoff": 15
           },
           "zerolinecolor": "white",
           "zerolinewidth": 2
          }
         }
        },
        "title": {
         "font": {
          "color": "#4D5663"
         }
        },
        "xaxis": {
         "gridcolor": "#E1E5ED",
         "showgrid": true,
         "tickfont": {
          "color": "#4D5663"
         },
         "title": {
          "font": {
           "color": "#4D5663"
          },
          "text": ""
         },
         "zerolinecolor": "#E1E5ED"
        },
        "yaxis": {
         "gridcolor": "#E1E5ED",
         "showgrid": true,
         "tickfont": {
          "color": "#4D5663"
         },
         "title": {
          "font": {
           "color": "#4D5663"
          },
          "text": ""
         },
         "zerolinecolor": "#E1E5ED"
        }
       }
      },
      "text/html": [
       "<div>                            <div id=\"94e0f85a-8621-407c-90d5-69d6543a005b\" class=\"plotly-graph-div\" style=\"height:525px; width:100%;\"></div>            <script type=\"text/javascript\">                require([\"plotly\"], function(Plotly) {                    window.PLOTLYENV=window.PLOTLYENV || {};\n",
       "                    window.PLOTLYENV.BASE_URL='https://plot.ly';                                    if (document.getElementById(\"94e0f85a-8621-407c-90d5-69d6543a005b\")) {                    Plotly.newPlot(                        \"94e0f85a-8621-407c-90d5-69d6543a005b\",                        [{\"histfunc\":\"count\",\"histnorm\":\"\",\"marker\":{\"color\":\"rgba(255, 153, 51, 1.0)\",\"line\":{\"color\":\"#4D5663\",\"width\":1.3}},\"name\":\"A\",\"opacity\":0.8,\"orientation\":\"v\",\"x\":[1.271671286958233,-2.172408915978876,1.7854365286371727,1.5799705135342348,0.5171449831935606,-0.738836448224735,-1.8144196577454883,0.6426229098950454,-0.6636473476440262,-1.00280947283931,-0.23427784176035332,2.350590946817898,-0.772872337152085,0.06721304131837574,-0.3380988576289599,-1.032927158724717,-0.4301694538498191,-0.6795763232900397,1.6746112402990454,-0.8071433538687962,-0.7301921401287503,-1.974766933366033,-1.2606638273598736,-0.14780583520530913,-0.30352793700047676,1.7608134785833829,1.8601966055560195,-0.7318941199356979,0.9881810889499792,1.2157909902610062,1.700833223803107,-0.03702641197653624,0.2685661133985728,-1.1540228701071364,-2.451284896900468,-0.6251852288829398,-0.6874066773430462,0.820850283868299,0.08442426464027586,0.6072766750939735,0.920499680386307,0.05005835511080823,1.649623201071434,0.11541833072015947,1.7441869252115747,0.3936830830921386,0.5152496115529626,1.7784524803055681,0.9419614134044356,-0.29177154982575987,-1.3783653483867588,0.9915959148343668,-0.40952344237860894,-0.6503507398847784,-0.2633247272517648,2.373729941368112,1.0409871870552478,-0.22852304522578715,-0.9982703819338618,-0.3968154813092077,-0.5617296882171342,-1.1346920922423802,0.5549905627104234,1.2967314166335604,0.2436695236624341,0.7769124747016123,2.2452054275190347,-0.823378225352857,0.9128352696742315,0.35267974946978997,-0.4916034171442968,0.35067090693594716,0.8292806012849196,1.3347709310432276,-0.5373920254195184,-2.112500723883234,-0.7694046864432289,0.7797256904311618,1.765595606686072,3.3627198690793323,-0.3076120808124946,-0.4285964521753026,0.531109847573406,-1.4629177205405783,0.8655379339108681,-0.49880559284931575,-0.47027222429519455,-1.6292499051374218,-0.07509143409175767,-1.0138651146690272,0.031127129211921862,-0.21735199281501266,0.02340260280010591,0.1357923014492216,-0.5432535568717444,2.287360729985298,-0.5650535168514119,0.3144488908793118,0.7106693119223403,-0.5269749040598086],\"type\":\"histogram\"},{\"histfunc\":\"count\",\"histnorm\":\"\",\"marker\":{\"color\":\"rgba(55, 128, 191, 1.0)\",\"line\":{\"color\":\"#4D5663\",\"width\":1.3}},\"name\":\"B\",\"opacity\":0.8,\"orientation\":\"v\",\"x\":[-0.16272276040128936,0.7044986616881509,-3.1681590356748073,-0.4672001763129714,-0.31376620799253974,-0.5060581049498075,0.2704134271091462,-1.0229185417941054,-0.4961033903517738,0.6558721387107035,1.29186875327626,-1.5228271863433263,0.2346838303022486,-0.3539977200915892,1.1691767623198108,-0.15996799072360515,0.5835225744706318,0.2826237194233615,1.0659972007300325,-0.3879827255662256,-0.062233085977681166,-1.9704497431985206,-0.4323527048118112,-1.4209748903881405,-0.39646952828904025,-0.5330063251499289,0.6679417308521448,-0.52687230266114,-0.29564344639543116,-1.1788525999577755,-0.28200650244590725,-1.348594908250399,0.46037407721809376,-1.661032228224993,-0.8521494244571879,0.8418282719092218,-0.030946699555730282,0.8745270526457853,0.9236753971552883,0.002520505287537238,-0.6280134473910527,0.053418733854069776,-0.7099950695826408,0.45411841071298126,-0.1140285667950381,0.06784634512858456,0.9151555874440334,-1.0518497119831198,-0.8695055022189785,0.3636477438583736,-0.5758866931978616,-2.7048446150366017,0.053486454456806755,0.19709604180075288,-0.10599409895899331,1.289887828418673,0.2300267525465255,-0.7113701904602237,0.26506560404880775,-1.012652872010664,0.15135646644187953,0.5799854650566798,1.0887180107837493,1.4914586766891302,0.3672033428097803,1.1058459674371697,-1.1037543094206794,-0.7727398887207035,-0.256736556836982,-1.2056500675059685,-2.255492532473808,-0.4891770094355169,0.21185992687337646,1.6267167557827436,1.3624949864552849,0.5159284067924745,0.35663638396301744,-0.2104491465765928,0.28703359748779417,0.18707846870748404,0.9973777188764106,-0.11279170657735568,-0.3733935424177511,-0.964577374165736,0.07320496681842414,1.4354674409574493,0.35705828540155327,-0.26255279221395544,0.05764879251803963,-0.4479876335172284,-1.2406167000734456,-0.24554362450471798,0.2675657513139322,0.48698843493522,0.8717286775220626,0.38367709472602407,0.4869880369464998,-0.18782178877356678,1.1980849722535623,0.6852752458776807],\"type\":\"histogram\"},{\"histfunc\":\"count\",\"histnorm\":\"\",\"marker\":{\"color\":\"rgba(50, 171, 96, 1.0)\",\"line\":{\"color\":\"#4D5663\",\"width\":1.3}},\"name\":\"C\",\"opacity\":0.8,\"orientation\":\"v\",\"x\":[-1.1272730642886264,0.4651189902515295,-1.4454347739122737,1.0279079519482663,1.1597304505685488,0.2748815117495381,1.104194961757863,-0.2290185011173507,0.15953594410562186,0.562339771980812,-0.8761502287169275,0.7912027271630951,-0.6209812755003381,0.032737755124431854,-1.5549609906684134,-0.33515092447103934,0.194459932524018,0.6494585970289132,-0.6893928623391945,0.9148149797189422,-0.5895666919039746,-0.10211652943550073,-0.6760910234409082,-0.3727048871600237,2.428985789791552,0.5130043188351135,0.5972076013366243,1.009203557743515,1.9045900982200739,0.6178807122127871,-0.6278933094372934,1.590850405219824,-0.36795986813056264,1.66351099652182,-0.44389827906571283,-0.05345271265392464,0.6207589631433975,0.6437974044230873,-0.5878286892911038,1.174098637950353,-1.6090012185329858,1.658044211840498,-0.4123398017075408,0.19145075399432507,-0.2640651240457925,-0.6863610251224573,-0.09469602496774447,0.35119148793087446,0.026919470255186696,-0.16076589280933315,0.24804911234882118,-0.5950410970752406,-0.233570069640491,0.44167872370361516,0.038790044898560805,0.4526309109038116,0.18424074154879694,1.119882167831072,0.9531270156065279,0.8760895341334429,0.8068324040628525,-0.6161085347247628,0.22092153272906404,-0.7348727228788727,-0.3457836593283543,-0.35461194797696516,7.957593078923664e-05,-0.9314612407832846,0.6413911111570009,-0.42063095801144307,0.34326356603266805,1.6585243155630653,0.49641840775633916,-0.4559595375059727,1.8002833734246106,-0.5893485427493795,2.4409791593304915,2.1111406260814785,0.5717692342256324,0.4969059820132727,0.3667612685062775,-1.7207693503108104,-0.3780945698859745,0.9861281520336582,0.43769332640057695,-0.09825573369075614,-1.0655310736542085,-0.28337592874224027,0.5914522835671088,-1.1441736058441683,2.0939824152404967,1.545860871172858,-0.4658606262369593,1.0739808543369476,0.10316628689757296,-0.8250123725904674,0.3179683453832489,1.7120063950923825,2.399034422412584,1.084630479883858],\"type\":\"histogram\"},{\"histfunc\":\"count\",\"histnorm\":\"\",\"marker\":{\"color\":\"rgba(128, 0, 128, 1.0)\",\"line\":{\"color\":\"#4D5663\",\"width\":1.3}},\"name\":\"D\",\"opacity\":0.8,\"orientation\":\"v\",\"x\":[-0.33024030884163036,-0.2523030735995534,-0.26180473103230223,-0.9723998035202468,1.1938252816314854,1.5879020392307879,1.124581352617844,-0.5941489950526395,-1.6007874960039579,2.057262323788016,0.7718883139284151,-0.2173777906630994,-1.6419730891986393,-0.14080583038493127,0.44002463185174934,0.07885168288341862,0.984212271626107,-1.1472398918765907,0.21153320221849023,-1.974807640083881,-1.1644959819637613,-1.2237455619221056,0.34578100988560473,-0.5217157483023667,-1.270290747916724,0.7491767957609144,2.644266078029767,-1.6406401948550957,1.0322499071462257,0.6887910644533315,0.32287907932850624,1.4989591201474028,-1.1991161411912088,-0.8920601546409503,0.6400442351261533,-0.47165416077286754,-0.4548982919516317,0.12415938669496829,-0.4247846425283389,-0.9156633119828546,1.4581552202445693,-1.5763818308364506,0.21152281160136105,0.06341412438401173,0.6798819630360923,1.5250532395213547,0.4218008104000734,1.3304872068583076,-1.7863931171311287,0.03882887739452606,-0.2999883606054231,0.14013821996232273,-1.4750819545560712,0.6671091889997084,-0.36788116976311264,0.015900905065900306,1.1184055509960755,-1.1608114921416226,-0.3201716786888437,-1.079402033541682,-0.04246988206278477,-0.43415589253483394,-1.087880851337657,-0.37922593084677414,1.6207908071143207,-0.8540825557908546,-1.076789785101322,1.8518210072958456,0.7508158404618406,-0.8021722588853217,-0.530266045981944,-1.0201028827629512,-0.18763082062703867,-1.1124134439639035,-0.060021475110751454,0.022480385141118605,-0.06130935854797956,-1.3412760445635994,0.1467524014787332,-0.031133312042740384,0.43515983911470957,0.7900703994178605,0.5418804340396783,-0.715718752248988,1.5385736218598856,0.10305063865747505,0.23074339533619892,-0.08945389350799786,0.8315569985295567,-2.178527148123283,1.0627661204823748,-1.7001961939953165,0.5533018938128142,0.5994346030753849,1.3425970461467547,-0.40497516633433484,2.062920764596815,-1.3395678968380955,0.425148566114341,-2.006033755250181],\"type\":\"histogram\"}],                        {\"barmode\":\"overlay\",\"legend\":{\"bgcolor\":\"#F5F6F9\",\"font\":{\"color\":\"#4D5663\"}},\"paper_bgcolor\":\"#F5F6F9\",\"plot_bgcolor\":\"#F5F6F9\",\"template\":{\"data\":{\"barpolar\":[{\"marker\":{\"line\":{\"color\":\"#E5ECF6\",\"width\":0.5},\"pattern\":{\"fillmode\":\"overlay\",\"size\":10,\"solidity\":0.2}},\"type\":\"barpolar\"}],\"bar\":[{\"error_x\":{\"color\":\"#2a3f5f\"},\"error_y\":{\"color\":\"#2a3f5f\"},\"marker\":{\"line\":{\"color\":\"#E5ECF6\",\"width\":0.5},\"pattern\":{\"fillmode\":\"overlay\",\"size\":10,\"solidity\":0.2}},\"type\":\"bar\"}],\"carpet\":[{\"aaxis\":{\"endlinecolor\":\"#2a3f5f\",\"gridcolor\":\"white\",\"linecolor\":\"white\",\"minorgridcolor\":\"white\",\"startlinecolor\":\"#2a3f5f\"},\"baxis\":{\"endlinecolor\":\"#2a3f5f\",\"gridcolor\":\"white\",\"linecolor\":\"white\",\"minorgridcolor\":\"white\",\"startlinecolor\":\"#2a3f5f\"},\"type\":\"carpet\"}],\"choropleth\":[{\"colorbar\":{\"outlinewidth\":0,\"ticks\":\"\"},\"type\":\"choropleth\"}],\"contourcarpet\":[{\"colorbar\":{\"outlinewidth\":0,\"ticks\":\"\"},\"type\":\"contourcarpet\"}],\"contour\":[{\"colorbar\":{\"outlinewidth\":0,\"ticks\":\"\"},\"colorscale\":[[0.0,\"#0d0887\"],[0.1111111111111111,\"#46039f\"],[0.2222222222222222,\"#7201a8\"],[0.3333333333333333,\"#9c179e\"],[0.4444444444444444,\"#bd3786\"],[0.5555555555555556,\"#d8576b\"],[0.6666666666666666,\"#ed7953\"],[0.7777777777777778,\"#fb9f3a\"],[0.8888888888888888,\"#fdca26\"],[1.0,\"#f0f921\"]],\"type\":\"contour\"}],\"heatmapgl\":[{\"colorbar\":{\"outlinewidth\":0,\"ticks\":\"\"},\"colorscale\":[[0.0,\"#0d0887\"],[0.1111111111111111,\"#46039f\"],[0.2222222222222222,\"#7201a8\"],[0.3333333333333333,\"#9c179e\"],[0.4444444444444444,\"#bd3786\"],[0.5555555555555556,\"#d8576b\"],[0.6666666666666666,\"#ed7953\"],[0.7777777777777778,\"#fb9f3a\"],[0.8888888888888888,\"#fdca26\"],[1.0,\"#f0f921\"]],\"type\":\"heatmapgl\"}],\"heatmap\":[{\"colorbar\":{\"outlinewidth\":0,\"ticks\":\"\"},\"colorscale\":[[0.0,\"#0d0887\"],[0.1111111111111111,\"#46039f\"],[0.2222222222222222,\"#7201a8\"],[0.3333333333333333,\"#9c179e\"],[0.4444444444444444,\"#bd3786\"],[0.5555555555555556,\"#d8576b\"],[0.6666666666666666,\"#ed7953\"],[0.7777777777777778,\"#fb9f3a\"],[0.8888888888888888,\"#fdca26\"],[1.0,\"#f0f921\"]],\"type\":\"heatmap\"}],\"histogram2dcontour\":[{\"colorbar\":{\"outlinewidth\":0,\"ticks\":\"\"},\"colorscale\":[[0.0,\"#0d0887\"],[0.1111111111111111,\"#46039f\"],[0.2222222222222222,\"#7201a8\"],[0.3333333333333333,\"#9c179e\"],[0.4444444444444444,\"#bd3786\"],[0.5555555555555556,\"#d8576b\"],[0.6666666666666666,\"#ed7953\"],[0.7777777777777778,\"#fb9f3a\"],[0.8888888888888888,\"#fdca26\"],[1.0,\"#f0f921\"]],\"type\":\"histogram2dcontour\"}],\"histogram2d\":[{\"colorbar\":{\"outlinewidth\":0,\"ticks\":\"\"},\"colorscale\":[[0.0,\"#0d0887\"],[0.1111111111111111,\"#46039f\"],[0.2222222222222222,\"#7201a8\"],[0.3333333333333333,\"#9c179e\"],[0.4444444444444444,\"#bd3786\"],[0.5555555555555556,\"#d8576b\"],[0.6666666666666666,\"#ed7953\"],[0.7777777777777778,\"#fb9f3a\"],[0.8888888888888888,\"#fdca26\"],[1.0,\"#f0f921\"]],\"type\":\"histogram2d\"}],\"histogram\":[{\"marker\":{\"pattern\":{\"fillmode\":\"overlay\",\"size\":10,\"solidity\":0.2}},\"type\":\"histogram\"}],\"mesh3d\":[{\"colorbar\":{\"outlinewidth\":0,\"ticks\":\"\"},\"type\":\"mesh3d\"}],\"parcoords\":[{\"line\":{\"colorbar\":{\"outlinewidth\":0,\"ticks\":\"\"}},\"type\":\"parcoords\"}],\"pie\":[{\"automargin\":true,\"type\":\"pie\"}],\"scatter3d\":[{\"line\":{\"colorbar\":{\"outlinewidth\":0,\"ticks\":\"\"}},\"marker\":{\"colorbar\":{\"outlinewidth\":0,\"ticks\":\"\"}},\"type\":\"scatter3d\"}],\"scattercarpet\":[{\"marker\":{\"colorbar\":{\"outlinewidth\":0,\"ticks\":\"\"}},\"type\":\"scattercarpet\"}],\"scattergeo\":[{\"marker\":{\"colorbar\":{\"outlinewidth\":0,\"ticks\":\"\"}},\"type\":\"scattergeo\"}],\"scattergl\":[{\"marker\":{\"colorbar\":{\"outlinewidth\":0,\"ticks\":\"\"}},\"type\":\"scattergl\"}],\"scattermapbox\":[{\"marker\":{\"colorbar\":{\"outlinewidth\":0,\"ticks\":\"\"}},\"type\":\"scattermapbox\"}],\"scatterpolargl\":[{\"marker\":{\"colorbar\":{\"outlinewidth\":0,\"ticks\":\"\"}},\"type\":\"scatterpolargl\"}],\"scatterpolar\":[{\"marker\":{\"colorbar\":{\"outlinewidth\":0,\"ticks\":\"\"}},\"type\":\"scatterpolar\"}],\"scatter\":[{\"fillpattern\":{\"fillmode\":\"overlay\",\"size\":10,\"solidity\":0.2},\"type\":\"scatter\"}],\"scatterternary\":[{\"marker\":{\"colorbar\":{\"outlinewidth\":0,\"ticks\":\"\"}},\"type\":\"scatterternary\"}],\"surface\":[{\"colorbar\":{\"outlinewidth\":0,\"ticks\":\"\"},\"colorscale\":[[0.0,\"#0d0887\"],[0.1111111111111111,\"#46039f\"],[0.2222222222222222,\"#7201a8\"],[0.3333333333333333,\"#9c179e\"],[0.4444444444444444,\"#bd3786\"],[0.5555555555555556,\"#d8576b\"],[0.6666666666666666,\"#ed7953\"],[0.7777777777777778,\"#fb9f3a\"],[0.8888888888888888,\"#fdca26\"],[1.0,\"#f0f921\"]],\"type\":\"surface\"}],\"table\":[{\"cells\":{\"fill\":{\"color\":\"#EBF0F8\"},\"line\":{\"color\":\"white\"}},\"header\":{\"fill\":{\"color\":\"#C8D4E3\"},\"line\":{\"color\":\"white\"}},\"type\":\"table\"}]},\"layout\":{\"annotationdefaults\":{\"arrowcolor\":\"#2a3f5f\",\"arrowhead\":0,\"arrowwidth\":1},\"autotypenumbers\":\"strict\",\"coloraxis\":{\"colorbar\":{\"outlinewidth\":0,\"ticks\":\"\"}},\"colorscale\":{\"diverging\":[[0,\"#8e0152\"],[0.1,\"#c51b7d\"],[0.2,\"#de77ae\"],[0.3,\"#f1b6da\"],[0.4,\"#fde0ef\"],[0.5,\"#f7f7f7\"],[0.6,\"#e6f5d0\"],[0.7,\"#b8e186\"],[0.8,\"#7fbc41\"],[0.9,\"#4d9221\"],[1,\"#276419\"]],\"sequential\":[[0.0,\"#0d0887\"],[0.1111111111111111,\"#46039f\"],[0.2222222222222222,\"#7201a8\"],[0.3333333333333333,\"#9c179e\"],[0.4444444444444444,\"#bd3786\"],[0.5555555555555556,\"#d8576b\"],[0.6666666666666666,\"#ed7953\"],[0.7777777777777778,\"#fb9f3a\"],[0.8888888888888888,\"#fdca26\"],[1.0,\"#f0f921\"]],\"sequentialminus\":[[0.0,\"#0d0887\"],[0.1111111111111111,\"#46039f\"],[0.2222222222222222,\"#7201a8\"],[0.3333333333333333,\"#9c179e\"],[0.4444444444444444,\"#bd3786\"],[0.5555555555555556,\"#d8576b\"],[0.6666666666666666,\"#ed7953\"],[0.7777777777777778,\"#fb9f3a\"],[0.8888888888888888,\"#fdca26\"],[1.0,\"#f0f921\"]]},\"colorway\":[\"#636efa\",\"#EF553B\",\"#00cc96\",\"#ab63fa\",\"#FFA15A\",\"#19d3f3\",\"#FF6692\",\"#B6E880\",\"#FF97FF\",\"#FECB52\"],\"font\":{\"color\":\"#2a3f5f\"},\"geo\":{\"bgcolor\":\"white\",\"lakecolor\":\"white\",\"landcolor\":\"#E5ECF6\",\"showlakes\":true,\"showland\":true,\"subunitcolor\":\"white\"},\"hoverlabel\":{\"align\":\"left\"},\"hovermode\":\"closest\",\"mapbox\":{\"style\":\"light\"},\"paper_bgcolor\":\"white\",\"plot_bgcolor\":\"#E5ECF6\",\"polar\":{\"angularaxis\":{\"gridcolor\":\"white\",\"linecolor\":\"white\",\"ticks\":\"\"},\"bgcolor\":\"#E5ECF6\",\"radialaxis\":{\"gridcolor\":\"white\",\"linecolor\":\"white\",\"ticks\":\"\"}},\"scene\":{\"xaxis\":{\"backgroundcolor\":\"#E5ECF6\",\"gridcolor\":\"white\",\"gridwidth\":2,\"linecolor\":\"white\",\"showbackground\":true,\"ticks\":\"\",\"zerolinecolor\":\"white\"},\"yaxis\":{\"backgroundcolor\":\"#E5ECF6\",\"gridcolor\":\"white\",\"gridwidth\":2,\"linecolor\":\"white\",\"showbackground\":true,\"ticks\":\"\",\"zerolinecolor\":\"white\"},\"zaxis\":{\"backgroundcolor\":\"#E5ECF6\",\"gridcolor\":\"white\",\"gridwidth\":2,\"linecolor\":\"white\",\"showbackground\":true,\"ticks\":\"\",\"zerolinecolor\":\"white\"}},\"shapedefaults\":{\"line\":{\"color\":\"#2a3f5f\"}},\"ternary\":{\"aaxis\":{\"gridcolor\":\"white\",\"linecolor\":\"white\",\"ticks\":\"\"},\"baxis\":{\"gridcolor\":\"white\",\"linecolor\":\"white\",\"ticks\":\"\"},\"bgcolor\":\"#E5ECF6\",\"caxis\":{\"gridcolor\":\"white\",\"linecolor\":\"white\",\"ticks\":\"\"}},\"title\":{\"x\":0.05},\"xaxis\":{\"automargin\":true,\"gridcolor\":\"white\",\"linecolor\":\"white\",\"ticks\":\"\",\"title\":{\"standoff\":15},\"zerolinecolor\":\"white\",\"zerolinewidth\":2},\"yaxis\":{\"automargin\":true,\"gridcolor\":\"white\",\"linecolor\":\"white\",\"ticks\":\"\",\"title\":{\"standoff\":15},\"zerolinecolor\":\"white\",\"zerolinewidth\":2}}},\"title\":{\"font\":{\"color\":\"#4D5663\"}},\"xaxis\":{\"gridcolor\":\"#E1E5ED\",\"showgrid\":true,\"tickfont\":{\"color\":\"#4D5663\"},\"title\":{\"font\":{\"color\":\"#4D5663\"},\"text\":\"\"},\"zerolinecolor\":\"#E1E5ED\"},\"yaxis\":{\"gridcolor\":\"#E1E5ED\",\"showgrid\":true,\"tickfont\":{\"color\":\"#4D5663\"},\"title\":{\"font\":{\"color\":\"#4D5663\"},\"text\":\"\"},\"zerolinecolor\":\"#E1E5ED\"}},                        {\"showLink\": true, \"linkText\": \"Export to plot.ly\", \"plotlyServerURL\": \"https://plot.ly\", \"responsive\": true}                    ).then(function(){\n",
       "                            \n",
       "var gd = document.getElementById('94e0f85a-8621-407c-90d5-69d6543a005b');\n",
       "var x = new MutationObserver(function (mutations, observer) {{\n",
       "        var display = window.getComputedStyle(gd).display;\n",
       "        if (!display || display === 'none') {{\n",
       "            console.log([gd, 'removed!']);\n",
       "            Plotly.purge(gd);\n",
       "            observer.disconnect();\n",
       "        }}\n",
       "}});\n",
       "\n",
       "// Listen for the removal of the full notebook cells\n",
       "var notebookContainer = gd.closest('#notebook-container');\n",
       "if (notebookContainer) {{\n",
       "    x.observe(notebookContainer, {childList: true});\n",
       "}}\n",
       "\n",
       "// Listen for the clearing of the current output cell\n",
       "var outputEl = gd.closest('.output');\n",
       "if (outputEl) {{\n",
       "    x.observe(outputEl, {childList: true});\n",
       "}}\n",
       "\n",
       "                        })                };                });            </script>        </div>"
      ]
     },
     "metadata": {},
     "output_type": "display_data"
    }
   ],
   "source": [
    "df.iplot(kind=\"hist\")"
   ]
  },
  {
   "cell_type": "code",
   "execution_count": 89,
   "metadata": {},
   "outputs": [
    {
     "ename": "AttributeError",
     "evalue": "module 'pandas' has no attribute 'np'",
     "output_type": "error",
     "traceback": [
      "\u001b[1;31m---------------------------------------------------------------------------\u001b[0m",
      "\u001b[1;31mAttributeError\u001b[0m                            Traceback (most recent call last)",
      "Cell \u001b[1;32mIn[89], line 3\u001b[0m\n\u001b[0;32m      1\u001b[0m \u001b[38;5;28;01mimport\u001b[39;00m \u001b[38;5;21;01mnumpy\u001b[39;00m \u001b[38;5;28;01mas\u001b[39;00m \u001b[38;5;21;01mnp\u001b[39;00m\n\u001b[0;32m      2\u001b[0m \u001b[38;5;28;01mimport\u001b[39;00m \u001b[38;5;21;01mpandas\u001b[39;00m \u001b[38;5;28;01mas\u001b[39;00m \u001b[38;5;21;01mpd\u001b[39;00m\n\u001b[1;32m----> 3\u001b[0m df\u001b[38;5;241m.\u001b[39miplot(kind\u001b[38;5;241m=\u001b[39m\u001b[38;5;124m\"\u001b[39m\u001b[38;5;124mspread\u001b[39m\u001b[38;5;124m\"\u001b[39m, title\u001b[38;5;241m=\u001b[39m\u001b[38;5;124m\"\u001b[39m\u001b[38;5;124mspread plot\u001b[39m\u001b[38;5;124m\"\u001b[39m, xTitle \u001b[38;5;241m=\u001b[39m \u001b[38;5;124m\"\u001b[39m\u001b[38;5;124mindex\u001b[39m\u001b[38;5;124m\"\u001b[39m, yTitle\u001b[38;5;241m=\u001b[39m \u001b[38;5;124m\"\u001b[39m\u001b[38;5;124mvalues\u001b[39m\u001b[38;5;124m\"\u001b[39m)\n",
      "File \u001b[1;32mc:\\Users\\user\\anaconda3\\Lib\\site-packages\\cufflinks\\plotlytools.py:849\u001b[0m, in \u001b[0;36m_iplot\u001b[1;34m(self, kind, data, layout, filename, sharing, title, xTitle, yTitle, zTitle, theme, colors, colorscale, fill, width, dash, mode, interpolation, symbol, size, barmode, sortbars, bargap, bargroupgap, bins, histnorm, histfunc, orientation, boxpoints, annotations, keys, bestfit, bestfit_colors, mean, mean_colors, categories, x, y, z, text, gridcolor, zerolinecolor, margin, labels, values, secondary_y, secondary_y_title, subplots, shape, error_x, error_y, error_type, locations, lon, lat, asFrame, asDates, asFigure, asImage, dimensions, asPlot, asUrl, online, **kwargs)\u001b[0m\n\u001b[0;32m    847\u001b[0m \u001b[38;5;28;01mif\u001b[39;00m kind\u001b[38;5;241m==\u001b[39m\u001b[38;5;124m'\u001b[39m\u001b[38;5;124mspread\u001b[39m\u001b[38;5;124m'\u001b[39m:\n\u001b[0;32m    848\u001b[0m \ttrace\u001b[38;5;241m=\u001b[39m\u001b[38;5;28mself\u001b[39m\u001b[38;5;241m.\u001b[39mapply(\u001b[38;5;28;01mlambda\u001b[39;00m x:x[\u001b[38;5;241m0\u001b[39m]\u001b[38;5;241m-\u001b[39mx[\u001b[38;5;241m1\u001b[39m],axis\u001b[38;5;241m=\u001b[39m\u001b[38;5;241m1\u001b[39m)\n\u001b[1;32m--> 849\u001b[0m \tpositive\u001b[38;5;241m=\u001b[39mtrace\u001b[38;5;241m.\u001b[39mapply(\u001b[38;5;28;01mlambda\u001b[39;00m x:x \u001b[38;5;28;01mif\u001b[39;00m x\u001b[38;5;241m>\u001b[39m\u001b[38;5;241m=\u001b[39m\u001b[38;5;241m0\u001b[39m \u001b[38;5;28;01melse\u001b[39;00m pd\u001b[38;5;241m.\u001b[39mnp\u001b[38;5;241m.\u001b[39mnan)\n\u001b[0;32m    850\u001b[0m \tnegative\u001b[38;5;241m=\u001b[39mtrace\u001b[38;5;241m.\u001b[39mapply(\u001b[38;5;28;01mlambda\u001b[39;00m x:x \u001b[38;5;28;01mif\u001b[39;00m x\u001b[38;5;241m<\u001b[39m\u001b[38;5;241m0\u001b[39m \u001b[38;5;28;01melse\u001b[39;00m pd\u001b[38;5;241m.\u001b[39mnp\u001b[38;5;241m.\u001b[39mnan)\n\u001b[0;32m    851\u001b[0m \ttrace\u001b[38;5;241m=\u001b[39mpd\u001b[38;5;241m.\u001b[39mDataFrame({\u001b[38;5;124m'\u001b[39m\u001b[38;5;124mpositive\u001b[39m\u001b[38;5;124m'\u001b[39m:positive,\u001b[38;5;124m'\u001b[39m\u001b[38;5;124mnegative\u001b[39m\u001b[38;5;124m'\u001b[39m:negative})\n",
      "File \u001b[1;32mc:\\Users\\user\\anaconda3\\Lib\\site-packages\\pandas\\core\\series.py:4630\u001b[0m, in \u001b[0;36mSeries.apply\u001b[1;34m(self, func, convert_dtype, args, **kwargs)\u001b[0m\n\u001b[0;32m   4520\u001b[0m \u001b[38;5;28;01mdef\u001b[39;00m \u001b[38;5;21mapply\u001b[39m(\n\u001b[0;32m   4521\u001b[0m     \u001b[38;5;28mself\u001b[39m,\n\u001b[0;32m   4522\u001b[0m     func: AggFuncType,\n\u001b[1;32m   (...)\u001b[0m\n\u001b[0;32m   4525\u001b[0m     \u001b[38;5;241m*\u001b[39m\u001b[38;5;241m*\u001b[39mkwargs,\n\u001b[0;32m   4526\u001b[0m ) \u001b[38;5;241m-\u001b[39m\u001b[38;5;241m>\u001b[39m DataFrame \u001b[38;5;241m|\u001b[39m Series:\n\u001b[0;32m   4527\u001b[0m \u001b[38;5;250m    \u001b[39m\u001b[38;5;124;03m\"\"\"\u001b[39;00m\n\u001b[0;32m   4528\u001b[0m \u001b[38;5;124;03m    Invoke function on values of Series.\u001b[39;00m\n\u001b[0;32m   4529\u001b[0m \n\u001b[1;32m   (...)\u001b[0m\n\u001b[0;32m   4628\u001b[0m \u001b[38;5;124;03m    dtype: float64\u001b[39;00m\n\u001b[0;32m   4629\u001b[0m \u001b[38;5;124;03m    \"\"\"\u001b[39;00m\n\u001b[1;32m-> 4630\u001b[0m     \u001b[38;5;28;01mreturn\u001b[39;00m SeriesApply(\u001b[38;5;28mself\u001b[39m, func, convert_dtype, args, kwargs)\u001b[38;5;241m.\u001b[39mapply()\n",
      "File \u001b[1;32mc:\\Users\\user\\anaconda3\\Lib\\site-packages\\pandas\\core\\apply.py:1025\u001b[0m, in \u001b[0;36mSeriesApply.apply\u001b[1;34m(self)\u001b[0m\n\u001b[0;32m   1022\u001b[0m     \u001b[38;5;28;01mreturn\u001b[39;00m \u001b[38;5;28mself\u001b[39m\u001b[38;5;241m.\u001b[39mapply_str()\n\u001b[0;32m   1024\u001b[0m \u001b[38;5;66;03m# self.f is Callable\u001b[39;00m\n\u001b[1;32m-> 1025\u001b[0m \u001b[38;5;28;01mreturn\u001b[39;00m \u001b[38;5;28mself\u001b[39m\u001b[38;5;241m.\u001b[39mapply_standard()\n",
      "File \u001b[1;32mc:\\Users\\user\\anaconda3\\Lib\\site-packages\\pandas\\core\\apply.py:1076\u001b[0m, in \u001b[0;36mSeriesApply.apply_standard\u001b[1;34m(self)\u001b[0m\n\u001b[0;32m   1074\u001b[0m     \u001b[38;5;28;01melse\u001b[39;00m:\n\u001b[0;32m   1075\u001b[0m         values \u001b[38;5;241m=\u001b[39m obj\u001b[38;5;241m.\u001b[39mastype(\u001b[38;5;28mobject\u001b[39m)\u001b[38;5;241m.\u001b[39m_values\n\u001b[1;32m-> 1076\u001b[0m         mapped \u001b[38;5;241m=\u001b[39m lib\u001b[38;5;241m.\u001b[39mmap_infer(\n\u001b[0;32m   1077\u001b[0m             values,\n\u001b[0;32m   1078\u001b[0m             f,\n\u001b[0;32m   1079\u001b[0m             convert\u001b[38;5;241m=\u001b[39m\u001b[38;5;28mself\u001b[39m\u001b[38;5;241m.\u001b[39mconvert_dtype,\n\u001b[0;32m   1080\u001b[0m         )\n\u001b[0;32m   1082\u001b[0m \u001b[38;5;28;01mif\u001b[39;00m \u001b[38;5;28mlen\u001b[39m(mapped) \u001b[38;5;129;01mand\u001b[39;00m \u001b[38;5;28misinstance\u001b[39m(mapped[\u001b[38;5;241m0\u001b[39m], ABCSeries):\n\u001b[0;32m   1083\u001b[0m     \u001b[38;5;66;03m# GH#43986 Need to do list(mapped) in order to get treated as nested\u001b[39;00m\n\u001b[0;32m   1084\u001b[0m     \u001b[38;5;66;03m#  See also GH#25959 regarding EA support\u001b[39;00m\n\u001b[0;32m   1085\u001b[0m     \u001b[38;5;28;01mreturn\u001b[39;00m obj\u001b[38;5;241m.\u001b[39m_constructor_expanddim(\u001b[38;5;28mlist\u001b[39m(mapped), index\u001b[38;5;241m=\u001b[39mobj\u001b[38;5;241m.\u001b[39mindex)\n",
      "File \u001b[1;32mc:\\Users\\user\\anaconda3\\Lib\\site-packages\\pandas\\_libs\\lib.pyx:2834\u001b[0m, in \u001b[0;36mpandas._libs.lib.map_infer\u001b[1;34m()\u001b[0m\n",
      "File \u001b[1;32mc:\\Users\\user\\anaconda3\\Lib\\site-packages\\cufflinks\\plotlytools.py:849\u001b[0m, in \u001b[0;36m_iplot.<locals>.<lambda>\u001b[1;34m(x)\u001b[0m\n\u001b[0;32m    847\u001b[0m \u001b[38;5;28;01mif\u001b[39;00m kind\u001b[38;5;241m==\u001b[39m\u001b[38;5;124m'\u001b[39m\u001b[38;5;124mspread\u001b[39m\u001b[38;5;124m'\u001b[39m:\n\u001b[0;32m    848\u001b[0m \ttrace\u001b[38;5;241m=\u001b[39m\u001b[38;5;28mself\u001b[39m\u001b[38;5;241m.\u001b[39mapply(\u001b[38;5;28;01mlambda\u001b[39;00m x:x[\u001b[38;5;241m0\u001b[39m]\u001b[38;5;241m-\u001b[39mx[\u001b[38;5;241m1\u001b[39m],axis\u001b[38;5;241m=\u001b[39m\u001b[38;5;241m1\u001b[39m)\n\u001b[1;32m--> 849\u001b[0m \tpositive\u001b[38;5;241m=\u001b[39mtrace\u001b[38;5;241m.\u001b[39mapply(\u001b[38;5;28;01mlambda\u001b[39;00m x:x \u001b[38;5;28;01mif\u001b[39;00m x\u001b[38;5;241m>\u001b[39m\u001b[38;5;241m=\u001b[39m\u001b[38;5;241m0\u001b[39m \u001b[38;5;28;01melse\u001b[39;00m pd\u001b[38;5;241m.\u001b[39mnp\u001b[38;5;241m.\u001b[39mnan)\n\u001b[0;32m    850\u001b[0m \tnegative\u001b[38;5;241m=\u001b[39mtrace\u001b[38;5;241m.\u001b[39mapply(\u001b[38;5;28;01mlambda\u001b[39;00m x:x \u001b[38;5;28;01mif\u001b[39;00m x\u001b[38;5;241m<\u001b[39m\u001b[38;5;241m0\u001b[39m \u001b[38;5;28;01melse\u001b[39;00m pd\u001b[38;5;241m.\u001b[39mnp\u001b[38;5;241m.\u001b[39mnan)\n\u001b[0;32m    851\u001b[0m \ttrace\u001b[38;5;241m=\u001b[39mpd\u001b[38;5;241m.\u001b[39mDataFrame({\u001b[38;5;124m'\u001b[39m\u001b[38;5;124mpositive\u001b[39m\u001b[38;5;124m'\u001b[39m:positive,\u001b[38;5;124m'\u001b[39m\u001b[38;5;124mnegative\u001b[39m\u001b[38;5;124m'\u001b[39m:negative})\n",
      "\u001b[1;31mAttributeError\u001b[0m: module 'pandas' has no attribute 'np'"
     ]
    }
   ],
   "source": [
    "import numpy as np\n",
    "import pandas as pd\n",
    "df.iplot(kind=\"spread\", title=\"spread plot\", xTitle = \"index\", yTitle= \"values\")"
   ]
  },
  {
   "cell_type": "code",
   "execution_count": 60,
   "metadata": {},
   "outputs": [
    {
     "data": {
      "application/vnd.plotly.v1+json": {
       "config": {
        "linkText": "Export to plot.ly",
        "plotlyServerURL": "https://plot.ly",
        "showLink": true
       },
       "data": [
        {
         "marker": {
          "color": [
           "rgb(255, 153, 51)",
           "rgb(55, 128, 191)",
           "rgb(50, 171, 96)",
           "rgb(128, 0, 128)",
           "rgb(219, 64, 82)",
           "rgb(0, 128, 128)",
           "rgb(255, 255, 51)",
           "rgb(128, 128, 0)",
           "rgb(251, 128, 114)",
           "rgb(128, 177, 211)"
          ],
          "line": {
           "width": 1.3
          },
          "size": [
           34,
           94,
           59,
           62,
           108,
           36,
           61,
           102,
           66,
           90,
           79,
           74,
           16,
           81,
           74,
           74,
           78,
           73,
           46,
           41,
           63,
           24,
           13,
           55,
           65,
           77,
           53,
           82,
           46,
           29,
           46,
           81,
           42,
           61,
           60,
           17,
           74,
           108,
           81,
           42,
           48,
           38,
           58,
           68,
           63,
           75,
           67,
           73,
           83,
           59,
           82,
           62,
           76,
           68,
           84,
           42,
           57,
           47,
           64,
           45,
           61,
           108,
           56,
           60,
           67,
           72,
           90,
           112,
           26,
           52,
           99,
           65,
           87,
           68,
           36,
           87,
           14,
           28,
           21,
           76,
           40,
           87,
           57,
           37,
           69,
           76,
           48,
           35,
           77,
           45,
           61,
           60,
           47,
           84,
           100,
           12,
           33,
           82,
           68,
           53
          ],
          "symbol": "circle"
         },
         "mode": "markers",
         "text": "",
         "type": "scatter",
         "x": [
          -1.4235348994582473,
          1.6958650609063417,
          -0.3982966328762372,
          0.27756863549621097,
          -2.3585919349958235,
          1.1020005362743452,
          0.6266961052801654,
          -0.6270622784382746,
          -0.786350570851453,
          0.0911649271016448,
          0.6557252804607655,
          0.4365966784408412,
          0.921789406738549,
          -0.6646588710570925,
          -0.9969408190860302,
          1.677135701561699,
          0.7477192297851876,
          -0.8919941975652873,
          -0.8484931671495123,
          1.1304801847786945,
          -0.1303874644250042,
          -0.4027093671423632,
          0.19952262377633156,
          -1.2035863054118094,
          -0.09211361249509116,
          0.08026909709216896,
          -0.34775188069812457,
          -1.0086031125278943,
          1.1634835749942127,
          0.11172025589191217,
          2.1257306567197736,
          -0.3340416992697654,
          0.8198978434765232,
          1.2548300749111025,
          0.9985861025577449,
          -0.541352111262776,
          0.5162497924508742,
          1.4076377254955594,
          0.7927786526521182,
          -0.9436732508203212,
          0.8549620719419299,
          2.310066034112088,
          1.2874259489529982,
          -0.41981602206893903,
          -0.987910090906013,
          -0.7842242288309662,
          -0.9610088565403709,
          0.18685588779080886,
          -2.3919389380642486,
          2.011749152319646,
          -0.23626324705189763,
          0.3553314029769195,
          -0.45960543260774067,
          0.7513582982992836,
          -1.1608162886462836,
          0.003567013415990974,
          -0.21101194338955107,
          -1.3276277670828558,
          0.13992890084220388,
          -0.28703008846268313,
          0.9182834148621122,
          0.265735454000781,
          -1.2246115407591085,
          -0.19042542491721853,
          0.7018052470194134,
          0.09960530174978317,
          1.4776802303953214,
          -1.5536740660947732,
          -0.23915551742935248,
          -0.8306971313259349,
          -1.0273618346956965,
          -0.255207039077919,
          0.3241759225706703,
          -1.3051243905650352,
          -0.6223082823846187,
          0.179987130947547,
          0.9252579722463663,
          -0.9758908841399186,
          -0.4820230098666938,
          -0.12269096767963233,
          -0.3181029667595157,
          -0.3946420804405433,
          1.4714928976934416,
          0.359528275020138,
          -0.5430093124198415,
          -0.0068426627292687,
          0.30939955566661675,
          -1.9326432920627419,
          0.47174567839532167,
          -1.9477708295596878,
          0.015941489595028377,
          -1.7131004629871893,
          0.48762876163513086,
          -0.3271139632231246,
          0.6401403330176697,
          -1.1377996782946949,
          -0.9838557893665433,
          1.8423363493330935,
          0.05357252926479087,
          -1.526855656633712
         ],
         "y": [
          -0.3658636488428967,
          0.22474581557639411,
          2.1919100837389394,
          1.109421638276329,
          0.2527415435337726,
          -0.1292342991308815,
          0.7317932965268019,
          -0.7639385503788946,
          -0.4708063325441959,
          1.4002834093378764,
          -1.3994839132629886,
          0.8839732167550264,
          -0.14949941804958955,
          -0.9284646169344668,
          -0.1572524883939597,
          0.2419671131608727,
          0.6583143925965117,
          0.12887646114797158,
          2.574144547983506,
          0.36534991434384306,
          -0.384202834127043,
          -0.9825566808686621,
          -1.0317403864615915,
          1.4152469082635148,
          -0.5067264474077924,
          -1.6140860182877868,
          -0.09439861506584497,
          -1.7957542990174429,
          -0.16900273081157646,
          2.4429152619784467,
          -1.0755659168881373,
          -2.02327607122746,
          0.5117107872062027,
          -0.20885964102145407,
          1.1818801008318083,
          1.8500584117657541,
          -0.5643349280117143,
          -0.7458420112492924,
          -0.6304031549618542,
          -0.7553750200409532,
          -0.24581653082700605,
          1.1275236751962945,
          0.6755856903742156,
          -1.3242124648979638,
          -0.8997012477161959,
          -1.1037595469027444,
          0.8116140662995641,
          -0.08935138420138806,
          -0.3379847932092338,
          -0.6516992092160415,
          -0.9042111008747747,
          -0.978779543455604,
          0.2953849957039682,
          -1.229088158408989,
          -0.1261402457761175,
          -0.018057517496615473,
          -0.11492701040970589,
          0.3075772855394331,
          0.22674559496563765,
          -2.1147427307732025,
          -0.8051226469055627,
          0.27049448558142347,
          0.5556703112639456,
          -0.44906939694585063,
          0.08278586815908257,
          -0.923783425172162,
          -1.1536132141685598,
          0.2895469235272587,
          -0.8819321101570025,
          -1.9348184015257255,
          -0.5602666990782839,
          -1.7151892791681982,
          -0.9367386341229202,
          0.4425200072157305,
          -0.9175936737535805,
          0.5332723554946287,
          -1.6489486504568114,
          -0.5977406919675751,
          -0.66185625276932,
          0.6562173431477331,
          1.1042432642893962,
          -2.147020474578238,
          -0.2901623939665887,
          2.137309890440816,
          1.5752816256368136,
          -0.718805047986369,
          1.155881699724617,
          -0.8834366639942475,
          1.251970006408457,
          -0.5891537401917408,
          -1.025840274996761,
          0.006030311880805347,
          0.5741509615540178,
          -0.6738634619998584,
          -0.8498854927129178,
          -1.5487152464370812,
          0.5011404094712901,
          2.2801877026266597,
          0.517916728826836,
          0.8550946518040117
         ]
        }
       ],
       "layout": {
        "legend": {
         "bgcolor": "#F5F6F9",
         "font": {
          "color": "#4D5663"
         }
        },
        "paper_bgcolor": "#F5F6F9",
        "plot_bgcolor": "#F5F6F9",
        "template": {
         "data": {
          "bar": [
           {
            "error_x": {
             "color": "#2a3f5f"
            },
            "error_y": {
             "color": "#2a3f5f"
            },
            "marker": {
             "line": {
              "color": "#E5ECF6",
              "width": 0.5
             },
             "pattern": {
              "fillmode": "overlay",
              "size": 10,
              "solidity": 0.2
             }
            },
            "type": "bar"
           }
          ],
          "barpolar": [
           {
            "marker": {
             "line": {
              "color": "#E5ECF6",
              "width": 0.5
             },
             "pattern": {
              "fillmode": "overlay",
              "size": 10,
              "solidity": 0.2
             }
            },
            "type": "barpolar"
           }
          ],
          "carpet": [
           {
            "aaxis": {
             "endlinecolor": "#2a3f5f",
             "gridcolor": "white",
             "linecolor": "white",
             "minorgridcolor": "white",
             "startlinecolor": "#2a3f5f"
            },
            "baxis": {
             "endlinecolor": "#2a3f5f",
             "gridcolor": "white",
             "linecolor": "white",
             "minorgridcolor": "white",
             "startlinecolor": "#2a3f5f"
            },
            "type": "carpet"
           }
          ],
          "choropleth": [
           {
            "colorbar": {
             "outlinewidth": 0,
             "ticks": ""
            },
            "type": "choropleth"
           }
          ],
          "contour": [
           {
            "colorbar": {
             "outlinewidth": 0,
             "ticks": ""
            },
            "colorscale": [
             [
              0,
              "#0d0887"
             ],
             [
              0.1111111111111111,
              "#46039f"
             ],
             [
              0.2222222222222222,
              "#7201a8"
             ],
             [
              0.3333333333333333,
              "#9c179e"
             ],
             [
              0.4444444444444444,
              "#bd3786"
             ],
             [
              0.5555555555555556,
              "#d8576b"
             ],
             [
              0.6666666666666666,
              "#ed7953"
             ],
             [
              0.7777777777777778,
              "#fb9f3a"
             ],
             [
              0.8888888888888888,
              "#fdca26"
             ],
             [
              1,
              "#f0f921"
             ]
            ],
            "type": "contour"
           }
          ],
          "contourcarpet": [
           {
            "colorbar": {
             "outlinewidth": 0,
             "ticks": ""
            },
            "type": "contourcarpet"
           }
          ],
          "heatmap": [
           {
            "colorbar": {
             "outlinewidth": 0,
             "ticks": ""
            },
            "colorscale": [
             [
              0,
              "#0d0887"
             ],
             [
              0.1111111111111111,
              "#46039f"
             ],
             [
              0.2222222222222222,
              "#7201a8"
             ],
             [
              0.3333333333333333,
              "#9c179e"
             ],
             [
              0.4444444444444444,
              "#bd3786"
             ],
             [
              0.5555555555555556,
              "#d8576b"
             ],
             [
              0.6666666666666666,
              "#ed7953"
             ],
             [
              0.7777777777777778,
              "#fb9f3a"
             ],
             [
              0.8888888888888888,
              "#fdca26"
             ],
             [
              1,
              "#f0f921"
             ]
            ],
            "type": "heatmap"
           }
          ],
          "heatmapgl": [
           {
            "colorbar": {
             "outlinewidth": 0,
             "ticks": ""
            },
            "colorscale": [
             [
              0,
              "#0d0887"
             ],
             [
              0.1111111111111111,
              "#46039f"
             ],
             [
              0.2222222222222222,
              "#7201a8"
             ],
             [
              0.3333333333333333,
              "#9c179e"
             ],
             [
              0.4444444444444444,
              "#bd3786"
             ],
             [
              0.5555555555555556,
              "#d8576b"
             ],
             [
              0.6666666666666666,
              "#ed7953"
             ],
             [
              0.7777777777777778,
              "#fb9f3a"
             ],
             [
              0.8888888888888888,
              "#fdca26"
             ],
             [
              1,
              "#f0f921"
             ]
            ],
            "type": "heatmapgl"
           }
          ],
          "histogram": [
           {
            "marker": {
             "pattern": {
              "fillmode": "overlay",
              "size": 10,
              "solidity": 0.2
             }
            },
            "type": "histogram"
           }
          ],
          "histogram2d": [
           {
            "colorbar": {
             "outlinewidth": 0,
             "ticks": ""
            },
            "colorscale": [
             [
              0,
              "#0d0887"
             ],
             [
              0.1111111111111111,
              "#46039f"
             ],
             [
              0.2222222222222222,
              "#7201a8"
             ],
             [
              0.3333333333333333,
              "#9c179e"
             ],
             [
              0.4444444444444444,
              "#bd3786"
             ],
             [
              0.5555555555555556,
              "#d8576b"
             ],
             [
              0.6666666666666666,
              "#ed7953"
             ],
             [
              0.7777777777777778,
              "#fb9f3a"
             ],
             [
              0.8888888888888888,
              "#fdca26"
             ],
             [
              1,
              "#f0f921"
             ]
            ],
            "type": "histogram2d"
           }
          ],
          "histogram2dcontour": [
           {
            "colorbar": {
             "outlinewidth": 0,
             "ticks": ""
            },
            "colorscale": [
             [
              0,
              "#0d0887"
             ],
             [
              0.1111111111111111,
              "#46039f"
             ],
             [
              0.2222222222222222,
              "#7201a8"
             ],
             [
              0.3333333333333333,
              "#9c179e"
             ],
             [
              0.4444444444444444,
              "#bd3786"
             ],
             [
              0.5555555555555556,
              "#d8576b"
             ],
             [
              0.6666666666666666,
              "#ed7953"
             ],
             [
              0.7777777777777778,
              "#fb9f3a"
             ],
             [
              0.8888888888888888,
              "#fdca26"
             ],
             [
              1,
              "#f0f921"
             ]
            ],
            "type": "histogram2dcontour"
           }
          ],
          "mesh3d": [
           {
            "colorbar": {
             "outlinewidth": 0,
             "ticks": ""
            },
            "type": "mesh3d"
           }
          ],
          "parcoords": [
           {
            "line": {
             "colorbar": {
              "outlinewidth": 0,
              "ticks": ""
             }
            },
            "type": "parcoords"
           }
          ],
          "pie": [
           {
            "automargin": true,
            "type": "pie"
           }
          ],
          "scatter": [
           {
            "fillpattern": {
             "fillmode": "overlay",
             "size": 10,
             "solidity": 0.2
            },
            "type": "scatter"
           }
          ],
          "scatter3d": [
           {
            "line": {
             "colorbar": {
              "outlinewidth": 0,
              "ticks": ""
             }
            },
            "marker": {
             "colorbar": {
              "outlinewidth": 0,
              "ticks": ""
             }
            },
            "type": "scatter3d"
           }
          ],
          "scattercarpet": [
           {
            "marker": {
             "colorbar": {
              "outlinewidth": 0,
              "ticks": ""
             }
            },
            "type": "scattercarpet"
           }
          ],
          "scattergeo": [
           {
            "marker": {
             "colorbar": {
              "outlinewidth": 0,
              "ticks": ""
             }
            },
            "type": "scattergeo"
           }
          ],
          "scattergl": [
           {
            "marker": {
             "colorbar": {
              "outlinewidth": 0,
              "ticks": ""
             }
            },
            "type": "scattergl"
           }
          ],
          "scattermapbox": [
           {
            "marker": {
             "colorbar": {
              "outlinewidth": 0,
              "ticks": ""
             }
            },
            "type": "scattermapbox"
           }
          ],
          "scatterpolar": [
           {
            "marker": {
             "colorbar": {
              "outlinewidth": 0,
              "ticks": ""
             }
            },
            "type": "scatterpolar"
           }
          ],
          "scatterpolargl": [
           {
            "marker": {
             "colorbar": {
              "outlinewidth": 0,
              "ticks": ""
             }
            },
            "type": "scatterpolargl"
           }
          ],
          "scatterternary": [
           {
            "marker": {
             "colorbar": {
              "outlinewidth": 0,
              "ticks": ""
             }
            },
            "type": "scatterternary"
           }
          ],
          "surface": [
           {
            "colorbar": {
             "outlinewidth": 0,
             "ticks": ""
            },
            "colorscale": [
             [
              0,
              "#0d0887"
             ],
             [
              0.1111111111111111,
              "#46039f"
             ],
             [
              0.2222222222222222,
              "#7201a8"
             ],
             [
              0.3333333333333333,
              "#9c179e"
             ],
             [
              0.4444444444444444,
              "#bd3786"
             ],
             [
              0.5555555555555556,
              "#d8576b"
             ],
             [
              0.6666666666666666,
              "#ed7953"
             ],
             [
              0.7777777777777778,
              "#fb9f3a"
             ],
             [
              0.8888888888888888,
              "#fdca26"
             ],
             [
              1,
              "#f0f921"
             ]
            ],
            "type": "surface"
           }
          ],
          "table": [
           {
            "cells": {
             "fill": {
              "color": "#EBF0F8"
             },
             "line": {
              "color": "white"
             }
            },
            "header": {
             "fill": {
              "color": "#C8D4E3"
             },
             "line": {
              "color": "white"
             }
            },
            "type": "table"
           }
          ]
         },
         "layout": {
          "annotationdefaults": {
           "arrowcolor": "#2a3f5f",
           "arrowhead": 0,
           "arrowwidth": 1
          },
          "autotypenumbers": "strict",
          "coloraxis": {
           "colorbar": {
            "outlinewidth": 0,
            "ticks": ""
           }
          },
          "colorscale": {
           "diverging": [
            [
             0,
             "#8e0152"
            ],
            [
             0.1,
             "#c51b7d"
            ],
            [
             0.2,
             "#de77ae"
            ],
            [
             0.3,
             "#f1b6da"
            ],
            [
             0.4,
             "#fde0ef"
            ],
            [
             0.5,
             "#f7f7f7"
            ],
            [
             0.6,
             "#e6f5d0"
            ],
            [
             0.7,
             "#b8e186"
            ],
            [
             0.8,
             "#7fbc41"
            ],
            [
             0.9,
             "#4d9221"
            ],
            [
             1,
             "#276419"
            ]
           ],
           "sequential": [
            [
             0,
             "#0d0887"
            ],
            [
             0.1111111111111111,
             "#46039f"
            ],
            [
             0.2222222222222222,
             "#7201a8"
            ],
            [
             0.3333333333333333,
             "#9c179e"
            ],
            [
             0.4444444444444444,
             "#bd3786"
            ],
            [
             0.5555555555555556,
             "#d8576b"
            ],
            [
             0.6666666666666666,
             "#ed7953"
            ],
            [
             0.7777777777777778,
             "#fb9f3a"
            ],
            [
             0.8888888888888888,
             "#fdca26"
            ],
            [
             1,
             "#f0f921"
            ]
           ],
           "sequentialminus": [
            [
             0,
             "#0d0887"
            ],
            [
             0.1111111111111111,
             "#46039f"
            ],
            [
             0.2222222222222222,
             "#7201a8"
            ],
            [
             0.3333333333333333,
             "#9c179e"
            ],
            [
             0.4444444444444444,
             "#bd3786"
            ],
            [
             0.5555555555555556,
             "#d8576b"
            ],
            [
             0.6666666666666666,
             "#ed7953"
            ],
            [
             0.7777777777777778,
             "#fb9f3a"
            ],
            [
             0.8888888888888888,
             "#fdca26"
            ],
            [
             1,
             "#f0f921"
            ]
           ]
          },
          "colorway": [
           "#636efa",
           "#EF553B",
           "#00cc96",
           "#ab63fa",
           "#FFA15A",
           "#19d3f3",
           "#FF6692",
           "#B6E880",
           "#FF97FF",
           "#FECB52"
          ],
          "font": {
           "color": "#2a3f5f"
          },
          "geo": {
           "bgcolor": "white",
           "lakecolor": "white",
           "landcolor": "#E5ECF6",
           "showlakes": true,
           "showland": true,
           "subunitcolor": "white"
          },
          "hoverlabel": {
           "align": "left"
          },
          "hovermode": "closest",
          "mapbox": {
           "style": "light"
          },
          "paper_bgcolor": "white",
          "plot_bgcolor": "#E5ECF6",
          "polar": {
           "angularaxis": {
            "gridcolor": "white",
            "linecolor": "white",
            "ticks": ""
           },
           "bgcolor": "#E5ECF6",
           "radialaxis": {
            "gridcolor": "white",
            "linecolor": "white",
            "ticks": ""
           }
          },
          "scene": {
           "xaxis": {
            "backgroundcolor": "#E5ECF6",
            "gridcolor": "white",
            "gridwidth": 2,
            "linecolor": "white",
            "showbackground": true,
            "ticks": "",
            "zerolinecolor": "white"
           },
           "yaxis": {
            "backgroundcolor": "#E5ECF6",
            "gridcolor": "white",
            "gridwidth": 2,
            "linecolor": "white",
            "showbackground": true,
            "ticks": "",
            "zerolinecolor": "white"
           },
           "zaxis": {
            "backgroundcolor": "#E5ECF6",
            "gridcolor": "white",
            "gridwidth": 2,
            "linecolor": "white",
            "showbackground": true,
            "ticks": "",
            "zerolinecolor": "white"
           }
          },
          "shapedefaults": {
           "line": {
            "color": "#2a3f5f"
           }
          },
          "ternary": {
           "aaxis": {
            "gridcolor": "white",
            "linecolor": "white",
            "ticks": ""
           },
           "baxis": {
            "gridcolor": "white",
            "linecolor": "white",
            "ticks": ""
           },
           "bgcolor": "#E5ECF6",
           "caxis": {
            "gridcolor": "white",
            "linecolor": "white",
            "ticks": ""
           }
          },
          "title": {
           "x": 0.05
          },
          "xaxis": {
           "automargin": true,
           "gridcolor": "white",
           "linecolor": "white",
           "ticks": "",
           "title": {
            "standoff": 15
           },
           "zerolinecolor": "white",
           "zerolinewidth": 2
          },
          "yaxis": {
           "automargin": true,
           "gridcolor": "white",
           "linecolor": "white",
           "ticks": "",
           "title": {
            "standoff": 15
           },
           "zerolinecolor": "white",
           "zerolinewidth": 2
          }
         }
        },
        "title": {
         "font": {
          "color": "#4D5663"
         }
        },
        "xaxis": {
         "gridcolor": "#E1E5ED",
         "showgrid": true,
         "tickfont": {
          "color": "#4D5663"
         },
         "title": {
          "font": {
           "color": "#4D5663"
          },
          "text": ""
         },
         "zerolinecolor": "#E1E5ED"
        },
        "yaxis": {
         "gridcolor": "#E1E5ED",
         "showgrid": true,
         "tickfont": {
          "color": "#4D5663"
         },
         "title": {
          "font": {
           "color": "#4D5663"
          },
          "text": ""
         },
         "zerolinecolor": "#E1E5ED"
        }
       }
      },
      "text/html": [
       "<div>                            <div id=\"01e8e763-c7a2-42e1-b46a-d5a7bc8ecd40\" class=\"plotly-graph-div\" style=\"height:525px; width:100%;\"></div>            <script type=\"text/javascript\">                require([\"plotly\"], function(Plotly) {                    window.PLOTLYENV=window.PLOTLYENV || {};\n",
       "                    window.PLOTLYENV.BASE_URL='https://plot.ly';                                    if (document.getElementById(\"01e8e763-c7a2-42e1-b46a-d5a7bc8ecd40\")) {                    Plotly.newPlot(                        \"01e8e763-c7a2-42e1-b46a-d5a7bc8ecd40\",                        [{\"marker\":{\"color\":[\"rgb(255, 153, 51)\",\"rgb(55, 128, 191)\",\"rgb(50, 171, 96)\",\"rgb(128, 0, 128)\",\"rgb(219, 64, 82)\",\"rgb(0, 128, 128)\",\"rgb(255, 255, 51)\",\"rgb(128, 128, 0)\",\"rgb(251, 128, 114)\",\"rgb(128, 177, 211)\"],\"line\":{\"width\":1.3},\"size\":[34,94,59,62,108,36,61,102,66,90,79,74,16,81,74,74,78,73,46,41,63,24,13,55,65,77,53,82,46,29,46,81,42,61,60,17,74,108,81,42,48,38,58,68,63,75,67,73,83,59,82,62,76,68,84,42,57,47,64,45,61,108,56,60,67,72,90,112,26,52,99,65,87,68,36,87,14,28,21,76,40,87,57,37,69,76,48,35,77,45,61,60,47,84,100,12,33,82,68,53],\"symbol\":\"circle\"},\"mode\":\"markers\",\"text\":\"\",\"x\":[-1.4235348994582473,1.6958650609063417,-0.3982966328762372,0.27756863549621097,-2.3585919349958235,1.1020005362743452,0.6266961052801654,-0.6270622784382746,-0.786350570851453,0.0911649271016448,0.6557252804607655,0.4365966784408412,0.921789406738549,-0.6646588710570925,-0.9969408190860302,1.677135701561699,0.7477192297851876,-0.8919941975652873,-0.8484931671495123,1.1304801847786945,-0.1303874644250042,-0.4027093671423632,0.19952262377633156,-1.2035863054118094,-0.09211361249509116,0.08026909709216896,-0.34775188069812457,-1.0086031125278943,1.1634835749942127,0.11172025589191217,2.1257306567197736,-0.3340416992697654,0.8198978434765232,1.2548300749111025,0.9985861025577449,-0.541352111262776,0.5162497924508742,1.4076377254955594,0.7927786526521182,-0.9436732508203212,0.8549620719419299,2.310066034112088,1.2874259489529982,-0.41981602206893903,-0.987910090906013,-0.7842242288309662,-0.9610088565403709,0.18685588779080886,-2.3919389380642486,2.011749152319646,-0.23626324705189763,0.3553314029769195,-0.45960543260774067,0.7513582982992836,-1.1608162886462836,0.003567013415990974,-0.21101194338955107,-1.3276277670828558,0.13992890084220388,-0.28703008846268313,0.9182834148621122,0.265735454000781,-1.2246115407591085,-0.19042542491721853,0.7018052470194134,0.09960530174978317,1.4776802303953214,-1.5536740660947732,-0.23915551742935248,-0.8306971313259349,-1.0273618346956965,-0.255207039077919,0.3241759225706703,-1.3051243905650352,-0.6223082823846187,0.179987130947547,0.9252579722463663,-0.9758908841399186,-0.4820230098666938,-0.12269096767963233,-0.3181029667595157,-0.3946420804405433,1.4714928976934416,0.359528275020138,-0.5430093124198415,-0.0068426627292687,0.30939955566661675,-1.9326432920627419,0.47174567839532167,-1.9477708295596878,0.015941489595028377,-1.7131004629871893,0.48762876163513086,-0.3271139632231246,0.6401403330176697,-1.1377996782946949,-0.9838557893665433,1.8423363493330935,0.05357252926479087,-1.526855656633712],\"y\":[-0.3658636488428967,0.22474581557639411,2.1919100837389394,1.109421638276329,0.2527415435337726,-0.1292342991308815,0.7317932965268019,-0.7639385503788946,-0.4708063325441959,1.4002834093378764,-1.3994839132629886,0.8839732167550264,-0.14949941804958955,-0.9284646169344668,-0.1572524883939597,0.2419671131608727,0.6583143925965117,0.12887646114797158,2.574144547983506,0.36534991434384306,-0.384202834127043,-0.9825566808686621,-1.0317403864615915,1.4152469082635148,-0.5067264474077924,-1.6140860182877868,-0.09439861506584497,-1.7957542990174429,-0.16900273081157646,2.4429152619784467,-1.0755659168881373,-2.02327607122746,0.5117107872062027,-0.20885964102145407,1.1818801008318083,1.8500584117657541,-0.5643349280117143,-0.7458420112492924,-0.6304031549618542,-0.7553750200409532,-0.24581653082700605,1.1275236751962945,0.6755856903742156,-1.3242124648979638,-0.8997012477161959,-1.1037595469027444,0.8116140662995641,-0.08935138420138806,-0.3379847932092338,-0.6516992092160415,-0.9042111008747747,-0.978779543455604,0.2953849957039682,-1.229088158408989,-0.1261402457761175,-0.018057517496615473,-0.11492701040970589,0.3075772855394331,0.22674559496563765,-2.1147427307732025,-0.8051226469055627,0.27049448558142347,0.5556703112639456,-0.44906939694585063,0.08278586815908257,-0.923783425172162,-1.1536132141685598,0.2895469235272587,-0.8819321101570025,-1.9348184015257255,-0.5602666990782839,-1.7151892791681982,-0.9367386341229202,0.4425200072157305,-0.9175936737535805,0.5332723554946287,-1.6489486504568114,-0.5977406919675751,-0.66185625276932,0.6562173431477331,1.1042432642893962,-2.147020474578238,-0.2901623939665887,2.137309890440816,1.5752816256368136,-0.718805047986369,1.155881699724617,-0.8834366639942475,1.251970006408457,-0.5891537401917408,-1.025840274996761,0.006030311880805347,0.5741509615540178,-0.6738634619998584,-0.8498854927129178,-1.5487152464370812,0.5011404094712901,2.2801877026266597,0.517916728826836,0.8550946518040117],\"type\":\"scatter\"}],                        {\"legend\":{\"bgcolor\":\"#F5F6F9\",\"font\":{\"color\":\"#4D5663\"}},\"paper_bgcolor\":\"#F5F6F9\",\"plot_bgcolor\":\"#F5F6F9\",\"template\":{\"data\":{\"barpolar\":[{\"marker\":{\"line\":{\"color\":\"#E5ECF6\",\"width\":0.5},\"pattern\":{\"fillmode\":\"overlay\",\"size\":10,\"solidity\":0.2}},\"type\":\"barpolar\"}],\"bar\":[{\"error_x\":{\"color\":\"#2a3f5f\"},\"error_y\":{\"color\":\"#2a3f5f\"},\"marker\":{\"line\":{\"color\":\"#E5ECF6\",\"width\":0.5},\"pattern\":{\"fillmode\":\"overlay\",\"size\":10,\"solidity\":0.2}},\"type\":\"bar\"}],\"carpet\":[{\"aaxis\":{\"endlinecolor\":\"#2a3f5f\",\"gridcolor\":\"white\",\"linecolor\":\"white\",\"minorgridcolor\":\"white\",\"startlinecolor\":\"#2a3f5f\"},\"baxis\":{\"endlinecolor\":\"#2a3f5f\",\"gridcolor\":\"white\",\"linecolor\":\"white\",\"minorgridcolor\":\"white\",\"startlinecolor\":\"#2a3f5f\"},\"type\":\"carpet\"}],\"choropleth\":[{\"colorbar\":{\"outlinewidth\":0,\"ticks\":\"\"},\"type\":\"choropleth\"}],\"contourcarpet\":[{\"colorbar\":{\"outlinewidth\":0,\"ticks\":\"\"},\"type\":\"contourcarpet\"}],\"contour\":[{\"colorbar\":{\"outlinewidth\":0,\"ticks\":\"\"},\"colorscale\":[[0.0,\"#0d0887\"],[0.1111111111111111,\"#46039f\"],[0.2222222222222222,\"#7201a8\"],[0.3333333333333333,\"#9c179e\"],[0.4444444444444444,\"#bd3786\"],[0.5555555555555556,\"#d8576b\"],[0.6666666666666666,\"#ed7953\"],[0.7777777777777778,\"#fb9f3a\"],[0.8888888888888888,\"#fdca26\"],[1.0,\"#f0f921\"]],\"type\":\"contour\"}],\"heatmapgl\":[{\"colorbar\":{\"outlinewidth\":0,\"ticks\":\"\"},\"colorscale\":[[0.0,\"#0d0887\"],[0.1111111111111111,\"#46039f\"],[0.2222222222222222,\"#7201a8\"],[0.3333333333333333,\"#9c179e\"],[0.4444444444444444,\"#bd3786\"],[0.5555555555555556,\"#d8576b\"],[0.6666666666666666,\"#ed7953\"],[0.7777777777777778,\"#fb9f3a\"],[0.8888888888888888,\"#fdca26\"],[1.0,\"#f0f921\"]],\"type\":\"heatmapgl\"}],\"heatmap\":[{\"colorbar\":{\"outlinewidth\":0,\"ticks\":\"\"},\"colorscale\":[[0.0,\"#0d0887\"],[0.1111111111111111,\"#46039f\"],[0.2222222222222222,\"#7201a8\"],[0.3333333333333333,\"#9c179e\"],[0.4444444444444444,\"#bd3786\"],[0.5555555555555556,\"#d8576b\"],[0.6666666666666666,\"#ed7953\"],[0.7777777777777778,\"#fb9f3a\"],[0.8888888888888888,\"#fdca26\"],[1.0,\"#f0f921\"]],\"type\":\"heatmap\"}],\"histogram2dcontour\":[{\"colorbar\":{\"outlinewidth\":0,\"ticks\":\"\"},\"colorscale\":[[0.0,\"#0d0887\"],[0.1111111111111111,\"#46039f\"],[0.2222222222222222,\"#7201a8\"],[0.3333333333333333,\"#9c179e\"],[0.4444444444444444,\"#bd3786\"],[0.5555555555555556,\"#d8576b\"],[0.6666666666666666,\"#ed7953\"],[0.7777777777777778,\"#fb9f3a\"],[0.8888888888888888,\"#fdca26\"],[1.0,\"#f0f921\"]],\"type\":\"histogram2dcontour\"}],\"histogram2d\":[{\"colorbar\":{\"outlinewidth\":0,\"ticks\":\"\"},\"colorscale\":[[0.0,\"#0d0887\"],[0.1111111111111111,\"#46039f\"],[0.2222222222222222,\"#7201a8\"],[0.3333333333333333,\"#9c179e\"],[0.4444444444444444,\"#bd3786\"],[0.5555555555555556,\"#d8576b\"],[0.6666666666666666,\"#ed7953\"],[0.7777777777777778,\"#fb9f3a\"],[0.8888888888888888,\"#fdca26\"],[1.0,\"#f0f921\"]],\"type\":\"histogram2d\"}],\"histogram\":[{\"marker\":{\"pattern\":{\"fillmode\":\"overlay\",\"size\":10,\"solidity\":0.2}},\"type\":\"histogram\"}],\"mesh3d\":[{\"colorbar\":{\"outlinewidth\":0,\"ticks\":\"\"},\"type\":\"mesh3d\"}],\"parcoords\":[{\"line\":{\"colorbar\":{\"outlinewidth\":0,\"ticks\":\"\"}},\"type\":\"parcoords\"}],\"pie\":[{\"automargin\":true,\"type\":\"pie\"}],\"scatter3d\":[{\"line\":{\"colorbar\":{\"outlinewidth\":0,\"ticks\":\"\"}},\"marker\":{\"colorbar\":{\"outlinewidth\":0,\"ticks\":\"\"}},\"type\":\"scatter3d\"}],\"scattercarpet\":[{\"marker\":{\"colorbar\":{\"outlinewidth\":0,\"ticks\":\"\"}},\"type\":\"scattercarpet\"}],\"scattergeo\":[{\"marker\":{\"colorbar\":{\"outlinewidth\":0,\"ticks\":\"\"}},\"type\":\"scattergeo\"}],\"scattergl\":[{\"marker\":{\"colorbar\":{\"outlinewidth\":0,\"ticks\":\"\"}},\"type\":\"scattergl\"}],\"scattermapbox\":[{\"marker\":{\"colorbar\":{\"outlinewidth\":0,\"ticks\":\"\"}},\"type\":\"scattermapbox\"}],\"scatterpolargl\":[{\"marker\":{\"colorbar\":{\"outlinewidth\":0,\"ticks\":\"\"}},\"type\":\"scatterpolargl\"}],\"scatterpolar\":[{\"marker\":{\"colorbar\":{\"outlinewidth\":0,\"ticks\":\"\"}},\"type\":\"scatterpolar\"}],\"scatter\":[{\"fillpattern\":{\"fillmode\":\"overlay\",\"size\":10,\"solidity\":0.2},\"type\":\"scatter\"}],\"scatterternary\":[{\"marker\":{\"colorbar\":{\"outlinewidth\":0,\"ticks\":\"\"}},\"type\":\"scatterternary\"}],\"surface\":[{\"colorbar\":{\"outlinewidth\":0,\"ticks\":\"\"},\"colorscale\":[[0.0,\"#0d0887\"],[0.1111111111111111,\"#46039f\"],[0.2222222222222222,\"#7201a8\"],[0.3333333333333333,\"#9c179e\"],[0.4444444444444444,\"#bd3786\"],[0.5555555555555556,\"#d8576b\"],[0.6666666666666666,\"#ed7953\"],[0.7777777777777778,\"#fb9f3a\"],[0.8888888888888888,\"#fdca26\"],[1.0,\"#f0f921\"]],\"type\":\"surface\"}],\"table\":[{\"cells\":{\"fill\":{\"color\":\"#EBF0F8\"},\"line\":{\"color\":\"white\"}},\"header\":{\"fill\":{\"color\":\"#C8D4E3\"},\"line\":{\"color\":\"white\"}},\"type\":\"table\"}]},\"layout\":{\"annotationdefaults\":{\"arrowcolor\":\"#2a3f5f\",\"arrowhead\":0,\"arrowwidth\":1},\"autotypenumbers\":\"strict\",\"coloraxis\":{\"colorbar\":{\"outlinewidth\":0,\"ticks\":\"\"}},\"colorscale\":{\"diverging\":[[0,\"#8e0152\"],[0.1,\"#c51b7d\"],[0.2,\"#de77ae\"],[0.3,\"#f1b6da\"],[0.4,\"#fde0ef\"],[0.5,\"#f7f7f7\"],[0.6,\"#e6f5d0\"],[0.7,\"#b8e186\"],[0.8,\"#7fbc41\"],[0.9,\"#4d9221\"],[1,\"#276419\"]],\"sequential\":[[0.0,\"#0d0887\"],[0.1111111111111111,\"#46039f\"],[0.2222222222222222,\"#7201a8\"],[0.3333333333333333,\"#9c179e\"],[0.4444444444444444,\"#bd3786\"],[0.5555555555555556,\"#d8576b\"],[0.6666666666666666,\"#ed7953\"],[0.7777777777777778,\"#fb9f3a\"],[0.8888888888888888,\"#fdca26\"],[1.0,\"#f0f921\"]],\"sequentialminus\":[[0.0,\"#0d0887\"],[0.1111111111111111,\"#46039f\"],[0.2222222222222222,\"#7201a8\"],[0.3333333333333333,\"#9c179e\"],[0.4444444444444444,\"#bd3786\"],[0.5555555555555556,\"#d8576b\"],[0.6666666666666666,\"#ed7953\"],[0.7777777777777778,\"#fb9f3a\"],[0.8888888888888888,\"#fdca26\"],[1.0,\"#f0f921\"]]},\"colorway\":[\"#636efa\",\"#EF553B\",\"#00cc96\",\"#ab63fa\",\"#FFA15A\",\"#19d3f3\",\"#FF6692\",\"#B6E880\",\"#FF97FF\",\"#FECB52\"],\"font\":{\"color\":\"#2a3f5f\"},\"geo\":{\"bgcolor\":\"white\",\"lakecolor\":\"white\",\"landcolor\":\"#E5ECF6\",\"showlakes\":true,\"showland\":true,\"subunitcolor\":\"white\"},\"hoverlabel\":{\"align\":\"left\"},\"hovermode\":\"closest\",\"mapbox\":{\"style\":\"light\"},\"paper_bgcolor\":\"white\",\"plot_bgcolor\":\"#E5ECF6\",\"polar\":{\"angularaxis\":{\"gridcolor\":\"white\",\"linecolor\":\"white\",\"ticks\":\"\"},\"bgcolor\":\"#E5ECF6\",\"radialaxis\":{\"gridcolor\":\"white\",\"linecolor\":\"white\",\"ticks\":\"\"}},\"scene\":{\"xaxis\":{\"backgroundcolor\":\"#E5ECF6\",\"gridcolor\":\"white\",\"gridwidth\":2,\"linecolor\":\"white\",\"showbackground\":true,\"ticks\":\"\",\"zerolinecolor\":\"white\"},\"yaxis\":{\"backgroundcolor\":\"#E5ECF6\",\"gridcolor\":\"white\",\"gridwidth\":2,\"linecolor\":\"white\",\"showbackground\":true,\"ticks\":\"\",\"zerolinecolor\":\"white\"},\"zaxis\":{\"backgroundcolor\":\"#E5ECF6\",\"gridcolor\":\"white\",\"gridwidth\":2,\"linecolor\":\"white\",\"showbackground\":true,\"ticks\":\"\",\"zerolinecolor\":\"white\"}},\"shapedefaults\":{\"line\":{\"color\":\"#2a3f5f\"}},\"ternary\":{\"aaxis\":{\"gridcolor\":\"white\",\"linecolor\":\"white\",\"ticks\":\"\"},\"baxis\":{\"gridcolor\":\"white\",\"linecolor\":\"white\",\"ticks\":\"\"},\"bgcolor\":\"#E5ECF6\",\"caxis\":{\"gridcolor\":\"white\",\"linecolor\":\"white\",\"ticks\":\"\"}},\"title\":{\"x\":0.05},\"xaxis\":{\"automargin\":true,\"gridcolor\":\"white\",\"linecolor\":\"white\",\"ticks\":\"\",\"title\":{\"standoff\":15},\"zerolinecolor\":\"white\",\"zerolinewidth\":2},\"yaxis\":{\"automargin\":true,\"gridcolor\":\"white\",\"linecolor\":\"white\",\"ticks\":\"\",\"title\":{\"standoff\":15},\"zerolinecolor\":\"white\",\"zerolinewidth\":2}}},\"title\":{\"font\":{\"color\":\"#4D5663\"}},\"xaxis\":{\"gridcolor\":\"#E1E5ED\",\"showgrid\":true,\"tickfont\":{\"color\":\"#4D5663\"},\"title\":{\"font\":{\"color\":\"#4D5663\"},\"text\":\"\"},\"zerolinecolor\":\"#E1E5ED\"},\"yaxis\":{\"gridcolor\":\"#E1E5ED\",\"showgrid\":true,\"tickfont\":{\"color\":\"#4D5663\"},\"title\":{\"font\":{\"color\":\"#4D5663\"},\"text\":\"\"},\"zerolinecolor\":\"#E1E5ED\"}},                        {\"showLink\": true, \"linkText\": \"Export to plot.ly\", \"plotlyServerURL\": \"https://plot.ly\", \"responsive\": true}                    ).then(function(){\n",
       "                            \n",
       "var gd = document.getElementById('01e8e763-c7a2-42e1-b46a-d5a7bc8ecd40');\n",
       "var x = new MutationObserver(function (mutations, observer) {{\n",
       "        var display = window.getComputedStyle(gd).display;\n",
       "        if (!display || display === 'none') {{\n",
       "            console.log([gd, 'removed!']);\n",
       "            Plotly.purge(gd);\n",
       "            observer.disconnect();\n",
       "        }}\n",
       "}});\n",
       "\n",
       "// Listen for the removal of the full notebook cells\n",
       "var notebookContainer = gd.closest('#notebook-container');\n",
       "if (notebookContainer) {{\n",
       "    x.observe(notebookContainer, {childList: true});\n",
       "}}\n",
       "\n",
       "// Listen for the clearing of the current output cell\n",
       "var outputEl = gd.closest('.output');\n",
       "if (outputEl) {{\n",
       "    x.observe(outputEl, {childList: true});\n",
       "}}\n",
       "\n",
       "                        })                };                });            </script>        </div>"
      ]
     },
     "metadata": {},
     "output_type": "display_data"
    }
   ],
   "source": [
    "df.iplot(kind=\"bubble\", x= \"A\", y=\"B\", size=\"C\")"
   ]
  },
  {
   "cell_type": "code",
   "execution_count": 59,
   "metadata": {},
   "outputs": [
    {
     "data": {
      "application/vnd.plotly.v1+json": {
       "config": {
        "linkText": "Export to plot.ly",
        "plotlyServerURL": "https://plot.ly",
        "showLink": true
       },
       "data": [
        {
         "histfunc": "count",
         "histnorm": "",
         "marker": {
          "color": "rgba(255, 153, 51, 1.0)",
          "line": {
           "color": "#4D5663",
           "width": 1.3
          }
         },
         "name": "A",
         "nbinsx": 10,
         "opacity": 0.8,
         "orientation": "v",
         "type": "histogram",
         "x": [
          -1.4235348994582473,
          1.6958650609063417,
          -0.3982966328762372,
          0.27756863549621097,
          -2.3585919349958235,
          1.1020005362743452,
          0.6266961052801654,
          -0.6270622784382746,
          -0.786350570851453,
          0.0911649271016448,
          0.6557252804607655,
          0.4365966784408412,
          0.921789406738549,
          -0.6646588710570925,
          -0.9969408190860302,
          1.677135701561699,
          0.7477192297851876,
          -0.8919941975652873,
          -0.8484931671495123,
          1.1304801847786945,
          -0.1303874644250042,
          -0.4027093671423632,
          0.19952262377633156,
          -1.2035863054118094,
          -0.09211361249509116,
          0.08026909709216896,
          -0.34775188069812457,
          -1.0086031125278943,
          1.1634835749942127,
          0.11172025589191217,
          2.1257306567197736,
          -0.3340416992697654,
          0.8198978434765232,
          1.2548300749111025,
          0.9985861025577449,
          -0.541352111262776,
          0.5162497924508742,
          1.4076377254955594,
          0.7927786526521182,
          -0.9436732508203212,
          0.8549620719419299,
          2.310066034112088,
          1.2874259489529982,
          -0.41981602206893903,
          -0.987910090906013,
          -0.7842242288309662,
          -0.9610088565403709,
          0.18685588779080886,
          -2.3919389380642486,
          2.011749152319646,
          -0.23626324705189763,
          0.3553314029769195,
          -0.45960543260774067,
          0.7513582982992836,
          -1.1608162886462836,
          0.003567013415990974,
          -0.21101194338955107,
          -1.3276277670828558,
          0.13992890084220388,
          -0.28703008846268313,
          0.9182834148621122,
          0.265735454000781,
          -1.2246115407591085,
          -0.19042542491721853,
          0.7018052470194134,
          0.09960530174978317,
          1.4776802303953214,
          -1.5536740660947732,
          -0.23915551742935248,
          -0.8306971313259349,
          -1.0273618346956965,
          -0.255207039077919,
          0.3241759225706703,
          -1.3051243905650352,
          -0.6223082823846187,
          0.179987130947547,
          0.9252579722463663,
          -0.9758908841399186,
          -0.4820230098666938,
          -0.12269096767963233,
          -0.3181029667595157,
          -0.3946420804405433,
          1.4714928976934416,
          0.359528275020138,
          -0.5430093124198415,
          -0.0068426627292687,
          0.30939955566661675,
          -1.9326432920627419,
          0.47174567839532167,
          -1.9477708295596878,
          0.015941489595028377,
          -1.7131004629871893,
          0.48762876163513086,
          -0.3271139632231246,
          0.6401403330176697,
          -1.1377996782946949,
          -0.9838557893665433,
          1.8423363493330935,
          0.05357252926479087,
          -1.526855656633712
         ],
         "xaxis": "x",
         "yaxis": "y"
        },
        {
         "line": {
          "color": "rgba(128, 128, 128, 1.0)",
          "dash": "solid",
          "shape": "linear",
          "width": 1.3
         },
         "marker": {
          "size": 2,
          "symbol": "circle"
         },
         "mode": "markers",
         "name": "A",
         "text": "",
         "type": "scatter",
         "x": [
          -0.3658636488428967,
          0.22474581557639411,
          2.1919100837389394,
          1.109421638276329,
          0.2527415435337726,
          -0.1292342991308815,
          0.7317932965268019,
          -0.7639385503788946,
          -0.4708063325441959,
          1.4002834093378764,
          -1.3994839132629886,
          0.8839732167550264,
          -0.14949941804958955,
          -0.9284646169344668,
          -0.1572524883939597,
          0.2419671131608727,
          0.6583143925965117,
          0.12887646114797158,
          2.574144547983506,
          0.36534991434384306,
          -0.384202834127043,
          -0.9825566808686621,
          -1.0317403864615915,
          1.4152469082635148,
          -0.5067264474077924,
          -1.6140860182877868,
          -0.09439861506584497,
          -1.7957542990174429,
          -0.16900273081157646,
          2.4429152619784467,
          -1.0755659168881373,
          -2.02327607122746,
          0.5117107872062027,
          -0.20885964102145407,
          1.1818801008318083,
          1.8500584117657541,
          -0.5643349280117143,
          -0.7458420112492924,
          -0.6304031549618542,
          -0.7553750200409532,
          -0.24581653082700605,
          1.1275236751962945,
          0.6755856903742156,
          -1.3242124648979638,
          -0.8997012477161959,
          -1.1037595469027444,
          0.8116140662995641,
          -0.08935138420138806,
          -0.3379847932092338,
          -0.6516992092160415,
          -0.9042111008747747,
          -0.978779543455604,
          0.2953849957039682,
          -1.229088158408989,
          -0.1261402457761175,
          -0.018057517496615473,
          -0.11492701040970589,
          0.3075772855394331,
          0.22674559496563765,
          -2.1147427307732025,
          -0.8051226469055627,
          0.27049448558142347,
          0.5556703112639456,
          -0.44906939694585063,
          0.08278586815908257,
          -0.923783425172162,
          -1.1536132141685598,
          0.2895469235272587,
          -0.8819321101570025,
          -1.9348184015257255,
          -0.5602666990782839,
          -1.7151892791681982,
          -0.9367386341229202,
          0.4425200072157305,
          -0.9175936737535805,
          0.5332723554946287,
          -1.6489486504568114,
          -0.5977406919675751,
          -0.66185625276932,
          0.6562173431477331,
          1.1042432642893962,
          -2.147020474578238,
          -0.2901623939665887,
          2.137309890440816,
          1.5752816256368136,
          -0.718805047986369,
          1.155881699724617,
          -0.8834366639942475,
          1.251970006408457,
          -0.5891537401917408,
          -1.025840274996761,
          0.006030311880805347,
          0.5741509615540178,
          -0.6738634619998584,
          -0.8498854927129178,
          -1.5487152464370812,
          0.5011404094712901,
          2.2801877026266597,
          0.517916728826836,
          0.8550946518040117
         ],
         "xaxis": "x2",
         "y": [
          -1.4235348994582473,
          1.6958650609063417,
          -0.3982966328762372,
          0.27756863549621097,
          -2.3585919349958235,
          1.1020005362743452,
          0.6266961052801654,
          -0.6270622784382746,
          -0.786350570851453,
          0.0911649271016448,
          0.6557252804607655,
          0.4365966784408412,
          0.921789406738549,
          -0.6646588710570925,
          -0.9969408190860302,
          1.677135701561699,
          0.7477192297851876,
          -0.8919941975652873,
          -0.8484931671495123,
          1.1304801847786945,
          -0.1303874644250042,
          -0.4027093671423632,
          0.19952262377633156,
          -1.2035863054118094,
          -0.09211361249509116,
          0.08026909709216896,
          -0.34775188069812457,
          -1.0086031125278943,
          1.1634835749942127,
          0.11172025589191217,
          2.1257306567197736,
          -0.3340416992697654,
          0.8198978434765232,
          1.2548300749111025,
          0.9985861025577449,
          -0.541352111262776,
          0.5162497924508742,
          1.4076377254955594,
          0.7927786526521182,
          -0.9436732508203212,
          0.8549620719419299,
          2.310066034112088,
          1.2874259489529982,
          -0.41981602206893903,
          -0.987910090906013,
          -0.7842242288309662,
          -0.9610088565403709,
          0.18685588779080886,
          -2.3919389380642486,
          2.011749152319646,
          -0.23626324705189763,
          0.3553314029769195,
          -0.45960543260774067,
          0.7513582982992836,
          -1.1608162886462836,
          0.003567013415990974,
          -0.21101194338955107,
          -1.3276277670828558,
          0.13992890084220388,
          -0.28703008846268313,
          0.9182834148621122,
          0.265735454000781,
          -1.2246115407591085,
          -0.19042542491721853,
          0.7018052470194134,
          0.09960530174978317,
          1.4776802303953214,
          -1.5536740660947732,
          -0.23915551742935248,
          -0.8306971313259349,
          -1.0273618346956965,
          -0.255207039077919,
          0.3241759225706703,
          -1.3051243905650352,
          -0.6223082823846187,
          0.179987130947547,
          0.9252579722463663,
          -0.9758908841399186,
          -0.4820230098666938,
          -0.12269096767963233,
          -0.3181029667595157,
          -0.3946420804405433,
          1.4714928976934416,
          0.359528275020138,
          -0.5430093124198415,
          -0.0068426627292687,
          0.30939955566661675,
          -1.9326432920627419,
          0.47174567839532167,
          -1.9477708295596878,
          0.015941489595028377,
          -1.7131004629871893,
          0.48762876163513086,
          -0.3271139632231246,
          0.6401403330176697,
          -1.1377996782946949,
          -0.9838557893665433,
          1.8423363493330935,
          0.05357252926479087,
          -1.526855656633712
         ],
         "yaxis": "y2"
        },
        {
         "line": {
          "color": "rgba(128, 128, 128, 1.0)",
          "dash": "solid",
          "shape": "linear",
          "width": 1.3
         },
         "marker": {
          "size": 2,
          "symbol": "circle"
         },
         "mode": "markers",
         "name": "A",
         "text": "",
         "type": "scatter",
         "x": [
          -1.236245897526975,
          1.394531513969449,
          -0.14953973314942223,
          0.014864624893081088,
          1.9975779631424395,
          -1.161969590849366,
          -0.05242431203380102,
          1.7402253295498296,
          0.16256622775562465,
          1.2126378364947217,
          0.7272624400503693,
          0.5239195439892642,
          -2.0264285303579,
          0.8131315348959219,
          0.5179265814803313,
          0.5242276460815902,
          0.6945037757650672,
          0.4758851425711402,
          -0.7077353285509607,
          -0.9389524067750541,
          0.03286488549563378,
          -1.6672044199304352,
          -2.143685965901829,
          -0.30110666284655113,
          0.13197457582430402,
          0.6433002537156496,
          -0.42293244311857464,
          0.8778188306470641,
          -0.7253196404567503,
          -1.456579630114345,
          -0.6876285610223782,
          0.8302679412628738,
          -0.8784899538636051,
          -0.04108478643649931,
          -0.07485873580043284,
          -1.99796628687477,
          0.5049457575018156,
          1.9999157433007249,
          0.8124700861842593,
          -0.9016771144866489,
          -0.6120832892586301,
          -1.0691581738178118,
          -0.17014534513763152,
          0.23811176895685235,
          0.018046237260107945,
          0.5703819713893336,
          0.19775102957303023,
          0.4881981261683991,
          0.9004255141973913,
          -0.16057023676854762,
          0.877432824692586,
          0.007509598575843179,
          0.6018093921750517,
          0.24885036087369733,
          0.9563020352845671,
          -0.900938603150998,
          -0.21719782759023226,
          -0.650210508621508,
          0.06444670107303783,
          -0.7499379680653157,
          -0.06053166504054045,
          2.0159315331998076,
          -0.2718380241754499,
          -0.07405966635364217,
          0.222812567219414,
          0.4422923035858044,
          1.2316131036588682,
          2.165382244374689,
          -1.5786149501844338,
          -0.4442149184256992,
          1.6160619965679899,
          0.10333452658555937,
          1.0741450921661069,
          0.2639761336394118,
          -1.1432007571228844,
          1.106938523171413,
          -2.10318338742521,
          -1.4982051418900018,
          -1.8129219435780177,
          0.6106921338462978,
          -0.9845346119050725,
          1.076342554638808,
          -0.22405572199799867,
          -1.1034919813079604,
          0.30573929577232073,
          0.5870285921604421,
          -0.5998022391517313,
          -1.2076144723735267,
          0.6321689532807515,
          -0.7480443535391768,
          -0.052152870235295246,
          -0.08100332807673293,
          -0.6623557869601144,
          0.953895190238591,
          1.6440021941939549,
          -2.2232824659038655,
          -1.2819956358766162,
          0.8744357070732162,
          0.270287340120572,
          -0.3834338461396798
         ],
         "xaxis": "x3",
         "y": [
          -1.4235348994582473,
          1.6958650609063417,
          -0.3982966328762372,
          0.27756863549621097,
          -2.3585919349958235,
          1.1020005362743452,
          0.6266961052801654,
          -0.6270622784382746,
          -0.786350570851453,
          0.0911649271016448,
          0.6557252804607655,
          0.4365966784408412,
          0.921789406738549,
          -0.6646588710570925,
          -0.9969408190860302,
          1.677135701561699,
          0.7477192297851876,
          -0.8919941975652873,
          -0.8484931671495123,
          1.1304801847786945,
          -0.1303874644250042,
          -0.4027093671423632,
          0.19952262377633156,
          -1.2035863054118094,
          -0.09211361249509116,
          0.08026909709216896,
          -0.34775188069812457,
          -1.0086031125278943,
          1.1634835749942127,
          0.11172025589191217,
          2.1257306567197736,
          -0.3340416992697654,
          0.8198978434765232,
          1.2548300749111025,
          0.9985861025577449,
          -0.541352111262776,
          0.5162497924508742,
          1.4076377254955594,
          0.7927786526521182,
          -0.9436732508203212,
          0.8549620719419299,
          2.310066034112088,
          1.2874259489529982,
          -0.41981602206893903,
          -0.987910090906013,
          -0.7842242288309662,
          -0.9610088565403709,
          0.18685588779080886,
          -2.3919389380642486,
          2.011749152319646,
          -0.23626324705189763,
          0.3553314029769195,
          -0.45960543260774067,
          0.7513582982992836,
          -1.1608162886462836,
          0.003567013415990974,
          -0.21101194338955107,
          -1.3276277670828558,
          0.13992890084220388,
          -0.28703008846268313,
          0.9182834148621122,
          0.265735454000781,
          -1.2246115407591085,
          -0.19042542491721853,
          0.7018052470194134,
          0.09960530174978317,
          1.4776802303953214,
          -1.5536740660947732,
          -0.23915551742935248,
          -0.8306971313259349,
          -1.0273618346956965,
          -0.255207039077919,
          0.3241759225706703,
          -1.3051243905650352,
          -0.6223082823846187,
          0.179987130947547,
          0.9252579722463663,
          -0.9758908841399186,
          -0.4820230098666938,
          -0.12269096767963233,
          -0.3181029667595157,
          -0.3946420804405433,
          1.4714928976934416,
          0.359528275020138,
          -0.5430093124198415,
          -0.0068426627292687,
          0.30939955566661675,
          -1.9326432920627419,
          0.47174567839532167,
          -1.9477708295596878,
          0.015941489595028377,
          -1.7131004629871893,
          0.48762876163513086,
          -0.3271139632231246,
          0.6401403330176697,
          -1.1377996782946949,
          -0.9838557893665433,
          1.8423363493330935,
          0.05357252926479087,
          -1.526855656633712
         ],
         "yaxis": "y3"
        },
        {
         "line": {
          "color": "rgba(128, 128, 128, 1.0)",
          "dash": "solid",
          "shape": "linear",
          "width": 1.3
         },
         "marker": {
          "size": 2,
          "symbol": "circle"
         },
         "mode": "markers",
         "name": "A",
         "text": "",
         "type": "scatter",
         "x": [
          -0.7432575069674906,
          -1.1057549646307625,
          -0.9916773613478754,
          -0.40579119538402025,
          0.17094955354684885,
          0.29634858634808275,
          -2.1598634080682433,
          -2.0125585508828925,
          -0.1851162487846606,
          -2.141739229053416,
          0.6772225310916761,
          0.7668669510425348,
          2.073534259643305,
          -0.5857576182723124,
          -0.24898593718493103,
          -0.4591347965960832,
          0.0572972746601082,
          0.5832555912663984,
          1.1158032393140689,
          0.3991992944487781,
          -0.8624665930363881,
          0.7071627408033258,
          -1.9667278635869696,
          -0.9214713334702432,
          1.650492120587778,
          -1.1999606866076602,
          -0.20281169105151825,
          1.4945178965983408,
          -0.8997650837348147,
          -2.2253265893618424,
          -1.09012368498265,
          -1.0529536797491117,
          0.1338906847939372,
          0.2403500987382637,
          -1.6095963709008843,
          0.06628520746906193,
          -1.067109470264138,
          0.2634593866514775,
          -1.478737065645272,
          -1.1091466719365703,
          0.35138038117834564,
          0.3435857503889729,
          -1.5210735051475959,
          0.837757589867208,
          0.4476300884448183,
          -0.07502471445733806,
          -1.5202855593094173,
          -0.25773937749288034,
          -0.34887973542719847,
          -2.31187035768955,
          -0.034029901254094885,
          0.2630669488156154,
          0.11150752131393972,
          1.4058176591823965,
          1.5000524693418644,
          -0.6939161537088265,
          0.5648202154740967,
          -0.6663278105130409,
          1.3312286533490953,
          -1.0318603413146845,
          0.05371434836374283,
          1.10108844942271,
          -1.5258996454946665,
          -1.1491765465288533,
          0.11828069930307834,
          -1.9601573490629831,
          -0.5880699028680263,
          -0.9296562903791965,
          -0.5829419942936036,
          0.4687040240319331,
          -0.9033060449777159,
          -1.6724777398810702,
          -0.6690696546509366,
          -1.4250279899707665,
          -0.8847035061124282,
          -1.0667503851071878,
          1.7050429004073107,
          1.3144164130572529,
          -1.53177407469326,
          0.9032058368274795,
          0.29864239670482007,
          0.04333366132070788,
          -0.09862504601056912,
          -0.7321679660131877,
          0.8287138938795663,
          0.3748462073741596,
          -0.28763424974146945,
          -0.37439982497585667,
          0.9478768292259477,
          -0.21912363889398573,
          2.5987941887622954,
          -1.9322428278354373,
          0.7613921907484676,
          -0.5890733272485525,
          -0.831792797812103,
          0.4891026917431194,
          -0.7531862890796068,
          -0.44815430034301945,
          -0.6467665018206313,
          -1.2790652515257708
         ],
         "xaxis": "x4",
         "y": [
          -1.4235348994582473,
          1.6958650609063417,
          -0.3982966328762372,
          0.27756863549621097,
          -2.3585919349958235,
          1.1020005362743452,
          0.6266961052801654,
          -0.6270622784382746,
          -0.786350570851453,
          0.0911649271016448,
          0.6557252804607655,
          0.4365966784408412,
          0.921789406738549,
          -0.6646588710570925,
          -0.9969408190860302,
          1.677135701561699,
          0.7477192297851876,
          -0.8919941975652873,
          -0.8484931671495123,
          1.1304801847786945,
          -0.1303874644250042,
          -0.4027093671423632,
          0.19952262377633156,
          -1.2035863054118094,
          -0.09211361249509116,
          0.08026909709216896,
          -0.34775188069812457,
          -1.0086031125278943,
          1.1634835749942127,
          0.11172025589191217,
          2.1257306567197736,
          -0.3340416992697654,
          0.8198978434765232,
          1.2548300749111025,
          0.9985861025577449,
          -0.541352111262776,
          0.5162497924508742,
          1.4076377254955594,
          0.7927786526521182,
          -0.9436732508203212,
          0.8549620719419299,
          2.310066034112088,
          1.2874259489529982,
          -0.41981602206893903,
          -0.987910090906013,
          -0.7842242288309662,
          -0.9610088565403709,
          0.18685588779080886,
          -2.3919389380642486,
          2.011749152319646,
          -0.23626324705189763,
          0.3553314029769195,
          -0.45960543260774067,
          0.7513582982992836,
          -1.1608162886462836,
          0.003567013415990974,
          -0.21101194338955107,
          -1.3276277670828558,
          0.13992890084220388,
          -0.28703008846268313,
          0.9182834148621122,
          0.265735454000781,
          -1.2246115407591085,
          -0.19042542491721853,
          0.7018052470194134,
          0.09960530174978317,
          1.4776802303953214,
          -1.5536740660947732,
          -0.23915551742935248,
          -0.8306971313259349,
          -1.0273618346956965,
          -0.255207039077919,
          0.3241759225706703,
          -1.3051243905650352,
          -0.6223082823846187,
          0.179987130947547,
          0.9252579722463663,
          -0.9758908841399186,
          -0.4820230098666938,
          -0.12269096767963233,
          -0.3181029667595157,
          -0.3946420804405433,
          1.4714928976934416,
          0.359528275020138,
          -0.5430093124198415,
          -0.0068426627292687,
          0.30939955566661675,
          -1.9326432920627419,
          0.47174567839532167,
          -1.9477708295596878,
          0.015941489595028377,
          -1.7131004629871893,
          0.48762876163513086,
          -0.3271139632231246,
          0.6401403330176697,
          -1.1377996782946949,
          -0.9838557893665433,
          1.8423363493330935,
          0.05357252926479087,
          -1.526855656633712
         ],
         "yaxis": "y4"
        },
        {
         "line": {
          "color": "rgba(128, 128, 128, 1.0)",
          "dash": "solid",
          "shape": "linear",
          "width": 1.3
         },
         "marker": {
          "size": 2,
          "symbol": "circle"
         },
         "mode": "markers",
         "name": "B",
         "text": "",
         "type": "scatter",
         "x": [
          -1.4235348994582473,
          1.6958650609063417,
          -0.3982966328762372,
          0.27756863549621097,
          -2.3585919349958235,
          1.1020005362743452,
          0.6266961052801654,
          -0.6270622784382746,
          -0.786350570851453,
          0.0911649271016448,
          0.6557252804607655,
          0.4365966784408412,
          0.921789406738549,
          -0.6646588710570925,
          -0.9969408190860302,
          1.677135701561699,
          0.7477192297851876,
          -0.8919941975652873,
          -0.8484931671495123,
          1.1304801847786945,
          -0.1303874644250042,
          -0.4027093671423632,
          0.19952262377633156,
          -1.2035863054118094,
          -0.09211361249509116,
          0.08026909709216896,
          -0.34775188069812457,
          -1.0086031125278943,
          1.1634835749942127,
          0.11172025589191217,
          2.1257306567197736,
          -0.3340416992697654,
          0.8198978434765232,
          1.2548300749111025,
          0.9985861025577449,
          -0.541352111262776,
          0.5162497924508742,
          1.4076377254955594,
          0.7927786526521182,
          -0.9436732508203212,
          0.8549620719419299,
          2.310066034112088,
          1.2874259489529982,
          -0.41981602206893903,
          -0.987910090906013,
          -0.7842242288309662,
          -0.9610088565403709,
          0.18685588779080886,
          -2.3919389380642486,
          2.011749152319646,
          -0.23626324705189763,
          0.3553314029769195,
          -0.45960543260774067,
          0.7513582982992836,
          -1.1608162886462836,
          0.003567013415990974,
          -0.21101194338955107,
          -1.3276277670828558,
          0.13992890084220388,
          -0.28703008846268313,
          0.9182834148621122,
          0.265735454000781,
          -1.2246115407591085,
          -0.19042542491721853,
          0.7018052470194134,
          0.09960530174978317,
          1.4776802303953214,
          -1.5536740660947732,
          -0.23915551742935248,
          -0.8306971313259349,
          -1.0273618346956965,
          -0.255207039077919,
          0.3241759225706703,
          -1.3051243905650352,
          -0.6223082823846187,
          0.179987130947547,
          0.9252579722463663,
          -0.9758908841399186,
          -0.4820230098666938,
          -0.12269096767963233,
          -0.3181029667595157,
          -0.3946420804405433,
          1.4714928976934416,
          0.359528275020138,
          -0.5430093124198415,
          -0.0068426627292687,
          0.30939955566661675,
          -1.9326432920627419,
          0.47174567839532167,
          -1.9477708295596878,
          0.015941489595028377,
          -1.7131004629871893,
          0.48762876163513086,
          -0.3271139632231246,
          0.6401403330176697,
          -1.1377996782946949,
          -0.9838557893665433,
          1.8423363493330935,
          0.05357252926479087,
          -1.526855656633712
         ],
         "xaxis": "x5",
         "y": [
          -0.3658636488428967,
          0.22474581557639411,
          2.1919100837389394,
          1.109421638276329,
          0.2527415435337726,
          -0.1292342991308815,
          0.7317932965268019,
          -0.7639385503788946,
          -0.4708063325441959,
          1.4002834093378764,
          -1.3994839132629886,
          0.8839732167550264,
          -0.14949941804958955,
          -0.9284646169344668,
          -0.1572524883939597,
          0.2419671131608727,
          0.6583143925965117,
          0.12887646114797158,
          2.574144547983506,
          0.36534991434384306,
          -0.384202834127043,
          -0.9825566808686621,
          -1.0317403864615915,
          1.4152469082635148,
          -0.5067264474077924,
          -1.6140860182877868,
          -0.09439861506584497,
          -1.7957542990174429,
          -0.16900273081157646,
          2.4429152619784467,
          -1.0755659168881373,
          -2.02327607122746,
          0.5117107872062027,
          -0.20885964102145407,
          1.1818801008318083,
          1.8500584117657541,
          -0.5643349280117143,
          -0.7458420112492924,
          -0.6304031549618542,
          -0.7553750200409532,
          -0.24581653082700605,
          1.1275236751962945,
          0.6755856903742156,
          -1.3242124648979638,
          -0.8997012477161959,
          -1.1037595469027444,
          0.8116140662995641,
          -0.08935138420138806,
          -0.3379847932092338,
          -0.6516992092160415,
          -0.9042111008747747,
          -0.978779543455604,
          0.2953849957039682,
          -1.229088158408989,
          -0.1261402457761175,
          -0.018057517496615473,
          -0.11492701040970589,
          0.3075772855394331,
          0.22674559496563765,
          -2.1147427307732025,
          -0.8051226469055627,
          0.27049448558142347,
          0.5556703112639456,
          -0.44906939694585063,
          0.08278586815908257,
          -0.923783425172162,
          -1.1536132141685598,
          0.2895469235272587,
          -0.8819321101570025,
          -1.9348184015257255,
          -0.5602666990782839,
          -1.7151892791681982,
          -0.9367386341229202,
          0.4425200072157305,
          -0.9175936737535805,
          0.5332723554946287,
          -1.6489486504568114,
          -0.5977406919675751,
          -0.66185625276932,
          0.6562173431477331,
          1.1042432642893962,
          -2.147020474578238,
          -0.2901623939665887,
          2.137309890440816,
          1.5752816256368136,
          -0.718805047986369,
          1.155881699724617,
          -0.8834366639942475,
          1.251970006408457,
          -0.5891537401917408,
          -1.025840274996761,
          0.006030311880805347,
          0.5741509615540178,
          -0.6738634619998584,
          -0.8498854927129178,
          -1.5487152464370812,
          0.5011404094712901,
          2.2801877026266597,
          0.517916728826836,
          0.8550946518040117
         ],
         "yaxis": "y5"
        },
        {
         "histfunc": "count",
         "histnorm": "",
         "marker": {
          "color": "rgba(55, 128, 191, 1.0)",
          "line": {
           "color": "#4D5663",
           "width": 1.3
          }
         },
         "name": "B",
         "nbinsx": 10,
         "opacity": 0.8,
         "orientation": "v",
         "type": "histogram",
         "x": [
          -0.3658636488428967,
          0.22474581557639411,
          2.1919100837389394,
          1.109421638276329,
          0.2527415435337726,
          -0.1292342991308815,
          0.7317932965268019,
          -0.7639385503788946,
          -0.4708063325441959,
          1.4002834093378764,
          -1.3994839132629886,
          0.8839732167550264,
          -0.14949941804958955,
          -0.9284646169344668,
          -0.1572524883939597,
          0.2419671131608727,
          0.6583143925965117,
          0.12887646114797158,
          2.574144547983506,
          0.36534991434384306,
          -0.384202834127043,
          -0.9825566808686621,
          -1.0317403864615915,
          1.4152469082635148,
          -0.5067264474077924,
          -1.6140860182877868,
          -0.09439861506584497,
          -1.7957542990174429,
          -0.16900273081157646,
          2.4429152619784467,
          -1.0755659168881373,
          -2.02327607122746,
          0.5117107872062027,
          -0.20885964102145407,
          1.1818801008318083,
          1.8500584117657541,
          -0.5643349280117143,
          -0.7458420112492924,
          -0.6304031549618542,
          -0.7553750200409532,
          -0.24581653082700605,
          1.1275236751962945,
          0.6755856903742156,
          -1.3242124648979638,
          -0.8997012477161959,
          -1.1037595469027444,
          0.8116140662995641,
          -0.08935138420138806,
          -0.3379847932092338,
          -0.6516992092160415,
          -0.9042111008747747,
          -0.978779543455604,
          0.2953849957039682,
          -1.229088158408989,
          -0.1261402457761175,
          -0.018057517496615473,
          -0.11492701040970589,
          0.3075772855394331,
          0.22674559496563765,
          -2.1147427307732025,
          -0.8051226469055627,
          0.27049448558142347,
          0.5556703112639456,
          -0.44906939694585063,
          0.08278586815908257,
          -0.923783425172162,
          -1.1536132141685598,
          0.2895469235272587,
          -0.8819321101570025,
          -1.9348184015257255,
          -0.5602666990782839,
          -1.7151892791681982,
          -0.9367386341229202,
          0.4425200072157305,
          -0.9175936737535805,
          0.5332723554946287,
          -1.6489486504568114,
          -0.5977406919675751,
          -0.66185625276932,
          0.6562173431477331,
          1.1042432642893962,
          -2.147020474578238,
          -0.2901623939665887,
          2.137309890440816,
          1.5752816256368136,
          -0.718805047986369,
          1.155881699724617,
          -0.8834366639942475,
          1.251970006408457,
          -0.5891537401917408,
          -1.025840274996761,
          0.006030311880805347,
          0.5741509615540178,
          -0.6738634619998584,
          -0.8498854927129178,
          -1.5487152464370812,
          0.5011404094712901,
          2.2801877026266597,
          0.517916728826836,
          0.8550946518040117
         ],
         "xaxis": "x6",
         "yaxis": "y6"
        },
        {
         "line": {
          "color": "rgba(128, 128, 128, 1.0)",
          "dash": "solid",
          "shape": "linear",
          "width": 1.3
         },
         "marker": {
          "size": 2,
          "symbol": "circle"
         },
         "mode": "markers",
         "name": "B",
         "text": "",
         "type": "scatter",
         "x": [
          -1.236245897526975,
          1.394531513969449,
          -0.14953973314942223,
          0.014864624893081088,
          1.9975779631424395,
          -1.161969590849366,
          -0.05242431203380102,
          1.7402253295498296,
          0.16256622775562465,
          1.2126378364947217,
          0.7272624400503693,
          0.5239195439892642,
          -2.0264285303579,
          0.8131315348959219,
          0.5179265814803313,
          0.5242276460815902,
          0.6945037757650672,
          0.4758851425711402,
          -0.7077353285509607,
          -0.9389524067750541,
          0.03286488549563378,
          -1.6672044199304352,
          -2.143685965901829,
          -0.30110666284655113,
          0.13197457582430402,
          0.6433002537156496,
          -0.42293244311857464,
          0.8778188306470641,
          -0.7253196404567503,
          -1.456579630114345,
          -0.6876285610223782,
          0.8302679412628738,
          -0.8784899538636051,
          -0.04108478643649931,
          -0.07485873580043284,
          -1.99796628687477,
          0.5049457575018156,
          1.9999157433007249,
          0.8124700861842593,
          -0.9016771144866489,
          -0.6120832892586301,
          -1.0691581738178118,
          -0.17014534513763152,
          0.23811176895685235,
          0.018046237260107945,
          0.5703819713893336,
          0.19775102957303023,
          0.4881981261683991,
          0.9004255141973913,
          -0.16057023676854762,
          0.877432824692586,
          0.007509598575843179,
          0.6018093921750517,
          0.24885036087369733,
          0.9563020352845671,
          -0.900938603150998,
          -0.21719782759023226,
          -0.650210508621508,
          0.06444670107303783,
          -0.7499379680653157,
          -0.06053166504054045,
          2.0159315331998076,
          -0.2718380241754499,
          -0.07405966635364217,
          0.222812567219414,
          0.4422923035858044,
          1.2316131036588682,
          2.165382244374689,
          -1.5786149501844338,
          -0.4442149184256992,
          1.6160619965679899,
          0.10333452658555937,
          1.0741450921661069,
          0.2639761336394118,
          -1.1432007571228844,
          1.106938523171413,
          -2.10318338742521,
          -1.4982051418900018,
          -1.8129219435780177,
          0.6106921338462978,
          -0.9845346119050725,
          1.076342554638808,
          -0.22405572199799867,
          -1.1034919813079604,
          0.30573929577232073,
          0.5870285921604421,
          -0.5998022391517313,
          -1.2076144723735267,
          0.6321689532807515,
          -0.7480443535391768,
          -0.052152870235295246,
          -0.08100332807673293,
          -0.6623557869601144,
          0.953895190238591,
          1.6440021941939549,
          -2.2232824659038655,
          -1.2819956358766162,
          0.8744357070732162,
          0.270287340120572,
          -0.3834338461396798
         ],
         "xaxis": "x7",
         "y": [
          -0.3658636488428967,
          0.22474581557639411,
          2.1919100837389394,
          1.109421638276329,
          0.2527415435337726,
          -0.1292342991308815,
          0.7317932965268019,
          -0.7639385503788946,
          -0.4708063325441959,
          1.4002834093378764,
          -1.3994839132629886,
          0.8839732167550264,
          -0.14949941804958955,
          -0.9284646169344668,
          -0.1572524883939597,
          0.2419671131608727,
          0.6583143925965117,
          0.12887646114797158,
          2.574144547983506,
          0.36534991434384306,
          -0.384202834127043,
          -0.9825566808686621,
          -1.0317403864615915,
          1.4152469082635148,
          -0.5067264474077924,
          -1.6140860182877868,
          -0.09439861506584497,
          -1.7957542990174429,
          -0.16900273081157646,
          2.4429152619784467,
          -1.0755659168881373,
          -2.02327607122746,
          0.5117107872062027,
          -0.20885964102145407,
          1.1818801008318083,
          1.8500584117657541,
          -0.5643349280117143,
          -0.7458420112492924,
          -0.6304031549618542,
          -0.7553750200409532,
          -0.24581653082700605,
          1.1275236751962945,
          0.6755856903742156,
          -1.3242124648979638,
          -0.8997012477161959,
          -1.1037595469027444,
          0.8116140662995641,
          -0.08935138420138806,
          -0.3379847932092338,
          -0.6516992092160415,
          -0.9042111008747747,
          -0.978779543455604,
          0.2953849957039682,
          -1.229088158408989,
          -0.1261402457761175,
          -0.018057517496615473,
          -0.11492701040970589,
          0.3075772855394331,
          0.22674559496563765,
          -2.1147427307732025,
          -0.8051226469055627,
          0.27049448558142347,
          0.5556703112639456,
          -0.44906939694585063,
          0.08278586815908257,
          -0.923783425172162,
          -1.1536132141685598,
          0.2895469235272587,
          -0.8819321101570025,
          -1.9348184015257255,
          -0.5602666990782839,
          -1.7151892791681982,
          -0.9367386341229202,
          0.4425200072157305,
          -0.9175936737535805,
          0.5332723554946287,
          -1.6489486504568114,
          -0.5977406919675751,
          -0.66185625276932,
          0.6562173431477331,
          1.1042432642893962,
          -2.147020474578238,
          -0.2901623939665887,
          2.137309890440816,
          1.5752816256368136,
          -0.718805047986369,
          1.155881699724617,
          -0.8834366639942475,
          1.251970006408457,
          -0.5891537401917408,
          -1.025840274996761,
          0.006030311880805347,
          0.5741509615540178,
          -0.6738634619998584,
          -0.8498854927129178,
          -1.5487152464370812,
          0.5011404094712901,
          2.2801877026266597,
          0.517916728826836,
          0.8550946518040117
         ],
         "yaxis": "y7"
        },
        {
         "line": {
          "color": "rgba(128, 128, 128, 1.0)",
          "dash": "solid",
          "shape": "linear",
          "width": 1.3
         },
         "marker": {
          "size": 2,
          "symbol": "circle"
         },
         "mode": "markers",
         "name": "B",
         "text": "",
         "type": "scatter",
         "x": [
          -0.7432575069674906,
          -1.1057549646307625,
          -0.9916773613478754,
          -0.40579119538402025,
          0.17094955354684885,
          0.29634858634808275,
          -2.1598634080682433,
          -2.0125585508828925,
          -0.1851162487846606,
          -2.141739229053416,
          0.6772225310916761,
          0.7668669510425348,
          2.073534259643305,
          -0.5857576182723124,
          -0.24898593718493103,
          -0.4591347965960832,
          0.0572972746601082,
          0.5832555912663984,
          1.1158032393140689,
          0.3991992944487781,
          -0.8624665930363881,
          0.7071627408033258,
          -1.9667278635869696,
          -0.9214713334702432,
          1.650492120587778,
          -1.1999606866076602,
          -0.20281169105151825,
          1.4945178965983408,
          -0.8997650837348147,
          -2.2253265893618424,
          -1.09012368498265,
          -1.0529536797491117,
          0.1338906847939372,
          0.2403500987382637,
          -1.6095963709008843,
          0.06628520746906193,
          -1.067109470264138,
          0.2634593866514775,
          -1.478737065645272,
          -1.1091466719365703,
          0.35138038117834564,
          0.3435857503889729,
          -1.5210735051475959,
          0.837757589867208,
          0.4476300884448183,
          -0.07502471445733806,
          -1.5202855593094173,
          -0.25773937749288034,
          -0.34887973542719847,
          -2.31187035768955,
          -0.034029901254094885,
          0.2630669488156154,
          0.11150752131393972,
          1.4058176591823965,
          1.5000524693418644,
          -0.6939161537088265,
          0.5648202154740967,
          -0.6663278105130409,
          1.3312286533490953,
          -1.0318603413146845,
          0.05371434836374283,
          1.10108844942271,
          -1.5258996454946665,
          -1.1491765465288533,
          0.11828069930307834,
          -1.9601573490629831,
          -0.5880699028680263,
          -0.9296562903791965,
          -0.5829419942936036,
          0.4687040240319331,
          -0.9033060449777159,
          -1.6724777398810702,
          -0.6690696546509366,
          -1.4250279899707665,
          -0.8847035061124282,
          -1.0667503851071878,
          1.7050429004073107,
          1.3144164130572529,
          -1.53177407469326,
          0.9032058368274795,
          0.29864239670482007,
          0.04333366132070788,
          -0.09862504601056912,
          -0.7321679660131877,
          0.8287138938795663,
          0.3748462073741596,
          -0.28763424974146945,
          -0.37439982497585667,
          0.9478768292259477,
          -0.21912363889398573,
          2.5987941887622954,
          -1.9322428278354373,
          0.7613921907484676,
          -0.5890733272485525,
          -0.831792797812103,
          0.4891026917431194,
          -0.7531862890796068,
          -0.44815430034301945,
          -0.6467665018206313,
          -1.2790652515257708
         ],
         "xaxis": "x8",
         "y": [
          -0.3658636488428967,
          0.22474581557639411,
          2.1919100837389394,
          1.109421638276329,
          0.2527415435337726,
          -0.1292342991308815,
          0.7317932965268019,
          -0.7639385503788946,
          -0.4708063325441959,
          1.4002834093378764,
          -1.3994839132629886,
          0.8839732167550264,
          -0.14949941804958955,
          -0.9284646169344668,
          -0.1572524883939597,
          0.2419671131608727,
          0.6583143925965117,
          0.12887646114797158,
          2.574144547983506,
          0.36534991434384306,
          -0.384202834127043,
          -0.9825566808686621,
          -1.0317403864615915,
          1.4152469082635148,
          -0.5067264474077924,
          -1.6140860182877868,
          -0.09439861506584497,
          -1.7957542990174429,
          -0.16900273081157646,
          2.4429152619784467,
          -1.0755659168881373,
          -2.02327607122746,
          0.5117107872062027,
          -0.20885964102145407,
          1.1818801008318083,
          1.8500584117657541,
          -0.5643349280117143,
          -0.7458420112492924,
          -0.6304031549618542,
          -0.7553750200409532,
          -0.24581653082700605,
          1.1275236751962945,
          0.6755856903742156,
          -1.3242124648979638,
          -0.8997012477161959,
          -1.1037595469027444,
          0.8116140662995641,
          -0.08935138420138806,
          -0.3379847932092338,
          -0.6516992092160415,
          -0.9042111008747747,
          -0.978779543455604,
          0.2953849957039682,
          -1.229088158408989,
          -0.1261402457761175,
          -0.018057517496615473,
          -0.11492701040970589,
          0.3075772855394331,
          0.22674559496563765,
          -2.1147427307732025,
          -0.8051226469055627,
          0.27049448558142347,
          0.5556703112639456,
          -0.44906939694585063,
          0.08278586815908257,
          -0.923783425172162,
          -1.1536132141685598,
          0.2895469235272587,
          -0.8819321101570025,
          -1.9348184015257255,
          -0.5602666990782839,
          -1.7151892791681982,
          -0.9367386341229202,
          0.4425200072157305,
          -0.9175936737535805,
          0.5332723554946287,
          -1.6489486504568114,
          -0.5977406919675751,
          -0.66185625276932,
          0.6562173431477331,
          1.1042432642893962,
          -2.147020474578238,
          -0.2901623939665887,
          2.137309890440816,
          1.5752816256368136,
          -0.718805047986369,
          1.155881699724617,
          -0.8834366639942475,
          1.251970006408457,
          -0.5891537401917408,
          -1.025840274996761,
          0.006030311880805347,
          0.5741509615540178,
          -0.6738634619998584,
          -0.8498854927129178,
          -1.5487152464370812,
          0.5011404094712901,
          2.2801877026266597,
          0.517916728826836,
          0.8550946518040117
         ],
         "yaxis": "y8"
        },
        {
         "line": {
          "color": "rgba(128, 128, 128, 1.0)",
          "dash": "solid",
          "shape": "linear",
          "width": 1.3
         },
         "marker": {
          "size": 2,
          "symbol": "circle"
         },
         "mode": "markers",
         "name": "C",
         "text": "",
         "type": "scatter",
         "x": [
          -1.4235348994582473,
          1.6958650609063417,
          -0.3982966328762372,
          0.27756863549621097,
          -2.3585919349958235,
          1.1020005362743452,
          0.6266961052801654,
          -0.6270622784382746,
          -0.786350570851453,
          0.0911649271016448,
          0.6557252804607655,
          0.4365966784408412,
          0.921789406738549,
          -0.6646588710570925,
          -0.9969408190860302,
          1.677135701561699,
          0.7477192297851876,
          -0.8919941975652873,
          -0.8484931671495123,
          1.1304801847786945,
          -0.1303874644250042,
          -0.4027093671423632,
          0.19952262377633156,
          -1.2035863054118094,
          -0.09211361249509116,
          0.08026909709216896,
          -0.34775188069812457,
          -1.0086031125278943,
          1.1634835749942127,
          0.11172025589191217,
          2.1257306567197736,
          -0.3340416992697654,
          0.8198978434765232,
          1.2548300749111025,
          0.9985861025577449,
          -0.541352111262776,
          0.5162497924508742,
          1.4076377254955594,
          0.7927786526521182,
          -0.9436732508203212,
          0.8549620719419299,
          2.310066034112088,
          1.2874259489529982,
          -0.41981602206893903,
          -0.987910090906013,
          -0.7842242288309662,
          -0.9610088565403709,
          0.18685588779080886,
          -2.3919389380642486,
          2.011749152319646,
          -0.23626324705189763,
          0.3553314029769195,
          -0.45960543260774067,
          0.7513582982992836,
          -1.1608162886462836,
          0.003567013415990974,
          -0.21101194338955107,
          -1.3276277670828558,
          0.13992890084220388,
          -0.28703008846268313,
          0.9182834148621122,
          0.265735454000781,
          -1.2246115407591085,
          -0.19042542491721853,
          0.7018052470194134,
          0.09960530174978317,
          1.4776802303953214,
          -1.5536740660947732,
          -0.23915551742935248,
          -0.8306971313259349,
          -1.0273618346956965,
          -0.255207039077919,
          0.3241759225706703,
          -1.3051243905650352,
          -0.6223082823846187,
          0.179987130947547,
          0.9252579722463663,
          -0.9758908841399186,
          -0.4820230098666938,
          -0.12269096767963233,
          -0.3181029667595157,
          -0.3946420804405433,
          1.4714928976934416,
          0.359528275020138,
          -0.5430093124198415,
          -0.0068426627292687,
          0.30939955566661675,
          -1.9326432920627419,
          0.47174567839532167,
          -1.9477708295596878,
          0.015941489595028377,
          -1.7131004629871893,
          0.48762876163513086,
          -0.3271139632231246,
          0.6401403330176697,
          -1.1377996782946949,
          -0.9838557893665433,
          1.8423363493330935,
          0.05357252926479087,
          -1.526855656633712
         ],
         "xaxis": "x9",
         "y": [
          -1.236245897526975,
          1.394531513969449,
          -0.14953973314942223,
          0.014864624893081088,
          1.9975779631424395,
          -1.161969590849366,
          -0.05242431203380102,
          1.7402253295498296,
          0.16256622775562465,
          1.2126378364947217,
          0.7272624400503693,
          0.5239195439892642,
          -2.0264285303579,
          0.8131315348959219,
          0.5179265814803313,
          0.5242276460815902,
          0.6945037757650672,
          0.4758851425711402,
          -0.7077353285509607,
          -0.9389524067750541,
          0.03286488549563378,
          -1.6672044199304352,
          -2.143685965901829,
          -0.30110666284655113,
          0.13197457582430402,
          0.6433002537156496,
          -0.42293244311857464,
          0.8778188306470641,
          -0.7253196404567503,
          -1.456579630114345,
          -0.6876285610223782,
          0.8302679412628738,
          -0.8784899538636051,
          -0.04108478643649931,
          -0.07485873580043284,
          -1.99796628687477,
          0.5049457575018156,
          1.9999157433007249,
          0.8124700861842593,
          -0.9016771144866489,
          -0.6120832892586301,
          -1.0691581738178118,
          -0.17014534513763152,
          0.23811176895685235,
          0.018046237260107945,
          0.5703819713893336,
          0.19775102957303023,
          0.4881981261683991,
          0.9004255141973913,
          -0.16057023676854762,
          0.877432824692586,
          0.007509598575843179,
          0.6018093921750517,
          0.24885036087369733,
          0.9563020352845671,
          -0.900938603150998,
          -0.21719782759023226,
          -0.650210508621508,
          0.06444670107303783,
          -0.7499379680653157,
          -0.06053166504054045,
          2.0159315331998076,
          -0.2718380241754499,
          -0.07405966635364217,
          0.222812567219414,
          0.4422923035858044,
          1.2316131036588682,
          2.165382244374689,
          -1.5786149501844338,
          -0.4442149184256992,
          1.6160619965679899,
          0.10333452658555937,
          1.0741450921661069,
          0.2639761336394118,
          -1.1432007571228844,
          1.106938523171413,
          -2.10318338742521,
          -1.4982051418900018,
          -1.8129219435780177,
          0.6106921338462978,
          -0.9845346119050725,
          1.076342554638808,
          -0.22405572199799867,
          -1.1034919813079604,
          0.30573929577232073,
          0.5870285921604421,
          -0.5998022391517313,
          -1.2076144723735267,
          0.6321689532807515,
          -0.7480443535391768,
          -0.052152870235295246,
          -0.08100332807673293,
          -0.6623557869601144,
          0.953895190238591,
          1.6440021941939549,
          -2.2232824659038655,
          -1.2819956358766162,
          0.8744357070732162,
          0.270287340120572,
          -0.3834338461396798
         ],
         "yaxis": "y9"
        },
        {
         "line": {
          "color": "rgba(128, 128, 128, 1.0)",
          "dash": "solid",
          "shape": "linear",
          "width": 1.3
         },
         "marker": {
          "size": 2,
          "symbol": "circle"
         },
         "mode": "markers",
         "name": "C",
         "text": "",
         "type": "scatter",
         "x": [
          -0.3658636488428967,
          0.22474581557639411,
          2.1919100837389394,
          1.109421638276329,
          0.2527415435337726,
          -0.1292342991308815,
          0.7317932965268019,
          -0.7639385503788946,
          -0.4708063325441959,
          1.4002834093378764,
          -1.3994839132629886,
          0.8839732167550264,
          -0.14949941804958955,
          -0.9284646169344668,
          -0.1572524883939597,
          0.2419671131608727,
          0.6583143925965117,
          0.12887646114797158,
          2.574144547983506,
          0.36534991434384306,
          -0.384202834127043,
          -0.9825566808686621,
          -1.0317403864615915,
          1.4152469082635148,
          -0.5067264474077924,
          -1.6140860182877868,
          -0.09439861506584497,
          -1.7957542990174429,
          -0.16900273081157646,
          2.4429152619784467,
          -1.0755659168881373,
          -2.02327607122746,
          0.5117107872062027,
          -0.20885964102145407,
          1.1818801008318083,
          1.8500584117657541,
          -0.5643349280117143,
          -0.7458420112492924,
          -0.6304031549618542,
          -0.7553750200409532,
          -0.24581653082700605,
          1.1275236751962945,
          0.6755856903742156,
          -1.3242124648979638,
          -0.8997012477161959,
          -1.1037595469027444,
          0.8116140662995641,
          -0.08935138420138806,
          -0.3379847932092338,
          -0.6516992092160415,
          -0.9042111008747747,
          -0.978779543455604,
          0.2953849957039682,
          -1.229088158408989,
          -0.1261402457761175,
          -0.018057517496615473,
          -0.11492701040970589,
          0.3075772855394331,
          0.22674559496563765,
          -2.1147427307732025,
          -0.8051226469055627,
          0.27049448558142347,
          0.5556703112639456,
          -0.44906939694585063,
          0.08278586815908257,
          -0.923783425172162,
          -1.1536132141685598,
          0.2895469235272587,
          -0.8819321101570025,
          -1.9348184015257255,
          -0.5602666990782839,
          -1.7151892791681982,
          -0.9367386341229202,
          0.4425200072157305,
          -0.9175936737535805,
          0.5332723554946287,
          -1.6489486504568114,
          -0.5977406919675751,
          -0.66185625276932,
          0.6562173431477331,
          1.1042432642893962,
          -2.147020474578238,
          -0.2901623939665887,
          2.137309890440816,
          1.5752816256368136,
          -0.718805047986369,
          1.155881699724617,
          -0.8834366639942475,
          1.251970006408457,
          -0.5891537401917408,
          -1.025840274996761,
          0.006030311880805347,
          0.5741509615540178,
          -0.6738634619998584,
          -0.8498854927129178,
          -1.5487152464370812,
          0.5011404094712901,
          2.2801877026266597,
          0.517916728826836,
          0.8550946518040117
         ],
         "xaxis": "x10",
         "y": [
          -1.236245897526975,
          1.394531513969449,
          -0.14953973314942223,
          0.014864624893081088,
          1.9975779631424395,
          -1.161969590849366,
          -0.05242431203380102,
          1.7402253295498296,
          0.16256622775562465,
          1.2126378364947217,
          0.7272624400503693,
          0.5239195439892642,
          -2.0264285303579,
          0.8131315348959219,
          0.5179265814803313,
          0.5242276460815902,
          0.6945037757650672,
          0.4758851425711402,
          -0.7077353285509607,
          -0.9389524067750541,
          0.03286488549563378,
          -1.6672044199304352,
          -2.143685965901829,
          -0.30110666284655113,
          0.13197457582430402,
          0.6433002537156496,
          -0.42293244311857464,
          0.8778188306470641,
          -0.7253196404567503,
          -1.456579630114345,
          -0.6876285610223782,
          0.8302679412628738,
          -0.8784899538636051,
          -0.04108478643649931,
          -0.07485873580043284,
          -1.99796628687477,
          0.5049457575018156,
          1.9999157433007249,
          0.8124700861842593,
          -0.9016771144866489,
          -0.6120832892586301,
          -1.0691581738178118,
          -0.17014534513763152,
          0.23811176895685235,
          0.018046237260107945,
          0.5703819713893336,
          0.19775102957303023,
          0.4881981261683991,
          0.9004255141973913,
          -0.16057023676854762,
          0.877432824692586,
          0.007509598575843179,
          0.6018093921750517,
          0.24885036087369733,
          0.9563020352845671,
          -0.900938603150998,
          -0.21719782759023226,
          -0.650210508621508,
          0.06444670107303783,
          -0.7499379680653157,
          -0.06053166504054045,
          2.0159315331998076,
          -0.2718380241754499,
          -0.07405966635364217,
          0.222812567219414,
          0.4422923035858044,
          1.2316131036588682,
          2.165382244374689,
          -1.5786149501844338,
          -0.4442149184256992,
          1.6160619965679899,
          0.10333452658555937,
          1.0741450921661069,
          0.2639761336394118,
          -1.1432007571228844,
          1.106938523171413,
          -2.10318338742521,
          -1.4982051418900018,
          -1.8129219435780177,
          0.6106921338462978,
          -0.9845346119050725,
          1.076342554638808,
          -0.22405572199799867,
          -1.1034919813079604,
          0.30573929577232073,
          0.5870285921604421,
          -0.5998022391517313,
          -1.2076144723735267,
          0.6321689532807515,
          -0.7480443535391768,
          -0.052152870235295246,
          -0.08100332807673293,
          -0.6623557869601144,
          0.953895190238591,
          1.6440021941939549,
          -2.2232824659038655,
          -1.2819956358766162,
          0.8744357070732162,
          0.270287340120572,
          -0.3834338461396798
         ],
         "yaxis": "y10"
        },
        {
         "histfunc": "count",
         "histnorm": "",
         "marker": {
          "color": "rgba(50, 171, 96, 1.0)",
          "line": {
           "color": "#4D5663",
           "width": 1.3
          }
         },
         "name": "C",
         "nbinsx": 10,
         "opacity": 0.8,
         "orientation": "v",
         "type": "histogram",
         "x": [
          -1.236245897526975,
          1.394531513969449,
          -0.14953973314942223,
          0.014864624893081088,
          1.9975779631424395,
          -1.161969590849366,
          -0.05242431203380102,
          1.7402253295498296,
          0.16256622775562465,
          1.2126378364947217,
          0.7272624400503693,
          0.5239195439892642,
          -2.0264285303579,
          0.8131315348959219,
          0.5179265814803313,
          0.5242276460815902,
          0.6945037757650672,
          0.4758851425711402,
          -0.7077353285509607,
          -0.9389524067750541,
          0.03286488549563378,
          -1.6672044199304352,
          -2.143685965901829,
          -0.30110666284655113,
          0.13197457582430402,
          0.6433002537156496,
          -0.42293244311857464,
          0.8778188306470641,
          -0.7253196404567503,
          -1.456579630114345,
          -0.6876285610223782,
          0.8302679412628738,
          -0.8784899538636051,
          -0.04108478643649931,
          -0.07485873580043284,
          -1.99796628687477,
          0.5049457575018156,
          1.9999157433007249,
          0.8124700861842593,
          -0.9016771144866489,
          -0.6120832892586301,
          -1.0691581738178118,
          -0.17014534513763152,
          0.23811176895685235,
          0.018046237260107945,
          0.5703819713893336,
          0.19775102957303023,
          0.4881981261683991,
          0.9004255141973913,
          -0.16057023676854762,
          0.877432824692586,
          0.007509598575843179,
          0.6018093921750517,
          0.24885036087369733,
          0.9563020352845671,
          -0.900938603150998,
          -0.21719782759023226,
          -0.650210508621508,
          0.06444670107303783,
          -0.7499379680653157,
          -0.06053166504054045,
          2.0159315331998076,
          -0.2718380241754499,
          -0.07405966635364217,
          0.222812567219414,
          0.4422923035858044,
          1.2316131036588682,
          2.165382244374689,
          -1.5786149501844338,
          -0.4442149184256992,
          1.6160619965679899,
          0.10333452658555937,
          1.0741450921661069,
          0.2639761336394118,
          -1.1432007571228844,
          1.106938523171413,
          -2.10318338742521,
          -1.4982051418900018,
          -1.8129219435780177,
          0.6106921338462978,
          -0.9845346119050725,
          1.076342554638808,
          -0.22405572199799867,
          -1.1034919813079604,
          0.30573929577232073,
          0.5870285921604421,
          -0.5998022391517313,
          -1.2076144723735267,
          0.6321689532807515,
          -0.7480443535391768,
          -0.052152870235295246,
          -0.08100332807673293,
          -0.6623557869601144,
          0.953895190238591,
          1.6440021941939549,
          -2.2232824659038655,
          -1.2819956358766162,
          0.8744357070732162,
          0.270287340120572,
          -0.3834338461396798
         ],
         "xaxis": "x11",
         "yaxis": "y11"
        },
        {
         "line": {
          "color": "rgba(128, 128, 128, 1.0)",
          "dash": "solid",
          "shape": "linear",
          "width": 1.3
         },
         "marker": {
          "size": 2,
          "symbol": "circle"
         },
         "mode": "markers",
         "name": "C",
         "text": "",
         "type": "scatter",
         "x": [
          -0.7432575069674906,
          -1.1057549646307625,
          -0.9916773613478754,
          -0.40579119538402025,
          0.17094955354684885,
          0.29634858634808275,
          -2.1598634080682433,
          -2.0125585508828925,
          -0.1851162487846606,
          -2.141739229053416,
          0.6772225310916761,
          0.7668669510425348,
          2.073534259643305,
          -0.5857576182723124,
          -0.24898593718493103,
          -0.4591347965960832,
          0.0572972746601082,
          0.5832555912663984,
          1.1158032393140689,
          0.3991992944487781,
          -0.8624665930363881,
          0.7071627408033258,
          -1.9667278635869696,
          -0.9214713334702432,
          1.650492120587778,
          -1.1999606866076602,
          -0.20281169105151825,
          1.4945178965983408,
          -0.8997650837348147,
          -2.2253265893618424,
          -1.09012368498265,
          -1.0529536797491117,
          0.1338906847939372,
          0.2403500987382637,
          -1.6095963709008843,
          0.06628520746906193,
          -1.067109470264138,
          0.2634593866514775,
          -1.478737065645272,
          -1.1091466719365703,
          0.35138038117834564,
          0.3435857503889729,
          -1.5210735051475959,
          0.837757589867208,
          0.4476300884448183,
          -0.07502471445733806,
          -1.5202855593094173,
          -0.25773937749288034,
          -0.34887973542719847,
          -2.31187035768955,
          -0.034029901254094885,
          0.2630669488156154,
          0.11150752131393972,
          1.4058176591823965,
          1.5000524693418644,
          -0.6939161537088265,
          0.5648202154740967,
          -0.6663278105130409,
          1.3312286533490953,
          -1.0318603413146845,
          0.05371434836374283,
          1.10108844942271,
          -1.5258996454946665,
          -1.1491765465288533,
          0.11828069930307834,
          -1.9601573490629831,
          -0.5880699028680263,
          -0.9296562903791965,
          -0.5829419942936036,
          0.4687040240319331,
          -0.9033060449777159,
          -1.6724777398810702,
          -0.6690696546509366,
          -1.4250279899707665,
          -0.8847035061124282,
          -1.0667503851071878,
          1.7050429004073107,
          1.3144164130572529,
          -1.53177407469326,
          0.9032058368274795,
          0.29864239670482007,
          0.04333366132070788,
          -0.09862504601056912,
          -0.7321679660131877,
          0.8287138938795663,
          0.3748462073741596,
          -0.28763424974146945,
          -0.37439982497585667,
          0.9478768292259477,
          -0.21912363889398573,
          2.5987941887622954,
          -1.9322428278354373,
          0.7613921907484676,
          -0.5890733272485525,
          -0.831792797812103,
          0.4891026917431194,
          -0.7531862890796068,
          -0.44815430034301945,
          -0.6467665018206313,
          -1.2790652515257708
         ],
         "xaxis": "x12",
         "y": [
          -1.236245897526975,
          1.394531513969449,
          -0.14953973314942223,
          0.014864624893081088,
          1.9975779631424395,
          -1.161969590849366,
          -0.05242431203380102,
          1.7402253295498296,
          0.16256622775562465,
          1.2126378364947217,
          0.7272624400503693,
          0.5239195439892642,
          -2.0264285303579,
          0.8131315348959219,
          0.5179265814803313,
          0.5242276460815902,
          0.6945037757650672,
          0.4758851425711402,
          -0.7077353285509607,
          -0.9389524067750541,
          0.03286488549563378,
          -1.6672044199304352,
          -2.143685965901829,
          -0.30110666284655113,
          0.13197457582430402,
          0.6433002537156496,
          -0.42293244311857464,
          0.8778188306470641,
          -0.7253196404567503,
          -1.456579630114345,
          -0.6876285610223782,
          0.8302679412628738,
          -0.8784899538636051,
          -0.04108478643649931,
          -0.07485873580043284,
          -1.99796628687477,
          0.5049457575018156,
          1.9999157433007249,
          0.8124700861842593,
          -0.9016771144866489,
          -0.6120832892586301,
          -1.0691581738178118,
          -0.17014534513763152,
          0.23811176895685235,
          0.018046237260107945,
          0.5703819713893336,
          0.19775102957303023,
          0.4881981261683991,
          0.9004255141973913,
          -0.16057023676854762,
          0.877432824692586,
          0.007509598575843179,
          0.6018093921750517,
          0.24885036087369733,
          0.9563020352845671,
          -0.900938603150998,
          -0.21719782759023226,
          -0.650210508621508,
          0.06444670107303783,
          -0.7499379680653157,
          -0.06053166504054045,
          2.0159315331998076,
          -0.2718380241754499,
          -0.07405966635364217,
          0.222812567219414,
          0.4422923035858044,
          1.2316131036588682,
          2.165382244374689,
          -1.5786149501844338,
          -0.4442149184256992,
          1.6160619965679899,
          0.10333452658555937,
          1.0741450921661069,
          0.2639761336394118,
          -1.1432007571228844,
          1.106938523171413,
          -2.10318338742521,
          -1.4982051418900018,
          -1.8129219435780177,
          0.6106921338462978,
          -0.9845346119050725,
          1.076342554638808,
          -0.22405572199799867,
          -1.1034919813079604,
          0.30573929577232073,
          0.5870285921604421,
          -0.5998022391517313,
          -1.2076144723735267,
          0.6321689532807515,
          -0.7480443535391768,
          -0.052152870235295246,
          -0.08100332807673293,
          -0.6623557869601144,
          0.953895190238591,
          1.6440021941939549,
          -2.2232824659038655,
          -1.2819956358766162,
          0.8744357070732162,
          0.270287340120572,
          -0.3834338461396798
         ],
         "yaxis": "y12"
        },
        {
         "line": {
          "color": "rgba(128, 128, 128, 1.0)",
          "dash": "solid",
          "shape": "linear",
          "width": 1.3
         },
         "marker": {
          "size": 2,
          "symbol": "circle"
         },
         "mode": "markers",
         "name": "D",
         "text": "",
         "type": "scatter",
         "x": [
          -1.4235348994582473,
          1.6958650609063417,
          -0.3982966328762372,
          0.27756863549621097,
          -2.3585919349958235,
          1.1020005362743452,
          0.6266961052801654,
          -0.6270622784382746,
          -0.786350570851453,
          0.0911649271016448,
          0.6557252804607655,
          0.4365966784408412,
          0.921789406738549,
          -0.6646588710570925,
          -0.9969408190860302,
          1.677135701561699,
          0.7477192297851876,
          -0.8919941975652873,
          -0.8484931671495123,
          1.1304801847786945,
          -0.1303874644250042,
          -0.4027093671423632,
          0.19952262377633156,
          -1.2035863054118094,
          -0.09211361249509116,
          0.08026909709216896,
          -0.34775188069812457,
          -1.0086031125278943,
          1.1634835749942127,
          0.11172025589191217,
          2.1257306567197736,
          -0.3340416992697654,
          0.8198978434765232,
          1.2548300749111025,
          0.9985861025577449,
          -0.541352111262776,
          0.5162497924508742,
          1.4076377254955594,
          0.7927786526521182,
          -0.9436732508203212,
          0.8549620719419299,
          2.310066034112088,
          1.2874259489529982,
          -0.41981602206893903,
          -0.987910090906013,
          -0.7842242288309662,
          -0.9610088565403709,
          0.18685588779080886,
          -2.3919389380642486,
          2.011749152319646,
          -0.23626324705189763,
          0.3553314029769195,
          -0.45960543260774067,
          0.7513582982992836,
          -1.1608162886462836,
          0.003567013415990974,
          -0.21101194338955107,
          -1.3276277670828558,
          0.13992890084220388,
          -0.28703008846268313,
          0.9182834148621122,
          0.265735454000781,
          -1.2246115407591085,
          -0.19042542491721853,
          0.7018052470194134,
          0.09960530174978317,
          1.4776802303953214,
          -1.5536740660947732,
          -0.23915551742935248,
          -0.8306971313259349,
          -1.0273618346956965,
          -0.255207039077919,
          0.3241759225706703,
          -1.3051243905650352,
          -0.6223082823846187,
          0.179987130947547,
          0.9252579722463663,
          -0.9758908841399186,
          -0.4820230098666938,
          -0.12269096767963233,
          -0.3181029667595157,
          -0.3946420804405433,
          1.4714928976934416,
          0.359528275020138,
          -0.5430093124198415,
          -0.0068426627292687,
          0.30939955566661675,
          -1.9326432920627419,
          0.47174567839532167,
          -1.9477708295596878,
          0.015941489595028377,
          -1.7131004629871893,
          0.48762876163513086,
          -0.3271139632231246,
          0.6401403330176697,
          -1.1377996782946949,
          -0.9838557893665433,
          1.8423363493330935,
          0.05357252926479087,
          -1.526855656633712
         ],
         "xaxis": "x13",
         "y": [
          -0.7432575069674906,
          -1.1057549646307625,
          -0.9916773613478754,
          -0.40579119538402025,
          0.17094955354684885,
          0.29634858634808275,
          -2.1598634080682433,
          -2.0125585508828925,
          -0.1851162487846606,
          -2.141739229053416,
          0.6772225310916761,
          0.7668669510425348,
          2.073534259643305,
          -0.5857576182723124,
          -0.24898593718493103,
          -0.4591347965960832,
          0.0572972746601082,
          0.5832555912663984,
          1.1158032393140689,
          0.3991992944487781,
          -0.8624665930363881,
          0.7071627408033258,
          -1.9667278635869696,
          -0.9214713334702432,
          1.650492120587778,
          -1.1999606866076602,
          -0.20281169105151825,
          1.4945178965983408,
          -0.8997650837348147,
          -2.2253265893618424,
          -1.09012368498265,
          -1.0529536797491117,
          0.1338906847939372,
          0.2403500987382637,
          -1.6095963709008843,
          0.06628520746906193,
          -1.067109470264138,
          0.2634593866514775,
          -1.478737065645272,
          -1.1091466719365703,
          0.35138038117834564,
          0.3435857503889729,
          -1.5210735051475959,
          0.837757589867208,
          0.4476300884448183,
          -0.07502471445733806,
          -1.5202855593094173,
          -0.25773937749288034,
          -0.34887973542719847,
          -2.31187035768955,
          -0.034029901254094885,
          0.2630669488156154,
          0.11150752131393972,
          1.4058176591823965,
          1.5000524693418644,
          -0.6939161537088265,
          0.5648202154740967,
          -0.6663278105130409,
          1.3312286533490953,
          -1.0318603413146845,
          0.05371434836374283,
          1.10108844942271,
          -1.5258996454946665,
          -1.1491765465288533,
          0.11828069930307834,
          -1.9601573490629831,
          -0.5880699028680263,
          -0.9296562903791965,
          -0.5829419942936036,
          0.4687040240319331,
          -0.9033060449777159,
          -1.6724777398810702,
          -0.6690696546509366,
          -1.4250279899707665,
          -0.8847035061124282,
          -1.0667503851071878,
          1.7050429004073107,
          1.3144164130572529,
          -1.53177407469326,
          0.9032058368274795,
          0.29864239670482007,
          0.04333366132070788,
          -0.09862504601056912,
          -0.7321679660131877,
          0.8287138938795663,
          0.3748462073741596,
          -0.28763424974146945,
          -0.37439982497585667,
          0.9478768292259477,
          -0.21912363889398573,
          2.5987941887622954,
          -1.9322428278354373,
          0.7613921907484676,
          -0.5890733272485525,
          -0.831792797812103,
          0.4891026917431194,
          -0.7531862890796068,
          -0.44815430034301945,
          -0.6467665018206313,
          -1.2790652515257708
         ],
         "yaxis": "y13"
        },
        {
         "line": {
          "color": "rgba(128, 128, 128, 1.0)",
          "dash": "solid",
          "shape": "linear",
          "width": 1.3
         },
         "marker": {
          "size": 2,
          "symbol": "circle"
         },
         "mode": "markers",
         "name": "D",
         "text": "",
         "type": "scatter",
         "x": [
          -0.3658636488428967,
          0.22474581557639411,
          2.1919100837389394,
          1.109421638276329,
          0.2527415435337726,
          -0.1292342991308815,
          0.7317932965268019,
          -0.7639385503788946,
          -0.4708063325441959,
          1.4002834093378764,
          -1.3994839132629886,
          0.8839732167550264,
          -0.14949941804958955,
          -0.9284646169344668,
          -0.1572524883939597,
          0.2419671131608727,
          0.6583143925965117,
          0.12887646114797158,
          2.574144547983506,
          0.36534991434384306,
          -0.384202834127043,
          -0.9825566808686621,
          -1.0317403864615915,
          1.4152469082635148,
          -0.5067264474077924,
          -1.6140860182877868,
          -0.09439861506584497,
          -1.7957542990174429,
          -0.16900273081157646,
          2.4429152619784467,
          -1.0755659168881373,
          -2.02327607122746,
          0.5117107872062027,
          -0.20885964102145407,
          1.1818801008318083,
          1.8500584117657541,
          -0.5643349280117143,
          -0.7458420112492924,
          -0.6304031549618542,
          -0.7553750200409532,
          -0.24581653082700605,
          1.1275236751962945,
          0.6755856903742156,
          -1.3242124648979638,
          -0.8997012477161959,
          -1.1037595469027444,
          0.8116140662995641,
          -0.08935138420138806,
          -0.3379847932092338,
          -0.6516992092160415,
          -0.9042111008747747,
          -0.978779543455604,
          0.2953849957039682,
          -1.229088158408989,
          -0.1261402457761175,
          -0.018057517496615473,
          -0.11492701040970589,
          0.3075772855394331,
          0.22674559496563765,
          -2.1147427307732025,
          -0.8051226469055627,
          0.27049448558142347,
          0.5556703112639456,
          -0.44906939694585063,
          0.08278586815908257,
          -0.923783425172162,
          -1.1536132141685598,
          0.2895469235272587,
          -0.8819321101570025,
          -1.9348184015257255,
          -0.5602666990782839,
          -1.7151892791681982,
          -0.9367386341229202,
          0.4425200072157305,
          -0.9175936737535805,
          0.5332723554946287,
          -1.6489486504568114,
          -0.5977406919675751,
          -0.66185625276932,
          0.6562173431477331,
          1.1042432642893962,
          -2.147020474578238,
          -0.2901623939665887,
          2.137309890440816,
          1.5752816256368136,
          -0.718805047986369,
          1.155881699724617,
          -0.8834366639942475,
          1.251970006408457,
          -0.5891537401917408,
          -1.025840274996761,
          0.006030311880805347,
          0.5741509615540178,
          -0.6738634619998584,
          -0.8498854927129178,
          -1.5487152464370812,
          0.5011404094712901,
          2.2801877026266597,
          0.517916728826836,
          0.8550946518040117
         ],
         "xaxis": "x14",
         "y": [
          -0.7432575069674906,
          -1.1057549646307625,
          -0.9916773613478754,
          -0.40579119538402025,
          0.17094955354684885,
          0.29634858634808275,
          -2.1598634080682433,
          -2.0125585508828925,
          -0.1851162487846606,
          -2.141739229053416,
          0.6772225310916761,
          0.7668669510425348,
          2.073534259643305,
          -0.5857576182723124,
          -0.24898593718493103,
          -0.4591347965960832,
          0.0572972746601082,
          0.5832555912663984,
          1.1158032393140689,
          0.3991992944487781,
          -0.8624665930363881,
          0.7071627408033258,
          -1.9667278635869696,
          -0.9214713334702432,
          1.650492120587778,
          -1.1999606866076602,
          -0.20281169105151825,
          1.4945178965983408,
          -0.8997650837348147,
          -2.2253265893618424,
          -1.09012368498265,
          -1.0529536797491117,
          0.1338906847939372,
          0.2403500987382637,
          -1.6095963709008843,
          0.06628520746906193,
          -1.067109470264138,
          0.2634593866514775,
          -1.478737065645272,
          -1.1091466719365703,
          0.35138038117834564,
          0.3435857503889729,
          -1.5210735051475959,
          0.837757589867208,
          0.4476300884448183,
          -0.07502471445733806,
          -1.5202855593094173,
          -0.25773937749288034,
          -0.34887973542719847,
          -2.31187035768955,
          -0.034029901254094885,
          0.2630669488156154,
          0.11150752131393972,
          1.4058176591823965,
          1.5000524693418644,
          -0.6939161537088265,
          0.5648202154740967,
          -0.6663278105130409,
          1.3312286533490953,
          -1.0318603413146845,
          0.05371434836374283,
          1.10108844942271,
          -1.5258996454946665,
          -1.1491765465288533,
          0.11828069930307834,
          -1.9601573490629831,
          -0.5880699028680263,
          -0.9296562903791965,
          -0.5829419942936036,
          0.4687040240319331,
          -0.9033060449777159,
          -1.6724777398810702,
          -0.6690696546509366,
          -1.4250279899707665,
          -0.8847035061124282,
          -1.0667503851071878,
          1.7050429004073107,
          1.3144164130572529,
          -1.53177407469326,
          0.9032058368274795,
          0.29864239670482007,
          0.04333366132070788,
          -0.09862504601056912,
          -0.7321679660131877,
          0.8287138938795663,
          0.3748462073741596,
          -0.28763424974146945,
          -0.37439982497585667,
          0.9478768292259477,
          -0.21912363889398573,
          2.5987941887622954,
          -1.9322428278354373,
          0.7613921907484676,
          -0.5890733272485525,
          -0.831792797812103,
          0.4891026917431194,
          -0.7531862890796068,
          -0.44815430034301945,
          -0.6467665018206313,
          -1.2790652515257708
         ],
         "yaxis": "y14"
        },
        {
         "line": {
          "color": "rgba(128, 128, 128, 1.0)",
          "dash": "solid",
          "shape": "linear",
          "width": 1.3
         },
         "marker": {
          "size": 2,
          "symbol": "circle"
         },
         "mode": "markers",
         "name": "D",
         "text": "",
         "type": "scatter",
         "x": [
          -1.236245897526975,
          1.394531513969449,
          -0.14953973314942223,
          0.014864624893081088,
          1.9975779631424395,
          -1.161969590849366,
          -0.05242431203380102,
          1.7402253295498296,
          0.16256622775562465,
          1.2126378364947217,
          0.7272624400503693,
          0.5239195439892642,
          -2.0264285303579,
          0.8131315348959219,
          0.5179265814803313,
          0.5242276460815902,
          0.6945037757650672,
          0.4758851425711402,
          -0.7077353285509607,
          -0.9389524067750541,
          0.03286488549563378,
          -1.6672044199304352,
          -2.143685965901829,
          -0.30110666284655113,
          0.13197457582430402,
          0.6433002537156496,
          -0.42293244311857464,
          0.8778188306470641,
          -0.7253196404567503,
          -1.456579630114345,
          -0.6876285610223782,
          0.8302679412628738,
          -0.8784899538636051,
          -0.04108478643649931,
          -0.07485873580043284,
          -1.99796628687477,
          0.5049457575018156,
          1.9999157433007249,
          0.8124700861842593,
          -0.9016771144866489,
          -0.6120832892586301,
          -1.0691581738178118,
          -0.17014534513763152,
          0.23811176895685235,
          0.018046237260107945,
          0.5703819713893336,
          0.19775102957303023,
          0.4881981261683991,
          0.9004255141973913,
          -0.16057023676854762,
          0.877432824692586,
          0.007509598575843179,
          0.6018093921750517,
          0.24885036087369733,
          0.9563020352845671,
          -0.900938603150998,
          -0.21719782759023226,
          -0.650210508621508,
          0.06444670107303783,
          -0.7499379680653157,
          -0.06053166504054045,
          2.0159315331998076,
          -0.2718380241754499,
          -0.07405966635364217,
          0.222812567219414,
          0.4422923035858044,
          1.2316131036588682,
          2.165382244374689,
          -1.5786149501844338,
          -0.4442149184256992,
          1.6160619965679899,
          0.10333452658555937,
          1.0741450921661069,
          0.2639761336394118,
          -1.1432007571228844,
          1.106938523171413,
          -2.10318338742521,
          -1.4982051418900018,
          -1.8129219435780177,
          0.6106921338462978,
          -0.9845346119050725,
          1.076342554638808,
          -0.22405572199799867,
          -1.1034919813079604,
          0.30573929577232073,
          0.5870285921604421,
          -0.5998022391517313,
          -1.2076144723735267,
          0.6321689532807515,
          -0.7480443535391768,
          -0.052152870235295246,
          -0.08100332807673293,
          -0.6623557869601144,
          0.953895190238591,
          1.6440021941939549,
          -2.2232824659038655,
          -1.2819956358766162,
          0.8744357070732162,
          0.270287340120572,
          -0.3834338461396798
         ],
         "xaxis": "x15",
         "y": [
          -0.7432575069674906,
          -1.1057549646307625,
          -0.9916773613478754,
          -0.40579119538402025,
          0.17094955354684885,
          0.29634858634808275,
          -2.1598634080682433,
          -2.0125585508828925,
          -0.1851162487846606,
          -2.141739229053416,
          0.6772225310916761,
          0.7668669510425348,
          2.073534259643305,
          -0.5857576182723124,
          -0.24898593718493103,
          -0.4591347965960832,
          0.0572972746601082,
          0.5832555912663984,
          1.1158032393140689,
          0.3991992944487781,
          -0.8624665930363881,
          0.7071627408033258,
          -1.9667278635869696,
          -0.9214713334702432,
          1.650492120587778,
          -1.1999606866076602,
          -0.20281169105151825,
          1.4945178965983408,
          -0.8997650837348147,
          -2.2253265893618424,
          -1.09012368498265,
          -1.0529536797491117,
          0.1338906847939372,
          0.2403500987382637,
          -1.6095963709008843,
          0.06628520746906193,
          -1.067109470264138,
          0.2634593866514775,
          -1.478737065645272,
          -1.1091466719365703,
          0.35138038117834564,
          0.3435857503889729,
          -1.5210735051475959,
          0.837757589867208,
          0.4476300884448183,
          -0.07502471445733806,
          -1.5202855593094173,
          -0.25773937749288034,
          -0.34887973542719847,
          -2.31187035768955,
          -0.034029901254094885,
          0.2630669488156154,
          0.11150752131393972,
          1.4058176591823965,
          1.5000524693418644,
          -0.6939161537088265,
          0.5648202154740967,
          -0.6663278105130409,
          1.3312286533490953,
          -1.0318603413146845,
          0.05371434836374283,
          1.10108844942271,
          -1.5258996454946665,
          -1.1491765465288533,
          0.11828069930307834,
          -1.9601573490629831,
          -0.5880699028680263,
          -0.9296562903791965,
          -0.5829419942936036,
          0.4687040240319331,
          -0.9033060449777159,
          -1.6724777398810702,
          -0.6690696546509366,
          -1.4250279899707665,
          -0.8847035061124282,
          -1.0667503851071878,
          1.7050429004073107,
          1.3144164130572529,
          -1.53177407469326,
          0.9032058368274795,
          0.29864239670482007,
          0.04333366132070788,
          -0.09862504601056912,
          -0.7321679660131877,
          0.8287138938795663,
          0.3748462073741596,
          -0.28763424974146945,
          -0.37439982497585667,
          0.9478768292259477,
          -0.21912363889398573,
          2.5987941887622954,
          -1.9322428278354373,
          0.7613921907484676,
          -0.5890733272485525,
          -0.831792797812103,
          0.4891026917431194,
          -0.7531862890796068,
          -0.44815430034301945,
          -0.6467665018206313,
          -1.2790652515257708
         ],
         "yaxis": "y15"
        },
        {
         "histfunc": "count",
         "histnorm": "",
         "marker": {
          "color": "rgba(128, 0, 128, 1.0)",
          "line": {
           "color": "#4D5663",
           "width": 1.3
          }
         },
         "name": "D",
         "nbinsx": 10,
         "opacity": 0.8,
         "orientation": "v",
         "type": "histogram",
         "x": [
          -0.7432575069674906,
          -1.1057549646307625,
          -0.9916773613478754,
          -0.40579119538402025,
          0.17094955354684885,
          0.29634858634808275,
          -2.1598634080682433,
          -2.0125585508828925,
          -0.1851162487846606,
          -2.141739229053416,
          0.6772225310916761,
          0.7668669510425348,
          2.073534259643305,
          -0.5857576182723124,
          -0.24898593718493103,
          -0.4591347965960832,
          0.0572972746601082,
          0.5832555912663984,
          1.1158032393140689,
          0.3991992944487781,
          -0.8624665930363881,
          0.7071627408033258,
          -1.9667278635869696,
          -0.9214713334702432,
          1.650492120587778,
          -1.1999606866076602,
          -0.20281169105151825,
          1.4945178965983408,
          -0.8997650837348147,
          -2.2253265893618424,
          -1.09012368498265,
          -1.0529536797491117,
          0.1338906847939372,
          0.2403500987382637,
          -1.6095963709008843,
          0.06628520746906193,
          -1.067109470264138,
          0.2634593866514775,
          -1.478737065645272,
          -1.1091466719365703,
          0.35138038117834564,
          0.3435857503889729,
          -1.5210735051475959,
          0.837757589867208,
          0.4476300884448183,
          -0.07502471445733806,
          -1.5202855593094173,
          -0.25773937749288034,
          -0.34887973542719847,
          -2.31187035768955,
          -0.034029901254094885,
          0.2630669488156154,
          0.11150752131393972,
          1.4058176591823965,
          1.5000524693418644,
          -0.6939161537088265,
          0.5648202154740967,
          -0.6663278105130409,
          1.3312286533490953,
          -1.0318603413146845,
          0.05371434836374283,
          1.10108844942271,
          -1.5258996454946665,
          -1.1491765465288533,
          0.11828069930307834,
          -1.9601573490629831,
          -0.5880699028680263,
          -0.9296562903791965,
          -0.5829419942936036,
          0.4687040240319331,
          -0.9033060449777159,
          -1.6724777398810702,
          -0.6690696546509366,
          -1.4250279899707665,
          -0.8847035061124282,
          -1.0667503851071878,
          1.7050429004073107,
          1.3144164130572529,
          -1.53177407469326,
          0.9032058368274795,
          0.29864239670482007,
          0.04333366132070788,
          -0.09862504601056912,
          -0.7321679660131877,
          0.8287138938795663,
          0.3748462073741596,
          -0.28763424974146945,
          -0.37439982497585667,
          0.9478768292259477,
          -0.21912363889398573,
          2.5987941887622954,
          -1.9322428278354373,
          0.7613921907484676,
          -0.5890733272485525,
          -0.831792797812103,
          0.4891026917431194,
          -0.7531862890796068,
          -0.44815430034301945,
          -0.6467665018206313,
          -1.2790652515257708
         ],
         "xaxis": "x16",
         "yaxis": "y16"
        }
       ],
       "layout": {
        "bargap": 0.02,
        "legend": {
         "bgcolor": "#F5F6F9",
         "font": {
          "color": "#4D5663"
         }
        },
        "paper_bgcolor": "#F5F6F9",
        "plot_bgcolor": "#F5F6F9",
        "showlegend": false,
        "template": {
         "data": {
          "bar": [
           {
            "error_x": {
             "color": "#2a3f5f"
            },
            "error_y": {
             "color": "#2a3f5f"
            },
            "marker": {
             "line": {
              "color": "#E5ECF6",
              "width": 0.5
             },
             "pattern": {
              "fillmode": "overlay",
              "size": 10,
              "solidity": 0.2
             }
            },
            "type": "bar"
           }
          ],
          "barpolar": [
           {
            "marker": {
             "line": {
              "color": "#E5ECF6",
              "width": 0.5
             },
             "pattern": {
              "fillmode": "overlay",
              "size": 10,
              "solidity": 0.2
             }
            },
            "type": "barpolar"
           }
          ],
          "carpet": [
           {
            "aaxis": {
             "endlinecolor": "#2a3f5f",
             "gridcolor": "white",
             "linecolor": "white",
             "minorgridcolor": "white",
             "startlinecolor": "#2a3f5f"
            },
            "baxis": {
             "endlinecolor": "#2a3f5f",
             "gridcolor": "white",
             "linecolor": "white",
             "minorgridcolor": "white",
             "startlinecolor": "#2a3f5f"
            },
            "type": "carpet"
           }
          ],
          "choropleth": [
           {
            "colorbar": {
             "outlinewidth": 0,
             "ticks": ""
            },
            "type": "choropleth"
           }
          ],
          "contour": [
           {
            "colorbar": {
             "outlinewidth": 0,
             "ticks": ""
            },
            "colorscale": [
             [
              0,
              "#0d0887"
             ],
             [
              0.1111111111111111,
              "#46039f"
             ],
             [
              0.2222222222222222,
              "#7201a8"
             ],
             [
              0.3333333333333333,
              "#9c179e"
             ],
             [
              0.4444444444444444,
              "#bd3786"
             ],
             [
              0.5555555555555556,
              "#d8576b"
             ],
             [
              0.6666666666666666,
              "#ed7953"
             ],
             [
              0.7777777777777778,
              "#fb9f3a"
             ],
             [
              0.8888888888888888,
              "#fdca26"
             ],
             [
              1,
              "#f0f921"
             ]
            ],
            "type": "contour"
           }
          ],
          "contourcarpet": [
           {
            "colorbar": {
             "outlinewidth": 0,
             "ticks": ""
            },
            "type": "contourcarpet"
           }
          ],
          "heatmap": [
           {
            "colorbar": {
             "outlinewidth": 0,
             "ticks": ""
            },
            "colorscale": [
             [
              0,
              "#0d0887"
             ],
             [
              0.1111111111111111,
              "#46039f"
             ],
             [
              0.2222222222222222,
              "#7201a8"
             ],
             [
              0.3333333333333333,
              "#9c179e"
             ],
             [
              0.4444444444444444,
              "#bd3786"
             ],
             [
              0.5555555555555556,
              "#d8576b"
             ],
             [
              0.6666666666666666,
              "#ed7953"
             ],
             [
              0.7777777777777778,
              "#fb9f3a"
             ],
             [
              0.8888888888888888,
              "#fdca26"
             ],
             [
              1,
              "#f0f921"
             ]
            ],
            "type": "heatmap"
           }
          ],
          "heatmapgl": [
           {
            "colorbar": {
             "outlinewidth": 0,
             "ticks": ""
            },
            "colorscale": [
             [
              0,
              "#0d0887"
             ],
             [
              0.1111111111111111,
              "#46039f"
             ],
             [
              0.2222222222222222,
              "#7201a8"
             ],
             [
              0.3333333333333333,
              "#9c179e"
             ],
             [
              0.4444444444444444,
              "#bd3786"
             ],
             [
              0.5555555555555556,
              "#d8576b"
             ],
             [
              0.6666666666666666,
              "#ed7953"
             ],
             [
              0.7777777777777778,
              "#fb9f3a"
             ],
             [
              0.8888888888888888,
              "#fdca26"
             ],
             [
              1,
              "#f0f921"
             ]
            ],
            "type": "heatmapgl"
           }
          ],
          "histogram": [
           {
            "marker": {
             "pattern": {
              "fillmode": "overlay",
              "size": 10,
              "solidity": 0.2
             }
            },
            "type": "histogram"
           }
          ],
          "histogram2d": [
           {
            "colorbar": {
             "outlinewidth": 0,
             "ticks": ""
            },
            "colorscale": [
             [
              0,
              "#0d0887"
             ],
             [
              0.1111111111111111,
              "#46039f"
             ],
             [
              0.2222222222222222,
              "#7201a8"
             ],
             [
              0.3333333333333333,
              "#9c179e"
             ],
             [
              0.4444444444444444,
              "#bd3786"
             ],
             [
              0.5555555555555556,
              "#d8576b"
             ],
             [
              0.6666666666666666,
              "#ed7953"
             ],
             [
              0.7777777777777778,
              "#fb9f3a"
             ],
             [
              0.8888888888888888,
              "#fdca26"
             ],
             [
              1,
              "#f0f921"
             ]
            ],
            "type": "histogram2d"
           }
          ],
          "histogram2dcontour": [
           {
            "colorbar": {
             "outlinewidth": 0,
             "ticks": ""
            },
            "colorscale": [
             [
              0,
              "#0d0887"
             ],
             [
              0.1111111111111111,
              "#46039f"
             ],
             [
              0.2222222222222222,
              "#7201a8"
             ],
             [
              0.3333333333333333,
              "#9c179e"
             ],
             [
              0.4444444444444444,
              "#bd3786"
             ],
             [
              0.5555555555555556,
              "#d8576b"
             ],
             [
              0.6666666666666666,
              "#ed7953"
             ],
             [
              0.7777777777777778,
              "#fb9f3a"
             ],
             [
              0.8888888888888888,
              "#fdca26"
             ],
             [
              1,
              "#f0f921"
             ]
            ],
            "type": "histogram2dcontour"
           }
          ],
          "mesh3d": [
           {
            "colorbar": {
             "outlinewidth": 0,
             "ticks": ""
            },
            "type": "mesh3d"
           }
          ],
          "parcoords": [
           {
            "line": {
             "colorbar": {
              "outlinewidth": 0,
              "ticks": ""
             }
            },
            "type": "parcoords"
           }
          ],
          "pie": [
           {
            "automargin": true,
            "type": "pie"
           }
          ],
          "scatter": [
           {
            "fillpattern": {
             "fillmode": "overlay",
             "size": 10,
             "solidity": 0.2
            },
            "type": "scatter"
           }
          ],
          "scatter3d": [
           {
            "line": {
             "colorbar": {
              "outlinewidth": 0,
              "ticks": ""
             }
            },
            "marker": {
             "colorbar": {
              "outlinewidth": 0,
              "ticks": ""
             }
            },
            "type": "scatter3d"
           }
          ],
          "scattercarpet": [
           {
            "marker": {
             "colorbar": {
              "outlinewidth": 0,
              "ticks": ""
             }
            },
            "type": "scattercarpet"
           }
          ],
          "scattergeo": [
           {
            "marker": {
             "colorbar": {
              "outlinewidth": 0,
              "ticks": ""
             }
            },
            "type": "scattergeo"
           }
          ],
          "scattergl": [
           {
            "marker": {
             "colorbar": {
              "outlinewidth": 0,
              "ticks": ""
             }
            },
            "type": "scattergl"
           }
          ],
          "scattermapbox": [
           {
            "marker": {
             "colorbar": {
              "outlinewidth": 0,
              "ticks": ""
             }
            },
            "type": "scattermapbox"
           }
          ],
          "scatterpolar": [
           {
            "marker": {
             "colorbar": {
              "outlinewidth": 0,
              "ticks": ""
             }
            },
            "type": "scatterpolar"
           }
          ],
          "scatterpolargl": [
           {
            "marker": {
             "colorbar": {
              "outlinewidth": 0,
              "ticks": ""
             }
            },
            "type": "scatterpolargl"
           }
          ],
          "scatterternary": [
           {
            "marker": {
             "colorbar": {
              "outlinewidth": 0,
              "ticks": ""
             }
            },
            "type": "scatterternary"
           }
          ],
          "surface": [
           {
            "colorbar": {
             "outlinewidth": 0,
             "ticks": ""
            },
            "colorscale": [
             [
              0,
              "#0d0887"
             ],
             [
              0.1111111111111111,
              "#46039f"
             ],
             [
              0.2222222222222222,
              "#7201a8"
             ],
             [
              0.3333333333333333,
              "#9c179e"
             ],
             [
              0.4444444444444444,
              "#bd3786"
             ],
             [
              0.5555555555555556,
              "#d8576b"
             ],
             [
              0.6666666666666666,
              "#ed7953"
             ],
             [
              0.7777777777777778,
              "#fb9f3a"
             ],
             [
              0.8888888888888888,
              "#fdca26"
             ],
             [
              1,
              "#f0f921"
             ]
            ],
            "type": "surface"
           }
          ],
          "table": [
           {
            "cells": {
             "fill": {
              "color": "#EBF0F8"
             },
             "line": {
              "color": "white"
             }
            },
            "header": {
             "fill": {
              "color": "#C8D4E3"
             },
             "line": {
              "color": "white"
             }
            },
            "type": "table"
           }
          ]
         },
         "layout": {
          "annotationdefaults": {
           "arrowcolor": "#2a3f5f",
           "arrowhead": 0,
           "arrowwidth": 1
          },
          "autotypenumbers": "strict",
          "coloraxis": {
           "colorbar": {
            "outlinewidth": 0,
            "ticks": ""
           }
          },
          "colorscale": {
           "diverging": [
            [
             0,
             "#8e0152"
            ],
            [
             0.1,
             "#c51b7d"
            ],
            [
             0.2,
             "#de77ae"
            ],
            [
             0.3,
             "#f1b6da"
            ],
            [
             0.4,
             "#fde0ef"
            ],
            [
             0.5,
             "#f7f7f7"
            ],
            [
             0.6,
             "#e6f5d0"
            ],
            [
             0.7,
             "#b8e186"
            ],
            [
             0.8,
             "#7fbc41"
            ],
            [
             0.9,
             "#4d9221"
            ],
            [
             1,
             "#276419"
            ]
           ],
           "sequential": [
            [
             0,
             "#0d0887"
            ],
            [
             0.1111111111111111,
             "#46039f"
            ],
            [
             0.2222222222222222,
             "#7201a8"
            ],
            [
             0.3333333333333333,
             "#9c179e"
            ],
            [
             0.4444444444444444,
             "#bd3786"
            ],
            [
             0.5555555555555556,
             "#d8576b"
            ],
            [
             0.6666666666666666,
             "#ed7953"
            ],
            [
             0.7777777777777778,
             "#fb9f3a"
            ],
            [
             0.8888888888888888,
             "#fdca26"
            ],
            [
             1,
             "#f0f921"
            ]
           ],
           "sequentialminus": [
            [
             0,
             "#0d0887"
            ],
            [
             0.1111111111111111,
             "#46039f"
            ],
            [
             0.2222222222222222,
             "#7201a8"
            ],
            [
             0.3333333333333333,
             "#9c179e"
            ],
            [
             0.4444444444444444,
             "#bd3786"
            ],
            [
             0.5555555555555556,
             "#d8576b"
            ],
            [
             0.6666666666666666,
             "#ed7953"
            ],
            [
             0.7777777777777778,
             "#fb9f3a"
            ],
            [
             0.8888888888888888,
             "#fdca26"
            ],
            [
             1,
             "#f0f921"
            ]
           ]
          },
          "colorway": [
           "#636efa",
           "#EF553B",
           "#00cc96",
           "#ab63fa",
           "#FFA15A",
           "#19d3f3",
           "#FF6692",
           "#B6E880",
           "#FF97FF",
           "#FECB52"
          ],
          "font": {
           "color": "#2a3f5f"
          },
          "geo": {
           "bgcolor": "white",
           "lakecolor": "white",
           "landcolor": "#E5ECF6",
           "showlakes": true,
           "showland": true,
           "subunitcolor": "white"
          },
          "hoverlabel": {
           "align": "left"
          },
          "hovermode": "closest",
          "mapbox": {
           "style": "light"
          },
          "paper_bgcolor": "white",
          "plot_bgcolor": "#E5ECF6",
          "polar": {
           "angularaxis": {
            "gridcolor": "white",
            "linecolor": "white",
            "ticks": ""
           },
           "bgcolor": "#E5ECF6",
           "radialaxis": {
            "gridcolor": "white",
            "linecolor": "white",
            "ticks": ""
           }
          },
          "scene": {
           "xaxis": {
            "backgroundcolor": "#E5ECF6",
            "gridcolor": "white",
            "gridwidth": 2,
            "linecolor": "white",
            "showbackground": true,
            "ticks": "",
            "zerolinecolor": "white"
           },
           "yaxis": {
            "backgroundcolor": "#E5ECF6",
            "gridcolor": "white",
            "gridwidth": 2,
            "linecolor": "white",
            "showbackground": true,
            "ticks": "",
            "zerolinecolor": "white"
           },
           "zaxis": {
            "backgroundcolor": "#E5ECF6",
            "gridcolor": "white",
            "gridwidth": 2,
            "linecolor": "white",
            "showbackground": true,
            "ticks": "",
            "zerolinecolor": "white"
           }
          },
          "shapedefaults": {
           "line": {
            "color": "#2a3f5f"
           }
          },
          "ternary": {
           "aaxis": {
            "gridcolor": "white",
            "linecolor": "white",
            "ticks": ""
           },
           "baxis": {
            "gridcolor": "white",
            "linecolor": "white",
            "ticks": ""
           },
           "bgcolor": "#E5ECF6",
           "caxis": {
            "gridcolor": "white",
            "linecolor": "white",
            "ticks": ""
           }
          },
          "title": {
           "x": 0.05
          },
          "xaxis": {
           "automargin": true,
           "gridcolor": "white",
           "linecolor": "white",
           "ticks": "",
           "title": {
            "standoff": 15
           },
           "zerolinecolor": "white",
           "zerolinewidth": 2
          },
          "yaxis": {
           "automargin": true,
           "gridcolor": "white",
           "linecolor": "white",
           "ticks": "",
           "title": {
            "standoff": 15
           },
           "zerolinecolor": "white",
           "zerolinewidth": 2
          }
         }
        },
        "title": {
         "font": {
          "color": "#4D5663"
         }
        },
        "xaxis": {
         "anchor": "y",
         "domain": [
          0,
          0.2125
         ],
         "gridcolor": "#E1E5ED",
         "showgrid": false,
         "tickfont": {
          "color": "#4D5663"
         },
         "title": {
          "font": {
           "color": "#4D5663"
          },
          "text": ""
         },
         "zerolinecolor": "#E1E5ED"
        },
        "xaxis10": {
         "anchor": "y10",
         "domain": [
          0.2625,
          0.475
         ],
         "gridcolor": "#E1E5ED",
         "showgrid": false,
         "tickfont": {
          "color": "#4D5663"
         },
         "title": {
          "font": {
           "color": "#4D5663"
          },
          "text": ""
         },
         "zerolinecolor": "#E1E5ED"
        },
        "xaxis11": {
         "anchor": "y11",
         "domain": [
          0.525,
          0.7375
         ],
         "gridcolor": "#E1E5ED",
         "showgrid": false,
         "tickfont": {
          "color": "#4D5663"
         },
         "title": {
          "font": {
           "color": "#4D5663"
          },
          "text": ""
         },
         "zerolinecolor": "#E1E5ED"
        },
        "xaxis12": {
         "anchor": "y12",
         "domain": [
          0.7875,
          1
         ],
         "gridcolor": "#E1E5ED",
         "showgrid": false,
         "tickfont": {
          "color": "#4D5663"
         },
         "title": {
          "font": {
           "color": "#4D5663"
          },
          "text": ""
         },
         "zerolinecolor": "#E1E5ED"
        },
        "xaxis13": {
         "anchor": "y13",
         "domain": [
          0,
          0.2125
         ],
         "gridcolor": "#E1E5ED",
         "showgrid": false,
         "tickfont": {
          "color": "#4D5663"
         },
         "title": {
          "font": {
           "color": "#4D5663"
          },
          "text": ""
         },
         "zerolinecolor": "#E1E5ED"
        },
        "xaxis14": {
         "anchor": "y14",
         "domain": [
          0.2625,
          0.475
         ],
         "gridcolor": "#E1E5ED",
         "showgrid": false,
         "tickfont": {
          "color": "#4D5663"
         },
         "title": {
          "font": {
           "color": "#4D5663"
          },
          "text": ""
         },
         "zerolinecolor": "#E1E5ED"
        },
        "xaxis15": {
         "anchor": "y15",
         "domain": [
          0.525,
          0.7375
         ],
         "gridcolor": "#E1E5ED",
         "showgrid": false,
         "tickfont": {
          "color": "#4D5663"
         },
         "title": {
          "font": {
           "color": "#4D5663"
          },
          "text": ""
         },
         "zerolinecolor": "#E1E5ED"
        },
        "xaxis16": {
         "anchor": "y16",
         "domain": [
          0.7875,
          1
         ],
         "gridcolor": "#E1E5ED",
         "showgrid": false,
         "tickfont": {
          "color": "#4D5663"
         },
         "title": {
          "font": {
           "color": "#4D5663"
          },
          "text": ""
         },
         "zerolinecolor": "#E1E5ED"
        },
        "xaxis2": {
         "anchor": "y2",
         "domain": [
          0.2625,
          0.475
         ],
         "gridcolor": "#E1E5ED",
         "showgrid": false,
         "tickfont": {
          "color": "#4D5663"
         },
         "title": {
          "font": {
           "color": "#4D5663"
          },
          "text": ""
         },
         "zerolinecolor": "#E1E5ED"
        },
        "xaxis3": {
         "anchor": "y3",
         "domain": [
          0.525,
          0.7375
         ],
         "gridcolor": "#E1E5ED",
         "showgrid": false,
         "tickfont": {
          "color": "#4D5663"
         },
         "title": {
          "font": {
           "color": "#4D5663"
          },
          "text": ""
         },
         "zerolinecolor": "#E1E5ED"
        },
        "xaxis4": {
         "anchor": "y4",
         "domain": [
          0.7875,
          1
         ],
         "gridcolor": "#E1E5ED",
         "showgrid": false,
         "tickfont": {
          "color": "#4D5663"
         },
         "title": {
          "font": {
           "color": "#4D5663"
          },
          "text": ""
         },
         "zerolinecolor": "#E1E5ED"
        },
        "xaxis5": {
         "anchor": "y5",
         "domain": [
          0,
          0.2125
         ],
         "gridcolor": "#E1E5ED",
         "showgrid": false,
         "tickfont": {
          "color": "#4D5663"
         },
         "title": {
          "font": {
           "color": "#4D5663"
          },
          "text": ""
         },
         "zerolinecolor": "#E1E5ED"
        },
        "xaxis6": {
         "anchor": "y6",
         "domain": [
          0.2625,
          0.475
         ],
         "gridcolor": "#E1E5ED",
         "showgrid": false,
         "tickfont": {
          "color": "#4D5663"
         },
         "title": {
          "font": {
           "color": "#4D5663"
          },
          "text": ""
         },
         "zerolinecolor": "#E1E5ED"
        },
        "xaxis7": {
         "anchor": "y7",
         "domain": [
          0.525,
          0.7375
         ],
         "gridcolor": "#E1E5ED",
         "showgrid": false,
         "tickfont": {
          "color": "#4D5663"
         },
         "title": {
          "font": {
           "color": "#4D5663"
          },
          "text": ""
         },
         "zerolinecolor": "#E1E5ED"
        },
        "xaxis8": {
         "anchor": "y8",
         "domain": [
          0.7875,
          1
         ],
         "gridcolor": "#E1E5ED",
         "showgrid": false,
         "tickfont": {
          "color": "#4D5663"
         },
         "title": {
          "font": {
           "color": "#4D5663"
          },
          "text": ""
         },
         "zerolinecolor": "#E1E5ED"
        },
        "xaxis9": {
         "anchor": "y9",
         "domain": [
          0,
          0.2125
         ],
         "gridcolor": "#E1E5ED",
         "showgrid": false,
         "tickfont": {
          "color": "#4D5663"
         },
         "title": {
          "font": {
           "color": "#4D5663"
          },
          "text": ""
         },
         "zerolinecolor": "#E1E5ED"
        },
        "yaxis": {
         "anchor": "x",
         "domain": [
          0.8025,
          1
         ],
         "gridcolor": "#E1E5ED",
         "showgrid": false,
         "tickfont": {
          "color": "#4D5663"
         },
         "title": {
          "font": {
           "color": "#4D5663"
          },
          "text": ""
         },
         "zerolinecolor": "#E1E5ED"
        },
        "yaxis10": {
         "anchor": "x10",
         "domain": [
          0.2675,
          0.465
         ],
         "gridcolor": "#E1E5ED",
         "showgrid": false,
         "tickfont": {
          "color": "#4D5663"
         },
         "title": {
          "font": {
           "color": "#4D5663"
          },
          "text": ""
         },
         "zerolinecolor": "#E1E5ED"
        },
        "yaxis11": {
         "anchor": "x11",
         "domain": [
          0.2675,
          0.465
         ],
         "gridcolor": "#E1E5ED",
         "showgrid": false,
         "tickfont": {
          "color": "#4D5663"
         },
         "title": {
          "font": {
           "color": "#4D5663"
          },
          "text": ""
         },
         "zerolinecolor": "#E1E5ED"
        },
        "yaxis12": {
         "anchor": "x12",
         "domain": [
          0.2675,
          0.465
         ],
         "gridcolor": "#E1E5ED",
         "showgrid": false,
         "tickfont": {
          "color": "#4D5663"
         },
         "title": {
          "font": {
           "color": "#4D5663"
          },
          "text": ""
         },
         "zerolinecolor": "#E1E5ED"
        },
        "yaxis13": {
         "anchor": "x13",
         "domain": [
          0,
          0.1975
         ],
         "gridcolor": "#E1E5ED",
         "showgrid": false,
         "tickfont": {
          "color": "#4D5663"
         },
         "title": {
          "font": {
           "color": "#4D5663"
          },
          "text": ""
         },
         "zerolinecolor": "#E1E5ED"
        },
        "yaxis14": {
         "anchor": "x14",
         "domain": [
          0,
          0.1975
         ],
         "gridcolor": "#E1E5ED",
         "showgrid": false,
         "tickfont": {
          "color": "#4D5663"
         },
         "title": {
          "font": {
           "color": "#4D5663"
          },
          "text": ""
         },
         "zerolinecolor": "#E1E5ED"
        },
        "yaxis15": {
         "anchor": "x15",
         "domain": [
          0,
          0.1975
         ],
         "gridcolor": "#E1E5ED",
         "showgrid": false,
         "tickfont": {
          "color": "#4D5663"
         },
         "title": {
          "font": {
           "color": "#4D5663"
          },
          "text": ""
         },
         "zerolinecolor": "#E1E5ED"
        },
        "yaxis16": {
         "anchor": "x16",
         "domain": [
          0,
          0.1975
         ],
         "gridcolor": "#E1E5ED",
         "showgrid": false,
         "tickfont": {
          "color": "#4D5663"
         },
         "title": {
          "font": {
           "color": "#4D5663"
          },
          "text": ""
         },
         "zerolinecolor": "#E1E5ED"
        },
        "yaxis2": {
         "anchor": "x2",
         "domain": [
          0.8025,
          1
         ],
         "gridcolor": "#E1E5ED",
         "showgrid": false,
         "tickfont": {
          "color": "#4D5663"
         },
         "title": {
          "font": {
           "color": "#4D5663"
          },
          "text": ""
         },
         "zerolinecolor": "#E1E5ED"
        },
        "yaxis3": {
         "anchor": "x3",
         "domain": [
          0.8025,
          1
         ],
         "gridcolor": "#E1E5ED",
         "showgrid": false,
         "tickfont": {
          "color": "#4D5663"
         },
         "title": {
          "font": {
           "color": "#4D5663"
          },
          "text": ""
         },
         "zerolinecolor": "#E1E5ED"
        },
        "yaxis4": {
         "anchor": "x4",
         "domain": [
          0.8025,
          1
         ],
         "gridcolor": "#E1E5ED",
         "showgrid": false,
         "tickfont": {
          "color": "#4D5663"
         },
         "title": {
          "font": {
           "color": "#4D5663"
          },
          "text": ""
         },
         "zerolinecolor": "#E1E5ED"
        },
        "yaxis5": {
         "anchor": "x5",
         "domain": [
          0.535,
          0.7325
         ],
         "gridcolor": "#E1E5ED",
         "showgrid": false,
         "tickfont": {
          "color": "#4D5663"
         },
         "title": {
          "font": {
           "color": "#4D5663"
          },
          "text": ""
         },
         "zerolinecolor": "#E1E5ED"
        },
        "yaxis6": {
         "anchor": "x6",
         "domain": [
          0.535,
          0.7325
         ],
         "gridcolor": "#E1E5ED",
         "showgrid": false,
         "tickfont": {
          "color": "#4D5663"
         },
         "title": {
          "font": {
           "color": "#4D5663"
          },
          "text": ""
         },
         "zerolinecolor": "#E1E5ED"
        },
        "yaxis7": {
         "anchor": "x7",
         "domain": [
          0.535,
          0.7325
         ],
         "gridcolor": "#E1E5ED",
         "showgrid": false,
         "tickfont": {
          "color": "#4D5663"
         },
         "title": {
          "font": {
           "color": "#4D5663"
          },
          "text": ""
         },
         "zerolinecolor": "#E1E5ED"
        },
        "yaxis8": {
         "anchor": "x8",
         "domain": [
          0.535,
          0.7325
         ],
         "gridcolor": "#E1E5ED",
         "showgrid": false,
         "tickfont": {
          "color": "#4D5663"
         },
         "title": {
          "font": {
           "color": "#4D5663"
          },
          "text": ""
         },
         "zerolinecolor": "#E1E5ED"
        },
        "yaxis9": {
         "anchor": "x9",
         "domain": [
          0.2675,
          0.465
         ],
         "gridcolor": "#E1E5ED",
         "showgrid": false,
         "tickfont": {
          "color": "#4D5663"
         },
         "title": {
          "font": {
           "color": "#4D5663"
          },
          "text": ""
         },
         "zerolinecolor": "#E1E5ED"
        }
       }
      },
      "text/html": [
       "<div>                            <div id=\"1b4fcfad-ff4e-474f-8b2f-0d268ceabdc8\" class=\"plotly-graph-div\" style=\"height:525px; width:100%;\"></div>            <script type=\"text/javascript\">                require([\"plotly\"], function(Plotly) {                    window.PLOTLYENV=window.PLOTLYENV || {};\n",
       "                    window.PLOTLYENV.BASE_URL='https://plot.ly';                                    if (document.getElementById(\"1b4fcfad-ff4e-474f-8b2f-0d268ceabdc8\")) {                    Plotly.newPlot(                        \"1b4fcfad-ff4e-474f-8b2f-0d268ceabdc8\",                        [{\"histfunc\":\"count\",\"histnorm\":\"\",\"marker\":{\"color\":\"rgba(255, 153, 51, 1.0)\",\"line\":{\"color\":\"#4D5663\",\"width\":1.3}},\"name\":\"A\",\"nbinsx\":10,\"opacity\":0.8,\"orientation\":\"v\",\"x\":[-1.4235348994582473,1.6958650609063417,-0.3982966328762372,0.27756863549621097,-2.3585919349958235,1.1020005362743452,0.6266961052801654,-0.6270622784382746,-0.786350570851453,0.0911649271016448,0.6557252804607655,0.4365966784408412,0.921789406738549,-0.6646588710570925,-0.9969408190860302,1.677135701561699,0.7477192297851876,-0.8919941975652873,-0.8484931671495123,1.1304801847786945,-0.1303874644250042,-0.4027093671423632,0.19952262377633156,-1.2035863054118094,-0.09211361249509116,0.08026909709216896,-0.34775188069812457,-1.0086031125278943,1.1634835749942127,0.11172025589191217,2.1257306567197736,-0.3340416992697654,0.8198978434765232,1.2548300749111025,0.9985861025577449,-0.541352111262776,0.5162497924508742,1.4076377254955594,0.7927786526521182,-0.9436732508203212,0.8549620719419299,2.310066034112088,1.2874259489529982,-0.41981602206893903,-0.987910090906013,-0.7842242288309662,-0.9610088565403709,0.18685588779080886,-2.3919389380642486,2.011749152319646,-0.23626324705189763,0.3553314029769195,-0.45960543260774067,0.7513582982992836,-1.1608162886462836,0.003567013415990974,-0.21101194338955107,-1.3276277670828558,0.13992890084220388,-0.28703008846268313,0.9182834148621122,0.265735454000781,-1.2246115407591085,-0.19042542491721853,0.7018052470194134,0.09960530174978317,1.4776802303953214,-1.5536740660947732,-0.23915551742935248,-0.8306971313259349,-1.0273618346956965,-0.255207039077919,0.3241759225706703,-1.3051243905650352,-0.6223082823846187,0.179987130947547,0.9252579722463663,-0.9758908841399186,-0.4820230098666938,-0.12269096767963233,-0.3181029667595157,-0.3946420804405433,1.4714928976934416,0.359528275020138,-0.5430093124198415,-0.0068426627292687,0.30939955566661675,-1.9326432920627419,0.47174567839532167,-1.9477708295596878,0.015941489595028377,-1.7131004629871893,0.48762876163513086,-0.3271139632231246,0.6401403330176697,-1.1377996782946949,-0.9838557893665433,1.8423363493330935,0.05357252926479087,-1.526855656633712],\"xaxis\":\"x\",\"yaxis\":\"y\",\"type\":\"histogram\"},{\"line\":{\"color\":\"rgba(128, 128, 128, 1.0)\",\"dash\":\"solid\",\"shape\":\"linear\",\"width\":1.3},\"marker\":{\"size\":2,\"symbol\":\"circle\"},\"mode\":\"markers\",\"name\":\"A\",\"text\":\"\",\"x\":[-0.3658636488428967,0.22474581557639411,2.1919100837389394,1.109421638276329,0.2527415435337726,-0.1292342991308815,0.7317932965268019,-0.7639385503788946,-0.4708063325441959,1.4002834093378764,-1.3994839132629886,0.8839732167550264,-0.14949941804958955,-0.9284646169344668,-0.1572524883939597,0.2419671131608727,0.6583143925965117,0.12887646114797158,2.574144547983506,0.36534991434384306,-0.384202834127043,-0.9825566808686621,-1.0317403864615915,1.4152469082635148,-0.5067264474077924,-1.6140860182877868,-0.09439861506584497,-1.7957542990174429,-0.16900273081157646,2.4429152619784467,-1.0755659168881373,-2.02327607122746,0.5117107872062027,-0.20885964102145407,1.1818801008318083,1.8500584117657541,-0.5643349280117143,-0.7458420112492924,-0.6304031549618542,-0.7553750200409532,-0.24581653082700605,1.1275236751962945,0.6755856903742156,-1.3242124648979638,-0.8997012477161959,-1.1037595469027444,0.8116140662995641,-0.08935138420138806,-0.3379847932092338,-0.6516992092160415,-0.9042111008747747,-0.978779543455604,0.2953849957039682,-1.229088158408989,-0.1261402457761175,-0.018057517496615473,-0.11492701040970589,0.3075772855394331,0.22674559496563765,-2.1147427307732025,-0.8051226469055627,0.27049448558142347,0.5556703112639456,-0.44906939694585063,0.08278586815908257,-0.923783425172162,-1.1536132141685598,0.2895469235272587,-0.8819321101570025,-1.9348184015257255,-0.5602666990782839,-1.7151892791681982,-0.9367386341229202,0.4425200072157305,-0.9175936737535805,0.5332723554946287,-1.6489486504568114,-0.5977406919675751,-0.66185625276932,0.6562173431477331,1.1042432642893962,-2.147020474578238,-0.2901623939665887,2.137309890440816,1.5752816256368136,-0.718805047986369,1.155881699724617,-0.8834366639942475,1.251970006408457,-0.5891537401917408,-1.025840274996761,0.006030311880805347,0.5741509615540178,-0.6738634619998584,-0.8498854927129178,-1.5487152464370812,0.5011404094712901,2.2801877026266597,0.517916728826836,0.8550946518040117],\"xaxis\":\"x2\",\"y\":[-1.4235348994582473,1.6958650609063417,-0.3982966328762372,0.27756863549621097,-2.3585919349958235,1.1020005362743452,0.6266961052801654,-0.6270622784382746,-0.786350570851453,0.0911649271016448,0.6557252804607655,0.4365966784408412,0.921789406738549,-0.6646588710570925,-0.9969408190860302,1.677135701561699,0.7477192297851876,-0.8919941975652873,-0.8484931671495123,1.1304801847786945,-0.1303874644250042,-0.4027093671423632,0.19952262377633156,-1.2035863054118094,-0.09211361249509116,0.08026909709216896,-0.34775188069812457,-1.0086031125278943,1.1634835749942127,0.11172025589191217,2.1257306567197736,-0.3340416992697654,0.8198978434765232,1.2548300749111025,0.9985861025577449,-0.541352111262776,0.5162497924508742,1.4076377254955594,0.7927786526521182,-0.9436732508203212,0.8549620719419299,2.310066034112088,1.2874259489529982,-0.41981602206893903,-0.987910090906013,-0.7842242288309662,-0.9610088565403709,0.18685588779080886,-2.3919389380642486,2.011749152319646,-0.23626324705189763,0.3553314029769195,-0.45960543260774067,0.7513582982992836,-1.1608162886462836,0.003567013415990974,-0.21101194338955107,-1.3276277670828558,0.13992890084220388,-0.28703008846268313,0.9182834148621122,0.265735454000781,-1.2246115407591085,-0.19042542491721853,0.7018052470194134,0.09960530174978317,1.4776802303953214,-1.5536740660947732,-0.23915551742935248,-0.8306971313259349,-1.0273618346956965,-0.255207039077919,0.3241759225706703,-1.3051243905650352,-0.6223082823846187,0.179987130947547,0.9252579722463663,-0.9758908841399186,-0.4820230098666938,-0.12269096767963233,-0.3181029667595157,-0.3946420804405433,1.4714928976934416,0.359528275020138,-0.5430093124198415,-0.0068426627292687,0.30939955566661675,-1.9326432920627419,0.47174567839532167,-1.9477708295596878,0.015941489595028377,-1.7131004629871893,0.48762876163513086,-0.3271139632231246,0.6401403330176697,-1.1377996782946949,-0.9838557893665433,1.8423363493330935,0.05357252926479087,-1.526855656633712],\"yaxis\":\"y2\",\"type\":\"scatter\"},{\"line\":{\"color\":\"rgba(128, 128, 128, 1.0)\",\"dash\":\"solid\",\"shape\":\"linear\",\"width\":1.3},\"marker\":{\"size\":2,\"symbol\":\"circle\"},\"mode\":\"markers\",\"name\":\"A\",\"text\":\"\",\"x\":[-1.236245897526975,1.394531513969449,-0.14953973314942223,0.014864624893081088,1.9975779631424395,-1.161969590849366,-0.05242431203380102,1.7402253295498296,0.16256622775562465,1.2126378364947217,0.7272624400503693,0.5239195439892642,-2.0264285303579,0.8131315348959219,0.5179265814803313,0.5242276460815902,0.6945037757650672,0.4758851425711402,-0.7077353285509607,-0.9389524067750541,0.03286488549563378,-1.6672044199304352,-2.143685965901829,-0.30110666284655113,0.13197457582430402,0.6433002537156496,-0.42293244311857464,0.8778188306470641,-0.7253196404567503,-1.456579630114345,-0.6876285610223782,0.8302679412628738,-0.8784899538636051,-0.04108478643649931,-0.07485873580043284,-1.99796628687477,0.5049457575018156,1.9999157433007249,0.8124700861842593,-0.9016771144866489,-0.6120832892586301,-1.0691581738178118,-0.17014534513763152,0.23811176895685235,0.018046237260107945,0.5703819713893336,0.19775102957303023,0.4881981261683991,0.9004255141973913,-0.16057023676854762,0.877432824692586,0.007509598575843179,0.6018093921750517,0.24885036087369733,0.9563020352845671,-0.900938603150998,-0.21719782759023226,-0.650210508621508,0.06444670107303783,-0.7499379680653157,-0.06053166504054045,2.0159315331998076,-0.2718380241754499,-0.07405966635364217,0.222812567219414,0.4422923035858044,1.2316131036588682,2.165382244374689,-1.5786149501844338,-0.4442149184256992,1.6160619965679899,0.10333452658555937,1.0741450921661069,0.2639761336394118,-1.1432007571228844,1.106938523171413,-2.10318338742521,-1.4982051418900018,-1.8129219435780177,0.6106921338462978,-0.9845346119050725,1.076342554638808,-0.22405572199799867,-1.1034919813079604,0.30573929577232073,0.5870285921604421,-0.5998022391517313,-1.2076144723735267,0.6321689532807515,-0.7480443535391768,-0.052152870235295246,-0.08100332807673293,-0.6623557869601144,0.953895190238591,1.6440021941939549,-2.2232824659038655,-1.2819956358766162,0.8744357070732162,0.270287340120572,-0.3834338461396798],\"xaxis\":\"x3\",\"y\":[-1.4235348994582473,1.6958650609063417,-0.3982966328762372,0.27756863549621097,-2.3585919349958235,1.1020005362743452,0.6266961052801654,-0.6270622784382746,-0.786350570851453,0.0911649271016448,0.6557252804607655,0.4365966784408412,0.921789406738549,-0.6646588710570925,-0.9969408190860302,1.677135701561699,0.7477192297851876,-0.8919941975652873,-0.8484931671495123,1.1304801847786945,-0.1303874644250042,-0.4027093671423632,0.19952262377633156,-1.2035863054118094,-0.09211361249509116,0.08026909709216896,-0.34775188069812457,-1.0086031125278943,1.1634835749942127,0.11172025589191217,2.1257306567197736,-0.3340416992697654,0.8198978434765232,1.2548300749111025,0.9985861025577449,-0.541352111262776,0.5162497924508742,1.4076377254955594,0.7927786526521182,-0.9436732508203212,0.8549620719419299,2.310066034112088,1.2874259489529982,-0.41981602206893903,-0.987910090906013,-0.7842242288309662,-0.9610088565403709,0.18685588779080886,-2.3919389380642486,2.011749152319646,-0.23626324705189763,0.3553314029769195,-0.45960543260774067,0.7513582982992836,-1.1608162886462836,0.003567013415990974,-0.21101194338955107,-1.3276277670828558,0.13992890084220388,-0.28703008846268313,0.9182834148621122,0.265735454000781,-1.2246115407591085,-0.19042542491721853,0.7018052470194134,0.09960530174978317,1.4776802303953214,-1.5536740660947732,-0.23915551742935248,-0.8306971313259349,-1.0273618346956965,-0.255207039077919,0.3241759225706703,-1.3051243905650352,-0.6223082823846187,0.179987130947547,0.9252579722463663,-0.9758908841399186,-0.4820230098666938,-0.12269096767963233,-0.3181029667595157,-0.3946420804405433,1.4714928976934416,0.359528275020138,-0.5430093124198415,-0.0068426627292687,0.30939955566661675,-1.9326432920627419,0.47174567839532167,-1.9477708295596878,0.015941489595028377,-1.7131004629871893,0.48762876163513086,-0.3271139632231246,0.6401403330176697,-1.1377996782946949,-0.9838557893665433,1.8423363493330935,0.05357252926479087,-1.526855656633712],\"yaxis\":\"y3\",\"type\":\"scatter\"},{\"line\":{\"color\":\"rgba(128, 128, 128, 1.0)\",\"dash\":\"solid\",\"shape\":\"linear\",\"width\":1.3},\"marker\":{\"size\":2,\"symbol\":\"circle\"},\"mode\":\"markers\",\"name\":\"A\",\"text\":\"\",\"x\":[-0.7432575069674906,-1.1057549646307625,-0.9916773613478754,-0.40579119538402025,0.17094955354684885,0.29634858634808275,-2.1598634080682433,-2.0125585508828925,-0.1851162487846606,-2.141739229053416,0.6772225310916761,0.7668669510425348,2.073534259643305,-0.5857576182723124,-0.24898593718493103,-0.4591347965960832,0.0572972746601082,0.5832555912663984,1.1158032393140689,0.3991992944487781,-0.8624665930363881,0.7071627408033258,-1.9667278635869696,-0.9214713334702432,1.650492120587778,-1.1999606866076602,-0.20281169105151825,1.4945178965983408,-0.8997650837348147,-2.2253265893618424,-1.09012368498265,-1.0529536797491117,0.1338906847939372,0.2403500987382637,-1.6095963709008843,0.06628520746906193,-1.067109470264138,0.2634593866514775,-1.478737065645272,-1.1091466719365703,0.35138038117834564,0.3435857503889729,-1.5210735051475959,0.837757589867208,0.4476300884448183,-0.07502471445733806,-1.5202855593094173,-0.25773937749288034,-0.34887973542719847,-2.31187035768955,-0.034029901254094885,0.2630669488156154,0.11150752131393972,1.4058176591823965,1.5000524693418644,-0.6939161537088265,0.5648202154740967,-0.6663278105130409,1.3312286533490953,-1.0318603413146845,0.05371434836374283,1.10108844942271,-1.5258996454946665,-1.1491765465288533,0.11828069930307834,-1.9601573490629831,-0.5880699028680263,-0.9296562903791965,-0.5829419942936036,0.4687040240319331,-0.9033060449777159,-1.6724777398810702,-0.6690696546509366,-1.4250279899707665,-0.8847035061124282,-1.0667503851071878,1.7050429004073107,1.3144164130572529,-1.53177407469326,0.9032058368274795,0.29864239670482007,0.04333366132070788,-0.09862504601056912,-0.7321679660131877,0.8287138938795663,0.3748462073741596,-0.28763424974146945,-0.37439982497585667,0.9478768292259477,-0.21912363889398573,2.5987941887622954,-1.9322428278354373,0.7613921907484676,-0.5890733272485525,-0.831792797812103,0.4891026917431194,-0.7531862890796068,-0.44815430034301945,-0.6467665018206313,-1.2790652515257708],\"xaxis\":\"x4\",\"y\":[-1.4235348994582473,1.6958650609063417,-0.3982966328762372,0.27756863549621097,-2.3585919349958235,1.1020005362743452,0.6266961052801654,-0.6270622784382746,-0.786350570851453,0.0911649271016448,0.6557252804607655,0.4365966784408412,0.921789406738549,-0.6646588710570925,-0.9969408190860302,1.677135701561699,0.7477192297851876,-0.8919941975652873,-0.8484931671495123,1.1304801847786945,-0.1303874644250042,-0.4027093671423632,0.19952262377633156,-1.2035863054118094,-0.09211361249509116,0.08026909709216896,-0.34775188069812457,-1.0086031125278943,1.1634835749942127,0.11172025589191217,2.1257306567197736,-0.3340416992697654,0.8198978434765232,1.2548300749111025,0.9985861025577449,-0.541352111262776,0.5162497924508742,1.4076377254955594,0.7927786526521182,-0.9436732508203212,0.8549620719419299,2.310066034112088,1.2874259489529982,-0.41981602206893903,-0.987910090906013,-0.7842242288309662,-0.9610088565403709,0.18685588779080886,-2.3919389380642486,2.011749152319646,-0.23626324705189763,0.3553314029769195,-0.45960543260774067,0.7513582982992836,-1.1608162886462836,0.003567013415990974,-0.21101194338955107,-1.3276277670828558,0.13992890084220388,-0.28703008846268313,0.9182834148621122,0.265735454000781,-1.2246115407591085,-0.19042542491721853,0.7018052470194134,0.09960530174978317,1.4776802303953214,-1.5536740660947732,-0.23915551742935248,-0.8306971313259349,-1.0273618346956965,-0.255207039077919,0.3241759225706703,-1.3051243905650352,-0.6223082823846187,0.179987130947547,0.9252579722463663,-0.9758908841399186,-0.4820230098666938,-0.12269096767963233,-0.3181029667595157,-0.3946420804405433,1.4714928976934416,0.359528275020138,-0.5430093124198415,-0.0068426627292687,0.30939955566661675,-1.9326432920627419,0.47174567839532167,-1.9477708295596878,0.015941489595028377,-1.7131004629871893,0.48762876163513086,-0.3271139632231246,0.6401403330176697,-1.1377996782946949,-0.9838557893665433,1.8423363493330935,0.05357252926479087,-1.526855656633712],\"yaxis\":\"y4\",\"type\":\"scatter\"},{\"line\":{\"color\":\"rgba(128, 128, 128, 1.0)\",\"dash\":\"solid\",\"shape\":\"linear\",\"width\":1.3},\"marker\":{\"size\":2,\"symbol\":\"circle\"},\"mode\":\"markers\",\"name\":\"B\",\"text\":\"\",\"x\":[-1.4235348994582473,1.6958650609063417,-0.3982966328762372,0.27756863549621097,-2.3585919349958235,1.1020005362743452,0.6266961052801654,-0.6270622784382746,-0.786350570851453,0.0911649271016448,0.6557252804607655,0.4365966784408412,0.921789406738549,-0.6646588710570925,-0.9969408190860302,1.677135701561699,0.7477192297851876,-0.8919941975652873,-0.8484931671495123,1.1304801847786945,-0.1303874644250042,-0.4027093671423632,0.19952262377633156,-1.2035863054118094,-0.09211361249509116,0.08026909709216896,-0.34775188069812457,-1.0086031125278943,1.1634835749942127,0.11172025589191217,2.1257306567197736,-0.3340416992697654,0.8198978434765232,1.2548300749111025,0.9985861025577449,-0.541352111262776,0.5162497924508742,1.4076377254955594,0.7927786526521182,-0.9436732508203212,0.8549620719419299,2.310066034112088,1.2874259489529982,-0.41981602206893903,-0.987910090906013,-0.7842242288309662,-0.9610088565403709,0.18685588779080886,-2.3919389380642486,2.011749152319646,-0.23626324705189763,0.3553314029769195,-0.45960543260774067,0.7513582982992836,-1.1608162886462836,0.003567013415990974,-0.21101194338955107,-1.3276277670828558,0.13992890084220388,-0.28703008846268313,0.9182834148621122,0.265735454000781,-1.2246115407591085,-0.19042542491721853,0.7018052470194134,0.09960530174978317,1.4776802303953214,-1.5536740660947732,-0.23915551742935248,-0.8306971313259349,-1.0273618346956965,-0.255207039077919,0.3241759225706703,-1.3051243905650352,-0.6223082823846187,0.179987130947547,0.9252579722463663,-0.9758908841399186,-0.4820230098666938,-0.12269096767963233,-0.3181029667595157,-0.3946420804405433,1.4714928976934416,0.359528275020138,-0.5430093124198415,-0.0068426627292687,0.30939955566661675,-1.9326432920627419,0.47174567839532167,-1.9477708295596878,0.015941489595028377,-1.7131004629871893,0.48762876163513086,-0.3271139632231246,0.6401403330176697,-1.1377996782946949,-0.9838557893665433,1.8423363493330935,0.05357252926479087,-1.526855656633712],\"xaxis\":\"x5\",\"y\":[-0.3658636488428967,0.22474581557639411,2.1919100837389394,1.109421638276329,0.2527415435337726,-0.1292342991308815,0.7317932965268019,-0.7639385503788946,-0.4708063325441959,1.4002834093378764,-1.3994839132629886,0.8839732167550264,-0.14949941804958955,-0.9284646169344668,-0.1572524883939597,0.2419671131608727,0.6583143925965117,0.12887646114797158,2.574144547983506,0.36534991434384306,-0.384202834127043,-0.9825566808686621,-1.0317403864615915,1.4152469082635148,-0.5067264474077924,-1.6140860182877868,-0.09439861506584497,-1.7957542990174429,-0.16900273081157646,2.4429152619784467,-1.0755659168881373,-2.02327607122746,0.5117107872062027,-0.20885964102145407,1.1818801008318083,1.8500584117657541,-0.5643349280117143,-0.7458420112492924,-0.6304031549618542,-0.7553750200409532,-0.24581653082700605,1.1275236751962945,0.6755856903742156,-1.3242124648979638,-0.8997012477161959,-1.1037595469027444,0.8116140662995641,-0.08935138420138806,-0.3379847932092338,-0.6516992092160415,-0.9042111008747747,-0.978779543455604,0.2953849957039682,-1.229088158408989,-0.1261402457761175,-0.018057517496615473,-0.11492701040970589,0.3075772855394331,0.22674559496563765,-2.1147427307732025,-0.8051226469055627,0.27049448558142347,0.5556703112639456,-0.44906939694585063,0.08278586815908257,-0.923783425172162,-1.1536132141685598,0.2895469235272587,-0.8819321101570025,-1.9348184015257255,-0.5602666990782839,-1.7151892791681982,-0.9367386341229202,0.4425200072157305,-0.9175936737535805,0.5332723554946287,-1.6489486504568114,-0.5977406919675751,-0.66185625276932,0.6562173431477331,1.1042432642893962,-2.147020474578238,-0.2901623939665887,2.137309890440816,1.5752816256368136,-0.718805047986369,1.155881699724617,-0.8834366639942475,1.251970006408457,-0.5891537401917408,-1.025840274996761,0.006030311880805347,0.5741509615540178,-0.6738634619998584,-0.8498854927129178,-1.5487152464370812,0.5011404094712901,2.2801877026266597,0.517916728826836,0.8550946518040117],\"yaxis\":\"y5\",\"type\":\"scatter\"},{\"histfunc\":\"count\",\"histnorm\":\"\",\"marker\":{\"color\":\"rgba(55, 128, 191, 1.0)\",\"line\":{\"color\":\"#4D5663\",\"width\":1.3}},\"name\":\"B\",\"nbinsx\":10,\"opacity\":0.8,\"orientation\":\"v\",\"x\":[-0.3658636488428967,0.22474581557639411,2.1919100837389394,1.109421638276329,0.2527415435337726,-0.1292342991308815,0.7317932965268019,-0.7639385503788946,-0.4708063325441959,1.4002834093378764,-1.3994839132629886,0.8839732167550264,-0.14949941804958955,-0.9284646169344668,-0.1572524883939597,0.2419671131608727,0.6583143925965117,0.12887646114797158,2.574144547983506,0.36534991434384306,-0.384202834127043,-0.9825566808686621,-1.0317403864615915,1.4152469082635148,-0.5067264474077924,-1.6140860182877868,-0.09439861506584497,-1.7957542990174429,-0.16900273081157646,2.4429152619784467,-1.0755659168881373,-2.02327607122746,0.5117107872062027,-0.20885964102145407,1.1818801008318083,1.8500584117657541,-0.5643349280117143,-0.7458420112492924,-0.6304031549618542,-0.7553750200409532,-0.24581653082700605,1.1275236751962945,0.6755856903742156,-1.3242124648979638,-0.8997012477161959,-1.1037595469027444,0.8116140662995641,-0.08935138420138806,-0.3379847932092338,-0.6516992092160415,-0.9042111008747747,-0.978779543455604,0.2953849957039682,-1.229088158408989,-0.1261402457761175,-0.018057517496615473,-0.11492701040970589,0.3075772855394331,0.22674559496563765,-2.1147427307732025,-0.8051226469055627,0.27049448558142347,0.5556703112639456,-0.44906939694585063,0.08278586815908257,-0.923783425172162,-1.1536132141685598,0.2895469235272587,-0.8819321101570025,-1.9348184015257255,-0.5602666990782839,-1.7151892791681982,-0.9367386341229202,0.4425200072157305,-0.9175936737535805,0.5332723554946287,-1.6489486504568114,-0.5977406919675751,-0.66185625276932,0.6562173431477331,1.1042432642893962,-2.147020474578238,-0.2901623939665887,2.137309890440816,1.5752816256368136,-0.718805047986369,1.155881699724617,-0.8834366639942475,1.251970006408457,-0.5891537401917408,-1.025840274996761,0.006030311880805347,0.5741509615540178,-0.6738634619998584,-0.8498854927129178,-1.5487152464370812,0.5011404094712901,2.2801877026266597,0.517916728826836,0.8550946518040117],\"xaxis\":\"x6\",\"yaxis\":\"y6\",\"type\":\"histogram\"},{\"line\":{\"color\":\"rgba(128, 128, 128, 1.0)\",\"dash\":\"solid\",\"shape\":\"linear\",\"width\":1.3},\"marker\":{\"size\":2,\"symbol\":\"circle\"},\"mode\":\"markers\",\"name\":\"B\",\"text\":\"\",\"x\":[-1.236245897526975,1.394531513969449,-0.14953973314942223,0.014864624893081088,1.9975779631424395,-1.161969590849366,-0.05242431203380102,1.7402253295498296,0.16256622775562465,1.2126378364947217,0.7272624400503693,0.5239195439892642,-2.0264285303579,0.8131315348959219,0.5179265814803313,0.5242276460815902,0.6945037757650672,0.4758851425711402,-0.7077353285509607,-0.9389524067750541,0.03286488549563378,-1.6672044199304352,-2.143685965901829,-0.30110666284655113,0.13197457582430402,0.6433002537156496,-0.42293244311857464,0.8778188306470641,-0.7253196404567503,-1.456579630114345,-0.6876285610223782,0.8302679412628738,-0.8784899538636051,-0.04108478643649931,-0.07485873580043284,-1.99796628687477,0.5049457575018156,1.9999157433007249,0.8124700861842593,-0.9016771144866489,-0.6120832892586301,-1.0691581738178118,-0.17014534513763152,0.23811176895685235,0.018046237260107945,0.5703819713893336,0.19775102957303023,0.4881981261683991,0.9004255141973913,-0.16057023676854762,0.877432824692586,0.007509598575843179,0.6018093921750517,0.24885036087369733,0.9563020352845671,-0.900938603150998,-0.21719782759023226,-0.650210508621508,0.06444670107303783,-0.7499379680653157,-0.06053166504054045,2.0159315331998076,-0.2718380241754499,-0.07405966635364217,0.222812567219414,0.4422923035858044,1.2316131036588682,2.165382244374689,-1.5786149501844338,-0.4442149184256992,1.6160619965679899,0.10333452658555937,1.0741450921661069,0.2639761336394118,-1.1432007571228844,1.106938523171413,-2.10318338742521,-1.4982051418900018,-1.8129219435780177,0.6106921338462978,-0.9845346119050725,1.076342554638808,-0.22405572199799867,-1.1034919813079604,0.30573929577232073,0.5870285921604421,-0.5998022391517313,-1.2076144723735267,0.6321689532807515,-0.7480443535391768,-0.052152870235295246,-0.08100332807673293,-0.6623557869601144,0.953895190238591,1.6440021941939549,-2.2232824659038655,-1.2819956358766162,0.8744357070732162,0.270287340120572,-0.3834338461396798],\"xaxis\":\"x7\",\"y\":[-0.3658636488428967,0.22474581557639411,2.1919100837389394,1.109421638276329,0.2527415435337726,-0.1292342991308815,0.7317932965268019,-0.7639385503788946,-0.4708063325441959,1.4002834093378764,-1.3994839132629886,0.8839732167550264,-0.14949941804958955,-0.9284646169344668,-0.1572524883939597,0.2419671131608727,0.6583143925965117,0.12887646114797158,2.574144547983506,0.36534991434384306,-0.384202834127043,-0.9825566808686621,-1.0317403864615915,1.4152469082635148,-0.5067264474077924,-1.6140860182877868,-0.09439861506584497,-1.7957542990174429,-0.16900273081157646,2.4429152619784467,-1.0755659168881373,-2.02327607122746,0.5117107872062027,-0.20885964102145407,1.1818801008318083,1.8500584117657541,-0.5643349280117143,-0.7458420112492924,-0.6304031549618542,-0.7553750200409532,-0.24581653082700605,1.1275236751962945,0.6755856903742156,-1.3242124648979638,-0.8997012477161959,-1.1037595469027444,0.8116140662995641,-0.08935138420138806,-0.3379847932092338,-0.6516992092160415,-0.9042111008747747,-0.978779543455604,0.2953849957039682,-1.229088158408989,-0.1261402457761175,-0.018057517496615473,-0.11492701040970589,0.3075772855394331,0.22674559496563765,-2.1147427307732025,-0.8051226469055627,0.27049448558142347,0.5556703112639456,-0.44906939694585063,0.08278586815908257,-0.923783425172162,-1.1536132141685598,0.2895469235272587,-0.8819321101570025,-1.9348184015257255,-0.5602666990782839,-1.7151892791681982,-0.9367386341229202,0.4425200072157305,-0.9175936737535805,0.5332723554946287,-1.6489486504568114,-0.5977406919675751,-0.66185625276932,0.6562173431477331,1.1042432642893962,-2.147020474578238,-0.2901623939665887,2.137309890440816,1.5752816256368136,-0.718805047986369,1.155881699724617,-0.8834366639942475,1.251970006408457,-0.5891537401917408,-1.025840274996761,0.006030311880805347,0.5741509615540178,-0.6738634619998584,-0.8498854927129178,-1.5487152464370812,0.5011404094712901,2.2801877026266597,0.517916728826836,0.8550946518040117],\"yaxis\":\"y7\",\"type\":\"scatter\"},{\"line\":{\"color\":\"rgba(128, 128, 128, 1.0)\",\"dash\":\"solid\",\"shape\":\"linear\",\"width\":1.3},\"marker\":{\"size\":2,\"symbol\":\"circle\"},\"mode\":\"markers\",\"name\":\"B\",\"text\":\"\",\"x\":[-0.7432575069674906,-1.1057549646307625,-0.9916773613478754,-0.40579119538402025,0.17094955354684885,0.29634858634808275,-2.1598634080682433,-2.0125585508828925,-0.1851162487846606,-2.141739229053416,0.6772225310916761,0.7668669510425348,2.073534259643305,-0.5857576182723124,-0.24898593718493103,-0.4591347965960832,0.0572972746601082,0.5832555912663984,1.1158032393140689,0.3991992944487781,-0.8624665930363881,0.7071627408033258,-1.9667278635869696,-0.9214713334702432,1.650492120587778,-1.1999606866076602,-0.20281169105151825,1.4945178965983408,-0.8997650837348147,-2.2253265893618424,-1.09012368498265,-1.0529536797491117,0.1338906847939372,0.2403500987382637,-1.6095963709008843,0.06628520746906193,-1.067109470264138,0.2634593866514775,-1.478737065645272,-1.1091466719365703,0.35138038117834564,0.3435857503889729,-1.5210735051475959,0.837757589867208,0.4476300884448183,-0.07502471445733806,-1.5202855593094173,-0.25773937749288034,-0.34887973542719847,-2.31187035768955,-0.034029901254094885,0.2630669488156154,0.11150752131393972,1.4058176591823965,1.5000524693418644,-0.6939161537088265,0.5648202154740967,-0.6663278105130409,1.3312286533490953,-1.0318603413146845,0.05371434836374283,1.10108844942271,-1.5258996454946665,-1.1491765465288533,0.11828069930307834,-1.9601573490629831,-0.5880699028680263,-0.9296562903791965,-0.5829419942936036,0.4687040240319331,-0.9033060449777159,-1.6724777398810702,-0.6690696546509366,-1.4250279899707665,-0.8847035061124282,-1.0667503851071878,1.7050429004073107,1.3144164130572529,-1.53177407469326,0.9032058368274795,0.29864239670482007,0.04333366132070788,-0.09862504601056912,-0.7321679660131877,0.8287138938795663,0.3748462073741596,-0.28763424974146945,-0.37439982497585667,0.9478768292259477,-0.21912363889398573,2.5987941887622954,-1.9322428278354373,0.7613921907484676,-0.5890733272485525,-0.831792797812103,0.4891026917431194,-0.7531862890796068,-0.44815430034301945,-0.6467665018206313,-1.2790652515257708],\"xaxis\":\"x8\",\"y\":[-0.3658636488428967,0.22474581557639411,2.1919100837389394,1.109421638276329,0.2527415435337726,-0.1292342991308815,0.7317932965268019,-0.7639385503788946,-0.4708063325441959,1.4002834093378764,-1.3994839132629886,0.8839732167550264,-0.14949941804958955,-0.9284646169344668,-0.1572524883939597,0.2419671131608727,0.6583143925965117,0.12887646114797158,2.574144547983506,0.36534991434384306,-0.384202834127043,-0.9825566808686621,-1.0317403864615915,1.4152469082635148,-0.5067264474077924,-1.6140860182877868,-0.09439861506584497,-1.7957542990174429,-0.16900273081157646,2.4429152619784467,-1.0755659168881373,-2.02327607122746,0.5117107872062027,-0.20885964102145407,1.1818801008318083,1.8500584117657541,-0.5643349280117143,-0.7458420112492924,-0.6304031549618542,-0.7553750200409532,-0.24581653082700605,1.1275236751962945,0.6755856903742156,-1.3242124648979638,-0.8997012477161959,-1.1037595469027444,0.8116140662995641,-0.08935138420138806,-0.3379847932092338,-0.6516992092160415,-0.9042111008747747,-0.978779543455604,0.2953849957039682,-1.229088158408989,-0.1261402457761175,-0.018057517496615473,-0.11492701040970589,0.3075772855394331,0.22674559496563765,-2.1147427307732025,-0.8051226469055627,0.27049448558142347,0.5556703112639456,-0.44906939694585063,0.08278586815908257,-0.923783425172162,-1.1536132141685598,0.2895469235272587,-0.8819321101570025,-1.9348184015257255,-0.5602666990782839,-1.7151892791681982,-0.9367386341229202,0.4425200072157305,-0.9175936737535805,0.5332723554946287,-1.6489486504568114,-0.5977406919675751,-0.66185625276932,0.6562173431477331,1.1042432642893962,-2.147020474578238,-0.2901623939665887,2.137309890440816,1.5752816256368136,-0.718805047986369,1.155881699724617,-0.8834366639942475,1.251970006408457,-0.5891537401917408,-1.025840274996761,0.006030311880805347,0.5741509615540178,-0.6738634619998584,-0.8498854927129178,-1.5487152464370812,0.5011404094712901,2.2801877026266597,0.517916728826836,0.8550946518040117],\"yaxis\":\"y8\",\"type\":\"scatter\"},{\"line\":{\"color\":\"rgba(128, 128, 128, 1.0)\",\"dash\":\"solid\",\"shape\":\"linear\",\"width\":1.3},\"marker\":{\"size\":2,\"symbol\":\"circle\"},\"mode\":\"markers\",\"name\":\"C\",\"text\":\"\",\"x\":[-1.4235348994582473,1.6958650609063417,-0.3982966328762372,0.27756863549621097,-2.3585919349958235,1.1020005362743452,0.6266961052801654,-0.6270622784382746,-0.786350570851453,0.0911649271016448,0.6557252804607655,0.4365966784408412,0.921789406738549,-0.6646588710570925,-0.9969408190860302,1.677135701561699,0.7477192297851876,-0.8919941975652873,-0.8484931671495123,1.1304801847786945,-0.1303874644250042,-0.4027093671423632,0.19952262377633156,-1.2035863054118094,-0.09211361249509116,0.08026909709216896,-0.34775188069812457,-1.0086031125278943,1.1634835749942127,0.11172025589191217,2.1257306567197736,-0.3340416992697654,0.8198978434765232,1.2548300749111025,0.9985861025577449,-0.541352111262776,0.5162497924508742,1.4076377254955594,0.7927786526521182,-0.9436732508203212,0.8549620719419299,2.310066034112088,1.2874259489529982,-0.41981602206893903,-0.987910090906013,-0.7842242288309662,-0.9610088565403709,0.18685588779080886,-2.3919389380642486,2.011749152319646,-0.23626324705189763,0.3553314029769195,-0.45960543260774067,0.7513582982992836,-1.1608162886462836,0.003567013415990974,-0.21101194338955107,-1.3276277670828558,0.13992890084220388,-0.28703008846268313,0.9182834148621122,0.265735454000781,-1.2246115407591085,-0.19042542491721853,0.7018052470194134,0.09960530174978317,1.4776802303953214,-1.5536740660947732,-0.23915551742935248,-0.8306971313259349,-1.0273618346956965,-0.255207039077919,0.3241759225706703,-1.3051243905650352,-0.6223082823846187,0.179987130947547,0.9252579722463663,-0.9758908841399186,-0.4820230098666938,-0.12269096767963233,-0.3181029667595157,-0.3946420804405433,1.4714928976934416,0.359528275020138,-0.5430093124198415,-0.0068426627292687,0.30939955566661675,-1.9326432920627419,0.47174567839532167,-1.9477708295596878,0.015941489595028377,-1.7131004629871893,0.48762876163513086,-0.3271139632231246,0.6401403330176697,-1.1377996782946949,-0.9838557893665433,1.8423363493330935,0.05357252926479087,-1.526855656633712],\"xaxis\":\"x9\",\"y\":[-1.236245897526975,1.394531513969449,-0.14953973314942223,0.014864624893081088,1.9975779631424395,-1.161969590849366,-0.05242431203380102,1.7402253295498296,0.16256622775562465,1.2126378364947217,0.7272624400503693,0.5239195439892642,-2.0264285303579,0.8131315348959219,0.5179265814803313,0.5242276460815902,0.6945037757650672,0.4758851425711402,-0.7077353285509607,-0.9389524067750541,0.03286488549563378,-1.6672044199304352,-2.143685965901829,-0.30110666284655113,0.13197457582430402,0.6433002537156496,-0.42293244311857464,0.8778188306470641,-0.7253196404567503,-1.456579630114345,-0.6876285610223782,0.8302679412628738,-0.8784899538636051,-0.04108478643649931,-0.07485873580043284,-1.99796628687477,0.5049457575018156,1.9999157433007249,0.8124700861842593,-0.9016771144866489,-0.6120832892586301,-1.0691581738178118,-0.17014534513763152,0.23811176895685235,0.018046237260107945,0.5703819713893336,0.19775102957303023,0.4881981261683991,0.9004255141973913,-0.16057023676854762,0.877432824692586,0.007509598575843179,0.6018093921750517,0.24885036087369733,0.9563020352845671,-0.900938603150998,-0.21719782759023226,-0.650210508621508,0.06444670107303783,-0.7499379680653157,-0.06053166504054045,2.0159315331998076,-0.2718380241754499,-0.07405966635364217,0.222812567219414,0.4422923035858044,1.2316131036588682,2.165382244374689,-1.5786149501844338,-0.4442149184256992,1.6160619965679899,0.10333452658555937,1.0741450921661069,0.2639761336394118,-1.1432007571228844,1.106938523171413,-2.10318338742521,-1.4982051418900018,-1.8129219435780177,0.6106921338462978,-0.9845346119050725,1.076342554638808,-0.22405572199799867,-1.1034919813079604,0.30573929577232073,0.5870285921604421,-0.5998022391517313,-1.2076144723735267,0.6321689532807515,-0.7480443535391768,-0.052152870235295246,-0.08100332807673293,-0.6623557869601144,0.953895190238591,1.6440021941939549,-2.2232824659038655,-1.2819956358766162,0.8744357070732162,0.270287340120572,-0.3834338461396798],\"yaxis\":\"y9\",\"type\":\"scatter\"},{\"line\":{\"color\":\"rgba(128, 128, 128, 1.0)\",\"dash\":\"solid\",\"shape\":\"linear\",\"width\":1.3},\"marker\":{\"size\":2,\"symbol\":\"circle\"},\"mode\":\"markers\",\"name\":\"C\",\"text\":\"\",\"x\":[-0.3658636488428967,0.22474581557639411,2.1919100837389394,1.109421638276329,0.2527415435337726,-0.1292342991308815,0.7317932965268019,-0.7639385503788946,-0.4708063325441959,1.4002834093378764,-1.3994839132629886,0.8839732167550264,-0.14949941804958955,-0.9284646169344668,-0.1572524883939597,0.2419671131608727,0.6583143925965117,0.12887646114797158,2.574144547983506,0.36534991434384306,-0.384202834127043,-0.9825566808686621,-1.0317403864615915,1.4152469082635148,-0.5067264474077924,-1.6140860182877868,-0.09439861506584497,-1.7957542990174429,-0.16900273081157646,2.4429152619784467,-1.0755659168881373,-2.02327607122746,0.5117107872062027,-0.20885964102145407,1.1818801008318083,1.8500584117657541,-0.5643349280117143,-0.7458420112492924,-0.6304031549618542,-0.7553750200409532,-0.24581653082700605,1.1275236751962945,0.6755856903742156,-1.3242124648979638,-0.8997012477161959,-1.1037595469027444,0.8116140662995641,-0.08935138420138806,-0.3379847932092338,-0.6516992092160415,-0.9042111008747747,-0.978779543455604,0.2953849957039682,-1.229088158408989,-0.1261402457761175,-0.018057517496615473,-0.11492701040970589,0.3075772855394331,0.22674559496563765,-2.1147427307732025,-0.8051226469055627,0.27049448558142347,0.5556703112639456,-0.44906939694585063,0.08278586815908257,-0.923783425172162,-1.1536132141685598,0.2895469235272587,-0.8819321101570025,-1.9348184015257255,-0.5602666990782839,-1.7151892791681982,-0.9367386341229202,0.4425200072157305,-0.9175936737535805,0.5332723554946287,-1.6489486504568114,-0.5977406919675751,-0.66185625276932,0.6562173431477331,1.1042432642893962,-2.147020474578238,-0.2901623939665887,2.137309890440816,1.5752816256368136,-0.718805047986369,1.155881699724617,-0.8834366639942475,1.251970006408457,-0.5891537401917408,-1.025840274996761,0.006030311880805347,0.5741509615540178,-0.6738634619998584,-0.8498854927129178,-1.5487152464370812,0.5011404094712901,2.2801877026266597,0.517916728826836,0.8550946518040117],\"xaxis\":\"x10\",\"y\":[-1.236245897526975,1.394531513969449,-0.14953973314942223,0.014864624893081088,1.9975779631424395,-1.161969590849366,-0.05242431203380102,1.7402253295498296,0.16256622775562465,1.2126378364947217,0.7272624400503693,0.5239195439892642,-2.0264285303579,0.8131315348959219,0.5179265814803313,0.5242276460815902,0.6945037757650672,0.4758851425711402,-0.7077353285509607,-0.9389524067750541,0.03286488549563378,-1.6672044199304352,-2.143685965901829,-0.30110666284655113,0.13197457582430402,0.6433002537156496,-0.42293244311857464,0.8778188306470641,-0.7253196404567503,-1.456579630114345,-0.6876285610223782,0.8302679412628738,-0.8784899538636051,-0.04108478643649931,-0.07485873580043284,-1.99796628687477,0.5049457575018156,1.9999157433007249,0.8124700861842593,-0.9016771144866489,-0.6120832892586301,-1.0691581738178118,-0.17014534513763152,0.23811176895685235,0.018046237260107945,0.5703819713893336,0.19775102957303023,0.4881981261683991,0.9004255141973913,-0.16057023676854762,0.877432824692586,0.007509598575843179,0.6018093921750517,0.24885036087369733,0.9563020352845671,-0.900938603150998,-0.21719782759023226,-0.650210508621508,0.06444670107303783,-0.7499379680653157,-0.06053166504054045,2.0159315331998076,-0.2718380241754499,-0.07405966635364217,0.222812567219414,0.4422923035858044,1.2316131036588682,2.165382244374689,-1.5786149501844338,-0.4442149184256992,1.6160619965679899,0.10333452658555937,1.0741450921661069,0.2639761336394118,-1.1432007571228844,1.106938523171413,-2.10318338742521,-1.4982051418900018,-1.8129219435780177,0.6106921338462978,-0.9845346119050725,1.076342554638808,-0.22405572199799867,-1.1034919813079604,0.30573929577232073,0.5870285921604421,-0.5998022391517313,-1.2076144723735267,0.6321689532807515,-0.7480443535391768,-0.052152870235295246,-0.08100332807673293,-0.6623557869601144,0.953895190238591,1.6440021941939549,-2.2232824659038655,-1.2819956358766162,0.8744357070732162,0.270287340120572,-0.3834338461396798],\"yaxis\":\"y10\",\"type\":\"scatter\"},{\"histfunc\":\"count\",\"histnorm\":\"\",\"marker\":{\"color\":\"rgba(50, 171, 96, 1.0)\",\"line\":{\"color\":\"#4D5663\",\"width\":1.3}},\"name\":\"C\",\"nbinsx\":10,\"opacity\":0.8,\"orientation\":\"v\",\"x\":[-1.236245897526975,1.394531513969449,-0.14953973314942223,0.014864624893081088,1.9975779631424395,-1.161969590849366,-0.05242431203380102,1.7402253295498296,0.16256622775562465,1.2126378364947217,0.7272624400503693,0.5239195439892642,-2.0264285303579,0.8131315348959219,0.5179265814803313,0.5242276460815902,0.6945037757650672,0.4758851425711402,-0.7077353285509607,-0.9389524067750541,0.03286488549563378,-1.6672044199304352,-2.143685965901829,-0.30110666284655113,0.13197457582430402,0.6433002537156496,-0.42293244311857464,0.8778188306470641,-0.7253196404567503,-1.456579630114345,-0.6876285610223782,0.8302679412628738,-0.8784899538636051,-0.04108478643649931,-0.07485873580043284,-1.99796628687477,0.5049457575018156,1.9999157433007249,0.8124700861842593,-0.9016771144866489,-0.6120832892586301,-1.0691581738178118,-0.17014534513763152,0.23811176895685235,0.018046237260107945,0.5703819713893336,0.19775102957303023,0.4881981261683991,0.9004255141973913,-0.16057023676854762,0.877432824692586,0.007509598575843179,0.6018093921750517,0.24885036087369733,0.9563020352845671,-0.900938603150998,-0.21719782759023226,-0.650210508621508,0.06444670107303783,-0.7499379680653157,-0.06053166504054045,2.0159315331998076,-0.2718380241754499,-0.07405966635364217,0.222812567219414,0.4422923035858044,1.2316131036588682,2.165382244374689,-1.5786149501844338,-0.4442149184256992,1.6160619965679899,0.10333452658555937,1.0741450921661069,0.2639761336394118,-1.1432007571228844,1.106938523171413,-2.10318338742521,-1.4982051418900018,-1.8129219435780177,0.6106921338462978,-0.9845346119050725,1.076342554638808,-0.22405572199799867,-1.1034919813079604,0.30573929577232073,0.5870285921604421,-0.5998022391517313,-1.2076144723735267,0.6321689532807515,-0.7480443535391768,-0.052152870235295246,-0.08100332807673293,-0.6623557869601144,0.953895190238591,1.6440021941939549,-2.2232824659038655,-1.2819956358766162,0.8744357070732162,0.270287340120572,-0.3834338461396798],\"xaxis\":\"x11\",\"yaxis\":\"y11\",\"type\":\"histogram\"},{\"line\":{\"color\":\"rgba(128, 128, 128, 1.0)\",\"dash\":\"solid\",\"shape\":\"linear\",\"width\":1.3},\"marker\":{\"size\":2,\"symbol\":\"circle\"},\"mode\":\"markers\",\"name\":\"C\",\"text\":\"\",\"x\":[-0.7432575069674906,-1.1057549646307625,-0.9916773613478754,-0.40579119538402025,0.17094955354684885,0.29634858634808275,-2.1598634080682433,-2.0125585508828925,-0.1851162487846606,-2.141739229053416,0.6772225310916761,0.7668669510425348,2.073534259643305,-0.5857576182723124,-0.24898593718493103,-0.4591347965960832,0.0572972746601082,0.5832555912663984,1.1158032393140689,0.3991992944487781,-0.8624665930363881,0.7071627408033258,-1.9667278635869696,-0.9214713334702432,1.650492120587778,-1.1999606866076602,-0.20281169105151825,1.4945178965983408,-0.8997650837348147,-2.2253265893618424,-1.09012368498265,-1.0529536797491117,0.1338906847939372,0.2403500987382637,-1.6095963709008843,0.06628520746906193,-1.067109470264138,0.2634593866514775,-1.478737065645272,-1.1091466719365703,0.35138038117834564,0.3435857503889729,-1.5210735051475959,0.837757589867208,0.4476300884448183,-0.07502471445733806,-1.5202855593094173,-0.25773937749288034,-0.34887973542719847,-2.31187035768955,-0.034029901254094885,0.2630669488156154,0.11150752131393972,1.4058176591823965,1.5000524693418644,-0.6939161537088265,0.5648202154740967,-0.6663278105130409,1.3312286533490953,-1.0318603413146845,0.05371434836374283,1.10108844942271,-1.5258996454946665,-1.1491765465288533,0.11828069930307834,-1.9601573490629831,-0.5880699028680263,-0.9296562903791965,-0.5829419942936036,0.4687040240319331,-0.9033060449777159,-1.6724777398810702,-0.6690696546509366,-1.4250279899707665,-0.8847035061124282,-1.0667503851071878,1.7050429004073107,1.3144164130572529,-1.53177407469326,0.9032058368274795,0.29864239670482007,0.04333366132070788,-0.09862504601056912,-0.7321679660131877,0.8287138938795663,0.3748462073741596,-0.28763424974146945,-0.37439982497585667,0.9478768292259477,-0.21912363889398573,2.5987941887622954,-1.9322428278354373,0.7613921907484676,-0.5890733272485525,-0.831792797812103,0.4891026917431194,-0.7531862890796068,-0.44815430034301945,-0.6467665018206313,-1.2790652515257708],\"xaxis\":\"x12\",\"y\":[-1.236245897526975,1.394531513969449,-0.14953973314942223,0.014864624893081088,1.9975779631424395,-1.161969590849366,-0.05242431203380102,1.7402253295498296,0.16256622775562465,1.2126378364947217,0.7272624400503693,0.5239195439892642,-2.0264285303579,0.8131315348959219,0.5179265814803313,0.5242276460815902,0.6945037757650672,0.4758851425711402,-0.7077353285509607,-0.9389524067750541,0.03286488549563378,-1.6672044199304352,-2.143685965901829,-0.30110666284655113,0.13197457582430402,0.6433002537156496,-0.42293244311857464,0.8778188306470641,-0.7253196404567503,-1.456579630114345,-0.6876285610223782,0.8302679412628738,-0.8784899538636051,-0.04108478643649931,-0.07485873580043284,-1.99796628687477,0.5049457575018156,1.9999157433007249,0.8124700861842593,-0.9016771144866489,-0.6120832892586301,-1.0691581738178118,-0.17014534513763152,0.23811176895685235,0.018046237260107945,0.5703819713893336,0.19775102957303023,0.4881981261683991,0.9004255141973913,-0.16057023676854762,0.877432824692586,0.007509598575843179,0.6018093921750517,0.24885036087369733,0.9563020352845671,-0.900938603150998,-0.21719782759023226,-0.650210508621508,0.06444670107303783,-0.7499379680653157,-0.06053166504054045,2.0159315331998076,-0.2718380241754499,-0.07405966635364217,0.222812567219414,0.4422923035858044,1.2316131036588682,2.165382244374689,-1.5786149501844338,-0.4442149184256992,1.6160619965679899,0.10333452658555937,1.0741450921661069,0.2639761336394118,-1.1432007571228844,1.106938523171413,-2.10318338742521,-1.4982051418900018,-1.8129219435780177,0.6106921338462978,-0.9845346119050725,1.076342554638808,-0.22405572199799867,-1.1034919813079604,0.30573929577232073,0.5870285921604421,-0.5998022391517313,-1.2076144723735267,0.6321689532807515,-0.7480443535391768,-0.052152870235295246,-0.08100332807673293,-0.6623557869601144,0.953895190238591,1.6440021941939549,-2.2232824659038655,-1.2819956358766162,0.8744357070732162,0.270287340120572,-0.3834338461396798],\"yaxis\":\"y12\",\"type\":\"scatter\"},{\"line\":{\"color\":\"rgba(128, 128, 128, 1.0)\",\"dash\":\"solid\",\"shape\":\"linear\",\"width\":1.3},\"marker\":{\"size\":2,\"symbol\":\"circle\"},\"mode\":\"markers\",\"name\":\"D\",\"text\":\"\",\"x\":[-1.4235348994582473,1.6958650609063417,-0.3982966328762372,0.27756863549621097,-2.3585919349958235,1.1020005362743452,0.6266961052801654,-0.6270622784382746,-0.786350570851453,0.0911649271016448,0.6557252804607655,0.4365966784408412,0.921789406738549,-0.6646588710570925,-0.9969408190860302,1.677135701561699,0.7477192297851876,-0.8919941975652873,-0.8484931671495123,1.1304801847786945,-0.1303874644250042,-0.4027093671423632,0.19952262377633156,-1.2035863054118094,-0.09211361249509116,0.08026909709216896,-0.34775188069812457,-1.0086031125278943,1.1634835749942127,0.11172025589191217,2.1257306567197736,-0.3340416992697654,0.8198978434765232,1.2548300749111025,0.9985861025577449,-0.541352111262776,0.5162497924508742,1.4076377254955594,0.7927786526521182,-0.9436732508203212,0.8549620719419299,2.310066034112088,1.2874259489529982,-0.41981602206893903,-0.987910090906013,-0.7842242288309662,-0.9610088565403709,0.18685588779080886,-2.3919389380642486,2.011749152319646,-0.23626324705189763,0.3553314029769195,-0.45960543260774067,0.7513582982992836,-1.1608162886462836,0.003567013415990974,-0.21101194338955107,-1.3276277670828558,0.13992890084220388,-0.28703008846268313,0.9182834148621122,0.265735454000781,-1.2246115407591085,-0.19042542491721853,0.7018052470194134,0.09960530174978317,1.4776802303953214,-1.5536740660947732,-0.23915551742935248,-0.8306971313259349,-1.0273618346956965,-0.255207039077919,0.3241759225706703,-1.3051243905650352,-0.6223082823846187,0.179987130947547,0.9252579722463663,-0.9758908841399186,-0.4820230098666938,-0.12269096767963233,-0.3181029667595157,-0.3946420804405433,1.4714928976934416,0.359528275020138,-0.5430093124198415,-0.0068426627292687,0.30939955566661675,-1.9326432920627419,0.47174567839532167,-1.9477708295596878,0.015941489595028377,-1.7131004629871893,0.48762876163513086,-0.3271139632231246,0.6401403330176697,-1.1377996782946949,-0.9838557893665433,1.8423363493330935,0.05357252926479087,-1.526855656633712],\"xaxis\":\"x13\",\"y\":[-0.7432575069674906,-1.1057549646307625,-0.9916773613478754,-0.40579119538402025,0.17094955354684885,0.29634858634808275,-2.1598634080682433,-2.0125585508828925,-0.1851162487846606,-2.141739229053416,0.6772225310916761,0.7668669510425348,2.073534259643305,-0.5857576182723124,-0.24898593718493103,-0.4591347965960832,0.0572972746601082,0.5832555912663984,1.1158032393140689,0.3991992944487781,-0.8624665930363881,0.7071627408033258,-1.9667278635869696,-0.9214713334702432,1.650492120587778,-1.1999606866076602,-0.20281169105151825,1.4945178965983408,-0.8997650837348147,-2.2253265893618424,-1.09012368498265,-1.0529536797491117,0.1338906847939372,0.2403500987382637,-1.6095963709008843,0.06628520746906193,-1.067109470264138,0.2634593866514775,-1.478737065645272,-1.1091466719365703,0.35138038117834564,0.3435857503889729,-1.5210735051475959,0.837757589867208,0.4476300884448183,-0.07502471445733806,-1.5202855593094173,-0.25773937749288034,-0.34887973542719847,-2.31187035768955,-0.034029901254094885,0.2630669488156154,0.11150752131393972,1.4058176591823965,1.5000524693418644,-0.6939161537088265,0.5648202154740967,-0.6663278105130409,1.3312286533490953,-1.0318603413146845,0.05371434836374283,1.10108844942271,-1.5258996454946665,-1.1491765465288533,0.11828069930307834,-1.9601573490629831,-0.5880699028680263,-0.9296562903791965,-0.5829419942936036,0.4687040240319331,-0.9033060449777159,-1.6724777398810702,-0.6690696546509366,-1.4250279899707665,-0.8847035061124282,-1.0667503851071878,1.7050429004073107,1.3144164130572529,-1.53177407469326,0.9032058368274795,0.29864239670482007,0.04333366132070788,-0.09862504601056912,-0.7321679660131877,0.8287138938795663,0.3748462073741596,-0.28763424974146945,-0.37439982497585667,0.9478768292259477,-0.21912363889398573,2.5987941887622954,-1.9322428278354373,0.7613921907484676,-0.5890733272485525,-0.831792797812103,0.4891026917431194,-0.7531862890796068,-0.44815430034301945,-0.6467665018206313,-1.2790652515257708],\"yaxis\":\"y13\",\"type\":\"scatter\"},{\"line\":{\"color\":\"rgba(128, 128, 128, 1.0)\",\"dash\":\"solid\",\"shape\":\"linear\",\"width\":1.3},\"marker\":{\"size\":2,\"symbol\":\"circle\"},\"mode\":\"markers\",\"name\":\"D\",\"text\":\"\",\"x\":[-0.3658636488428967,0.22474581557639411,2.1919100837389394,1.109421638276329,0.2527415435337726,-0.1292342991308815,0.7317932965268019,-0.7639385503788946,-0.4708063325441959,1.4002834093378764,-1.3994839132629886,0.8839732167550264,-0.14949941804958955,-0.9284646169344668,-0.1572524883939597,0.2419671131608727,0.6583143925965117,0.12887646114797158,2.574144547983506,0.36534991434384306,-0.384202834127043,-0.9825566808686621,-1.0317403864615915,1.4152469082635148,-0.5067264474077924,-1.6140860182877868,-0.09439861506584497,-1.7957542990174429,-0.16900273081157646,2.4429152619784467,-1.0755659168881373,-2.02327607122746,0.5117107872062027,-0.20885964102145407,1.1818801008318083,1.8500584117657541,-0.5643349280117143,-0.7458420112492924,-0.6304031549618542,-0.7553750200409532,-0.24581653082700605,1.1275236751962945,0.6755856903742156,-1.3242124648979638,-0.8997012477161959,-1.1037595469027444,0.8116140662995641,-0.08935138420138806,-0.3379847932092338,-0.6516992092160415,-0.9042111008747747,-0.978779543455604,0.2953849957039682,-1.229088158408989,-0.1261402457761175,-0.018057517496615473,-0.11492701040970589,0.3075772855394331,0.22674559496563765,-2.1147427307732025,-0.8051226469055627,0.27049448558142347,0.5556703112639456,-0.44906939694585063,0.08278586815908257,-0.923783425172162,-1.1536132141685598,0.2895469235272587,-0.8819321101570025,-1.9348184015257255,-0.5602666990782839,-1.7151892791681982,-0.9367386341229202,0.4425200072157305,-0.9175936737535805,0.5332723554946287,-1.6489486504568114,-0.5977406919675751,-0.66185625276932,0.6562173431477331,1.1042432642893962,-2.147020474578238,-0.2901623939665887,2.137309890440816,1.5752816256368136,-0.718805047986369,1.155881699724617,-0.8834366639942475,1.251970006408457,-0.5891537401917408,-1.025840274996761,0.006030311880805347,0.5741509615540178,-0.6738634619998584,-0.8498854927129178,-1.5487152464370812,0.5011404094712901,2.2801877026266597,0.517916728826836,0.8550946518040117],\"xaxis\":\"x14\",\"y\":[-0.7432575069674906,-1.1057549646307625,-0.9916773613478754,-0.40579119538402025,0.17094955354684885,0.29634858634808275,-2.1598634080682433,-2.0125585508828925,-0.1851162487846606,-2.141739229053416,0.6772225310916761,0.7668669510425348,2.073534259643305,-0.5857576182723124,-0.24898593718493103,-0.4591347965960832,0.0572972746601082,0.5832555912663984,1.1158032393140689,0.3991992944487781,-0.8624665930363881,0.7071627408033258,-1.9667278635869696,-0.9214713334702432,1.650492120587778,-1.1999606866076602,-0.20281169105151825,1.4945178965983408,-0.8997650837348147,-2.2253265893618424,-1.09012368498265,-1.0529536797491117,0.1338906847939372,0.2403500987382637,-1.6095963709008843,0.06628520746906193,-1.067109470264138,0.2634593866514775,-1.478737065645272,-1.1091466719365703,0.35138038117834564,0.3435857503889729,-1.5210735051475959,0.837757589867208,0.4476300884448183,-0.07502471445733806,-1.5202855593094173,-0.25773937749288034,-0.34887973542719847,-2.31187035768955,-0.034029901254094885,0.2630669488156154,0.11150752131393972,1.4058176591823965,1.5000524693418644,-0.6939161537088265,0.5648202154740967,-0.6663278105130409,1.3312286533490953,-1.0318603413146845,0.05371434836374283,1.10108844942271,-1.5258996454946665,-1.1491765465288533,0.11828069930307834,-1.9601573490629831,-0.5880699028680263,-0.9296562903791965,-0.5829419942936036,0.4687040240319331,-0.9033060449777159,-1.6724777398810702,-0.6690696546509366,-1.4250279899707665,-0.8847035061124282,-1.0667503851071878,1.7050429004073107,1.3144164130572529,-1.53177407469326,0.9032058368274795,0.29864239670482007,0.04333366132070788,-0.09862504601056912,-0.7321679660131877,0.8287138938795663,0.3748462073741596,-0.28763424974146945,-0.37439982497585667,0.9478768292259477,-0.21912363889398573,2.5987941887622954,-1.9322428278354373,0.7613921907484676,-0.5890733272485525,-0.831792797812103,0.4891026917431194,-0.7531862890796068,-0.44815430034301945,-0.6467665018206313,-1.2790652515257708],\"yaxis\":\"y14\",\"type\":\"scatter\"},{\"line\":{\"color\":\"rgba(128, 128, 128, 1.0)\",\"dash\":\"solid\",\"shape\":\"linear\",\"width\":1.3},\"marker\":{\"size\":2,\"symbol\":\"circle\"},\"mode\":\"markers\",\"name\":\"D\",\"text\":\"\",\"x\":[-1.236245897526975,1.394531513969449,-0.14953973314942223,0.014864624893081088,1.9975779631424395,-1.161969590849366,-0.05242431203380102,1.7402253295498296,0.16256622775562465,1.2126378364947217,0.7272624400503693,0.5239195439892642,-2.0264285303579,0.8131315348959219,0.5179265814803313,0.5242276460815902,0.6945037757650672,0.4758851425711402,-0.7077353285509607,-0.9389524067750541,0.03286488549563378,-1.6672044199304352,-2.143685965901829,-0.30110666284655113,0.13197457582430402,0.6433002537156496,-0.42293244311857464,0.8778188306470641,-0.7253196404567503,-1.456579630114345,-0.6876285610223782,0.8302679412628738,-0.8784899538636051,-0.04108478643649931,-0.07485873580043284,-1.99796628687477,0.5049457575018156,1.9999157433007249,0.8124700861842593,-0.9016771144866489,-0.6120832892586301,-1.0691581738178118,-0.17014534513763152,0.23811176895685235,0.018046237260107945,0.5703819713893336,0.19775102957303023,0.4881981261683991,0.9004255141973913,-0.16057023676854762,0.877432824692586,0.007509598575843179,0.6018093921750517,0.24885036087369733,0.9563020352845671,-0.900938603150998,-0.21719782759023226,-0.650210508621508,0.06444670107303783,-0.7499379680653157,-0.06053166504054045,2.0159315331998076,-0.2718380241754499,-0.07405966635364217,0.222812567219414,0.4422923035858044,1.2316131036588682,2.165382244374689,-1.5786149501844338,-0.4442149184256992,1.6160619965679899,0.10333452658555937,1.0741450921661069,0.2639761336394118,-1.1432007571228844,1.106938523171413,-2.10318338742521,-1.4982051418900018,-1.8129219435780177,0.6106921338462978,-0.9845346119050725,1.076342554638808,-0.22405572199799867,-1.1034919813079604,0.30573929577232073,0.5870285921604421,-0.5998022391517313,-1.2076144723735267,0.6321689532807515,-0.7480443535391768,-0.052152870235295246,-0.08100332807673293,-0.6623557869601144,0.953895190238591,1.6440021941939549,-2.2232824659038655,-1.2819956358766162,0.8744357070732162,0.270287340120572,-0.3834338461396798],\"xaxis\":\"x15\",\"y\":[-0.7432575069674906,-1.1057549646307625,-0.9916773613478754,-0.40579119538402025,0.17094955354684885,0.29634858634808275,-2.1598634080682433,-2.0125585508828925,-0.1851162487846606,-2.141739229053416,0.6772225310916761,0.7668669510425348,2.073534259643305,-0.5857576182723124,-0.24898593718493103,-0.4591347965960832,0.0572972746601082,0.5832555912663984,1.1158032393140689,0.3991992944487781,-0.8624665930363881,0.7071627408033258,-1.9667278635869696,-0.9214713334702432,1.650492120587778,-1.1999606866076602,-0.20281169105151825,1.4945178965983408,-0.8997650837348147,-2.2253265893618424,-1.09012368498265,-1.0529536797491117,0.1338906847939372,0.2403500987382637,-1.6095963709008843,0.06628520746906193,-1.067109470264138,0.2634593866514775,-1.478737065645272,-1.1091466719365703,0.35138038117834564,0.3435857503889729,-1.5210735051475959,0.837757589867208,0.4476300884448183,-0.07502471445733806,-1.5202855593094173,-0.25773937749288034,-0.34887973542719847,-2.31187035768955,-0.034029901254094885,0.2630669488156154,0.11150752131393972,1.4058176591823965,1.5000524693418644,-0.6939161537088265,0.5648202154740967,-0.6663278105130409,1.3312286533490953,-1.0318603413146845,0.05371434836374283,1.10108844942271,-1.5258996454946665,-1.1491765465288533,0.11828069930307834,-1.9601573490629831,-0.5880699028680263,-0.9296562903791965,-0.5829419942936036,0.4687040240319331,-0.9033060449777159,-1.6724777398810702,-0.6690696546509366,-1.4250279899707665,-0.8847035061124282,-1.0667503851071878,1.7050429004073107,1.3144164130572529,-1.53177407469326,0.9032058368274795,0.29864239670482007,0.04333366132070788,-0.09862504601056912,-0.7321679660131877,0.8287138938795663,0.3748462073741596,-0.28763424974146945,-0.37439982497585667,0.9478768292259477,-0.21912363889398573,2.5987941887622954,-1.9322428278354373,0.7613921907484676,-0.5890733272485525,-0.831792797812103,0.4891026917431194,-0.7531862890796068,-0.44815430034301945,-0.6467665018206313,-1.2790652515257708],\"yaxis\":\"y15\",\"type\":\"scatter\"},{\"histfunc\":\"count\",\"histnorm\":\"\",\"marker\":{\"color\":\"rgba(128, 0, 128, 1.0)\",\"line\":{\"color\":\"#4D5663\",\"width\":1.3}},\"name\":\"D\",\"nbinsx\":10,\"opacity\":0.8,\"orientation\":\"v\",\"x\":[-0.7432575069674906,-1.1057549646307625,-0.9916773613478754,-0.40579119538402025,0.17094955354684885,0.29634858634808275,-2.1598634080682433,-2.0125585508828925,-0.1851162487846606,-2.141739229053416,0.6772225310916761,0.7668669510425348,2.073534259643305,-0.5857576182723124,-0.24898593718493103,-0.4591347965960832,0.0572972746601082,0.5832555912663984,1.1158032393140689,0.3991992944487781,-0.8624665930363881,0.7071627408033258,-1.9667278635869696,-0.9214713334702432,1.650492120587778,-1.1999606866076602,-0.20281169105151825,1.4945178965983408,-0.8997650837348147,-2.2253265893618424,-1.09012368498265,-1.0529536797491117,0.1338906847939372,0.2403500987382637,-1.6095963709008843,0.06628520746906193,-1.067109470264138,0.2634593866514775,-1.478737065645272,-1.1091466719365703,0.35138038117834564,0.3435857503889729,-1.5210735051475959,0.837757589867208,0.4476300884448183,-0.07502471445733806,-1.5202855593094173,-0.25773937749288034,-0.34887973542719847,-2.31187035768955,-0.034029901254094885,0.2630669488156154,0.11150752131393972,1.4058176591823965,1.5000524693418644,-0.6939161537088265,0.5648202154740967,-0.6663278105130409,1.3312286533490953,-1.0318603413146845,0.05371434836374283,1.10108844942271,-1.5258996454946665,-1.1491765465288533,0.11828069930307834,-1.9601573490629831,-0.5880699028680263,-0.9296562903791965,-0.5829419942936036,0.4687040240319331,-0.9033060449777159,-1.6724777398810702,-0.6690696546509366,-1.4250279899707665,-0.8847035061124282,-1.0667503851071878,1.7050429004073107,1.3144164130572529,-1.53177407469326,0.9032058368274795,0.29864239670482007,0.04333366132070788,-0.09862504601056912,-0.7321679660131877,0.8287138938795663,0.3748462073741596,-0.28763424974146945,-0.37439982497585667,0.9478768292259477,-0.21912363889398573,2.5987941887622954,-1.9322428278354373,0.7613921907484676,-0.5890733272485525,-0.831792797812103,0.4891026917431194,-0.7531862890796068,-0.44815430034301945,-0.6467665018206313,-1.2790652515257708],\"xaxis\":\"x16\",\"yaxis\":\"y16\",\"type\":\"histogram\"}],                        {\"bargap\":0.02,\"legend\":{\"bgcolor\":\"#F5F6F9\",\"font\":{\"color\":\"#4D5663\"}},\"paper_bgcolor\":\"#F5F6F9\",\"plot_bgcolor\":\"#F5F6F9\",\"showlegend\":false,\"template\":{\"data\":{\"barpolar\":[{\"marker\":{\"line\":{\"color\":\"#E5ECF6\",\"width\":0.5},\"pattern\":{\"fillmode\":\"overlay\",\"size\":10,\"solidity\":0.2}},\"type\":\"barpolar\"}],\"bar\":[{\"error_x\":{\"color\":\"#2a3f5f\"},\"error_y\":{\"color\":\"#2a3f5f\"},\"marker\":{\"line\":{\"color\":\"#E5ECF6\",\"width\":0.5},\"pattern\":{\"fillmode\":\"overlay\",\"size\":10,\"solidity\":0.2}},\"type\":\"bar\"}],\"carpet\":[{\"aaxis\":{\"endlinecolor\":\"#2a3f5f\",\"gridcolor\":\"white\",\"linecolor\":\"white\",\"minorgridcolor\":\"white\",\"startlinecolor\":\"#2a3f5f\"},\"baxis\":{\"endlinecolor\":\"#2a3f5f\",\"gridcolor\":\"white\",\"linecolor\":\"white\",\"minorgridcolor\":\"white\",\"startlinecolor\":\"#2a3f5f\"},\"type\":\"carpet\"}],\"choropleth\":[{\"colorbar\":{\"outlinewidth\":0,\"ticks\":\"\"},\"type\":\"choropleth\"}],\"contourcarpet\":[{\"colorbar\":{\"outlinewidth\":0,\"ticks\":\"\"},\"type\":\"contourcarpet\"}],\"contour\":[{\"colorbar\":{\"outlinewidth\":0,\"ticks\":\"\"},\"colorscale\":[[0.0,\"#0d0887\"],[0.1111111111111111,\"#46039f\"],[0.2222222222222222,\"#7201a8\"],[0.3333333333333333,\"#9c179e\"],[0.4444444444444444,\"#bd3786\"],[0.5555555555555556,\"#d8576b\"],[0.6666666666666666,\"#ed7953\"],[0.7777777777777778,\"#fb9f3a\"],[0.8888888888888888,\"#fdca26\"],[1.0,\"#f0f921\"]],\"type\":\"contour\"}],\"heatmapgl\":[{\"colorbar\":{\"outlinewidth\":0,\"ticks\":\"\"},\"colorscale\":[[0.0,\"#0d0887\"],[0.1111111111111111,\"#46039f\"],[0.2222222222222222,\"#7201a8\"],[0.3333333333333333,\"#9c179e\"],[0.4444444444444444,\"#bd3786\"],[0.5555555555555556,\"#d8576b\"],[0.6666666666666666,\"#ed7953\"],[0.7777777777777778,\"#fb9f3a\"],[0.8888888888888888,\"#fdca26\"],[1.0,\"#f0f921\"]],\"type\":\"heatmapgl\"}],\"heatmap\":[{\"colorbar\":{\"outlinewidth\":0,\"ticks\":\"\"},\"colorscale\":[[0.0,\"#0d0887\"],[0.1111111111111111,\"#46039f\"],[0.2222222222222222,\"#7201a8\"],[0.3333333333333333,\"#9c179e\"],[0.4444444444444444,\"#bd3786\"],[0.5555555555555556,\"#d8576b\"],[0.6666666666666666,\"#ed7953\"],[0.7777777777777778,\"#fb9f3a\"],[0.8888888888888888,\"#fdca26\"],[1.0,\"#f0f921\"]],\"type\":\"heatmap\"}],\"histogram2dcontour\":[{\"colorbar\":{\"outlinewidth\":0,\"ticks\":\"\"},\"colorscale\":[[0.0,\"#0d0887\"],[0.1111111111111111,\"#46039f\"],[0.2222222222222222,\"#7201a8\"],[0.3333333333333333,\"#9c179e\"],[0.4444444444444444,\"#bd3786\"],[0.5555555555555556,\"#d8576b\"],[0.6666666666666666,\"#ed7953\"],[0.7777777777777778,\"#fb9f3a\"],[0.8888888888888888,\"#fdca26\"],[1.0,\"#f0f921\"]],\"type\":\"histogram2dcontour\"}],\"histogram2d\":[{\"colorbar\":{\"outlinewidth\":0,\"ticks\":\"\"},\"colorscale\":[[0.0,\"#0d0887\"],[0.1111111111111111,\"#46039f\"],[0.2222222222222222,\"#7201a8\"],[0.3333333333333333,\"#9c179e\"],[0.4444444444444444,\"#bd3786\"],[0.5555555555555556,\"#d8576b\"],[0.6666666666666666,\"#ed7953\"],[0.7777777777777778,\"#fb9f3a\"],[0.8888888888888888,\"#fdca26\"],[1.0,\"#f0f921\"]],\"type\":\"histogram2d\"}],\"histogram\":[{\"marker\":{\"pattern\":{\"fillmode\":\"overlay\",\"size\":10,\"solidity\":0.2}},\"type\":\"histogram\"}],\"mesh3d\":[{\"colorbar\":{\"outlinewidth\":0,\"ticks\":\"\"},\"type\":\"mesh3d\"}],\"parcoords\":[{\"line\":{\"colorbar\":{\"outlinewidth\":0,\"ticks\":\"\"}},\"type\":\"parcoords\"}],\"pie\":[{\"automargin\":true,\"type\":\"pie\"}],\"scatter3d\":[{\"line\":{\"colorbar\":{\"outlinewidth\":0,\"ticks\":\"\"}},\"marker\":{\"colorbar\":{\"outlinewidth\":0,\"ticks\":\"\"}},\"type\":\"scatter3d\"}],\"scattercarpet\":[{\"marker\":{\"colorbar\":{\"outlinewidth\":0,\"ticks\":\"\"}},\"type\":\"scattercarpet\"}],\"scattergeo\":[{\"marker\":{\"colorbar\":{\"outlinewidth\":0,\"ticks\":\"\"}},\"type\":\"scattergeo\"}],\"scattergl\":[{\"marker\":{\"colorbar\":{\"outlinewidth\":0,\"ticks\":\"\"}},\"type\":\"scattergl\"}],\"scattermapbox\":[{\"marker\":{\"colorbar\":{\"outlinewidth\":0,\"ticks\":\"\"}},\"type\":\"scattermapbox\"}],\"scatterpolargl\":[{\"marker\":{\"colorbar\":{\"outlinewidth\":0,\"ticks\":\"\"}},\"type\":\"scatterpolargl\"}],\"scatterpolar\":[{\"marker\":{\"colorbar\":{\"outlinewidth\":0,\"ticks\":\"\"}},\"type\":\"scatterpolar\"}],\"scatter\":[{\"fillpattern\":{\"fillmode\":\"overlay\",\"size\":10,\"solidity\":0.2},\"type\":\"scatter\"}],\"scatterternary\":[{\"marker\":{\"colorbar\":{\"outlinewidth\":0,\"ticks\":\"\"}},\"type\":\"scatterternary\"}],\"surface\":[{\"colorbar\":{\"outlinewidth\":0,\"ticks\":\"\"},\"colorscale\":[[0.0,\"#0d0887\"],[0.1111111111111111,\"#46039f\"],[0.2222222222222222,\"#7201a8\"],[0.3333333333333333,\"#9c179e\"],[0.4444444444444444,\"#bd3786\"],[0.5555555555555556,\"#d8576b\"],[0.6666666666666666,\"#ed7953\"],[0.7777777777777778,\"#fb9f3a\"],[0.8888888888888888,\"#fdca26\"],[1.0,\"#f0f921\"]],\"type\":\"surface\"}],\"table\":[{\"cells\":{\"fill\":{\"color\":\"#EBF0F8\"},\"line\":{\"color\":\"white\"}},\"header\":{\"fill\":{\"color\":\"#C8D4E3\"},\"line\":{\"color\":\"white\"}},\"type\":\"table\"}]},\"layout\":{\"annotationdefaults\":{\"arrowcolor\":\"#2a3f5f\",\"arrowhead\":0,\"arrowwidth\":1},\"autotypenumbers\":\"strict\",\"coloraxis\":{\"colorbar\":{\"outlinewidth\":0,\"ticks\":\"\"}},\"colorscale\":{\"diverging\":[[0,\"#8e0152\"],[0.1,\"#c51b7d\"],[0.2,\"#de77ae\"],[0.3,\"#f1b6da\"],[0.4,\"#fde0ef\"],[0.5,\"#f7f7f7\"],[0.6,\"#e6f5d0\"],[0.7,\"#b8e186\"],[0.8,\"#7fbc41\"],[0.9,\"#4d9221\"],[1,\"#276419\"]],\"sequential\":[[0.0,\"#0d0887\"],[0.1111111111111111,\"#46039f\"],[0.2222222222222222,\"#7201a8\"],[0.3333333333333333,\"#9c179e\"],[0.4444444444444444,\"#bd3786\"],[0.5555555555555556,\"#d8576b\"],[0.6666666666666666,\"#ed7953\"],[0.7777777777777778,\"#fb9f3a\"],[0.8888888888888888,\"#fdca26\"],[1.0,\"#f0f921\"]],\"sequentialminus\":[[0.0,\"#0d0887\"],[0.1111111111111111,\"#46039f\"],[0.2222222222222222,\"#7201a8\"],[0.3333333333333333,\"#9c179e\"],[0.4444444444444444,\"#bd3786\"],[0.5555555555555556,\"#d8576b\"],[0.6666666666666666,\"#ed7953\"],[0.7777777777777778,\"#fb9f3a\"],[0.8888888888888888,\"#fdca26\"],[1.0,\"#f0f921\"]]},\"colorway\":[\"#636efa\",\"#EF553B\",\"#00cc96\",\"#ab63fa\",\"#FFA15A\",\"#19d3f3\",\"#FF6692\",\"#B6E880\",\"#FF97FF\",\"#FECB52\"],\"font\":{\"color\":\"#2a3f5f\"},\"geo\":{\"bgcolor\":\"white\",\"lakecolor\":\"white\",\"landcolor\":\"#E5ECF6\",\"showlakes\":true,\"showland\":true,\"subunitcolor\":\"white\"},\"hoverlabel\":{\"align\":\"left\"},\"hovermode\":\"closest\",\"mapbox\":{\"style\":\"light\"},\"paper_bgcolor\":\"white\",\"plot_bgcolor\":\"#E5ECF6\",\"polar\":{\"angularaxis\":{\"gridcolor\":\"white\",\"linecolor\":\"white\",\"ticks\":\"\"},\"bgcolor\":\"#E5ECF6\",\"radialaxis\":{\"gridcolor\":\"white\",\"linecolor\":\"white\",\"ticks\":\"\"}},\"scene\":{\"xaxis\":{\"backgroundcolor\":\"#E5ECF6\",\"gridcolor\":\"white\",\"gridwidth\":2,\"linecolor\":\"white\",\"showbackground\":true,\"ticks\":\"\",\"zerolinecolor\":\"white\"},\"yaxis\":{\"backgroundcolor\":\"#E5ECF6\",\"gridcolor\":\"white\",\"gridwidth\":2,\"linecolor\":\"white\",\"showbackground\":true,\"ticks\":\"\",\"zerolinecolor\":\"white\"},\"zaxis\":{\"backgroundcolor\":\"#E5ECF6\",\"gridcolor\":\"white\",\"gridwidth\":2,\"linecolor\":\"white\",\"showbackground\":true,\"ticks\":\"\",\"zerolinecolor\":\"white\"}},\"shapedefaults\":{\"line\":{\"color\":\"#2a3f5f\"}},\"ternary\":{\"aaxis\":{\"gridcolor\":\"white\",\"linecolor\":\"white\",\"ticks\":\"\"},\"baxis\":{\"gridcolor\":\"white\",\"linecolor\":\"white\",\"ticks\":\"\"},\"bgcolor\":\"#E5ECF6\",\"caxis\":{\"gridcolor\":\"white\",\"linecolor\":\"white\",\"ticks\":\"\"}},\"title\":{\"x\":0.05},\"xaxis\":{\"automargin\":true,\"gridcolor\":\"white\",\"linecolor\":\"white\",\"ticks\":\"\",\"title\":{\"standoff\":15},\"zerolinecolor\":\"white\",\"zerolinewidth\":2},\"yaxis\":{\"automargin\":true,\"gridcolor\":\"white\",\"linecolor\":\"white\",\"ticks\":\"\",\"title\":{\"standoff\":15},\"zerolinecolor\":\"white\",\"zerolinewidth\":2}}},\"title\":{\"font\":{\"color\":\"#4D5663\"}},\"xaxis\":{\"anchor\":\"y\",\"domain\":[0.0,0.2125],\"gridcolor\":\"#E1E5ED\",\"showgrid\":false,\"tickfont\":{\"color\":\"#4D5663\"},\"title\":{\"font\":{\"color\":\"#4D5663\"},\"text\":\"\"},\"zerolinecolor\":\"#E1E5ED\"},\"yaxis\":{\"anchor\":\"x\",\"domain\":[0.8025,1.0],\"gridcolor\":\"#E1E5ED\",\"showgrid\":false,\"tickfont\":{\"color\":\"#4D5663\"},\"title\":{\"font\":{\"color\":\"#4D5663\"},\"text\":\"\"},\"zerolinecolor\":\"#E1E5ED\"},\"xaxis2\":{\"anchor\":\"y2\",\"domain\":[0.2625,0.475],\"gridcolor\":\"#E1E5ED\",\"showgrid\":false,\"tickfont\":{\"color\":\"#4D5663\"},\"title\":{\"font\":{\"color\":\"#4D5663\"},\"text\":\"\"},\"zerolinecolor\":\"#E1E5ED\"},\"yaxis2\":{\"anchor\":\"x2\",\"domain\":[0.8025,1.0],\"gridcolor\":\"#E1E5ED\",\"showgrid\":false,\"tickfont\":{\"color\":\"#4D5663\"},\"title\":{\"font\":{\"color\":\"#4D5663\"},\"text\":\"\"},\"zerolinecolor\":\"#E1E5ED\"},\"xaxis3\":{\"anchor\":\"y3\",\"domain\":[0.525,0.7375],\"gridcolor\":\"#E1E5ED\",\"showgrid\":false,\"tickfont\":{\"color\":\"#4D5663\"},\"title\":{\"font\":{\"color\":\"#4D5663\"},\"text\":\"\"},\"zerolinecolor\":\"#E1E5ED\"},\"yaxis3\":{\"anchor\":\"x3\",\"domain\":[0.8025,1.0],\"gridcolor\":\"#E1E5ED\",\"showgrid\":false,\"tickfont\":{\"color\":\"#4D5663\"},\"title\":{\"font\":{\"color\":\"#4D5663\"},\"text\":\"\"},\"zerolinecolor\":\"#E1E5ED\"},\"xaxis4\":{\"anchor\":\"y4\",\"domain\":[0.7875,1.0],\"gridcolor\":\"#E1E5ED\",\"showgrid\":false,\"tickfont\":{\"color\":\"#4D5663\"},\"title\":{\"font\":{\"color\":\"#4D5663\"},\"text\":\"\"},\"zerolinecolor\":\"#E1E5ED\"},\"yaxis4\":{\"anchor\":\"x4\",\"domain\":[0.8025,1.0],\"gridcolor\":\"#E1E5ED\",\"showgrid\":false,\"tickfont\":{\"color\":\"#4D5663\"},\"title\":{\"font\":{\"color\":\"#4D5663\"},\"text\":\"\"},\"zerolinecolor\":\"#E1E5ED\"},\"xaxis5\":{\"anchor\":\"y5\",\"domain\":[0.0,0.2125],\"gridcolor\":\"#E1E5ED\",\"showgrid\":false,\"tickfont\":{\"color\":\"#4D5663\"},\"title\":{\"font\":{\"color\":\"#4D5663\"},\"text\":\"\"},\"zerolinecolor\":\"#E1E5ED\"},\"yaxis5\":{\"anchor\":\"x5\",\"domain\":[0.535,0.7325],\"gridcolor\":\"#E1E5ED\",\"showgrid\":false,\"tickfont\":{\"color\":\"#4D5663\"},\"title\":{\"font\":{\"color\":\"#4D5663\"},\"text\":\"\"},\"zerolinecolor\":\"#E1E5ED\"},\"xaxis6\":{\"anchor\":\"y6\",\"domain\":[0.2625,0.475],\"gridcolor\":\"#E1E5ED\",\"showgrid\":false,\"tickfont\":{\"color\":\"#4D5663\"},\"title\":{\"font\":{\"color\":\"#4D5663\"},\"text\":\"\"},\"zerolinecolor\":\"#E1E5ED\"},\"yaxis6\":{\"anchor\":\"x6\",\"domain\":[0.535,0.7325],\"gridcolor\":\"#E1E5ED\",\"showgrid\":false,\"tickfont\":{\"color\":\"#4D5663\"},\"title\":{\"font\":{\"color\":\"#4D5663\"},\"text\":\"\"},\"zerolinecolor\":\"#E1E5ED\"},\"xaxis7\":{\"anchor\":\"y7\",\"domain\":[0.525,0.7375],\"gridcolor\":\"#E1E5ED\",\"showgrid\":false,\"tickfont\":{\"color\":\"#4D5663\"},\"title\":{\"font\":{\"color\":\"#4D5663\"},\"text\":\"\"},\"zerolinecolor\":\"#E1E5ED\"},\"yaxis7\":{\"anchor\":\"x7\",\"domain\":[0.535,0.7325],\"gridcolor\":\"#E1E5ED\",\"showgrid\":false,\"tickfont\":{\"color\":\"#4D5663\"},\"title\":{\"font\":{\"color\":\"#4D5663\"},\"text\":\"\"},\"zerolinecolor\":\"#E1E5ED\"},\"xaxis8\":{\"anchor\":\"y8\",\"domain\":[0.7875,1.0],\"gridcolor\":\"#E1E5ED\",\"showgrid\":false,\"tickfont\":{\"color\":\"#4D5663\"},\"title\":{\"font\":{\"color\":\"#4D5663\"},\"text\":\"\"},\"zerolinecolor\":\"#E1E5ED\"},\"yaxis8\":{\"anchor\":\"x8\",\"domain\":[0.535,0.7325],\"gridcolor\":\"#E1E5ED\",\"showgrid\":false,\"tickfont\":{\"color\":\"#4D5663\"},\"title\":{\"font\":{\"color\":\"#4D5663\"},\"text\":\"\"},\"zerolinecolor\":\"#E1E5ED\"},\"xaxis9\":{\"anchor\":\"y9\",\"domain\":[0.0,0.2125],\"gridcolor\":\"#E1E5ED\",\"showgrid\":false,\"tickfont\":{\"color\":\"#4D5663\"},\"title\":{\"font\":{\"color\":\"#4D5663\"},\"text\":\"\"},\"zerolinecolor\":\"#E1E5ED\"},\"yaxis9\":{\"anchor\":\"x9\",\"domain\":[0.2675,0.465],\"gridcolor\":\"#E1E5ED\",\"showgrid\":false,\"tickfont\":{\"color\":\"#4D5663\"},\"title\":{\"font\":{\"color\":\"#4D5663\"},\"text\":\"\"},\"zerolinecolor\":\"#E1E5ED\"},\"xaxis10\":{\"anchor\":\"y10\",\"domain\":[0.2625,0.475],\"gridcolor\":\"#E1E5ED\",\"showgrid\":false,\"tickfont\":{\"color\":\"#4D5663\"},\"title\":{\"font\":{\"color\":\"#4D5663\"},\"text\":\"\"},\"zerolinecolor\":\"#E1E5ED\"},\"yaxis10\":{\"anchor\":\"x10\",\"domain\":[0.2675,0.465],\"gridcolor\":\"#E1E5ED\",\"showgrid\":false,\"tickfont\":{\"color\":\"#4D5663\"},\"title\":{\"font\":{\"color\":\"#4D5663\"},\"text\":\"\"},\"zerolinecolor\":\"#E1E5ED\"},\"xaxis11\":{\"anchor\":\"y11\",\"domain\":[0.525,0.7375],\"gridcolor\":\"#E1E5ED\",\"showgrid\":false,\"tickfont\":{\"color\":\"#4D5663\"},\"title\":{\"font\":{\"color\":\"#4D5663\"},\"text\":\"\"},\"zerolinecolor\":\"#E1E5ED\"},\"yaxis11\":{\"anchor\":\"x11\",\"domain\":[0.2675,0.465],\"gridcolor\":\"#E1E5ED\",\"showgrid\":false,\"tickfont\":{\"color\":\"#4D5663\"},\"title\":{\"font\":{\"color\":\"#4D5663\"},\"text\":\"\"},\"zerolinecolor\":\"#E1E5ED\"},\"xaxis12\":{\"anchor\":\"y12\",\"domain\":[0.7875,1.0],\"gridcolor\":\"#E1E5ED\",\"showgrid\":false,\"tickfont\":{\"color\":\"#4D5663\"},\"title\":{\"font\":{\"color\":\"#4D5663\"},\"text\":\"\"},\"zerolinecolor\":\"#E1E5ED\"},\"yaxis12\":{\"anchor\":\"x12\",\"domain\":[0.2675,0.465],\"gridcolor\":\"#E1E5ED\",\"showgrid\":false,\"tickfont\":{\"color\":\"#4D5663\"},\"title\":{\"font\":{\"color\":\"#4D5663\"},\"text\":\"\"},\"zerolinecolor\":\"#E1E5ED\"},\"xaxis13\":{\"anchor\":\"y13\",\"domain\":[0.0,0.2125],\"gridcolor\":\"#E1E5ED\",\"showgrid\":false,\"tickfont\":{\"color\":\"#4D5663\"},\"title\":{\"font\":{\"color\":\"#4D5663\"},\"text\":\"\"},\"zerolinecolor\":\"#E1E5ED\"},\"yaxis13\":{\"anchor\":\"x13\",\"domain\":[0.0,0.1975],\"gridcolor\":\"#E1E5ED\",\"showgrid\":false,\"tickfont\":{\"color\":\"#4D5663\"},\"title\":{\"font\":{\"color\":\"#4D5663\"},\"text\":\"\"},\"zerolinecolor\":\"#E1E5ED\"},\"xaxis14\":{\"anchor\":\"y14\",\"domain\":[0.2625,0.475],\"gridcolor\":\"#E1E5ED\",\"showgrid\":false,\"tickfont\":{\"color\":\"#4D5663\"},\"title\":{\"font\":{\"color\":\"#4D5663\"},\"text\":\"\"},\"zerolinecolor\":\"#E1E5ED\"},\"yaxis14\":{\"anchor\":\"x14\",\"domain\":[0.0,0.1975],\"gridcolor\":\"#E1E5ED\",\"showgrid\":false,\"tickfont\":{\"color\":\"#4D5663\"},\"title\":{\"font\":{\"color\":\"#4D5663\"},\"text\":\"\"},\"zerolinecolor\":\"#E1E5ED\"},\"xaxis15\":{\"anchor\":\"y15\",\"domain\":[0.525,0.7375],\"gridcolor\":\"#E1E5ED\",\"showgrid\":false,\"tickfont\":{\"color\":\"#4D5663\"},\"title\":{\"font\":{\"color\":\"#4D5663\"},\"text\":\"\"},\"zerolinecolor\":\"#E1E5ED\"},\"yaxis15\":{\"anchor\":\"x15\",\"domain\":[0.0,0.1975],\"gridcolor\":\"#E1E5ED\",\"showgrid\":false,\"tickfont\":{\"color\":\"#4D5663\"},\"title\":{\"font\":{\"color\":\"#4D5663\"},\"text\":\"\"},\"zerolinecolor\":\"#E1E5ED\"},\"xaxis16\":{\"anchor\":\"y16\",\"domain\":[0.7875,1.0],\"gridcolor\":\"#E1E5ED\",\"showgrid\":false,\"tickfont\":{\"color\":\"#4D5663\"},\"title\":{\"font\":{\"color\":\"#4D5663\"},\"text\":\"\"},\"zerolinecolor\":\"#E1E5ED\"},\"yaxis16\":{\"anchor\":\"x16\",\"domain\":[0.0,0.1975],\"gridcolor\":\"#E1E5ED\",\"showgrid\":false,\"tickfont\":{\"color\":\"#4D5663\"},\"title\":{\"font\":{\"color\":\"#4D5663\"},\"text\":\"\"},\"zerolinecolor\":\"#E1E5ED\"}},                        {\"showLink\": true, \"linkText\": \"Export to plot.ly\", \"plotlyServerURL\": \"https://plot.ly\", \"responsive\": true}                    ).then(function(){\n",
       "                            \n",
       "var gd = document.getElementById('1b4fcfad-ff4e-474f-8b2f-0d268ceabdc8');\n",
       "var x = new MutationObserver(function (mutations, observer) {{\n",
       "        var display = window.getComputedStyle(gd).display;\n",
       "        if (!display || display === 'none') {{\n",
       "            console.log([gd, 'removed!']);\n",
       "            Plotly.purge(gd);\n",
       "            observer.disconnect();\n",
       "        }}\n",
       "}});\n",
       "\n",
       "// Listen for the removal of the full notebook cells\n",
       "var notebookContainer = gd.closest('#notebook-container');\n",
       "if (notebookContainer) {{\n",
       "    x.observe(notebookContainer, {childList: true});\n",
       "}}\n",
       "\n",
       "// Listen for the clearing of the current output cell\n",
       "var outputEl = gd.closest('.output');\n",
       "if (outputEl) {{\n",
       "    x.observe(outputEl, {childList: true});\n",
       "}}\n",
       "\n",
       "                        })                };                });            </script>        </div>"
      ]
     },
     "metadata": {},
     "output_type": "display_data"
    }
   ],
   "source": [
    "df.scatter_matrix()"
   ]
  },
  {
   "cell_type": "code",
   "execution_count": 1,
   "metadata": {},
   "outputs": [
    {
     "ename": "NameError",
     "evalue": "name 'df' is not defined",
     "output_type": "error",
     "traceback": [
      "\u001b[1;31m---------------------------------------------------------------------------\u001b[0m",
      "\u001b[1;31mNameError\u001b[0m                                 Traceback (most recent call last)",
      "Cell \u001b[1;32mIn[1], line 3\u001b[0m\n\u001b[0;32m      1\u001b[0m \u001b[38;5;28;01mimport\u001b[39;00m \u001b[38;5;21;01mnumpy\u001b[39;00m \u001b[38;5;28;01mas\u001b[39;00m \u001b[38;5;21;01mnp\u001b[39;00m\n\u001b[0;32m      2\u001b[0m \u001b[38;5;28;01mimport\u001b[39;00m \u001b[38;5;21;01mpandas\u001b[39;00m \u001b[38;5;28;01mas\u001b[39;00m \u001b[38;5;21;01mpd\u001b[39;00m\n\u001b[1;32m----> 3\u001b[0m df\u001b[38;5;241m.\u001b[39miplot(kind\u001b[38;5;241m=\u001b[39m\u001b[38;5;124m\"\u001b[39m\u001b[38;5;124mspread\u001b[39m\u001b[38;5;124m\"\u001b[39m, title\u001b[38;5;241m=\u001b[39m\u001b[38;5;124m\"\u001b[39m\u001b[38;5;124mspread plot\u001b[39m\u001b[38;5;124m\"\u001b[39m, xTitle \u001b[38;5;241m=\u001b[39m \u001b[38;5;124m\"\u001b[39m\u001b[38;5;124mindex\u001b[39m\u001b[38;5;124m\"\u001b[39m, yTitle\u001b[38;5;241m=\u001b[39m \u001b[38;5;124m\"\u001b[39m\u001b[38;5;124mvalues\u001b[39m\u001b[38;5;124m\"\u001b[39m)\n",
      "\u001b[1;31mNameError\u001b[0m: name 'df' is not defined"
     ]
    }
   ],
   "source": [
    "import numpy as np\n",
    "import pandas as pd\n",
    "df.iplot(kind=\"spread\", title=\"spread plot\", xTitle = \"index\", yTitle= \"values\")"
   ]
  },
  {
   "cell_type": "code",
   "execution_count": null,
   "metadata": {},
   "outputs": [],
   "source": []
  }
 ],
 "metadata": {
  "kernelspec": {
   "display_name": "Python 3",
   "language": "python",
   "name": "python3"
  },
  "language_info": {
   "codemirror_mode": {
    "name": "ipython",
    "version": 3
   },
   "file_extension": ".py",
   "mimetype": "text/x-python",
   "name": "python",
   "nbconvert_exporter": "python",
   "pygments_lexer": "ipython3",
   "version": "3.11.5"
  }
 },
 "nbformat": 4,
 "nbformat_minor": 2
}
